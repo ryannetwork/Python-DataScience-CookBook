{
  "nbformat": 4,
  "nbformat_minor": 0,
  "metadata": {
    "colab": {
      "name": "Scispacy Example.ipynb",
      "version": "0.3.2",
      "provenance": [],
      "collapsed_sections": []
    },
    "kernelspec": {
      "name": "python3",
      "display_name": "Python 3"
    },
    "accelerator": "GPU"
  },
  "cells": [
    {
      "cell_type": "code",
      "metadata": {
        "id": "flRQRDTlsmpk",
        "colab_type": "code",
        "outputId": "adf6074e-2ae7-4510-f99d-5f334f4d9436",
        "colab": {
          "base_uri": "https://localhost:8080/",
          "height": 595
        }
      },
      "source": [
        "!pip install scispacy"
      ],
      "execution_count": 1,
      "outputs": [
        {
          "output_type": "stream",
          "text": [
            "Requirement already satisfied: scispacy in /usr/local/lib/python3.6/dist-packages (0.2.3)\n",
            "Requirement already satisfied: awscli in /usr/local/lib/python3.6/dist-packages (from scispacy) (1.16.225)\n",
            "Requirement already satisfied: joblib in /usr/local/lib/python3.6/dist-packages (from scispacy) (0.13.2)\n",
            "Requirement already satisfied: numpy in /usr/local/lib/python3.6/dist-packages (from scispacy) (1.16.4)\n",
            "Requirement already satisfied: nmslib>=1.7.3.6 in /usr/local/lib/python3.6/dist-packages (from scispacy) (1.8.1)\n",
            "Requirement already satisfied: scikit-learn>=0.20.3 in /usr/local/lib/python3.6/dist-packages (from scispacy) (0.21.3)\n",
            "Requirement already satisfied: spacy>=2.1.3 in /usr/local/lib/python3.6/dist-packages (from scispacy) (2.1.8)\n",
            "Requirement already satisfied: conllu in /usr/local/lib/python3.6/dist-packages (from scispacy) (1.4)\n",
            "Requirement already satisfied: docutils<0.16,>=0.10 in /usr/local/lib/python3.6/dist-packages (from awscli->scispacy) (0.14)\n",
            "Requirement already satisfied: botocore==1.12.215 in /usr/local/lib/python3.6/dist-packages (from awscli->scispacy) (1.12.215)\n",
            "Requirement already satisfied: PyYAML<=5.2,>=3.10; python_version != \"2.6\" in /usr/local/lib/python3.6/dist-packages (from awscli->scispacy) (3.13)\n",
            "Requirement already satisfied: rsa<=3.5.0,>=3.1.2 in /usr/local/lib/python3.6/dist-packages (from awscli->scispacy) (3.4.2)\n",
            "Requirement already satisfied: colorama<=0.3.9,>=0.2.5 in /usr/local/lib/python3.6/dist-packages (from awscli->scispacy) (0.3.9)\n",
            "Requirement already satisfied: s3transfer<0.3.0,>=0.2.0 in /usr/local/lib/python3.6/dist-packages (from awscli->scispacy) (0.2.1)\n",
            "Requirement already satisfied: pybind11>=2.0 in /usr/local/lib/python3.6/dist-packages (from nmslib>=1.7.3.6->scispacy) (2.3.0)\n",
            "Requirement already satisfied: scipy>=0.17.0 in /usr/local/lib/python3.6/dist-packages (from scikit-learn>=0.20.3->scispacy) (1.3.1)\n",
            "Requirement already satisfied: requests<3.0.0,>=2.13.0 in /usr/local/lib/python3.6/dist-packages (from spacy>=2.1.3->scispacy) (2.21.0)\n",
            "Requirement already satisfied: blis<0.3.0,>=0.2.2 in /usr/local/lib/python3.6/dist-packages (from spacy>=2.1.3->scispacy) (0.2.4)\n",
            "Requirement already satisfied: srsly<1.1.0,>=0.0.6 in /usr/local/lib/python3.6/dist-packages (from spacy>=2.1.3->scispacy) (0.0.7)\n",
            "Requirement already satisfied: plac<1.0.0,>=0.9.6 in /usr/local/lib/python3.6/dist-packages (from spacy>=2.1.3->scispacy) (0.9.6)\n",
            "Requirement already satisfied: preshed<2.1.0,>=2.0.1 in /usr/local/lib/python3.6/dist-packages (from spacy>=2.1.3->scispacy) (2.0.1)\n",
            "Requirement already satisfied: murmurhash<1.1.0,>=0.28.0 in /usr/local/lib/python3.6/dist-packages (from spacy>=2.1.3->scispacy) (1.0.2)\n",
            "Requirement already satisfied: cymem<2.1.0,>=2.0.2 in /usr/local/lib/python3.6/dist-packages (from spacy>=2.1.3->scispacy) (2.0.2)\n",
            "Requirement already satisfied: wasabi<1.1.0,>=0.2.0 in /usr/local/lib/python3.6/dist-packages (from spacy>=2.1.3->scispacy) (0.2.2)\n",
            "Requirement already satisfied: thinc<7.1.0,>=7.0.8 in /usr/local/lib/python3.6/dist-packages (from spacy>=2.1.3->scispacy) (7.0.8)\n",
            "Requirement already satisfied: python-dateutil<3.0.0,>=2.1; python_version >= \"2.7\" in /usr/local/lib/python3.6/dist-packages (from botocore==1.12.215->awscli->scispacy) (2.5.3)\n",
            "Requirement already satisfied: jmespath<1.0.0,>=0.7.1 in /usr/local/lib/python3.6/dist-packages (from botocore==1.12.215->awscli->scispacy) (0.9.4)\n",
            "Requirement already satisfied: urllib3<1.26,>=1.20; python_version >= \"3.4\" in /usr/local/lib/python3.6/dist-packages (from botocore==1.12.215->awscli->scispacy) (1.24.3)\n",
            "Requirement already satisfied: pyasn1>=0.1.3 in /usr/local/lib/python3.6/dist-packages (from rsa<=3.5.0,>=3.1.2->awscli->scispacy) (0.4.6)\n",
            "Requirement already satisfied: certifi>=2017.4.17 in /usr/local/lib/python3.6/dist-packages (from requests<3.0.0,>=2.13.0->spacy>=2.1.3->scispacy) (2019.6.16)\n",
            "Requirement already satisfied: chardet<3.1.0,>=3.0.2 in /usr/local/lib/python3.6/dist-packages (from requests<3.0.0,>=2.13.0->spacy>=2.1.3->scispacy) (3.0.4)\n",
            "Requirement already satisfied: idna<2.9,>=2.5 in /usr/local/lib/python3.6/dist-packages (from requests<3.0.0,>=2.13.0->spacy>=2.1.3->scispacy) (2.8)\n",
            "Requirement already satisfied: tqdm<5.0.0,>=4.10.0 in /usr/local/lib/python3.6/dist-packages (from thinc<7.1.0,>=7.0.8->spacy>=2.1.3->scispacy) (4.28.1)\n",
            "Requirement already satisfied: six>=1.5 in /usr/local/lib/python3.6/dist-packages (from python-dateutil<3.0.0,>=2.1; python_version >= \"2.7\"->botocore==1.12.215->awscli->scispacy) (1.12.0)\n"
          ],
          "name": "stdout"
        }
      ]
    },
    {
      "cell_type": "code",
      "metadata": {
        "id": "ScFPleLbJMVy",
        "colab_type": "code",
        "colab": {}
      },
      "source": [
        "import scispacy\n",
        "import spacy"
      ],
      "execution_count": 0,
      "outputs": []
    },
    {
      "cell_type": "code",
      "metadata": {
        "id": "e3CoAtD7LU78",
        "colab_type": "code",
        "colab": {}
      },
      "source": [
        "#!pip install https://s3-us-west-2.amazonaws.com/ai2-s2-scispacy/releases/v0.2.0/en_core_sci_sm-0.2.0.tar.gz"
      ],
      "execution_count": 0,
      "outputs": []
    },
    {
      "cell_type": "code",
      "metadata": {
        "id": "q85ziDCOLU-t",
        "colab_type": "code",
        "colab": {}
      },
      "source": [
        "\n",
        "!pip install https://s3-us-west-2.amazonaws.com/ai2-s2-scispacy/releases/v0.2.0/en_core_sci_md-0.2.0.tar.gz "
      ],
      "execution_count": 0,
      "outputs": []
    },
    {
      "cell_type": "code",
      "metadata": {
        "id": "-8DmBeRfLunI",
        "colab_type": "code",
        "colab": {}
      },
      "source": [
        "# Doesnt work\n",
        "!pip install https://s3-us-west-2.amazonaws.com/ai2-s2-scispacy/releases/v0.2.0/en_core_sci_lg-0.2.3.tar.gz "
      ],
      "execution_count": 0,
      "outputs": []
    },
    {
      "cell_type": "code",
      "metadata": {
        "id": "xIm7U9FWLVBp",
        "colab_type": "code",
        "colab": {}
      },
      "source": [
        "!pip install https://s3-us-west-2.amazonaws.com/ai2-s2-scispacy/releases/v0.2.0/en_ner_bc5cdr_md-0.2.0.tar.gz "
      ],
      "execution_count": 0,
      "outputs": []
    },
    {
      "cell_type": "code",
      "metadata": {
        "id": "HBRSHghELVEv",
        "colab_type": "code",
        "colab": {}
      },
      "source": [
        "\n",
        "!pip install https://s3-us-west-2.amazonaws.com/ai2-s2-scispacy/releases/v0.2.0/en_ner_bionlp13cg_md-0.2.0.tar.gz "
      ],
      "execution_count": 0,
      "outputs": []
    },
    {
      "cell_type": "code",
      "metadata": {
        "id": "Vu54eEW-Lr_R",
        "colab_type": "code",
        "colab": {}
      },
      "source": [
        "import scispacy\n",
        "import spacy\n",
        "from spacy import displacy\n",
        "from collections import Counter\n",
        "#import en_core_web_sm\n",
        "import en_ner_bc5cdr_md\n",
        "#import en_core_sci_sm\n",
        "import en_core_sci_md\n",
        "import en_ner_bionlp13cg_md\n",
        "from scispacy.abbreviation import AbbreviationDetector\n",
        "from scispacy.umls_linking import UmlsEntityLinker\n",
        "from collections import OrderedDict\n",
        "from pprint import pprint\n"
      ],
      "execution_count": 0,
      "outputs": []
    },
    {
      "cell_type": "code",
      "metadata": {
        "id": "Rm9qCLLTNKaL",
        "colab_type": "code",
        "colab": {}
      },
      "source": [
        "text = \"\"\"\n",
        "Myeloid derived suppressor cells (MDSC) are immature \n",
        "myeloid cells with immunosuppressive activity. \n",
        "They accumulate in tumor-bearing mice and humans \n",
        "with different types of cancer, including hepatocellular \n",
        "carcinoma (HCC).\n",
        "\"\"\""
      ],
      "execution_count": 0,
      "outputs": []
    },
    {
      "cell_type": "code",
      "metadata": {
        "id": "TdqUX1D1NdUz",
        "colab_type": "code",
        "colab": {}
      },
      "source": [
        "def display_entities(model,document):\n",
        "    \"\"\" \n",
        "    This function displays word entities\n",
        "\n",
        "    Parameters: \n",
        "         model(module): A pretrained model from spaCy(https://spacy.io/models) or ScispaCy(https://allenai.github.io/scispacy/)\n",
        "         document(str): Document to be processed\n",
        "\n",
        "    Returns: Image rendering and list of named/unnamed word entities and entity labels \n",
        "     \"\"\"\n",
        "    nlp = model.load()\n",
        "    doc = nlp(document)\n",
        "    displacy_image = displacy.render(doc, jupyter=True,style='ent')\n",
        "    entity_and_label = pprint(set([(X.text, X.label_) for X in doc.ents]))\n",
        "    return  displacy_image, entity_and_label"
      ],
      "execution_count": 0,
      "outputs": []
    },
    {
      "cell_type": "code",
      "metadata": {
        "id": "AAP-nTa3OEU3",
        "colab_type": "code",
        "colab": {}
      },
      "source": [
        "def show_medical_abbreviation(model,document):\n",
        "    \"\"\" \n",
        "    This function detects and resolves medical abbreviations in word entities\n",
        "\n",
        "    Parameters: \n",
        "         model(module): A pretrained biomedical model from ScispaCy(https://allenai.github.io/scispacy/)\n",
        "         document(str): Document to be processed\n",
        "\n",
        "    Returns: List of unique abbreviations and their resolution \n",
        "     \"\"\"\n",
        "    nlp = model.load()\n",
        "    abbreviation_pipe = AbbreviationDetector(nlp)\n",
        "    nlp.add_pipe(abbreviation_pipe)\n",
        "    doc = nlp(document)\n",
        "    abbreviated = list(set([f\"{abrv}  {abrv._.long_form}\" for abrv in doc._.abbreviations]))             #list is set to ensure only unique values are returned\n",
        "    return abbreviated"
      ],
      "execution_count": 0,
      "outputs": []
    },
    {
      "cell_type": "code",
      "metadata": {
        "id": "Tyjaxzu3Oa2l",
        "colab_type": "code",
        "colab": {}
      },
      "source": [
        "def unified_medical_language_entity_linker(model,document):\n",
        "    \"\"\" \n",
        "    This function links named entities to the Unified Medical Language System UMLS (https://www.nlm.nih.gov/research/umls/)\n",
        "\n",
        "    Parameters: \n",
        "         model(module): A pretrained biomedical model from ScispaCy(https://allenai.github.io/scispacy/)\n",
        "         document(str): Document to be processed\n",
        "\n",
        "    Returns: Attributes of Named entities accessible in the Unified Medical Language System database\n",
        "     \"\"\"\n",
        "    nlp = model.load()\n",
        "    linker = UmlsEntityLinker(k=10,max_entities_per_mention = 2)    #parameters are tunable\n",
        "    nlp.add_pipe(linker)\n",
        "    doc = nlp(document)\n",
        "    entity = doc.ents\n",
        "    entity = [str(item) for item in entity]               # convert each entity tuple to list of strings\n",
        "    entity = str(OrderedDict.fromkeys(entity))            # returns unique entities only\n",
        "    entity = nlp(entity).ents                             # convert unique entities back to '.ents' object\n",
        "    for entity in entity:\n",
        "        for umls_ent in entity._.umls_ents:\n",
        "            print(\"Entity Name:\" ,entity)\n",
        "            Concept_Id, Score = umls_ent\n",
        "            print('Concept_Id = {} Score = {}'.format(Concept_Id,Score))\n",
        "            print(linker.umls.cui_to_entity[umls_ent[0]])"
      ],
      "execution_count": 0,
      "outputs": []
    },
    {
      "cell_type": "code",
      "metadata": {
        "id": "ddm2aMR7LsCJ",
        "colab_type": "code",
        "colab": {
          "base_uri": "https://localhost:8080/",
          "height": 362
        },
        "outputId": "e42faa96-cd83-4ed3-d205-bb639bd31799"
      },
      "source": [
        "display_entities(en_core_sci_md,text)"
      ],
      "execution_count": 22,
      "outputs": [
        {
          "output_type": "display_data",
          "data": {
            "text/html": [
              "<div class=\"entities\" style=\"line-height: 2.5; direction: ltr\"></br>Myeloid derived \n",
              "<mark class=\"entity\" style=\"background: #ddd; padding: 0.45em 0.6em; margin: 0 0.25em; line-height: 1; border-radius: 0.35em; box-decoration-break: clone; -webkit-box-decoration-break: clone\">\n",
              "    suppressor cells\n",
              "    <span style=\"font-size: 0.8em; font-weight: bold; line-height: 1; border-radius: 0.35em; text-transform: uppercase; vertical-align: middle; margin-left: 0.5rem\">ENTITY</span>\n",
              "</mark>\n",
              " (\n",
              "<mark class=\"entity\" style=\"background: #ddd; padding: 0.45em 0.6em; margin: 0 0.25em; line-height: 1; border-radius: 0.35em; box-decoration-break: clone; -webkit-box-decoration-break: clone\">\n",
              "    MDSC\n",
              "    <span style=\"font-size: 0.8em; font-weight: bold; line-height: 1; border-radius: 0.35em; text-transform: uppercase; vertical-align: middle; margin-left: 0.5rem\">ENTITY</span>\n",
              "</mark>\n",
              ") are \n",
              "<mark class=\"entity\" style=\"background: #ddd; padding: 0.45em 0.6em; margin: 0 0.25em; line-height: 1; border-radius: 0.35em; box-decoration-break: clone; -webkit-box-decoration-break: clone\">\n",
              "    immature\n",
              "    <span style=\"font-size: 0.8em; font-weight: bold; line-height: 1; border-radius: 0.35em; text-transform: uppercase; vertical-align: middle; margin-left: 0.5rem\">ENTITY</span>\n",
              "</mark>\n",
              " </br>myeloid cells with \n",
              "<mark class=\"entity\" style=\"background: #ddd; padding: 0.45em 0.6em; margin: 0 0.25em; line-height: 1; border-radius: 0.35em; box-decoration-break: clone; -webkit-box-decoration-break: clone\">\n",
              "    immunosuppressive activity\n",
              "    <span style=\"font-size: 0.8em; font-weight: bold; line-height: 1; border-radius: 0.35em; text-transform: uppercase; vertical-align: middle; margin-left: 0.5rem\">ENTITY</span>\n",
              "</mark>\n",
              ". </br>They accumulate in \n",
              "<mark class=\"entity\" style=\"background: #ddd; padding: 0.45em 0.6em; margin: 0 0.25em; line-height: 1; border-radius: 0.35em; box-decoration-break: clone; -webkit-box-decoration-break: clone\">\n",
              "    tumor-bearing mice\n",
              "    <span style=\"font-size: 0.8em; font-weight: bold; line-height: 1; border-radius: 0.35em; text-transform: uppercase; vertical-align: middle; margin-left: 0.5rem\">ENTITY</span>\n",
              "</mark>\n",
              " and \n",
              "<mark class=\"entity\" style=\"background: #ddd; padding: 0.45em 0.6em; margin: 0 0.25em; line-height: 1; border-radius: 0.35em; box-decoration-break: clone; -webkit-box-decoration-break: clone\">\n",
              "    humans\n",
              "    <span style=\"font-size: 0.8em; font-weight: bold; line-height: 1; border-radius: 0.35em; text-transform: uppercase; vertical-align: middle; margin-left: 0.5rem\">ENTITY</span>\n",
              "</mark>\n",
              " </br>with different types of \n",
              "<mark class=\"entity\" style=\"background: #ddd; padding: 0.45em 0.6em; margin: 0 0.25em; line-height: 1; border-radius: 0.35em; box-decoration-break: clone; -webkit-box-decoration-break: clone\">\n",
              "    cancer\n",
              "    <span style=\"font-size: 0.8em; font-weight: bold; line-height: 1; border-radius: 0.35em; text-transform: uppercase; vertical-align: middle; margin-left: 0.5rem\">ENTITY</span>\n",
              "</mark>\n",
              ", including \n",
              "<mark class=\"entity\" style=\"background: #ddd; padding: 0.45em 0.6em; margin: 0 0.25em; line-height: 1; border-radius: 0.35em; box-decoration-break: clone; -webkit-box-decoration-break: clone\">\n",
              "    hepatocellular \n",
              "carcinoma\n",
              "    <span style=\"font-size: 0.8em; font-weight: bold; line-height: 1; border-radius: 0.35em; text-transform: uppercase; vertical-align: middle; margin-left: 0.5rem\">ENTITY</span>\n",
              "</mark>\n",
              " (\n",
              "<mark class=\"entity\" style=\"background: #ddd; padding: 0.45em 0.6em; margin: 0 0.25em; line-height: 1; border-radius: 0.35em; box-decoration-break: clone; -webkit-box-decoration-break: clone\">\n",
              "    HCC\n",
              "    <span style=\"font-size: 0.8em; font-weight: bold; line-height: 1; border-radius: 0.35em; text-transform: uppercase; vertical-align: middle; margin-left: 0.5rem\">ENTITY</span>\n",
              "</mark>\n",
              ").\n",
              "</div>"
            ],
            "text/plain": [
              "<IPython.core.display.HTML object>"
            ]
          },
          "metadata": {
            "tags": []
          }
        },
        {
          "output_type": "stream",
          "text": [
            "{('HCC', 'ENTITY'),\n",
            " ('MDSC', 'ENTITY'),\n",
            " ('cancer', 'ENTITY'),\n",
            " ('hepatocellular \\ncarcinoma', 'ENTITY'),\n",
            " ('humans', 'ENTITY'),\n",
            " ('immature', 'ENTITY'),\n",
            " ('immunosuppressive activity', 'ENTITY'),\n",
            " ('suppressor cells', 'ENTITY'),\n",
            " ('tumor-bearing mice', 'ENTITY')}\n"
          ],
          "name": "stdout"
        },
        {
          "output_type": "execute_result",
          "data": {
            "text/plain": [
              "(None, None)"
            ]
          },
          "metadata": {
            "tags": []
          },
          "execution_count": 22
        }
      ]
    },
    {
      "cell_type": "code",
      "metadata": {
        "id": "gNhAKU7GLsFJ",
        "colab_type": "code",
        "colab": {
          "base_uri": "https://localhost:8080/",
          "height": 293
        },
        "outputId": "a0e6aa3e-484f-4438-e722-a7459a98fe74"
      },
      "source": [
        "display_entities(en_ner_bionlp13cg_md,text)"
      ],
      "execution_count": 23,
      "outputs": [
        {
          "output_type": "display_data",
          "data": {
            "text/html": [
              "<div class=\"entities\" style=\"line-height: 2.5; direction: ltr\"></br>Myeloid derived suppressor \n",
              "<mark class=\"entity\" style=\"background: #ddd; padding: 0.45em 0.6em; margin: 0 0.25em; line-height: 1; border-radius: 0.35em; box-decoration-break: clone; -webkit-box-decoration-break: clone\">\n",
              "    cells\n",
              "    <span style=\"font-size: 0.8em; font-weight: bold; line-height: 1; border-radius: 0.35em; text-transform: uppercase; vertical-align: middle; margin-left: 0.5rem\">CELL</span>\n",
              "</mark>\n",
              " (\n",
              "<mark class=\"entity\" style=\"background: #ddd; padding: 0.45em 0.6em; margin: 0 0.25em; line-height: 1; border-radius: 0.35em; box-decoration-break: clone; -webkit-box-decoration-break: clone\">\n",
              "    MDSC\n",
              "    <span style=\"font-size: 0.8em; font-weight: bold; line-height: 1; border-radius: 0.35em; text-transform: uppercase; vertical-align: middle; margin-left: 0.5rem\">CANCER</span>\n",
              "</mark>\n",
              ") are immature </br>myeloid cells with immunosuppressive activity. </br>They accumulate in tumor-bearing \n",
              "<mark class=\"entity\" style=\"background: #ddd; padding: 0.45em 0.6em; margin: 0 0.25em; line-height: 1; border-radius: 0.35em; box-decoration-break: clone; -webkit-box-decoration-break: clone\">\n",
              "    mice\n",
              "    <span style=\"font-size: 0.8em; font-weight: bold; line-height: 1; border-radius: 0.35em; text-transform: uppercase; vertical-align: middle; margin-left: 0.5rem\">ORGANISM</span>\n",
              "</mark>\n",
              " and \n",
              "<mark class=\"entity\" style=\"background: #ddd; padding: 0.45em 0.6em; margin: 0 0.25em; line-height: 1; border-radius: 0.35em; box-decoration-break: clone; -webkit-box-decoration-break: clone\">\n",
              "    humans \n",
              "\n",
              "    <span style=\"font-size: 0.8em; font-weight: bold; line-height: 1; border-radius: 0.35em; text-transform: uppercase; vertical-align: middle; margin-left: 0.5rem\">ORGANISM</span>\n",
              "</mark>\n",
              "with different types of \n",
              "<mark class=\"entity\" style=\"background: #ddd; padding: 0.45em 0.6em; margin: 0 0.25em; line-height: 1; border-radius: 0.35em; box-decoration-break: clone; -webkit-box-decoration-break: clone\">\n",
              "    cancer\n",
              "    <span style=\"font-size: 0.8em; font-weight: bold; line-height: 1; border-radius: 0.35em; text-transform: uppercase; vertical-align: middle; margin-left: 0.5rem\">CANCER</span>\n",
              "</mark>\n",
              ", including \n",
              "<mark class=\"entity\" style=\"background: #ddd; padding: 0.45em 0.6em; margin: 0 0.25em; line-height: 1; border-radius: 0.35em; box-decoration-break: clone; -webkit-box-decoration-break: clone\">\n",
              "    hepatocellular \n",
              "carcinoma\n",
              "    <span style=\"font-size: 0.8em; font-weight: bold; line-height: 1; border-radius: 0.35em; text-transform: uppercase; vertical-align: middle; margin-left: 0.5rem\">CANCER</span>\n",
              "</mark>\n",
              " (\n",
              "<mark class=\"entity\" style=\"background: #ddd; padding: 0.45em 0.6em; margin: 0 0.25em; line-height: 1; border-radius: 0.35em; box-decoration-break: clone; -webkit-box-decoration-break: clone\">\n",
              "    HCC\n",
              "    <span style=\"font-size: 0.8em; font-weight: bold; line-height: 1; border-radius: 0.35em; text-transform: uppercase; vertical-align: middle; margin-left: 0.5rem\">CANCER</span>\n",
              "</mark>\n",
              ").\n",
              "</div>"
            ],
            "text/plain": [
              "<IPython.core.display.HTML object>"
            ]
          },
          "metadata": {
            "tags": []
          }
        },
        {
          "output_type": "stream",
          "text": [
            "{('HCC', 'CANCER'),\n",
            " ('MDSC', 'CANCER'),\n",
            " ('cancer', 'CANCER'),\n",
            " ('cells', 'CELL'),\n",
            " ('hepatocellular \\ncarcinoma', 'CANCER'),\n",
            " ('humans \\n', 'ORGANISM'),\n",
            " ('mice', 'ORGANISM')}\n"
          ],
          "name": "stdout"
        },
        {
          "output_type": "execute_result",
          "data": {
            "text/plain": [
              "(None, None)"
            ]
          },
          "metadata": {
            "tags": []
          },
          "execution_count": 23
        }
      ]
    },
    {
      "cell_type": "code",
      "metadata": {
        "id": "jpLnWFxjLsIL",
        "colab_type": "code",
        "colab": {
          "base_uri": "https://localhost:8080/",
          "height": 260
        },
        "outputId": "1e1035dc-e74c-4031-cecd-0e251a4ba910"
      },
      "source": [
        "display_entities(en_ner_bc5cdr_md,text)"
      ],
      "execution_count": 21,
      "outputs": [
        {
          "output_type": "display_data",
          "data": {
            "text/html": [
              "<div class=\"entities\" style=\"line-height: 2.5; direction: ltr\"></br>Myeloid derived suppressor cells (MDSC) are immature </br>myeloid cells with immunosuppressive activity. </br>They accumulate in tumor-bearing mice and humans </br>with different types of \n",
              "<mark class=\"entity\" style=\"background: #ddd; padding: 0.45em 0.6em; margin: 0 0.25em; line-height: 1; border-radius: 0.35em; box-decoration-break: clone; -webkit-box-decoration-break: clone\">\n",
              "    cancer\n",
              "    <span style=\"font-size: 0.8em; font-weight: bold; line-height: 1; border-radius: 0.35em; text-transform: uppercase; vertical-align: middle; margin-left: 0.5rem\">DISEASE</span>\n",
              "</mark>\n",
              ", including \n",
              "<mark class=\"entity\" style=\"background: #ddd; padding: 0.45em 0.6em; margin: 0 0.25em; line-height: 1; border-radius: 0.35em; box-decoration-break: clone; -webkit-box-decoration-break: clone\">\n",
              "    hepatocellular \n",
              "carcinoma\n",
              "    <span style=\"font-size: 0.8em; font-weight: bold; line-height: 1; border-radius: 0.35em; text-transform: uppercase; vertical-align: middle; margin-left: 0.5rem\">DISEASE</span>\n",
              "</mark>\n",
              " (\n",
              "<mark class=\"entity\" style=\"background: #ddd; padding: 0.45em 0.6em; margin: 0 0.25em; line-height: 1; border-radius: 0.35em; box-decoration-break: clone; -webkit-box-decoration-break: clone\">\n",
              "    HCC\n",
              "    <span style=\"font-size: 0.8em; font-weight: bold; line-height: 1; border-radius: 0.35em; text-transform: uppercase; vertical-align: middle; margin-left: 0.5rem\">DISEASE</span>\n",
              "</mark>\n",
              ").\n",
              "</div>"
            ],
            "text/plain": [
              "<IPython.core.display.HTML object>"
            ]
          },
          "metadata": {
            "tags": []
          }
        },
        {
          "output_type": "stream",
          "text": [
            "{('HCC', 'DISEASE'),\n",
            " ('cancer', 'DISEASE'),\n",
            " ('hepatocellular \\ncarcinoma', 'DISEASE')}\n"
          ],
          "name": "stdout"
        },
        {
          "output_type": "execute_result",
          "data": {
            "text/plain": [
              "(None, None)"
            ]
          },
          "metadata": {
            "tags": []
          },
          "execution_count": 21
        }
      ]
    },
    {
      "cell_type": "code",
      "metadata": {
        "id": "ejmDd1tTLsLL",
        "colab_type": "code",
        "colab": {
          "base_uri": "https://localhost:8080/",
          "height": 34
        },
        "outputId": "1e58466d-70dc-43b2-b535-4a29323ee683"
      },
      "source": [
        "show_medical_abbreviation(en_ner_bc5cdr_md,text)"
      ],
      "execution_count": 25,
      "outputs": [
        {
          "output_type": "execute_result",
          "data": {
            "text/plain": [
              "['HCC  hepatocellular \\ncarcinoma', 'MDSC  Myeloid derived suppressor cells']"
            ]
          },
          "metadata": {
            "tags": []
          },
          "execution_count": 25
        }
      ]
    },
    {
      "cell_type": "code",
      "metadata": {
        "id": "sif8FWztOUx4",
        "colab_type": "code",
        "colab": {
          "base_uri": "https://localhost:8080/",
          "height": 34
        },
        "outputId": "e91440f0-6b4b-4614-b033-73c4d2e0b33b"
      },
      "source": [
        "show_medical_abbreviation(en_ner_bionlp13cg_md,text)"
      ],
      "execution_count": 26,
      "outputs": [
        {
          "output_type": "execute_result",
          "data": {
            "text/plain": [
              "['HCC  hepatocellular \\ncarcinoma', 'MDSC  Myeloid derived suppressor cells']"
            ]
          },
          "metadata": {
            "tags": []
          },
          "execution_count": 26
        }
      ]
    },
    {
      "cell_type": "code",
      "metadata": {
        "id": "ViZjflqZOX_-",
        "colab_type": "code",
        "colab": {
          "base_uri": "https://localhost:8080/",
          "height": 785
        },
        "outputId": "55bd7537-1d32-4f80-cfd8-762632075f70"
      },
      "source": [
        "unified_medical_language_entity_linker(en_ner_bc5cdr_md,text)"
      ],
      "execution_count": 28,
      "outputs": [
        {
          "output_type": "stream",
          "text": [
            "https://s3-us-west-2.amazonaws.com/ai2-s2-scispacy/data/linking_model/tfidf_vectors_sparse.npz not found in cache, downloading to /tmp/tmpf9ewn_sj\n",
            "Finished download, copying /tmp/tmpf9ewn_sj to cache at /root/.scispacy/datasets/ea855fd121a193f03190a91417c209d4cd97e63d3ce4b456c248ef7c13a4ca77.03518aabd12de2103a27a50302f37c3d87b0f313a8be08b5ec306c9c4334b9b1.tfidf_vectors_sparse.npz\n",
            "https://s3-us-west-2.amazonaws.com/ai2-s2-scispacy/data/linking_model/nmslib_index.bin not found in cache, downloading to /tmp/tmpuuqie59h\n",
            "Finished download, copying /tmp/tmpuuqie59h to cache at /root/.scispacy/datasets/5f620d1bd549a98c005ed601a73806ea2cd1a86ae6c54bbc62bcb3b452ca2630.27a7ac6807fde6628311ff7d70b86fefc640d0eb70637b544c591722a2c16c2a.nmslib_index.bin\n",
            "https://s3-us-west-2.amazonaws.com/ai2-s2-scispacy/data/linking_model/tfidf_vectorizer.joblib not found in cache, downloading to /tmp/tmpa0refxuz\n",
            "Finished download, copying /tmp/tmpa0refxuz to cache at /root/.scispacy/datasets/ffb7a77cdcb3c9233c1e4009c69f38efc13c3619238c508459b5f03fd5f14e4b.9e501319abafbe723d25f1737402d504af6f198fb43b96c85692fa0f9ddc5516.tfidf_vectorizer.joblib\n"
          ],
          "name": "stdout"
        },
        {
          "output_type": "stream",
          "text": [
            "/usr/local/lib/python3.6/dist-packages/sklearn/base.py:306: UserWarning: Trying to unpickle estimator TfidfTransformer from version 0.20.3 when using version 0.21.3. This might lead to breaking code or invalid results. Use at your own risk.\n",
            "  UserWarning)\n",
            "/usr/local/lib/python3.6/dist-packages/sklearn/base.py:306: UserWarning: Trying to unpickle estimator TfidfVectorizer from version 0.20.3 when using version 0.21.3. This might lead to breaking code or invalid results. Use at your own risk.\n",
            "  UserWarning)\n"
          ],
          "name": "stderr"
        },
        {
          "output_type": "stream",
          "text": [
            "https://s3-us-west-2.amazonaws.com/ai2-s2-scispacy/data/linking_model/concept_aliases.json not found in cache, downloading to /tmp/tmprr9076ye\n",
            "Finished download, copying /tmp/tmprr9076ye to cache at /root/.scispacy/datasets/0f064d20aefab965d5772b2100f8436b3541e7d5313c76cfe5fe070902f149fe.31df9cdb04729860a81bd6c980224ed2bff582586c398d0c9b96ae4e257b9da2.concept_aliases.json\n",
            "https://s3-us-west-2.amazonaws.com/ai2-s2-scispacy/data/umls_2017_aa_cat0129.json not found in cache, downloading to /tmp/tmph6fnmrn8\n",
            "Finished download, copying /tmp/tmph6fnmrn8 to cache at /root/.scispacy/datasets/13b30cd31cd37c1b52f3df6ea023061172d16e9941660e677fdbb29489af7410.4ad71d86ce780e00cab131c7e3b81acfd2f11dd80ccd61125c8bcde506f2ab8a.umls_2017_aa_cat0129.json\n",
            "https://s3-us-west-2.amazonaws.com/ai2-s2-scispacy/data/umls_semantic_type_tree.tsv not found in cache, downloading to /tmp/tmpyarukvln\n",
            "Finished download, copying /tmp/tmpyarukvln to cache at /root/.scispacy/datasets/21a1012c532c3a431d60895c509f5b4d45b0f8966c4178b892190a302b21836f.330707f4efe774134872b9f77f0e3208c1d30f50800b3b39a6b8ec21d9adf1b7.umls_semantic_type_tree.tsv\n",
            "Entity Name: \\ncarcinoma\n",
            "Concept_Id = C0007097 Score = 0.8442800045013428\n",
            "CUI: C0007097, Name: Carcinoma\n",
            "Definition: A malignant neoplasm made up of epithelial cells tending to infiltrate the surrounding tissues and give rise to metastases. It is a histological type of neoplasm but is often wrongly used as a synonym for \"cancer.\" (From Dorland, 27th ed)\n",
            "TUI(s): T191\n",
            "Aliases (abbreviated, total: 66): \n",
            "\t Carcinoma, Carcinoma, Carcinoma, Carcinoma, Carcinoma, Carcinoma, Carcinoma, Carcinoma, Carcinoma, Carcinoma\n",
            "Entity Name: \\ncarcinoma\n",
            "Concept_Id = C0220641 Score = 0.7528262138366699\n",
            "CUI: C0220641, Name: Lip and Oral Cavity Carcinoma\n",
            "Definition: Cancer that forms in tissues of the oral cavity (the mouth) or the oropharynx (the part of the throat at the back of the mouth).\n",
            "TUI(s): T191\n",
            "Aliases: (total: 9): \n",
            "\t Lip and Oral Cavity Carcinoma, lip and oral cavity cancer, Lip and oral cavity cancer, Lip and Oral Cavity Cancer, oral cavity and lip cancer, Oral Cancer, Oral Cancer, oral cancer, Oral Carcinoma\n",
            "Entity Name: HCC\n",
            "Concept_Id = C2239176 Score = 1.0\n",
            "CUI: C2239176, Name: Liver carcinoma\n",
            "Definition: A primary malignant neoplasm of epithelial liver cells. It ranges from a well-differentiated tumor with EPITHELIAL CELLS indistinguishable from normal HEPATOCYTES to a poorly differentiated neoplasm. The cells may be uniform or markedly pleomorphic, or form GIANT CELLS. Several classification schemes have been suggested.\n",
            "TUI(s): T191\n",
            "Aliases (abbreviated, total: 116): \n",
            "\t Liver carcinoma, CARCINOMA LIVER, LIVER CARCINOMA, liver carcinoma, CARCINOMA OF LIVER, CARCINOMA OF LIVER, Hepatocarcinoma, Hepatocarcinoma, Hepatocarcinoma, Hepatocarcinoma\n",
            "Entity Name: HCC\n",
            "Concept_Id = C0280604 Score = 1.0\n",
            "CUI: C0280604, Name: altretamine/cisplatin/cyclophosphamide protocol\n",
            "Definition: None\n",
            "TUI(s): T061\n",
            "Aliases: (total: 7): \n",
            "\t altretamine/cisplatin/cyclophosphamide, Altretamine/Cisplatin/Cyclophosphamide, CDDP/CTX/HMM, CDDP/CTX/HMM, CHD, CHD, HCC\n"
          ],
          "name": "stdout"
        }
      ]
    },
    {
      "cell_type": "code",
      "metadata": {
        "id": "zxBpFYf7OYCx",
        "colab_type": "code",
        "colab": {
          "base_uri": "https://localhost:8080/",
          "height": 1000
        },
        "outputId": "c924ad7b-6e27-40ac-b2e9-24b21838cc6e"
      },
      "source": [
        "unified_medical_language_entity_linker(en_ner_bionlp13cg_md,text)"
      ],
      "execution_count": 29,
      "outputs": [
        {
          "output_type": "stream",
          "text": [
            "/usr/local/lib/python3.6/dist-packages/sklearn/base.py:306: UserWarning: Trying to unpickle estimator TfidfTransformer from version 0.20.3 when using version 0.21.3. This might lead to breaking code or invalid results. Use at your own risk.\n",
            "  UserWarning)\n",
            "/usr/local/lib/python3.6/dist-packages/sklearn/base.py:306: UserWarning: Trying to unpickle estimator TfidfVectorizer from version 0.20.3 when using version 0.21.3. This might lead to breaking code or invalid results. Use at your own risk.\n",
            "  UserWarning)\n"
          ],
          "name": "stderr"
        },
        {
          "output_type": "stream",
          "text": [
            "Entity Name: mice\n",
            "Concept_Id = C0025914 Score = 1.0\n",
            "CUI: C0025914, Name: House mice\n",
            "Definition: The common house mouse, often used as an experimental organism.\n",
            "TUI(s): T015\n",
            "Aliases (abbreviated, total: 32): \n",
            "\t Mice, House, House Mice, house mice, House Mouse, House Mouse, Mouse, House, house mouse, house mouse, House mouse, Mouse\n",
            "Entity Name: mice\n",
            "Concept_Id = C0025929 Score = 1.0\n",
            "CUI: C0025929, Name: Laboratory mice\n",
            "Definition: mouse that has been bred or acquired for the purpose of being a research subject in a facility where scientific research and experiments are conducted.\n",
            "TUI(s): T015\n",
            "Aliases (abbreviated, total: 13): \n",
            "\t Mice, Laboratory, Laboratory Mice, laboratory mice, Laboratory Mouse, Mouse, Laboratory, laboratory mouse, laboratory mouse, Laboratory mouse, Mouse, laboratory, mice\n",
            "Entity Name: humans\n",
            "Concept_Id = C0086418 Score = 1.0\n",
            "CUI: C0086418, Name: Homo sapiens\n",
            "Definition: Members of the species Homo sapiens.\n",
            "TUI(s): T016\n",
            "Aliases (abbreviated, total: 36): \n",
            "\t Homo sapiens, Homo sapiens, Homo sapiens, Homo sapiens, Homo sapiens, Homo sapiens, Homo sapiens, homo sapiens, Humans, humans\n",
            "Entity Name: humans\n",
            "Concept_Id = C0318356 Score = 0.7539370059967041\n",
            "CUI: C0318356, Name: Human virus\n",
            "Definition: Viruses which routinely infect humans\n",
            "TUI(s): T005\n",
            "Aliases: (total: 7): \n",
            "\t virus human, human virus, Human Virus, Human virus, NOS, humans virus, Viruses, Human, Human virus (organism)\n",
            "Entity Name: cancer\n",
            "Concept_Id = C0006826 Score = 1.0\n",
            "CUI: C0006826, Name: Malignant Neoplasms\n",
            "Definition: A term for diseases in which abnormal cells divide without control and can invade nearby tissues. Malignant cells can also spread to other parts of the body through the blood and lymph systems. There are several main types of malignancy. Carcinoma is a malignancy that begins in the skin or in tissues that line or cover internal organs. Sarcoma is a malignancy that begins in bone, cartilage, fat, muscle, blood vessels, or other connective or supportive tissue. Leukemia is a malignancy that starts in blood-forming tissue such as the bone marrow, and causes large numbers of abnormal blood cells to be produced and enter the blood. Lymphoma and multiple myeloma are malignancies that begin in the cells of the immune system. Central nervous system cancers are malignancies that begin in the tissues of the brain and spinal cord.\n",
            "TUI(s): T191\n",
            "Aliases (abbreviated, total: 93): \n",
            "\t malignant neoplasms, Neoplasm, malignant, Neoplasm, malignant, NEOPLASM MALIGNANT, NEOPLASM MALIGNANT, Malignant neoplasm, NEOPLASM, MALIGNANT, malignant neoplasm, malignant neoplasm, Malignant Neoplasm\n",
            "Entity Name: cancer\n",
            "Concept_Id = C2707253 Score = 1.0\n",
            "CUI: C2707253, Name: Cancer:-:Point in time:^Patient:-\n",
            "Definition: None\n",
            "TUI(s): T201\n",
            "Aliases: (total: 3): \n",
            "\t Cancer:-:Point in time:^Patient:-, Cancer, Cancer:-:Pt:^Patient:-\n",
            "Entity Name: hepatocellular \\ncarcinoma\n",
            "Concept_Id = C2239176 Score = 0.9379420876502991\n",
            "CUI: C2239176, Name: Liver carcinoma\n",
            "Definition: A primary malignant neoplasm of epithelial liver cells. It ranges from a well-differentiated tumor with EPITHELIAL CELLS indistinguishable from normal HEPATOCYTES to a poorly differentiated neoplasm. The cells may be uniform or markedly pleomorphic, or form GIANT CELLS. Several classification schemes have been suggested.\n",
            "TUI(s): T191\n",
            "Aliases (abbreviated, total: 116): \n",
            "\t Liver carcinoma, CARCINOMA LIVER, LIVER CARCINOMA, liver carcinoma, CARCINOMA OF LIVER, CARCINOMA OF LIVER, Hepatocarcinoma, Hepatocarcinoma, Hepatocarcinoma, Hepatocarcinoma\n",
            "Entity Name: hepatocellular \\ncarcinoma\n",
            "Concept_Id = C1864736 Score = 0.9184399843215942\n",
            "CUI: C1864736, Name: SARNP gene\n",
            "Definition: This gene may be involved in the regulation of both transcription and translation.\n",
            "TUI(s): T028\n",
            "Aliases (abbreviated, total: 18): \n",
            "\t SARNP gene, SARNP Gene, SAP Domain Containing Ribonucleoprotein Gene, Hcc-1, HCC1, HSPC316, HEPATOCELLULAR CARCINOMA 1, hepatocellular carcinoma 1, CYTOKINE-INDUCED PROTEIN, 29-KD, CIP29\n",
            "Entity Name: HCC\n",
            "Concept_Id = C2239176 Score = 1.0\n",
            "CUI: C2239176, Name: Liver carcinoma\n",
            "Definition: A primary malignant neoplasm of epithelial liver cells. It ranges from a well-differentiated tumor with EPITHELIAL CELLS indistinguishable from normal HEPATOCYTES to a poorly differentiated neoplasm. The cells may be uniform or markedly pleomorphic, or form GIANT CELLS. Several classification schemes have been suggested.\n",
            "TUI(s): T191\n",
            "Aliases (abbreviated, total: 116): \n",
            "\t Liver carcinoma, CARCINOMA LIVER, LIVER CARCINOMA, liver carcinoma, CARCINOMA OF LIVER, CARCINOMA OF LIVER, Hepatocarcinoma, Hepatocarcinoma, Hepatocarcinoma, Hepatocarcinoma\n",
            "Entity Name: HCC\n",
            "Concept_Id = C0280604 Score = 1.0\n",
            "CUI: C0280604, Name: altretamine/cisplatin/cyclophosphamide protocol\n",
            "Definition: None\n",
            "TUI(s): T061\n",
            "Aliases: (total: 7): \n",
            "\t altretamine/cisplatin/cyclophosphamide, Altretamine/Cisplatin/Cyclophosphamide, CDDP/CTX/HMM, CDDP/CTX/HMM, CHD, CHD, HCC\n"
          ],
          "name": "stdout"
        }
      ]
    }
  ]
}