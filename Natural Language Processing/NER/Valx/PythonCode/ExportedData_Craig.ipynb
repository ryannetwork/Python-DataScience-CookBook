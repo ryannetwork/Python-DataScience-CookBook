{
 "cells": [
  {
   "cell_type": "code",
   "execution_count": null,
   "metadata": {},
   "outputs": [],
   "source": [
    "x = \"WBC have trended down from 15.7 to 10.2 and patient is now afebrile. Vanc was DC’ed on 2/9 due to culture results leading to streptococcal infection. Will follow culture results to hopefully narrow therapy (possible ceftriaxone), but will consider aminoglycoside if enterococcal. Will continue pip/tazo for now until further culture results. Dr. Goldsmith on board.\"\n",
    "y = \"WBC have trended down to 9.0 and pt is currently afebrile. Pt’s pulse ox has been ranging from 89-98 (variable). Pt’s blood culture resulted strep agalactaie, but subculture growing another microorganism has not yet resulted. Continue current therapy until further culture results.\"\n",
    "z = \"Dr. Goldsmith de-escalated to ceftriaxone this morning based on culture results (alpha hemolytic strep). Pt’s WBC increased to 11.2 today, and pt was febrile last night and this morning (last night 101.8, 100.2 this morning). Pt’s pulse ox is mid 90’s on mechanical ventilator. Solu-cortef DC’ed on 2/13.\"\n",
    "p = \"WBC increased to 12 today, pt has been febrile at 102.8 today. Pulse ox is 95 on mechanical ventilator. Removed multilumen and replaced with PICC on 2/14 and recultured due to persistent fever.  Cultures resulted with sensitivities, both mo susceptible to ceftriaxone. \"\n",
    "q = \"WBC have increased to 13.6 and patient has been febrile this morning at 103.2. Pulse ox is 98-100 on mechanical ventilator. Repeat blood cultures are no growth x 1. Dr G will see him today\"\n",
    "z = \"Pt admitted on 2/8 for endocarditis (h/o injection drug use and hepC). Meropenem started 2/26 because of recent temperature spikes and new Klebsiella growth in the sputum from 2/21. Pt treated for endocarditis Strep agalactiae/Strep pneumoniae and sputum Klebsiella. Pt had a tracheostomy on 2/24/17. Pt’s WBC trending down to 5.8 (2/27), febrile 99.9 (2/27), and on mechanical ventilator (pulse ox 96). Will follow Dr G on board\""
   ]
  },
  {
   "cell_type": "code",
   "execution_count": null,
   "metadata": {},
   "outputs": [],
   "source": [
    "import pandas as pd\n",
    "ClinicalNotes = pd.read_excel('Craig_2019Aug7th.xlsx')"
   ]
  },
  {
   "cell_type": "code",
   "execution_count": null,
   "metadata": {},
   "outputs": [],
   "source": [
    "ClinicalNotes.head()"
   ]
  },
  {
   "cell_type": "code",
   "execution_count": null,
   "metadata": {},
   "outputs": [],
   "source": [
    "ClinicalNotes['Length_Text'] = ClinicalNotes['Text'].str.len() "
   ]
  },
  {
   "cell_type": "code",
   "execution_count": null,
   "metadata": {},
   "outputs": [],
   "source": [
    "### Included Ways\n",
    "# find the length of the text\n",
    "# Data starts with 'firstname, lastname' format\n",
    "# Text consists of '(room' on lowercase data\n",
    "# \"pts\" or \"pt\" should be removed\n",
    "\n",
    "### Excluded Ways\n",
    "# If a number is present in the text or not"
   ]
  },
  {
   "cell_type": "code",
   "execution_count": null,
   "metadata": {},
   "outputs": [],
   "source": [
    "ClinicalNote = ClinicalNotes['Text'].iloc[13]\n",
    "ClinicalNote"
   ]
  },
  {
   "cell_type": "code",
   "execution_count": null,
   "metadata": {},
   "outputs": [],
   "source": [
    "# Extract dates\n",
    "import re\n",
    "match = re.search(r'\\d{2}/\\d{2}', ClinicalNote)\n",
    "match"
   ]
  },
  {
   "cell_type": "code",
   "execution_count": null,
   "metadata": {},
   "outputs": [],
   "source": [
    "from datetime import *\n",
    "date = datetime.strptime(match.group(), '%m/%d').date()"
   ]
  },
  {
   "cell_type": "code",
   "execution_count": null,
   "metadata": {},
   "outputs": [],
   "source": [
    "### After making changes to the codes - To import all the functions \n",
    "from W_utility.log import * \n",
    "from W_utility.file import * \n",
    "\n",
    "from NLP.porter2 import *\n",
    "from NLP.word import *\n",
    "from NLP.sentence import *\n",
    "from NLP.sentence_keywords import * "
   ]
  },
  {
   "cell_type": "code",
   "execution_count": null,
   "metadata": {},
   "outputs": [],
   "source": [
    "import Valx_core\n",
    "from Valx_core import *"
   ]
  },
  {
   "cell_type": "code",
   "execution_count": null,
   "metadata": {},
   "outputs": [],
   "source": [
    "ClinicalNote_preprocessing = Valx_core.preprocessing(ClinicalNote)\n",
    "ClinicalNote_preprocessing"
   ]
  },
  {
   "cell_type": "code",
   "execution_count": null,
   "metadata": {},
   "outputs": [],
   "source": [
    "ClinicalNote_split_text_inclusion_exclusion = Valx_core.split_text_inclusion_exclusion(ClinicalNote_preprocessing)\n",
    "ClinicalNote_split_text_inclusion_exclusion"
   ]
  },
  {
   "cell_type": "code",
   "execution_count": null,
   "metadata": {},
   "outputs": [],
   "source": [
    "ClinicalNote_extract_candidates_numeric = Valx_core.extract_candidates_numeric(ClinicalNote_preprocessing)\n",
    "ClinicalNote_extract_candidates_numeric"
   ]
  },
  {
   "cell_type": "code",
   "execution_count": null,
   "metadata": {},
   "outputs": [],
   "source": [
    "name_list=\"wbc\"\n",
    "ClinicalNote_extract_candidates_name = Valx_core.extract_candidates_name(ClinicalNote_extract_candidates_numeric[0],ClinicalNote_extract_candidates_numeric[1],name_list)\n",
    "ClinicalNote_extract_candidates_name"
   ]
  },
  {
   "cell_type": "code",
   "execution_count": null,
   "metadata": {},
   "outputs": [],
   "source": [
    "fea_dict_dk = ufile.read_csv_as_dict ('data/variable_features_dk.csv', 0, 1, True)\n",
    "fea_dict_umls = ufile.read_csv_as_dict ('data/variable_features_umls.csv', 0, 1, True)"
   ]
  },
  {
   "cell_type": "code",
   "execution_count": null,
   "metadata": {},
   "outputs": [],
   "source": [
    "ClinicalNote_formalize_expressions = Valx_core.formalize_expressions(ClinicalNote_extract_candidates_name[1][0])\n",
    "ClinicalNote_identify_variable = Valx_core.identify_variable(ClinicalNote_formalize_expressions, fea_dict_dk, fea_dict_umls)\n",
    "ClinicalNote_associate_variable_values = Valx_core.associate_variable_values(ClinicalNote_identify_variable[0])\n",
    "ClinicalNote_associate_variable_values"
   ]
  }
 ],
 "metadata": {
  "kernelspec": {
   "display_name": "Python 3",
   "language": "python",
   "name": "python3"
  },
  "language_info": {
   "codemirror_mode": {
    "name": "ipython",
    "version": 3
   },
   "file_extension": ".py",
   "mimetype": "text/x-python",
   "name": "python",
   "nbconvert_exporter": "python",
   "pygments_lexer": "ipython3",
   "version": "3.7.2"
  }
 },
 "nbformat": 4,
 "nbformat_minor": 2
}
