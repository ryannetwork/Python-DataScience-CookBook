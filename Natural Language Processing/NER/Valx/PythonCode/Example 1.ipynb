{
 "cells": [
  {
   "cell_type": "code",
   "execution_count": 1,
   "metadata": {},
   "outputs": [
    {
     "name": "stderr",
     "output_type": "stream",
     "text": [
      "[nltk_data] Downloading package stopwords to\n",
      "[nltk_data]     C:\\Users\\SPashikanti\\AppData\\Roaming\\nltk_data...\n",
      "[nltk_data]   Package stopwords is already up-to-date!\n"
     ]
    }
   ],
   "source": [
    "### After making changes to the codes - To import all the functions \n",
    "from W_utility.log import * \n",
    "from W_utility.file import * \n",
    "\n",
    "from NLP.porter2 import *\n",
    "from NLP.word import *\n",
    "from NLP.sentence import *\n",
    "from NLP.sentence_keywords import * "
   ]
  },
  {
   "cell_type": "code",
   "execution_count": 2,
   "metadata": {
    "scrolled": true
   },
   "outputs": [],
   "source": [
    "import Valx_core\n",
    "from Valx_core import *"
   ]
  },
  {
   "cell_type": "code",
   "execution_count": 3,
   "metadata": {},
   "outputs": [
    {
     "data": {
      "text/plain": [
       "''"
      ]
     },
     "execution_count": 3,
     "metadata": {},
     "output_type": "execute_result"
    }
   ],
   "source": [
    "Valx_core.init_features ()"
   ]
  },
  {
   "cell_type": "code",
   "execution_count": 4,
   "metadata": {},
   "outputs": [
    {
     "data": {
      "text/plain": [
       "'- Her vital signs: heart rate of 66, blood pressure 120/63, respiratory rate 14, 100% on 5 liters nasal cannula O2 saturation# -  Significant endogenous insulin secretion indicated by fasting C-peptide# -  The value of HbA1c is <= 10.0 %# - failure to recognize blood glucose levels < 54 mg/dl'"
      ]
     },
     "execution_count": 4,
     "metadata": {},
     "output_type": "execute_result"
    }
   ],
   "source": [
    "ClinicalNote = \"- Her vital signs: heart rate of 66, blood pressure 120/63, respiratory rate 14, 100% on 5 liters nasal cannula O2 saturation# -  Significant endogenous insulin secretion indicated by fasting C-peptide# -  The value of HbA1c is <= 10.0 %# - failure to recognize blood glucose levels < 54 mg/dl\"\n",
    "ClinicalNote"
   ]
  },
  {
   "cell_type": "code",
   "execution_count": 5,
   "metadata": {},
   "outputs": [
    {
     "data": {
      "text/plain": [
       "'- her vital signs: heart rate of 66, blood pressure 120 - 63, respiratory rate 14, 100% on 5 liters nasal cannula o2 saturation# - significant endogenous insulin secretion indicated by fasting c-peptide# - the value of hba1c is <= 10.0 %# - failure to recognize blood glucose levels < 54 mg/dl'"
      ]
     },
     "execution_count": 5,
     "metadata": {},
     "output_type": "execute_result"
    }
   ],
   "source": [
    "ClinicalNote_preprocessing = Valx_core.preprocessing(ClinicalNote)\n",
    "ClinicalNote_preprocessing"
   ]
  },
  {
   "cell_type": "code",
   "execution_count": 6,
   "metadata": {
    "scrolled": true
   },
   "outputs": [
    {
     "data": {
      "text/plain": [
       "[['Inclusion',\n",
       "  '- her vital signs: heart rate of 66, blood pressure 120 - 63, respiratory rate 14, 100% on 5 liters nasal cannula o2 saturation# - significant endogenous insulin secretion indicated by fasting c-peptide# - the value of hba1c is <= 10.0 %# - failure to recognize blood glucose levels < 54 mg/dl']]"
      ]
     },
     "execution_count": 6,
     "metadata": {},
     "output_type": "execute_result"
    }
   ],
   "source": [
    "ClinicalNote_split_text_inclusion_exclusion = Valx_core.split_text_inclusion_exclusion(ClinicalNote_preprocessing)\n",
    "ClinicalNote_split_text_inclusion_exclusion"
   ]
  },
  {
   "cell_type": "code",
   "execution_count": 7,
   "metadata": {},
   "outputs": [
    {
     "data": {
      "text/plain": [
       "(['Inclusion', 'Inclusion', 'Inclusion'],\n",
       " ['her vital signs: heart rate of 66, blood pressure 120 - 63, respiratory rate 14, 100% on 5 liters nasal cannula o2 saturation',\n",
       "  'the value of hba1c is <= 10.0 %',\n",
       "  'failure to recognize blood glucose levels < 54 mg/dl'])"
      ]
     },
     "execution_count": 7,
     "metadata": {},
     "output_type": "execute_result"
    }
   ],
   "source": [
    "ClinicalNote_extract_candidates_numeric = Valx_core.extract_candidates_numeric(ClinicalNote_preprocessing)\n",
    "ClinicalNote_extract_candidates_numeric"
   ]
  },
  {
   "cell_type": "code",
   "execution_count": 8,
   "metadata": {},
   "outputs": [
    {
     "data": {
      "text/plain": [
       "(['Inclusion'],\n",
       " ['her vital signs: heart rate of 66, blood pressure 120 - 63, respiratory rate 14, 100% on 5 liters nasal cannula o2 saturation'])"
      ]
     },
     "execution_count": 8,
     "metadata": {},
     "output_type": "execute_result"
    }
   ],
   "source": [
    "name_list=\"heart rate | temperature | blood pressure\"\n",
    "ClinicalNote_extract_candidates_name = Valx_core.extract_candidates_name(ClinicalNote_extract_candidates_numeric[0],ClinicalNote_extract_candidates_numeric[1],name_list)\n",
    "ClinicalNote_extract_candidates_name"
   ]
  },
  {
   "cell_type": "code",
   "execution_count": 9,
   "metadata": {},
   "outputs": [
    {
     "data": {
      "text/plain": [
       "'her vital signs: heart rate of <VML Logic=equal Unit=>66</VML> , blood pressure <VML Logic=greater_equal Unit=>120</VML> - <VML Logic=lower_equal Unit=>63</VML> , respiratory rate <VML Logic=equal Unit=>14</VML> , <VML Logic=equal Unit=%>100</VML> on <VML Logic=equal Unit=liters>5</VML> nasal cannula o2 saturation'"
      ]
     },
     "execution_count": 9,
     "metadata": {},
     "output_type": "execute_result"
    }
   ],
   "source": [
    "ClinicalNote_formalize_expressions = Valx_core.formalize_expressions(ClinicalNote_extract_candidates_numeric[1][0])\n",
    "ClinicalNote_formalize_expressions"
   ]
  },
  {
   "cell_type": "code",
   "execution_count": 10,
   "metadata": {},
   "outputs": [],
   "source": [
    "fea_dict_dk = ufile.read_csv_as_dict ('data/variable_features_dk.csv', 0, 1, True)\n",
    "fea_dict_umls = ufile.read_csv_as_dict ('data/variable_features_umls.csv', 0, 1, True)"
   ]
  },
  {
   "cell_type": "code",
   "execution_count": 11,
   "metadata": {},
   "outputs": [],
   "source": [
    "add_stopwords =[\"finding\",\"of\"]"
   ]
  },
  {
   "cell_type": "code",
   "execution_count": 12,
   "metadata": {},
   "outputs": [
    {
     "data": {
      "text/plain": [
       "('her vital signs: <VL Label=heart rate Source=UMLS>heart rate</VL> of <VML Logic=equal Unit=>66</VML> , blood <VL Label=pressure Source=UMLS>pressure</VL> <VML Logic=greater_equal Unit=>120</VML> - <VML Logic=lower_equal Unit=>63</VML> , <VL Label=respiratory rate Source=UMLS>respiratory rate</VL> <VML Logic=equal Unit=>14</VML> , <VML Logic=equal Unit=%>100</VML> on <VML Logic=equal Unit=liters>5</VML> nasal cannula o2 saturation',\n",
       " ['vital signs', 'blood pressure', 'nasal cannula o2 saturation'])"
      ]
     },
     "execution_count": 12,
     "metadata": {},
     "output_type": "execute_result"
    }
   ],
   "source": [
    "ClinicalNote_identify_variable = Valx_core.identify_variable(ClinicalNote_formalize_expressions, fea_dict_dk, fea_dict_umls)\n",
    "ClinicalNote_identify_variable"
   ]
  },
  {
   "cell_type": "code",
   "execution_count": 13,
   "metadata": {
    "scrolled": true
   },
   "outputs": [
    {
     "data": {
      "text/plain": [
       "(['heart rate', 'pressure', 'respiratory rate'],\n",
       " [[['heart rate', '=', '66', '']],\n",
       "  [['pressure', '>=', '120', ''], ['pressure', '<=', '63', '']],\n",
       "  [['respiratory rate', '=', '14', ''],\n",
       "   ['respiratory rate', '=', '100', '%'],\n",
       "   ['respiratory rate', '=', '5', 'liters']]])"
      ]
     },
     "execution_count": 13,
     "metadata": {},
     "output_type": "execute_result"
    }
   ],
   "source": [
    "ClinicalNote_associate_variable_values = Valx_core.associate_variable_values(ClinicalNote_identify_variable[0])\n",
    "ClinicalNote_associate_variable_values"
   ]
  },
  {
   "cell_type": "code",
   "execution_count": null,
   "metadata": {},
   "outputs": [],
   "source": []
  },
  {
   "cell_type": "code",
   "execution_count": null,
   "metadata": {},
   "outputs": [],
   "source": []
  }
 ],
 "metadata": {
  "kernelspec": {
   "display_name": "Python 3",
   "language": "python",
   "name": "python3"
  },
  "language_info": {
   "codemirror_mode": {
    "name": "ipython",
    "version": 3
   },
   "file_extension": ".py",
   "mimetype": "text/x-python",
   "name": "python",
   "nbconvert_exporter": "python",
   "pygments_lexer": "ipython3",
   "version": "3.7.2"
  }
 },
 "nbformat": 4,
 "nbformat_minor": 2
}
