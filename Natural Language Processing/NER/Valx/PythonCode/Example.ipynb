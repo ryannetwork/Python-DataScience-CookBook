{
 "cells": [
  {
   "cell_type": "code",
   "execution_count": 1,
   "metadata": {},
   "outputs": [
    {
     "name": "stderr",
     "output_type": "stream",
     "text": [
      "[nltk_data] Downloading package stopwords to\n",
      "[nltk_data]     C:\\Users\\SPashikanti\\AppData\\Roaming\\nltk_data...\n",
      "[nltk_data]   Package stopwords is already up-to-date!\n"
     ]
    }
   ],
   "source": [
    "### After making changes to the codes - To import all the functions \n",
    "from W_utility.log import * \n",
    "from W_utility.file import * \n",
    "\n",
    "from NLP.porter2 import *\n",
    "from NLP.word import *\n",
    "from NLP.sentence import *\n",
    "from NLP.sentence_keywords import * "
   ]
  },
  {
   "cell_type": "code",
   "execution_count": 2,
   "metadata": {},
   "outputs": [],
   "source": [
    "import Valx_core\n",
    "from Valx_core import *"
   ]
  },
  {
   "cell_type": "code",
   "execution_count": 3,
   "metadata": {},
   "outputs": [],
   "source": [
    "Valx_core.init_features ()\n",
    "fea_dict_dk = ufile.read_csv_as_dict ('data/variable_features_dk.csv', 0, 1, True)\n",
    "fea_dict_umls = ufile.read_csv_as_dict ('data/variable_features_umls.csv', 0, 1, True)"
   ]
  },
  {
   "cell_type": "code",
   "execution_count": null,
   "metadata": {},
   "outputs": [],
   "source": [
    "name_list=\"heart rate | temperature | blood pressure\"\n",
    "add_stopwords =[\"finding\",\"of\"]"
   ]
  },
  {
   "cell_type": "code",
   "execution_count": null,
   "metadata": {},
   "outputs": [],
   "source": [
    "x = \"WBC have trended down from 15.7 to 10.2 and patient is now afebrile. Vanc was DC’ed on 2/9 due to culture results leading to streptococcal infection. Will follow culture results to hopefully narrow therapy (possible ceftriaxone), but will consider aminoglycoside if enterococcal. Will continue pip/tazo for now until further culture results. Dr. Goldsmith on board.\"\n",
    "y = \"WBC have trended down to 9.0 and pt is currently afebrile. Pt’s pulse ox has been ranging from 89-98 (variable). Pt’s blood culture resulted strep agalactaie, but subculture growing another microorganism has not yet resulted. Continue current therapy until further culture results.\"\n",
    "z = \"Dr. Goldsmith de-escalated to ceftriaxone this morning based on culture results (alpha hemolytic strep). Pt’s WBC increased to 11.2 today, and pt was febrile last night and this morning (last night 101.8, 100.2 this morning). Pt’s pulse ox is mid 90’s on mechanical ventilator. Solu-cortef DC’ed on 2/13.\"\n",
    "p = \"WBC increased to 12 today, pt has been febrile at 102.8 today. Pulse ox is 95 on mechanical ventilator. Removed multilumen and replaced with PICC on 2/14 and recultured due to persistent fever.  Cultures resulted with sensitivities, both mo susceptible to ceftriaxone. \"\n",
    "q = \"WBC have increased to 13.6 and patient has been febrile this morning at 103.2. Pulse ox is 98-100 on mechanical ventilator. Repeat blood cultures are no growth x 1. Dr G will see him today\"\n",
    "z = \"Pt admitted on 2/8 for endocarditis (h/o injection drug use and hepC). Meropenem started 2/26 because of recent temperature spikes and new Klebsiella growth in the sputum from 2/21. Pt treated for endocarditis Strep agalactiae/Strep pneumoniae and sputum Klebsiella. Pt had a tracheostomy on 2/24/17. Pt’s WBC trending down to 5.8 (2/27), febrile 99.9 (2/27), and on mechanical ventilator (pulse ox 96). Will follow Dr G on board\"\n"
   ]
  },
  {
   "cell_type": "code",
   "execution_count": 16,
   "metadata": {},
   "outputs": [
    {
     "data": {
      "text/plain": [
       "(['temperature'], [[['temperature', '=', '101', '']]])"
      ]
     },
     "execution_count": 16,
     "metadata": {},
     "output_type": "execute_result"
    }
   ],
   "source": [
    "ClinicalNote = \"WBC have trended down from 15.7 to 10.2 and patient is now afebrile. Vanc was DC’ed on 2/9 due to culture results leading to streptococcal infection. Will follow culture results to hopefully narrow therapy (possible ceftriaxone), but will consider aminoglycoside if enterococcal. Will continue pip/tazo for now until further culture results. Dr. Goldsmith on board# WBC have trended down to 9.0 and pt is currently afebrile. Pt’s pulse ox has been ranging from 89-98 (variable). Pt’s blood culture resulted strep agalactaie, but subculture growing another microorganism has not yet resulted. Continue current therapy until further culture results# Dr. Goldsmith de-escalated to ceftriaxone this morning based on culture results (alpha hemolytic strep). Pt’s WBC increased to 11.2 today, and pt was febrile last night and this morning (last night 101.8 degree, 100.2 degree this morning). Pt’s pulse ox is mid 90’s on mechanical ventilator. Solu-cortef DC’ed on 2/13# WBC increased to 12 today, pt has been febrile at 102.8 today. Pulse ox is 95 on mechanical ventilator. Removed multilumen and replaced with PICC on 2/14 and recultured due to persistent fever.  Cultures resulted with sensitivities, both mo susceptible to ceftriaxone# WBC have increased to 13.6 and patient has been febrile this morning at 103.2. Pulse ox is 98-100 on mechanical ventilator. Repeat blood cultures are no growth x 1. Dr G will see him today# Pt admitted on 2/8 for endocarditis (h/o injection drug use and hepC). Meropenem started 2/26 because of recent temperature spikes and new Klebsiella growth in the sputum from 2/21. Pt treated for endocarditis Strep agalactiae/Strep pneumoniae and sputum Klebsiella. Pt had a tracheostomy on 2/24/17. Pt’s WBC trending down to 5.8 (2/27), febrile 99.9 (2/27), and on mechanical ventilator (pulse ox 96). Will follow Dr G on board \"\n",
    "ClinicalNote = \" Candidates must be between the ages of 18 and 65# - Candidates must have had IDDM for at least 5 years and been under physician care for at least 6 months prior to enrollment in trial.# - Eligible candidates will have poorly controlled insulin-dependent diabetes mellitus (IDDM) and manifest signs and symptoms severe enough to be incapacitating. These symptoms can include episodes of hypoglycemic unawareness (failure to recognize blood glucose levels < 54 mg/dl) or episodes requiring the assistance of others.# - Candidates may have poor diabetes control despite intensive insulin therapy (HbA1c > 8.0%).# - Creatinine clearance should be > 60 ml/min)# - Body Mass Index should be less than 26# - Women of child-bearing age must have a negative pregnancy test and agree to follow effective contraceptive measures for the duration of the trial.# Exclusion Criteria:# - Previous or concurrent organ transplant# - Previous or concurrent malignancy# - Untreated proliferative diabetic retinopathy# - Unstable cardiovascular status, including positive stress echocardiography (if > age 35)# - Active infections, including x-ray evidence of pulmonary infection# - Peptic ulcer disease, gall stones, or portal hypertension# - Abnormal liver function tests# - Presence of panel reactive antibodies > 20%# - Creatinine clearance < 60 ml/min# - HbA1c 12%# - Serological evidence of HIV, HbsAg, or HCV# - Anemia (hemoglobin < 12.0)# - Any condition or circumstance, including psychogenic factors, that preclude therapeutic compliance or otherwise make it unsafe to undergo an islet cell transplant.# - PSA > 4 in males\"\n",
    "ClinicalNote = \"August05_17:26:00 CDT temperature is 101 on August05_17:26:00 November14 wbc 0.79\"\n",
    "ClinicalNote = \"August5_10:11\\twbc\\t6.3 k/mcl\"\n",
    "ClinicalNote = \" wbc is 22, lymph 87%, neutroph 0%, gluc 157, prot 62\"\n",
    "ClinicalNote = \"wt=37.8 kg (verified) scr=1.8 mg/dl crcl~19 wbc=17.1\"\n",
    "ClinicalNote = \"temperature=101\"\n",
    "ClinicalNote_preprocessing = Valx_core.preprocessing(ClinicalNote)\n",
    "ClinicalNote_split_text_inclusion_exclusion = Valx_core.split_text_inclusion_exclusion(ClinicalNote_preprocessing)\n",
    "ClinicalNote_extract_candidates_numeric = Valx_core.extract_candidates_numeric(ClinicalNote_preprocessing)\n",
    "ClinicalNote_formalize_expressions = Valx_core.formalize_expressions(ClinicalNote_extract_candidates_numeric[1][0])\n",
    "ClinicalNote_identify_variable = Valx_core.identify_variable(ClinicalNote_formalize_expressions, fea_dict_dk, fea_dict_umls)\n",
    "ClinicalNote_associate_variable_values = Valx_core.associate_variable_values(ClinicalNote_identify_variable[0])\n",
    "ClinicalNote_associate_variable_values"
   ]
  },
  {
   "cell_type": "code",
   "execution_count": null,
   "metadata": {
    "scrolled": true
   },
   "outputs": [],
   "source": [
    "ClinicalNote_extract_candidates_numeric"
   ]
  },
  {
   "cell_type": "code",
   "execution_count": null,
   "metadata": {},
   "outputs": [],
   "source": [
    "ClinicalNote_formalize_expressions"
   ]
  },
  {
   "cell_type": "code",
   "execution_count": null,
   "metadata": {},
   "outputs": [],
   "source": [
    "ClinicalNote_identify_variable"
   ]
  },
  {
   "cell_type": "code",
   "execution_count": null,
   "metadata": {},
   "outputs": [],
   "source": [
    "ClinicalNote_identify_variable = Valx_core.identify_variable(ClinicalNote_identify_variable[0], fea_dict_dk, fea_dict_umls)"
   ]
  },
  {
   "cell_type": "code",
   "execution_count": null,
   "metadata": {
    "scrolled": true
   },
   "outputs": [],
   "source": [
    "ClinicalNote_identify_variable"
   ]
  },
  {
   "cell_type": "code",
   "execution_count": null,
   "metadata": {},
   "outputs": [],
   "source": []
  },
  {
   "cell_type": "code",
   "execution_count": null,
   "metadata": {},
   "outputs": [],
   "source": []
  },
  {
   "cell_type": "code",
   "execution_count": null,
   "metadata": {},
   "outputs": [],
   "source": [
    "check = \"sepsis, acute pancreatitis\\n\\nallergy: sulfa\\n\\npmh: htn, asthma\\npresented with severe acute pancreatitis, thought to be medication-induced\\n\\nsh: lives at home, transfer from wayne (no abx given)\\n\\nprocedures:\\nintubation 11/11\\n\\nimaging:\\n11/16 abdominal xr gaseous distention of small intestine is also present without significant change the patient's previous abdominal series\\n11/12 tte no abnormal findings\\n11/11 abdominal ct prominent gaseous distention and diffuse mild to moderate small bowel distention. changes could be related to a inflammatory ileus.\\n\\ncxc:\\n11/12 s pneumo antigen neg\\nblood 11/11 1/2 strep bovis 1/2 ng x2\\nsputum 11/11 normal flora\\n\\nabx:\\npcn 11/15-\\nvanc 11/12-11/14\\npiptazo 11/11-11/15\\n\\n11/13 piptazo for empiric coverage, blood cx growing gpc in chains. vanc added. no gi source identified, please consider d/c of piptazo. tmax 100.9, wbc 9.8. follow c/s.\\n\\n11/14 alpha-hemolytic strep in blood 1/2. pt on vanc/piptazo. tmax 100.4, wbc 12.7, still paralyzed on vent with fio2 40. still on pressors. day 3 of empiric piptazo\\n\\n11/15 tmax 99.7, wbc 13.1. still on vent, fio2 40. c/s resulted, strep bovis. please consider d/c vanc and use ampicillin in pt. with strep bovis recommend gi workup/colonoscopy in pt. spoke with jason. he is going to discuss with dr. mallipeddi who is consulted on the patient.\\n\\n11/16 wbc increased to 17, tmax 99.7.\""
   ]
  },
  {
   "cell_type": "code",
   "execution_count": null,
   "metadata": {},
   "outputs": [],
   "source": [
    "sentence.sentence_splitting_symbols(check, \"[#!?.;,]\\s\", 1)"
   ]
  },
  {
   "cell_type": "code",
   "execution_count": null,
   "metadata": {},
   "outputs": [],
   "source": [
    "ClinicalNote = ClinicalNotes['Text'].iloc[13]\n",
    "ClinicalNote"
   ]
  }
 ],
 "metadata": {
  "kernelspec": {
   "display_name": "Python 3",
   "language": "python",
   "name": "python3"
  },
  "language_info": {
   "codemirror_mode": {
    "name": "ipython",
    "version": 3
   },
   "file_extension": ".py",
   "mimetype": "text/x-python",
   "name": "python",
   "nbconvert_exporter": "python",
   "pygments_lexer": "ipython3",
   "version": "3.7.2"
  }
 },
 "nbformat": 4,
 "nbformat_minor": 2
}
