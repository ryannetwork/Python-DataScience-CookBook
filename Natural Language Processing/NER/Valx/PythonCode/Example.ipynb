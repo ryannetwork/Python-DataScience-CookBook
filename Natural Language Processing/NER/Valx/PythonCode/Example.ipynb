{
 "cells": [
  {
   "cell_type": "code",
   "execution_count": null,
   "metadata": {},
   "outputs": [],
   "source": [
    "### After making changes to the codes - To import all the functions \n",
    "from W_utility.log import * \n",
    "from W_utility.file import * \n",
    "\n",
    "from NLP.porter2 import *\n",
    "from NLP.word import *\n",
    "from NLP.sentence import *\n",
    "from NLP.sentence_keywords import * "
   ]
  },
  {
   "cell_type": "code",
   "execution_count": null,
   "metadata": {},
   "outputs": [],
   "source": [
    "import Valx_core\n",
    "from Valx_core import *"
   ]
  },
  {
   "cell_type": "code",
   "execution_count": null,
   "metadata": {},
   "outputs": [],
   "source": [
    "fea_dict_dk = ufile.read_csv_as_dict ('data/variable_features_dk.csv', 0, 1, True)\n",
    "fea_dict_umls = ufile.read_csv_as_dict ('data/variable_features_umls.csv', 0, 1, True)"
   ]
  },
  {
   "cell_type": "code",
   "execution_count": null,
   "metadata": {},
   "outputs": [],
   "source": []
  },
  {
   "cell_type": "code",
   "execution_count": null,
   "metadata": {},
   "outputs": [],
   "source": [
    "ClinicalNote = \"August05_17:26:00 CDT temperature is 101 on August05_17:26:00\"\n",
    "ClinicalNote_preprocessing = Valx_core.preprocessing(ClinicalNote)\n",
    "ClinicalNote_split_text_inclusion_exclusion = Valx_core.split_text_inclusion_exclusion(ClinicalNote_preprocessing)\n",
    "ClinicalNote_extract_candidates_numeric = Valx_core.extract_candidates_numeric(ClinicalNote_preprocessing)\n",
    "ClinicalNote_formalize_expressions = Valx_core.formalize_expressions(ClinicalNote_extract_candidates_numeric[1][0])\n",
    "ClinicalNote_identify_variable = Valx_core.identify_variable(ClinicalNote_formalize_expressions, fea_dict_dk, fea_dict_umls)\n",
    "ClinicalNote_associate_variable_values = Valx_core.associate_variable_values(ClinicalNote_identify_variable[0])\n",
    "ClinicalNote_associate_variable_values"
   ]
  },
  {
   "cell_type": "code",
   "execution_count": null,
   "metadata": {
    "scrolled": true
   },
   "outputs": [],
   "source": [
    "ClinicalNote_extract_candidates_numeric"
   ]
  },
  {
   "cell_type": "code",
   "execution_count": null,
   "metadata": {},
   "outputs": [],
   "source": [
    "ClinicalNote_formalize_expressions"
   ]
  },
  {
   "cell_type": "code",
   "execution_count": null,
   "metadata": {},
   "outputs": [],
   "source": [
    "ClinicalNote_identify_variable"
   ]
  },
  {
   "cell_type": "code",
   "execution_count": null,
   "metadata": {},
   "outputs": [],
   "source": [
    "ClinicalNote_identify_variable = Valx_core.identify_variable(ClinicalNote_identify_variable[0], fea_dict_dk, fea_dict_umls)"
   ]
  },
  {
   "cell_type": "code",
   "execution_count": null,
   "metadata": {
    "scrolled": true
   },
   "outputs": [],
   "source": [
    "ClinicalNote_identify_variable"
   ]
  },
  {
   "cell_type": "code",
   "execution_count": null,
   "metadata": {},
   "outputs": [],
   "source": []
  },
  {
   "cell_type": "code",
   "execution_count": null,
   "metadata": {},
   "outputs": [],
   "source": []
  },
  {
   "cell_type": "code",
   "execution_count": null,
   "metadata": {},
   "outputs": [],
   "source": [
    "check = \"sepsis, acute pancreatitis\\n\\nallergy: sulfa\\n\\npmh: htn, asthma\\npresented with severe acute pancreatitis, thought to be medication-induced\\n\\nsh: lives at home, transfer from wayne (no abx given)\\n\\nprocedures:\\nintubation 11/11\\n\\nimaging:\\n11/16 abdominal xr gaseous distention of small intestine is also present without significant change the patient's previous abdominal series\\n11/12 tte no abnormal findings\\n11/11 abdominal ct prominent gaseous distention and diffuse mild to moderate small bowel distention. changes could be related to a inflammatory ileus.\\n\\ncxc:\\n11/12 s pneumo antigen neg\\nblood 11/11 1/2 strep bovis 1/2 ng x2\\nsputum 11/11 normal flora\\n\\nabx:\\npcn 11/15-\\nvanc 11/12-11/14\\npiptazo 11/11-11/15\\n\\n11/13 piptazo for empiric coverage, blood cx growing gpc in chains. vanc added. no gi source identified, please consider d/c of piptazo. tmax 100.9, wbc 9.8. follow c/s.\\n\\n11/14 alpha-hemolytic strep in blood 1/2. pt on vanc/piptazo. tmax 100.4, wbc 12.7, still paralyzed on vent with fio2 40. still on pressors. day 3 of empiric piptazo\\n\\n11/15 tmax 99.7, wbc 13.1. still on vent, fio2 40. c/s resulted, strep bovis. please consider d/c vanc and use ampicillin in pt. with strep bovis recommend gi workup/colonoscopy in pt. spoke with jason. he is going to discuss with dr. mallipeddi who is consulted on the patient.\\n\\n11/16 wbc increased to 17, tmax 99.7.\""
   ]
  },
  {
   "cell_type": "code",
   "execution_count": null,
   "metadata": {},
   "outputs": [],
   "source": [
    "sentence.sentence_splitting_symbols(check, \"[#!?.;,]\\s\", 1)"
   ]
  },
  {
   "cell_type": "code",
   "execution_count": null,
   "metadata": {},
   "outputs": [],
   "source": []
  }
 ],
 "metadata": {
  "kernelspec": {
   "display_name": "Python 3",
   "language": "python",
   "name": "python3"
  },
  "language_info": {
   "codemirror_mode": {
    "name": "ipython",
    "version": 3
   },
   "file_extension": ".py",
   "mimetype": "text/x-python",
   "name": "python",
   "nbconvert_exporter": "python",
   "pygments_lexer": "ipython3",
   "version": "3.7.2"
  }
 },
 "nbformat": 4,
 "nbformat_minor": 2
}
