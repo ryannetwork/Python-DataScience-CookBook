{
 "cells": [
  {
   "cell_type": "code",
   "execution_count": null,
   "metadata": {},
   "outputs": [],
   "source": [
    "pd.set_option('display.max_colwidth', -1)"
   ]
  },
  {
   "cell_type": "code",
   "execution_count": null,
   "metadata": {},
   "outputs": [],
   "source": [
    "# https://github.com/akoumjian/datefinder\n",
    "import sys \n",
    "!{sys.executable} -m pip install datefinder "
   ]
  },
  {
   "cell_type": "code",
   "execution_count": null,
   "metadata": {},
   "outputs": [],
   "source": [
    "import pandas as pd"
   ]
  },
  {
   "cell_type": "code",
   "execution_count": null,
   "metadata": {},
   "outputs": [],
   "source": [
    "pd.set_option('display.max_rows', 500)\n",
    "pd.options.mode.chained_assignment = None "
   ]
  },
  {
   "cell_type": "code",
   "execution_count": null,
   "metadata": {},
   "outputs": [],
   "source": [
    "ClinicalNotes = pd.read_excel('Craig_2019Aug7th.xlsx')\n",
    "\n",
    "# convert text to lowercase\n",
    "ClinicalNotes[\"Text\"] = ClinicalNotes[\"Text\"].str.lower()\n",
    "\n",
    "# Convert index to column\n",
    "ClinicalNotes['Row'] = ClinicalNotes.index\n",
    "\n",
    "# Remove records with source type = ADT, Lab & Order\n",
    "ClinicalNotes = ClinicalNotes[ClinicalNotes.SourceType.isin([\"User Entered\",\"Documentation\"])]"
   ]
  },
  {
   "cell_type": "code",
   "execution_count": null,
   "metadata": {},
   "outputs": [],
   "source": [
    "# Remove records based on number of words and if there is a number present or not and based on length of sentence\n",
    "# For eg: Bmi>40 is a single word has a number but length is less\n",
    "# This example has number of words=1 but length of sentence is long \"wprnbwygkmfydj3ijapkf7y15yopqc0lgey2a0iryfkxbvs1zeyjm5c\\r\\n0vt1iwgfwijef62vbd2j+9ofnokh+moppxxdv7tzunjjcr6/peo0fticiqsb4fli7wudgfonhzab\\r\\nixs3biz\"\n",
    "\n",
    "# Number of words in a sentence\n",
    "# df['totalwords'] = df['col'].str.split().str.len() #if /r or /n is present it is considered as space \n",
    "# df['totalwords'] = df['col'].str.count(' ') + 1 #if space is present or not\n",
    "# df['totalwords'] = [len(x.split()) for x in df['col'].tolist()] #\n",
    "ClinicalNotes['TotalWords'] = ClinicalNotes['Text'].str.count(' ') + 1\n",
    "\n",
    "# Find the length of the sentence\n",
    "ClinicalNotes['TextLength'] = ClinicalNotes['Text'].str.len() \n",
    "\n",
    "# Check if the Text has a Numeric in it or not\n",
    "ClinicalNotes['NumericInText'] = ClinicalNotes['Text'].str.contains((\"\\d\"), regex=True)"
   ]
  },
  {
   "cell_type": "code",
   "execution_count": null,
   "metadata": {},
   "outputs": [],
   "source": [
    "ClinicalNotes = ClinicalNotes.sort_values(by=['TotalWords','TextLength','NumericInText'], ascending=[True, True, True])"
   ]
  },
  {
   "cell_type": "code",
   "execution_count": null,
   "metadata": {},
   "outputs": [],
   "source": [
    "# Remove rows based on the conditions\n",
    "Removed_ClinicalNotes = ClinicalNotes[(((ClinicalNotes.TotalWords<=5) & (ClinicalNotes.TextLength>500)) | (ClinicalNotes.NumericInText==False))]"
   ]
  },
  {
   "cell_type": "code",
   "execution_count": null,
   "metadata": {},
   "outputs": [],
   "source": [
    "## Remove \n",
    "# TotalWords<=3 & TextLength>300\n",
    "# NumericInText is not present\n",
    "ClinicalNotes = ClinicalNotes[~(((ClinicalNotes.TotalWords<=3) & (ClinicalNotes.TextLength>500)) | (ClinicalNotes.NumericInText==False))]"
   ]
  },
  {
   "cell_type": "code",
   "execution_count": null,
   "metadata": {},
   "outputs": [],
   "source": [
    "Removed_ClinicalNotes.shape"
   ]
  },
  {
   "cell_type": "code",
   "execution_count": null,
   "metadata": {},
   "outputs": [],
   "source": [
    "# Export data\n",
    "ClinicalNotes.to_excel('Py DataFrames/ClinicalNotes.xlsx',index=False)\n",
    "ClinicalNotes.to_pickle(\"Py DataFrames/ClinicalNotes.pkl\")"
   ]
  },
  {
   "cell_type": "code",
   "execution_count": null,
   "metadata": {},
   "outputs": [],
   "source": [
    "ClinicalNotes.shape"
   ]
  },
  {
   "cell_type": "code",
   "execution_count": null,
   "metadata": {},
   "outputs": [],
   "source": []
  },
  {
   "cell_type": "code",
   "execution_count": null,
   "metadata": {},
   "outputs": [],
   "source": [
    "Check_head = ClinicalNotes.head(50)"
   ]
  },
  {
   "cell_type": "code",
   "execution_count": null,
   "metadata": {},
   "outputs": [],
   "source": [
    "Check_head"
   ]
  },
  {
   "cell_type": "code",
   "execution_count": null,
   "metadata": {},
   "outputs": [],
   "source": [
    "# Identifies only single date present\n",
    "# Check_head['Date'] = Check_head['Text'].str.extract(r'(\\d+/\\d+)', expand=True)\n",
    "\n",
    "# Identifies only if 2 dates are present\n",
    "# Check_head['Date'] = Check_head.Text.str.extract(r'(\\d+/\\d+)(\\D+)(\\d+/\\d+)', expand=True)"
   ]
  },
  {
   "cell_type": "code",
   "execution_count": null,
   "metadata": {},
   "outputs": [],
   "source": [
    "import re\n",
    "\n",
    "# Find dates in m/d/y format\n",
    "Check_head['Month_Date_Year'] = Check_head[\"Text\"].str.findall(r'\\d+/\\d+/\\d+')\n",
    "\n",
    "# Find dates in m/d format\n",
    "Check_head['Month_date'] = Check_head[\"Text\"].str.findall(r'\\d+/\\d+')"
   ]
  },
  {
   "cell_type": "code",
   "execution_count": null,
   "metadata": {},
   "outputs": [],
   "source": [
    "Check_head['Dates']"
   ]
  },
  {
   "cell_type": "code",
   "execution_count": null,
   "metadata": {
    "scrolled": false
   },
   "outputs": [],
   "source": [
    "ClinicalNotes.describe()"
   ]
  },
  {
   "cell_type": "code",
   "execution_count": null,
   "metadata": {},
   "outputs": [],
   "source": [
    "chc = Check_head[Check_head.Row==34488]\n",
    "chc"
   ]
  },
  {
   "cell_type": "code",
   "execution_count": null,
   "metadata": {},
   "outputs": [],
   "source": [
    "# if Text is in such a way that \"Any text \"\\n\" Value\" then replace \\n with space --- This needs to be done after removing dates"
   ]
  },
  {
   "cell_type": "code",
   "execution_count": null,
   "metadata": {},
   "outputs": [],
   "source": [
    "# Split datasets and once corrected attach back - \n",
    "# One efficient way might be to search for the string and extract only those that matches that string  \n",
    "\n",
    "### Explode the Text column into multiple rows\n",
    "# We start with creating a new dataframe from the series with EmployeeId as the index\n",
    "ClinicalNotes_Explode = pd.DataFrame(ClinicalNotes.Text.str.split('\\r\\n\\r\\n').tolist(), index=ClinicalNotes.Row).stack()\n",
    "# We now want to get rid of the secondary index\n",
    "ClinicalNotes_Explode = ClinicalNotes_Explode.reset_index([0, 'Row'])\n",
    "# The final step is to set the column names as we want them\n",
    "ClinicalNotes_Explode.columns = ['Row', 'Text']\n",
    "\n",
    "### Explode the Text column into multiple rows\n",
    "# We start with creating a new dataframe from the series with EmployeeId as the index\n",
    "ClinicalNotes_Explode = pd.DataFrame(ClinicalNotes_Explode.Text.str.split('\\r\\n').tolist(), index=ClinicalNotes_Explode.Row).stack()\n",
    "# We now want to get rid of the secondary index\n",
    "ClinicalNotes_Explode = ClinicalNotes_Explode.reset_index([0, 'Row'])\n",
    "# The final step is to set the column names as we want them\n",
    "ClinicalNotes_Explode.columns = ['Row', 'Text']\n",
    "\n",
    "### Explode the Text column into multiple rows\n",
    "# We start with creating a new dataframe from the series with EmployeeId as the index\n",
    "ClinicalNotes_Explode = pd.DataFrame(ClinicalNotes_Explode.Text.str.split('\\n').tolist(), index=ClinicalNotes_Explode.Row).stack()\n",
    "# We now want to get rid of the secondary index\n",
    "ClinicalNotes_Explode = ClinicalNotes_Explode.reset_index([0, 'Row'])\n",
    "# The final step is to set the column names as we want them\n",
    "ClinicalNotes_Explode.columns = ['Row', 'Text']\n",
    "\n",
    "### Explode the Text column into multiple rows\n",
    "# We start with creating a new dataframe from the series with EmployeeId as the index\n",
    "ClinicalNotes_Explode = pd.DataFrame(ClinicalNotes_Explode.Text.str.split('\\r').tolist(), index=ClinicalNotes_Explode.Row).stack()\n",
    "# We now want to get rid of the secondary index\n",
    "ClinicalNotes_Explode = ClinicalNotes_Explode.reset_index([0, 'Row'])\n",
    "# The final step is to set the column names as we want them\n",
    "ClinicalNotes_Explode.columns = ['Row', 'Text']\n",
    "\n",
    "# donot split that data based on full stops as ClinicalNote_extract_candidates_numeric function will take care of it and \n",
    "# if starting line is date we will miss it\n",
    "# ### Explode the Text column into multiple rows - Temp = 101.2 will be split at decimals so space to be added after the \n",
    "# # We start with creating a new dataframe from the series with EmployeeId as the index\n",
    "# ClinicalNotes_Explode = pd.DataFrame(ClinicalNotes_Explode.Text.str.split('\\. ').tolist(), index=ClinicalNotes_Explode.Row).stack()\n",
    "# # We now want to get rid of the secondary index\n",
    "# ClinicalNotes_Explode = ClinicalNotes_Explode.reset_index([0, 'Row'])\n",
    "# # The final step is to set the column names as we want them\n",
    "# ClinicalNotes_Explode.columns = ['Row', 'Text']"
   ]
  },
  {
   "cell_type": "code",
   "execution_count": null,
   "metadata": {},
   "outputs": [],
   "source": [
    "ClinicalNotes_Explode.to_pickle(\"Py DataFrames/ClinicalNotes_Explode.pkl\")"
   ]
  },
  {
   "cell_type": "code",
   "execution_count": null,
   "metadata": {},
   "outputs": [],
   "source": [
    "ClinicalNotes_Explode"
   ]
  },
  {
   "cell_type": "code",
   "execution_count": null,
   "metadata": {},
   "outputs": [],
   "source": [
    "# 4388, 38839\n",
    "ClinicalNotes['Text'].iloc[38839]\n",
    "ClinicalNotes[ClinicalNotes['Row']==28025].Text"
   ]
  },
  {
   "cell_type": "code",
   "execution_count": null,
   "metadata": {},
   "outputs": [],
   "source": [
    "# Extract only those strings with wbc\n",
    "wbc_Explode = ClinicalNotes_Explode[ClinicalNotes_Explode[\"Text\"].str.contains(\"wbc\")]"
   ]
  },
  {
   "cell_type": "code",
   "execution_count": null,
   "metadata": {},
   "outputs": [],
   "source": [
    "# Shuffle rows\n",
    "wbc_Explode = wbc_Explode.sample(frac=1)"
   ]
  },
  {
   "cell_type": "code",
   "execution_count": null,
   "metadata": {},
   "outputs": [],
   "source": [
    "# Remove rows that have "
   ]
  },
  {
   "cell_type": "code",
   "execution_count": null,
   "metadata": {},
   "outputs": [],
   "source": [
    "wbc_Explode.to_csv('wbc_Explode.csv', index=False)\n",
    "wbc_Explode.to_pickle(\"wbc_Explode.pkl\")"
   ]
  },
  {
   "cell_type": "code",
   "execution_count": null,
   "metadata": {},
   "outputs": [],
   "source": [
    "wbc_Explode"
   ]
  },
  {
   "cell_type": "code",
   "execution_count": null,
   "metadata": {},
   "outputs": [],
   "source": [
    "Result = wbc_Explode[~(wbc_Explode[\"Text\"].str.contains((\"wbc \\d\"), regex=True))]\n",
    "Result = Result[~(Result[\"Text\"].str.contains((\"wbc: \\d\"), regex=True))]"
   ]
  },
  {
   "cell_type": "code",
   "execution_count": null,
   "metadata": {},
   "outputs": [],
   "source": [
    "Result"
   ]
  },
  {
   "cell_type": "code",
   "execution_count": null,
   "metadata": {},
   "outputs": [],
   "source": [
    "Result.shape"
   ]
  },
  {
   "cell_type": "code",
   "execution_count": null,
   "metadata": {},
   "outputs": [],
   "source": [
    "textToSearch = \"date of service from 8/6/19 to 9/8/19\""
   ]
  },
  {
   "cell_type": "code",
   "execution_count": null,
   "metadata": {},
   "outputs": [],
   "source": [
    "import re\n",
    "import datetime\n",
    "from datetime import *"
   ]
  },
  {
   "cell_type": "code",
   "execution_count": null,
   "metadata": {},
   "outputs": [],
   "source": [
    "# First convert dates in format of %m/%d/%y to %m/%d\n",
    "textToSearch = \"date of service from 8/6 to 9/8/19\"\n",
    "\n",
    "# convert %m/%d/%y formatted texts to %m/%d\n",
    "for match in re.findall(r'\\d+/\\d+/\\d+', textToSearch):\n",
    "    #convert match to new format\n",
    "    datetime_object = datetime.strptime(match, \"%m/%d/%y\")\n",
    "    dateNewFormat = datetime_object.strftime(\"%m/%d\")\n",
    "    #substitute the old date with the new\n",
    "    textToSearch = re.sub(match, dateNewFormat, textToSearch)\n",
    "\n",
    "# convert %m/%d formatted texts to %B%d\n",
    "for match in re.findall(r'\\d+/\\d+', textToSearch):\n",
    "    #convert match to new format\n",
    "    datetime_object = datetime.strptime(match, \"%m/%d\")\n",
    "    dateNewFormat = datetime_object.strftime(\"%B%d\")\n",
    "    #substitute the old date with the new\n",
    "    textToSearch = re.sub(match, dateNewFormat, textToSearch)\n",
    "print(textToSearch)"
   ]
  },
  {
   "cell_type": "code",
   "execution_count": null,
   "metadata": {},
   "outputs": [],
   "source": [
    "# Function\n",
    "textToSearch = \"date of service from 8/6 to 9/8/19\"\n",
    "def ChangeDateFormat(TextwithDates):\n",
    "    for match in re.findall(r'\\d+/\\d+/\\d+', TextwithDates):\n",
    "        #convert match to new format\n",
    "        datetime_object = datetime.strptime(match,\"%m/%d/%y\")\n",
    "        dateNewFormat = datetime_object.strftime(\"%m/%d\")\n",
    "        #substitute the old date with the new\n",
    "        TextwithDates = re.sub(match, dateNewFormat, TextwithDates)\n",
    "    return(TextwithDates)"
   ]
  },
  {
   "cell_type": "code",
   "execution_count": null,
   "metadata": {},
   "outputs": [],
   "source": [
    "# Function to include 2 formats\n",
    "def ChangeDateFormat(TextwithDates):\n",
    "    # convert %m/%d/%y formatted texts to %m/%d\n",
    "    for match in re.findall(r'\\d+/\\d+/\\d+', TextwithDates):\n",
    "        #convert match to new format\n",
    "        datetime_object = datetime.strptime(match, \"%m/%d/%y\")\n",
    "        dateNewFormat = datetime_object.strftime(\"%m/%d\")\n",
    "        #substitute the old date with the new\n",
    "        TextwithDates = re.sub(match, dateNewFormat, TextwithDates)\n",
    "        \n",
    "    # convert %m/%d formatted texts to %B%d\n",
    "    for match in re.findall(r'\\d+/\\d+', TextwithDates):\n",
    "        #convert match to new format\n",
    "        datetime_object = datetime.strptime(match, \"%m/%d\")\n",
    "        dateNewFormat = datetime_object.strftime(\"%B%d\")\n",
    "        #substitute the old date with the new\n",
    "        TextwithDates = re.sub(match, dateNewFormat, TextwithDates)\n",
    "    return(TextwithDates)"
   ]
  },
  {
   "cell_type": "code",
   "execution_count": null,
   "metadata": {},
   "outputs": [],
   "source": [
    "# function to include 4 digit Year conversion first\n",
    "def ChangeDateFormat(TextwithDates):\n",
    "    for match in re.findall(r'/\\d{4}', TextwithDates):\n",
    "        match = re.sub('/','' , match)\n",
    "        #convert match to new format\n",
    "        datetime_object = datetime.strptime(match, \"%Y\")\n",
    "        dateNewFormat = datetime_object.strftime(\"%y\")\n",
    "        #substitute the old date with the new\n",
    "        TextwithDates = re.sub(match, dateNewFormat, TextwithDates)\n",
    "\n",
    "    # convert %m/%d/%y formatted texts to %m/%d\n",
    "    for match in re.findall(r'\\d+/\\d+/\\d+', TextwithDates):\n",
    "        #convert match to new format\n",
    "        datetime_object = datetime.strptime(match, \"%m/%d/%y\")\n",
    "        dateNewFormat = datetime_object.strftime(\"%m/%d\")\n",
    "        #substitute the old date with the new\n",
    "        TextwithDates = re.sub(match, dateNewFormat, TextwithDates)\n",
    "        \n",
    "    # convert %m/%d formatted texts to %B%d\n",
    "    for match in re.findall(r'\\d+/\\d+', TextwithDates):\n",
    "        #convert match to new format\n",
    "        datetime_object = datetime.strptime(match, \"%m/%d\")\n",
    "        dateNewFormat = datetime_object.strftime(\"%B%d\")\n",
    "        #substitute the old date with the new\n",
    "        TextwithDates = re.sub(match, dateNewFormat, TextwithDates)\n",
    "    return(TextwithDates)"
   ]
  },
  {
   "cell_type": "code",
   "execution_count": null,
   "metadata": {
    "scrolled": false
   },
   "outputs": [],
   "source": [
    "textToSearch = \"date of service from 8/6 to 9/8/19 \"\n",
    "textToSearch = \"date of service from 8/6 to 9/8/19 and 12/8/2019\"\n",
    "textToSearch = \"date of service from 8/6 to 9/8/19 and 12/8/2019 and septemeber 6th 2019\"\n",
    "textToSearch = \"date of service from 8/6 to 9/8/19 and 12/8/2019 and september 6th 2019 in 101.4 as 1400\"\n",
    "textToSearch = \"date of service from 8/6 to 9/8/19 and 12/8/2019 and september 6th 2019 in 101.4 as @1400\"\n",
    "textToSearch = \"date of service from 8/6 to 9/8/19 and 12/8/2019 and september 6th 2019 in 101.4 as 6000\"\n",
    "textToSearch = \"scr remains stable 1.6-1.9. ply holding at 180s, ast/alt 76/51\" # \n"
   ]
  },
  {
   "cell_type": "code",
   "execution_count": null,
   "metadata": {},
   "outputs": [],
   "source": [
    "# 5741, 7268\n",
    "textToSearch = ClinicalNotes[ClinicalNotes.Row==7268].Text\n",
    "textToSearch"
   ]
  },
  {
   "cell_type": "code",
   "execution_count": null,
   "metadata": {},
   "outputs": [],
   "source": [
    "ChangeDateFormat(textToSearch)"
   ]
  },
  {
   "cell_type": "code",
   "execution_count": null,
   "metadata": {},
   "outputs": [],
   "source": [
    "Check_head.apply(lambda x: ChangeDateFormat(x.Text), axis=1)"
   ]
  },
  {
   "cell_type": "code",
   "execution_count": null,
   "metadata": {},
   "outputs": [],
   "source": [
    "ClinicalNotes.apply(lambda x: ChangeDateFormat(x.Text), axis=1)"
   ]
  }
 ],
 "metadata": {
  "kernelspec": {
   "display_name": "Python 3",
   "language": "python",
   "name": "python3"
  },
  "language_info": {
   "codemirror_mode": {
    "name": "ipython",
    "version": 3
   },
   "file_extension": ".py",
   "mimetype": "text/x-python",
   "name": "python",
   "nbconvert_exporter": "python",
   "pygments_lexer": "ipython3",
   "version": "3.7.2"
  }
 },
 "nbformat": 4,
 "nbformat_minor": 2
}
