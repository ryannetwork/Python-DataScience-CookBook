{
 "cells": [
  {
   "cell_type": "code",
   "execution_count": 1,
   "metadata": {},
   "outputs": [],
   "source": [
    "import pandas as pd\n",
    "import re\n",
    "import datetime\n",
    "from datetime import *"
   ]
  },
  {
   "cell_type": "code",
   "execution_count": 2,
   "metadata": {},
   "outputs": [],
   "source": [
    "pd.set_option('display.max_colwidth',-1)"
   ]
  },
  {
   "cell_type": "code",
   "execution_count": null,
   "metadata": {},
   "outputs": [],
   "source": [
    "# Importing or Exporting from excel can take only a max of 32767 characters per cell. Though Excel sheet from Craig contains max of 32767 chars, when imported into excel spaces and line breaks are created as characters and hence entire data is not imported and it is truncated\n",
    "# Issue can be solved by directly importing from database etc"
   ]
  },
  {
   "cell_type": "code",
   "execution_count": null,
   "metadata": {},
   "outputs": [],
   "source": [
    "# # Install Packages\n",
    "# # https://github.com/akoumjian/datefinder\n",
    "# import sys \n",
    "# !{sys.executable} -m pip install datefinder\n",
    "\n",
    "# import sys \n",
    "# !{sys.executable} -m pip install num2words "
   ]
  },
  {
   "cell_type": "code",
   "execution_count": 3,
   "metadata": {},
   "outputs": [],
   "source": [
    "pd.set_option('display.max_rows', 500)\n",
    "pd.options.mode.chained_assignment = None "
   ]
  },
  {
   "cell_type": "code",
   "execution_count": 4,
   "metadata": {},
   "outputs": [],
   "source": [
    "import pickle\n",
    "ClinicalNotes = pd.read_pickle(\"Py DataFrames/ClinicalNotes.pkl\")\n",
    "ClinicalNotes_NoDateErrors = pd.read_pickle(\"Py DataFrames/ClinicalNotes_NoDateErrors.pkl\")\n",
    "ClinicalNotes_UserEntered = pd.read_pickle(\"Py DataFrames/ClinicalNotes_UserEntered.pkl\")"
   ]
  },
  {
   "cell_type": "code",
   "execution_count": null,
   "metadata": {},
   "outputs": [],
   "source": [
    "ClinicalNotes = pd.read_excel('Craig_2019Aug7th.xlsx')\n",
    "\n",
    "# Strip white space\n",
    "# ClinicalNotes[\"Text\"] = ClinicalNotes[\"Text\"].str.strip()\n",
    "\n",
    "# convert text to lowercase\n",
    "ClinicalNotes[\"Text\"] = ClinicalNotes[\"Text\"].str.lower()\n",
    "\n",
    "# Convert index to column\n",
    "ClinicalNotes['Row'] = ClinicalNotes.index\n",
    "\n",
    "# Remove records with source type = ADT, Lab & Order\n",
    "ClinicalNotes = ClinicalNotes[ClinicalNotes.SourceType.isin([\"User Entered\",\"Documentation\"])]\n",
    "\n",
    "# Remove records based on number of words and if there is a number present or not and based on length of sentence\n",
    "# For eg: Bmi>40 is a single word has a number but length is less\n",
    "# This example has number of words=1 but length of sentence is long \"wprnbwygkmfydj3ijapkf7y15yopqc0lgey2a0iryfkxbvs1zeyjm5c\\r\\n0vt1iwgfwijef62vbd2j+9ofnokh+moppxxdv7tzunjjcr6/peo0fticiqsb4fli7wudgfonhzab\\r\\nixs3biz\"\n",
    "\n",
    "# Number of words in a sentence\n",
    "# df['totalwords'] = df['col'].str.split().str.len() #if /r or /n is present it is considered as space \n",
    "# df['totalwords'] = df['col'].str.count(' ') + 1 #if space is present or not\n",
    "# df['totalwords'] = [len(x.split()) for x in df['col'].tolist()] #\n",
    "ClinicalNotes['TotalWords'] = ClinicalNotes['Text'].str.count(' ') + 1\n",
    "\n",
    "# Find the length of the sentence\n",
    "ClinicalNotes['TextLength'] = ClinicalNotes['Text'].str.len() \n",
    "\n",
    "# Check if the Text has a Numeric in it or not\n",
    "ClinicalNotes['NumericInText'] = ClinicalNotes['Text'].str.contains((\"\\d\"), regex=True)\n",
    "\n",
    "# Sort data\n",
    "ClinicalNotes = ClinicalNotes.sort_values(by=['TotalWords','TextLength','NumericInText'], ascending=[True, True, True])\n",
    "\n",
    "# Remove rows based on the conditions\n",
    "Removed_ClinicalNotes = ClinicalNotes[(((ClinicalNotes.TotalWords<=5) & (ClinicalNotes.TextLength>500)) | (ClinicalNotes.NumericInText==False))]\n",
    "\n",
    "## Remove \n",
    "# TotalWords<=3 & TextLength>300\n",
    "# NumericInText is not present\n",
    "ClinicalNotes = ClinicalNotes[~(((ClinicalNotes.TotalWords<=3) & (ClinicalNotes.TextLength>500)) | (ClinicalNotes.NumericInText==False))]\n",
    "\n",
    "# Export data\n",
    "ClinicalNotes.to_excel('Py DataFrames/ClinicalNotes.xlsx',index=False)\n",
    "ClinicalNotes.to_pickle(\"Py DataFrames/ClinicalNotes.pkl\")"
   ]
  },
  {
   "cell_type": "code",
   "execution_count": null,
   "metadata": {},
   "outputs": [],
   "source": [
    "ClinicalNotes.describe()"
   ]
  },
  {
   "cell_type": "code",
   "execution_count": null,
   "metadata": {},
   "outputs": [],
   "source": [
    "# Identifies only single date present\n",
    "# Check_head['Date'] = Check_head['Text'].str.extract(r'(\\d+/\\d+)', expand=True)\n",
    "\n",
    "# Identifies only if 2 dates are present\n",
    "# Check_head['Date'] = Check_head.Text.str.extract(r'(\\d+/\\d+)(\\D+)(\\d+/\\d+)', expand=True)"
   ]
  },
  {
   "cell_type": "code",
   "execution_count": null,
   "metadata": {},
   "outputs": [],
   "source": [
    "# # Find dates in m/d/y format\n",
    "# Check_head['Month_Date_Year'] = Check_head[\"Text\"].str.findall(r'\\d+/\\d+/\\d+')\n",
    "\n",
    "# # Find dates in m/d format\n",
    "# Check_head['Month_date'] = Check_head[\"Text\"].str.findall(r'\\d+/\\d+')"
   ]
  },
  {
   "cell_type": "code",
   "execution_count": null,
   "metadata": {},
   "outputs": [],
   "source": [
    "# Row - 28025\n",
    "#  wbc \n",
    "# 13.6 k/mcl (high) \n",
    "# 08/06/2019 16:22 cdt \n",
    "    ---So data needs to be exploded only after dates conversion \n",
    "# if Text is in such a way that \"Any text \"\\n\" Value\" then replace \\n with space --- This needs to be done after removing dates"
   ]
  },
  {
   "cell_type": "code",
   "execution_count": null,
   "metadata": {},
   "outputs": [],
   "source": [
    "# \tsystolic blood pressure\t101 mm\n",
    "# systolic blood pressure\\t101 mmhg\\t\\n\\t\n",
    "\n",
    "# '\\t' needs to be replaced with \" \" space"
   ]
  },
  {
   "cell_type": "code",
   "execution_count": null,
   "metadata": {},
   "outputs": [],
   "source": [
    "# import datefinder\n",
    "# matches = datefinder.find_dates(textToSearch)\n",
    "# for match in matches:\n",
    "#     print(match)\n",
    "\n",
    "# # 24889 - [july 15, august 2004, july 2009, november 2007, june 2012, january 2018] \n",
    "# # 21572    [july 18, august 3, august 6, august 4, august 3, august 3]\n",
    "# # 30687    [july 21, february 2019]  \n",
    "# MONTHS_PATTERN = r\"january\\d+|february\\d+|march\\d+|april\\d+|may\\d+|june\\d+|july\\d+|august\\d+|september\\d+|october\\d+|november\\d+|december\\d+|january \\d+|february \\d+|march \\d+|april \\d+|may \\d+|june \\d+|july \\d+|august \\d+|september \\d+|october \\d+|november \\d+|december \\d+|jan\\d+|jan \\d+|feb\\d+|feb \\d+|mar\\d+|mar \\d+|apr\\d+|apr \\d+|may\\d+|may \\d+|jun\\d+|jun \\d+|jul\\d+|jul \\d+|aug\\d+|aug \\d+|sep\\d+|sept \\d+|oct\\d+|oct \\d+|nov\\d+|nov \\d+|dec\\d+|dec \\d+\"\n",
    "\n",
    "# ClinicalNotes[\"Text\"].str.findall(MONTHS_PATTERN)"
   ]
  },
  {
   "cell_type": "markdown",
   "metadata": {},
   "source": [
    "#### Find the observation where ChangeDateTimeFormat function throws error"
   ]
  },
  {
   "cell_type": "code",
   "execution_count": null,
   "metadata": {},
   "outputs": [],
   "source": [
    "# Pass\n",
    "def ErrorINChangeDateTimeFormat(TextwithDates):\n",
    "    try:\n",
    "        # Replace sept with sep            \n",
    "        for match in re.findall(\"sept \\d+\", TextwithDates):\n",
    "            match_rep = re.sub('sept','sep' ,match)\n",
    "            TextwithDates = re.sub(match, match_rep, TextwithDates)\n",
    "            \n",
    "        # Convert jan & january independently     \n",
    "        suffix = r\"st|nd|rd|th\"\n",
    "    \n",
    "        # Extract Month_Year\n",
    "        Month_Year = \"january \\d{4}|february \\d{4}|march \\d{4}|april \\d{4}|may \\d{4}|june \\d{4}|july \\d{4}|august \\d{4}|september \\d{4}|october \\d{4}|november \\d{4}|december \\d{4}\"\n",
    "        for match in re.findall(Month_Year, TextwithDates):\n",
    "            datetime_object = datetime.strptime(match,\"%B %Y\")\n",
    "            dateNewFormat = datetime_object.strftime(\"%Y%B\")\n",
    "            TextwithDates = re.sub(match, dateNewFormat, TextwithDates)\n",
    "            \n",
    "        # Mon_Year\n",
    "        Mon_Year = \"jan \\d{4}|feb \\d{4}|mar \\d{4}|apr \\d{4}|may \\d{4}|jun \\d{4}|jul \\d{4}|aug \\d{4}|sep \\d{4}|oct \\d{4}|nov \\d{4}|dec \\d{4}\"\n",
    "        for match in re.findall(Mon_Year, TextwithDates):\n",
    "            datetime_object = datetime.strptime(match,\"%b %Y\")\n",
    "            dateNewFormat = datetime_object.strftime(\"%Y%B\")\n",
    "            TextwithDates = re.sub(match, dateNewFormat, TextwithDates)\n",
    "        \n",
    "        # No Space between month and date\n",
    "        MonDD_HMS = r\"jan\\d+st \\d+:\\d+:\\d+|feb\\d+st \\d+:\\d+:\\d+|mar\\d+st \\d+:\\d+:\\d+|apr\\d+st \\d+:\\d+:\\d+|may\\d+st \\d+:\\d+:\\d+|jun\\d+st \\d+:\\d+:\\d+|jul\\d+st \\d+:\\d+:\\d+|aug\\d+st \\d+:\\d+:\\d+|sep\\d+st \\d+:\\d+:\\d+|oct\\d+st \\d+:\\d+:\\d+|nov\\d+st \\d+:\\d+:\\d+|dec\\d+st \\d+:\\d+:\\d+ \\\n",
    "           jan\\d+nd \\d+:\\d+:\\d+|feb\\d+nd \\d+:\\d+:\\d+|mar\\d+nd \\d+:\\d+:\\d+|apr\\d+nd \\d+:\\d+:\\d+|may\\d+nd \\d+:\\d+:\\d+|jun\\d+nd \\d+:\\d+:\\d+|jul\\d+nd \\d+:\\d+:\\d+|aug\\d+nd \\d+:\\d+:\\d+|sep\\d+nd \\d+:\\d+:\\d+|oct\\d+nd \\d+:\\d+:\\d+|nov\\d+nd \\d+:\\d+:\\d+|dec\\d+nd \\d+:\\d+:\\d+ \\\n",
    "           jan\\d+rd \\d+:\\d+:\\d+|feb\\d+rd \\d+:\\d+:\\d+|mar\\d+rd \\d+:\\d+:\\d+|apr\\d+rd \\d+:\\d+:\\d+|may\\d+rd \\d+:\\d+:\\d+|jun\\d+rd \\d+:\\d+:\\d+|jul\\d+rd \\d+:\\d+:\\d+|aug\\d+rd \\d+:\\d+:\\d+|sep\\d+rd \\d+:\\d+:\\d+|oct\\d+rd \\d+:\\d+:\\d+|nov\\d+rd \\d+:\\d+:\\d+|dec\\d+rd \\d+:\\d+:\\d+ \\\n",
    "           jan\\d+th \\d+:\\d+:\\d+|feb\\d+th \\d+:\\d+:\\d+|mar\\d+th \\d+:\\d+:\\d+|apr\\d+th \\d+:\\d+:\\d+|may\\d+th \\d+:\\d+:\\d+|jun\\d+th \\d+:\\d+:\\d+|jul\\d+th \\d+:\\d+:\\d+|aug\\d+th \\d+:\\d+:\\d+|sep\\d+th \\d+:\\d+:\\d+|oct\\d+th \\d+:\\d+:\\d+|nov\\d+th \\d+:\\d+:\\d+|dec\\d+th \\d+:\\d+:\\d+ \\\n",
    "           jan\\d+ \\d+:\\d+:\\d+|feb\\d+ \\d+:\\d+:\\d+|mar\\d+ \\d+:\\d+:\\d+|apr\\d+ \\d+:\\d+:\\d+|may\\d+ \\d+:\\d+:\\d+|jun\\d+ \\d+:\\d+:\\d+|jul\\d+ \\d+:\\d+:\\d+|aug\\d+ \\d+:\\d+:\\d+|sep\\d+ \\d+:\\d+:\\d+|oct\\d+ \\d+:\\d+:\\d+|nov\\d+ \\d+:\\d+:\\d+|dec\\d+ \\d+:\\d+:\\d+\"\n",
    "        for match in re.findall(MonDD_HMS, TextwithDates):\n",
    "            match_rep = re.sub(suffix,'', match)\n",
    "            datetime_object = datetime.strptime(match_rep,\"%b%d %H:%M:%S\")\n",
    "            dateNewFormat = datetime_object.strftime(\"%B%#d_%H:%M:%S\")\n",
    "            TextwithDates = re.sub(match, dateNewFormat, TextwithDates)\n",
    "            \n",
    "        MonDD_HM = r\"jan\\d+st \\d+:\\d+|feb\\d+st \\d+:\\d+|mar\\d+st \\d+:\\d+|apr\\d+st \\d+:\\d+|may\\d+st \\d+:\\d+|jun\\d+st \\d+:\\d+|jul\\d+st \\d+:\\d+|aug\\d+st \\d+:\\d+|sep\\d+st \\d+:\\d+|oct\\d+st \\d+:\\d+|nov\\d+st \\d+:\\d+|dec\\d+st \\d+:\\d+ \\\n",
    "           jan\\d+nd \\d+:\\d+|feb\\d+nd \\d+:\\d+|mar\\d+nd \\d+:\\d+|apr\\d+nd \\d+:\\d+|may\\d+nd \\d+:\\d+|jun\\d+nd \\d+:\\d+|jul\\d+nd \\d+:\\d+|aug\\d+nd \\d+:\\d+|sep\\d+nd \\d+:\\d+|oct\\d+nd \\d+:\\d+|nov\\d+nd \\d+:\\d+|dec\\d+nd \\d+:\\d+ \\\n",
    "           jan\\d+rd \\d+:\\d+|feb\\d+rd \\d+:\\d+|mar\\d+rd \\d+:\\d+|apr\\d+rd \\d+:\\d+|may\\d+rd \\d+:\\d+|jun\\d+rd \\d+:\\d+|jul\\d+rd \\d+:\\d+|aug\\d+rd \\d+:\\d+|sep\\d+rd \\d+:\\d+|oct\\d+rd \\d+:\\d+|nov\\d+rd \\d+:\\d+|dec\\d+rd \\d+:\\d+ \\\n",
    "           jan\\d+th \\d+:\\d+|feb\\d+th \\d+:\\d+|mar\\d+th \\d+:\\d+|apr\\d+th \\d+:\\d+|may\\d+th \\d+:\\d+|jun\\d+th \\d+:\\d+|jul\\d+th \\d+:\\d+|aug\\d+th \\d+:\\d+|sep\\d+th \\d+:\\d+|oct\\d+th \\d+:\\d+|nov\\d+th \\d+:\\d+|dec\\d+th \\d+:\\d+ \\\n",
    "           jan\\d+ \\d+:\\d+|feb\\d+ \\d+:\\d+|mar\\d+ \\d+:\\d+|apr\\d+ \\d+:\\d+|may\\d+ \\d+:\\d+|jun\\d+ \\d+:\\d+|jul\\d+ \\d+:\\d+|aug\\d+ \\d+:\\d+|sep\\d+ \\d+:\\d+|oct\\d+ \\d+:\\d+|nov\\d+ \\d+:\\d+|dec\\d+ \\d+:\\d+\"\n",
    "           \n",
    "        for match in re.findall(MonDD_HM, TextwithDates):\n",
    "            match_rep = re.sub(suffix,'', match)\n",
    "            datetime_object = datetime.strptime(match_rep,\"%b%d %H:%M\")\n",
    "            dateNewFormat = datetime_object.strftime(\"%B%#d_%H:%M\")\n",
    "            TextwithDates = re.sub(match, dateNewFormat, TextwithDates)\n",
    "            \n",
    "        MonDD = r\"jan\\d+st|feb\\d+st|mar\\d+st|apr\\d+st|may\\d+st|jun\\d+st|jul\\d+st|aug\\d+st|sep\\d+st|oct\\d+st|nov\\d+st|dec\\d+st \\\n",
    "           jan\\d+nd|feb\\d+nd|mar\\d+nd|apr\\d+nd|may\\d+nd|jun\\d+nd|jul\\d+nd|aug\\d+nd|sep\\d+nd|oct\\d+nd|nov\\d+nd|dec\\d+nd \\\n",
    "           jan\\d+rd|feb\\d+rd|mar\\d+rd|apr\\d+rd|may\\d+rd|jun\\d+rd|jul\\d+rd|aug\\d+rd|sep\\d+rd|oct\\d+rd|nov\\d+rd|dec\\d+rd \\\n",
    "           jan\\d+th|feb\\d+th|mar\\d+th|apr\\d+th|may\\d+th|jun\\d+th|jul\\d+th|aug\\d+th|sep\\d+th|oct\\d+th|nov\\d+th|dec\\d+th \\\n",
    "           jan\\d+|feb\\d+|mar\\d+|apr\\d+|may\\d+|jun\\d+|jul\\d+|aug\\d+|sep\\d+|oct\\d+|nov\\d+|dec\\d+\"\n",
    "        for match in re.findall(MonDD, TextwithDates):\n",
    "            match_rep = re.sub(suffix,'', match)\n",
    "            datetime_object = datetime.strptime(match_rep,\"%b%d\")\n",
    "            dateNewFormat = datetime_object.strftime(\"%B%#d\")\n",
    "            TextwithDates = re.sub(match, dateNewFormat, TextwithDates)\n",
    "        \n",
    "        # Space between month and date\n",
    "        Mon_DD_HMS = r\"jan \\d+st \\d+:\\d+:\\d+|feb \\d+st \\d+:\\d+:\\d+|mar \\d+st \\d+:\\d+:\\d+|apr \\d+st \\d+:\\d+:\\d+|may \\d+st \\d+:\\d+:\\d+|jun \\d+st \\d+:\\d+:\\d+|jul \\d+st \\d+:\\d+:\\d+|aug \\d+st \\d+:\\d+:\\d+|sep \\d+st \\d+:\\d+:\\d+|oct \\d+st \\d+:\\d+:\\d+|nov \\d+st \\d+:\\d+:\\d+|dec \\d+st \\d+:\\d+:\\d+ \\\n",
    "           jan \\d+nd \\d+:\\d+:\\d+|feb \\d+nd \\d+:\\d+:\\d+|mar \\d+nd \\d+:\\d+:\\d+|apr \\d+nd \\d+:\\d+:\\d+|may \\d+nd \\d+:\\d+:\\d+|jun \\d+nd \\d+:\\d+:\\d+|jul \\d+nd \\d+:\\d+:\\d+|aug \\d+nd \\d+:\\d+:\\d+|sep \\d+nd \\d+:\\d+:\\d+|oct \\d+nd \\d+:\\d+:\\d+|nov \\d+nd \\d+:\\d+:\\d+|dec \\d+nd \\d+:\\d+:\\d+ \\\n",
    "           jan \\d+rd \\d+:\\d+:\\d+|feb \\d+rd \\d+:\\d+:\\d+|mar \\d+rd \\d+:\\d+:\\d+|apr \\d+rd \\d+:\\d+:\\d+|may \\d+rd \\d+:\\d+:\\d+|jun \\d+rd \\d+:\\d+:\\d+|jul \\d+rd \\d+:\\d+:\\d+|aug \\d+rd \\d+:\\d+:\\d+|sep \\d+rd \\d+:\\d+:\\d+|oct \\d+rd \\d+:\\d+:\\d+|nov \\d+rd \\d+:\\d+:\\d+|dec \\d+rd \\d+:\\d+:\\d+ \\\n",
    "           jan \\d+th \\d+:\\d+:\\d+|feb \\d+th \\d+:\\d+:\\d+|mar \\d+th \\d+:\\d+:\\d+|apr \\d+th \\d+:\\d+:\\d+|may \\d+th \\d+:\\d+:\\d+|jun \\d+th \\d+:\\d+:\\d+|jul \\d+th \\d+:\\d+:\\d+|aug \\d+th \\d+:\\d+:\\d+|sep \\d+th \\d+:\\d+:\\d+|oct \\d+th \\d+:\\d+:\\d+|nov \\d+th \\d+:\\d+:\\d+|dec \\d+th \\d+:\\d+:\\d+ \\\n",
    "           jan \\d+ \\d+:\\d+:\\d+|feb \\d+ \\d+:\\d+:\\d+|mar \\d+ \\d+:\\d+:\\d+|apr \\d+ \\d+:\\d+:\\d+|may \\d+ \\d+:\\d+:\\d+|jun \\d+ \\d+:\\d+:\\d+|jul \\d+ \\d+:\\d+:\\d+|aug \\d+ \\d+:\\d+:\\d+|sep \\d+ \\d+:\\d+:\\d+|oct \\d+ \\d+:\\d+:\\d+|nov \\d+ \\d+:\\d+:\\d+|dec \\d+ \\d+:\\d+:\\d+\"\n",
    "        for match in re.findall(Mon_DD_HMS, TextwithDates):\n",
    "            match_rep = re.sub(suffix,'', match)\n",
    "            datetime_object = datetime.strptime(match_rep,\"%b %d %H:%M:%S\")\n",
    "            dateNewFormat = datetime_object.strftime(\"%B%#d_%H:%M:%S\")\n",
    "            TextwithDates = re.sub(match, dateNewFormat, TextwithDates)\n",
    "            \n",
    "        Mon_DD_HM = r\"jan \\d+st \\d+:\\d+|feb \\d+st \\d+:\\d+|mar \\d+st \\d+:\\d+|apr \\d+st \\d+:\\d+|may \\d+st \\d+:\\d+|jun \\d+st \\d+:\\d+|jul \\d+st \\d+:\\d+|aug \\d+st \\d+:\\d+|sep \\d+st \\d+:\\d+|oct \\d+st \\d+:\\d+|nov \\d+st \\d+:\\d+|dec \\d+st \\d+:\\d+ \\\n",
    "           jan \\d+nd \\d+:\\d+|feb \\d+nd \\d+:\\d+|mar \\d+nd \\d+:\\d+|apr \\d+nd \\d+:\\d+|may \\d+nd \\d+:\\d+|jun \\d+nd \\d+:\\d+|jul \\d+nd \\d+:\\d+|aug \\d+nd \\d+:\\d+|sep \\d+nd \\d+:\\d+|oct \\d+nd \\d+:\\d+|nov \\d+nd \\d+:\\d+|dec \\d+nd \\d+:\\d+ \\\n",
    "           jan \\d+rd \\d+:\\d+|feb \\d+rd \\d+:\\d+|mar \\d+rd \\d+:\\d+|apr \\d+rd \\d+:\\d+|may \\d+rd \\d+:\\d+|jun \\d+rd \\d+:\\d+|jul \\d+rd \\d+:\\d+|aug \\d+rd \\d+:\\d+|sep \\d+rd \\d+:\\d+|oct \\d+rd \\d+:\\d+|nov \\d+rd \\d+:\\d+|dec \\d+rd \\d+:\\d+ \\\n",
    "           jan \\d+th \\d+:\\d+|feb \\d+th \\d+:\\d+|mar \\d+th \\d+:\\d+|apr \\d+th \\d+:\\d+|may \\d+th \\d+:\\d+|jun \\d+th \\d+:\\d+|jul \\d+th \\d+:\\d+|aug \\d+th \\d+:\\d+|sep \\d+th \\d+:\\d+|oct \\d+th \\d+:\\d+|nov \\d+th \\d+:\\d+|dec \\d+th \\d+:\\d+ \\\n",
    "           jan \\d+ \\d+:\\d+|feb \\d+ \\d+:\\d+|mar \\d+ \\d+:\\d+|apr \\d+ \\d+:\\d+|may \\d+ \\d+:\\d+|jun \\d+ \\d+:\\d+|jul \\d+ \\d+:\\d+|aug \\d+ \\d+:\\d+|sep \\d+ \\d+:\\d+|oct \\d+ \\d+:\\d+|nov \\d+ \\d+:\\d+|dec \\d+ \\d+:\\d+\"\n",
    "        for match in re.findall(Mon_DD_HM, TextwithDates):\n",
    "            match_rep = re.sub(suffix,'', match)\n",
    "            datetime_object = datetime.strptime(match_rep,\"%b %d %H:%M\")\n",
    "            dateNewFormat = datetime_object.strftime(\"%B%#d_%H:%M\")\n",
    "            TextwithDates = re.sub(match, dateNewFormat, TextwithDates)\n",
    "        \n",
    "        Mon_DD = r\"jan \\d+st|feb \\d+st|mar \\d+st|apr \\d+st|may \\d+st|jun \\d+st|jul \\d+st|aug \\d+st|sep \\d+st|oct \\d+st|nov \\d+st|dec \\d+st \\\n",
    "           jan \\d+nd|feb \\d+nd|mar \\d+nd|apr \\d+nd|may \\d+nd|jun \\d+nd|jul \\d+nd|aug \\d+nd|sep \\d+nd|oct \\d+nd|nov \\d+nd|dec \\d+nd \\\n",
    "           jan \\d+rd|feb \\d+rd|mar \\d+rd|apr \\d+rd|may \\d+rd|jun \\d+rd|jul \\d+rd|aug \\d+rd|sep \\d+rd|oct \\d+rd|nov \\d+rd|dec \\d+rd \\\n",
    "           jan \\d+th|feb \\d+th|mar \\d+th|apr \\d+th|may \\d+th|jun \\d+th|jul \\d+th|aug \\d+th|sep \\d+th|oct \\d+th|nov \\d+th|dec \\d+th \\\n",
    "           jan \\d+|feb \\d+|mar \\d+|apr \\d+|may \\d+|jun \\d+|jul \\d+|aug \\d+|sep \\d+|oct \\d+|nov \\d+|dec \\d+\"\n",
    "        for match in re.findall(Mon_DD, TextwithDates):\n",
    "            match_rep = re.sub(suffix,'', match)\n",
    "            datetime_object = datetime.strptime(match_rep,\"%b %d\")\n",
    "            dateNewFormat = datetime_object.strftime(\"%B%#d\")\n",
    "            TextwithDates = re.sub(match, dateNewFormat, TextwithDates)\n",
    "\n",
    "        # Space between month and date\n",
    "        Month_DD_HMS = r\"january \\d+st \\d+:\\d+:\\d+|february \\d+st \\d+:\\d+:\\d+|march \\d+st \\d+:\\d+:\\d+|april \\d+st \\d+:\\d+:\\d+|may \\d+st \\d+:\\d+:\\d+|june \\d+st \\d+:\\d+:\\d+|july \\d+st \\d+:\\d+:\\d+|august \\d+st \\d+:\\d+:\\d+|september \\d+st \\d+:\\d+:\\d+|october \\d+st \\d+:\\d+:\\d+|november \\d+st \\d+:\\d+:\\d+|december \\d+st \\d+:\\d+:\\d+ \\\n",
    "           january \\d+nd \\d+:\\d+:\\d+|february \\d+nd \\d+:\\d+:\\d+|march \\d+nd \\d+:\\d+:\\d+|april \\d+nd \\d+:\\d+:\\d+|may \\d+nd \\d+:\\d+:\\d+|june \\d+nd \\d+:\\d+:\\d+|july \\d+nd \\d+:\\d+:\\d+|august \\d+nd \\d+:\\d+:\\d+|september \\d+nd \\d+:\\d+:\\d+|october \\d+nd \\d+:\\d+:\\d+|november \\d+nd \\d+:\\d+:\\d+|december \\d+nd \\d+:\\d+:\\d+ \\\n",
    "           january \\d+rd \\d+:\\d+:\\d+|february \\d+rd \\d+:\\d+:\\d+|march \\d+rd \\d+:\\d+:\\d+|april \\d+rd \\d+:\\d+:\\d+|may \\d+rd \\d+:\\d+:\\d+|june \\d+rd \\d+:\\d+:\\d+|july \\d+rd \\d+:\\d+:\\d+|august \\d+rd \\d+:\\d+:\\d+|september \\d+rd \\d+:\\d+:\\d+|october \\d+rd \\d+:\\d+:\\d+|november \\d+rd \\d+:\\d+:\\d+|december \\d+rd \\d+:\\d+:\\d+ \\\n",
    "           january \\d+th \\d+:\\d+:\\d+|february \\d+th \\d+:\\d+:\\d+|march \\d+th \\d+:\\d+:\\d+|april \\d+th \\d+:\\d+:\\d+|may \\d+th \\d+:\\d+:\\d+|june \\d+th \\d+:\\d+:\\d+|july \\d+th \\d+:\\d+:\\d+|august \\d+th \\d+:\\d+:\\d+|september \\d+th \\d+:\\d+:\\d+|october \\d+th \\d+:\\d+:\\d+|november \\d+th \\d+:\\d+:\\d+|december \\d+th \\d+:\\d+:\\d+ \\\n",
    "           january \\d+ \\d+:\\d+:\\d+|february \\d+ \\d+:\\d+:\\d+|march \\d+ \\d+:\\d+:\\d+|april \\d+ \\d+:\\d+:\\d+|may \\d+ \\d+:\\d+:\\d+|june \\d+ \\d+:\\d+:\\d+|july \\d+ \\d+:\\d+:\\d+|august \\d+ \\d+:\\d+:\\d+|september \\d+ \\d+:\\d+:\\d+|october \\d+ \\d+:\\d+:\\d+|november \\d+ \\d+:\\d+:\\d+|december \\d+ \\d+:\\d+:\\d+ \"\n",
    "        for match in re.findall(Month_DD_HMS, TextwithDates):\n",
    "            match_rep = re.sub(suffix,'', match)\n",
    "            match_rep = re.sub(\"augu\",\"august\",match_rep)\n",
    "            datetime_object = datetime.strptime(match_rep,\"%B %d %H:%M:%S\")\n",
    "            dateNewFormat = datetime_object.strftime(\"%B%#d_%H:%M:%S\")\n",
    "            TextwithDates = re.sub(match, dateNewFormat, TextwithDates)\n",
    "        \n",
    "        Month_DD_HM = r\"january \\d+st \\d+:\\d+|february \\d+st \\d+:\\d+|march \\d+st \\d+:\\d+|april \\d+st \\d+:\\d+|may \\d+st \\d+:\\d+|june \\d+st \\d+:\\d+|july \\d+st \\d+:\\d+|august \\d+st \\d+:\\d+|september \\d+st \\d+:\\d+|october \\d+st \\d+:\\d+|november \\d+st \\d+:\\d+|december \\d+st \\d+:\\d+ \\\n",
    "           january \\d+nd \\d+:\\d+|february \\d+nd \\d+:\\d+|march \\d+nd \\d+:\\d+|april \\d+nd \\d+:\\d+|may \\d+nd \\d+:\\d+|june \\d+nd \\d+:\\d+|july \\d+nd \\d+:\\d+|august \\d+nd \\d+:\\d+|september \\d+nd \\d+:\\d+|october \\d+nd \\d+:\\d+|november \\d+nd \\d+:\\d+|december \\d+nd \\d+:\\d+ \\\n",
    "           january \\d+rd \\d+:\\d+|february \\d+rd \\d+:\\d+|march \\d+rd \\d+:\\d+|april \\d+rd \\d+:\\d+|may \\d+rd \\d+:\\d+|june \\d+rd \\d+:\\d+|july \\d+rd \\d+:\\d+|august \\d+rd \\d+:\\d+|september \\d+rd \\d+:\\d+|october \\d+rd \\d+:\\d+|november \\d+rd \\d+:\\d+|december \\d+rd \\d+:\\d+ \\\n",
    "           january \\d+th \\d+:\\d+|february \\d+th \\d+:\\d+|march \\d+th \\d+:\\d+|april \\d+th \\d+:\\d+|may \\d+th \\d+:\\d+|june \\d+th \\d+:\\d+|july \\d+th \\d+:\\d+|august \\d+th \\d+:\\d+|september \\d+th \\d+:\\d+|october \\d+th \\d+:\\d+|november \\d+th \\d+:\\d+|december \\d+th \\d+:\\d+ \\\n",
    "           january \\d+ \\d+:\\d+|february \\d+ \\d+:\\d+|march \\d+ \\d+:\\d+|april \\d+ \\d+:\\d+|may \\d+ \\d+:\\d+|june \\d+ \\d+:\\d+|july \\d+ \\d+:\\d+|august \\d+ \\d+:\\d+|september \\d+ \\d+:\\d+|october \\d+ \\d+:\\d+|november \\d+ \\d+:\\d+|december \\d+ \\d+:\\d+ \"\n",
    "        for match in re.findall(Month_DD_HM, TextwithDates):\n",
    "            match_rep = re.sub(suffix,'', match)\n",
    "            match_rep = re.sub(\"augu\",\"august\",match_rep)\n",
    "            datetime_object = datetime.strptime(match_rep,\"%B %d %H:%M\")\n",
    "            dateNewFormat = datetime_object.strftime(\"%B%#d_%H:%M\")\n",
    "            TextwithDates = re.sub(match, dateNewFormat, TextwithDates)\n",
    "            \n",
    "        Month_DD = r\"january \\d+st|february \\d+st|march \\d+st|april \\d+st|may \\d+st|june \\d+st|july \\d+st|august \\d+st|september \\d+st|october \\d+st|november \\d+st|december \\d+st \\\n",
    "           january \\d+nd|february \\d+nd|march \\d+nd|april \\d+nd|may \\d+nd|june \\d+nd|july \\d+nd|august \\d+nd|september \\d+nd|october \\d+nd|november \\d+nd|december \\d+nd \\\n",
    "           january \\d+rd|february \\d+rd|march \\d+rd|april \\d+rd|may \\d+rd|june \\d+rd|july \\d+rd|august \\d+rd|september \\d+rd|october \\d+rd|november \\d+rd|december \\d+rd \\\n",
    "           january \\d+th|february \\d+th|march \\d+th|april \\d+th|may \\d+th|june \\d+th|july \\d+th|august \\d+th|september \\d+th|october \\d+th|november \\d+th|december \\d+th \\\n",
    "           january \\d+|february \\d+|march \\d+|april \\d+|may \\d+|june \\d+|july \\d+|august \\d+|september \\d+|october \\d+|november \\d+|december \\d+\"\n",
    "        for match in re.findall(Month_DD, TextwithDates):\n",
    "            match_rep = re.sub(suffix,'', match)\n",
    "            match_rep = re.sub(\"augu\",\"august\",match_rep)\n",
    "            datetime_object = datetime.strptime(match_rep,\"%B %d\")\n",
    "            dateNewFormat = datetime_object.strftime(\"%B%#d\")\n",
    "            TextwithDates = re.sub(match, dateNewFormat, TextwithDates)\n",
    "        \n",
    "        # No Space between month and date\n",
    "        MonthDD_HMS = r\"january\\d+st \\d+:\\d+:\\d+|february\\d+st \\d+:\\d+:\\d+|march\\d+st \\d+:\\d+:\\d+|april\\d+st \\d+:\\d+:\\d+|may\\d+st \\d+:\\d+:\\d+|june\\d+st \\d+:\\d+:\\d+|july\\d+st \\d+:\\d+:\\d+|august\\d+st \\d+:\\d+:\\d+|september\\d+st \\d+:\\d+:\\d+|october\\d+st \\d+:\\d+:\\d+|november\\d+st \\d+:\\d+:\\d+|december\\d+st \\d+:\\d+:\\d+ \\\n",
    "           january\\d+nd \\d+:\\d+:\\d+|february\\d+nd \\d+:\\d+:\\d+|march\\d+nd \\d+:\\d+:\\d+|april\\d+nd \\d+:\\d+:\\d+|may\\d+nd \\d+:\\d+:\\d+|june\\d+nd \\d+:\\d+:\\d+|july\\d+nd \\d+:\\d+:\\d+|august\\d+nd \\d+:\\d+:\\d+|september\\d+nd \\d+:\\d+:\\d+|october\\d+nd \\d+:\\d+:\\d+|november\\d+nd \\d+:\\d+:\\d+|december\\d+nd \\d+:\\d+:\\d+ \\\n",
    "           january\\d+rd \\d+:\\d+:\\d+|february\\d+rd \\d+:\\d+:\\d+|march\\d+rd \\d+:\\d+:\\d+|april\\d+rd \\d+:\\d+:\\d+|may\\d+rd \\d+:\\d+:\\d+|june\\d+rd \\d+:\\d+:\\d+|july\\d+rd \\d+:\\d+:\\d+|august\\d+rd \\d+:\\d+:\\d+|september\\d+rd \\d+:\\d+:\\d+|october\\d+rd \\d+:\\d+:\\d+|november\\d+rd \\d+:\\d+:\\d+|december\\d+rd \\d+:\\d+:\\d+ \\\n",
    "           january\\d+th \\d+:\\d+:\\d+|february\\d+th \\d+:\\d+:\\d+|march\\d+th \\d+:\\d+:\\d+|april\\d+th \\d+:\\d+:\\d+|may\\d+th \\d+:\\d+:\\d+|june\\d+th \\d+:\\d+:\\d+|july\\d+th \\d+:\\d+:\\d+|august\\d+th \\d+:\\d+:\\d+|september\\d+th \\d+:\\d+:\\d+|october\\d+th \\d+:\\d+:\\d+|november\\d+th \\d+:\\d+:\\d+|december\\d+th \\d+:\\d+:\\d+ \\\n",
    "           january\\d+ \\d+:\\d+:\\d+|february\\d+ \\d+:\\d+:\\d+|march\\d+ \\d+:\\d+:\\d+|april\\d+ \\d+:\\d+:\\d+|may\\d+ \\d+:\\d+:\\d+|june\\d+ \\d+:\\d+:\\d+|july\\d+ \\d+:\\d+:\\d+|august\\d+ \\d+:\\d+:\\d+|september\\d+ \\d+:\\d+:\\d+|october\\d+ \\d+:\\d+:\\d+|november\\d+ \\d+:\\d+:\\d+|december\\d+ \\d+:\\d+:\\d+ \"\n",
    "        for match in re.findall(MonthDD_HMS, TextwithDates):\n",
    "            match_rep = re.sub(suffix,'', match)\n",
    "            match_rep = re.sub(\"augu\",\"august\",match_rep)\n",
    "            datetime_object = datetime.strptime(match_rep,\"%B%d %H:%M:%S\")\n",
    "            dateNewFormat = datetime_object.strftime(\"%B%#d_%H:%M:%S\")\n",
    "            TextwithDates = re.sub(match, dateNewFormat, TextwithDates)\n",
    "        \n",
    "        MonthDD_HM = r\"january\\d+st \\d+:\\d+|february\\d+st \\d+:\\d+|march\\d+st \\d+:\\d+|april\\d+st \\d+:\\d+|may\\d+st \\d+:\\d+|june\\d+st \\d+:\\d+|july\\d+st \\d+:\\d+|august\\d+st \\d+:\\d+|september\\d+st \\d+:\\d+|october\\d+st \\d+:\\d+|november\\d+st \\d+:\\d+|december\\d+st \\d+:\\d+ \\\n",
    "           january\\d+nd \\d+:\\d+|february\\d+nd \\d+:\\d+|march\\d+nd \\d+:\\d+|april\\d+nd \\d+:\\d+|may\\d+nd \\d+:\\d+|june\\d+nd \\d+:\\d+|july\\d+nd \\d+:\\d+|august\\d+nd \\d+:\\d+|september\\d+nd \\d+:\\d+|october\\d+nd \\d+:\\d+|november\\d+nd \\d+:\\d+|december\\d+nd \\d+:\\d+ \\\n",
    "           january\\d+rd \\d+:\\d+|february\\d+rd \\d+:\\d+|march\\d+rd \\d+:\\d+|april\\d+rd \\d+:\\d+|may\\d+rd \\d+:\\d+|june\\d+rd \\d+:\\d+|july\\d+rd \\d+:\\d+|august\\d+rd \\d+:\\d+|september\\d+rd \\d+:\\d+|october\\d+rd \\d+:\\d+|november\\d+rd \\d+:\\d+|december\\d+rd \\d+:\\d+ \\\n",
    "           january\\d+th \\d+:\\d+|february\\d+th \\d+:\\d+|march\\d+th \\d+:\\d+|april\\d+th \\d+:\\d+|may\\d+th \\d+:\\d+|june\\d+th \\d+:\\d+|july\\d+th \\d+:\\d+|august\\d+th \\d+:\\d+|september\\d+th \\d+:\\d+|october\\d+th \\d+:\\d+|november\\d+th \\d+:\\d+|december\\d+th \\d+:\\d+ \\\n",
    "           january\\d+ \\d+:\\d+|februaryruary\\d+ \\d+:\\d+|march\\d+ \\d+:\\d+|april\\d+ \\d+:\\d+|may\\d+ \\d+:\\d+|june\\d+ \\d+:\\d+|july\\d+ \\d+:\\d+|august\\d+ \\d+:\\d+|september\\d+ \\d+:\\d+|october\\d+ \\d+:\\d+|november\\d+ \\d+:\\d+|december\\d+ \\d+:\\d+ \"\n",
    "        for match in re.findall(MonthDD_HM, TextwithDates):\n",
    "            match_rep = re.sub(suffix,'', match)\n",
    "            match_rep = re.sub(\"augu\",\"august\",match_rep)\n",
    "            datetime_object = datetime.strptime(match_rep,\"%B%d %H:%M\")\n",
    "            dateNewFormat = datetime_object.strftime(\"%B%#d_%H:%M\")\n",
    "            TextwithDates = re.sub(match, dateNewFormat, TextwithDates)\n",
    "        \n",
    "        MonthDD = r\"january\\d+st|february\\d+st|march\\d+st|april\\d+st|may\\d+st|june\\d+st|july\\d+st|august\\d+st|september\\d+st|october\\d+st|november\\d+st|december\\d+st \\\n",
    "           january\\d+nd|february\\d+nd|march\\d+nd|april\\d+nd|may\\d+nd|june\\d+nd|july\\d+nd|august\\d+nd|september\\d+nd|october\\d+nd|november\\d+nd|december\\d+nd \\\n",
    "           january\\d+rd|february\\d+rd|march\\d+rd|april\\d+rd|may\\d+rd|june\\d+rd|july\\d+rd|august\\d+rd|september\\d+rd|october\\d+rd|november\\d+rd|december\\d+rd \\\n",
    "           january\\d+th|february\\d+th|march\\d+th|april\\d+th|may\\d+th|june\\d+th|july\\d+th|august\\d+th|september\\d+th|october\\d+th|november\\d+th|december\\d+th \\\n",
    "           january\\d+|february\\d+|march\\d+|april\\d+|may\\d+|june\\d+|july\\d+|august\\d+|september\\d+|october\\d+|november\\d+|december\\d+ \"\n",
    "        for match in re.findall(MonthDD, TextwithDates):\n",
    "            match_rep = re.sub(suffix,'', match)\n",
    "            match_rep = re.sub(\"augu\",\"august\",match_rep)\n",
    "            datetime_object = datetime.strptime(match_rep,\"%B%d\")\n",
    "            dateNewFormat = datetime_object.strftime(\"%B%#d\")\n",
    "            TextwithDates = re.sub(match, dateNewFormat, TextwithDates)\n",
    "        \n",
    "        # Replace 2/29 to february29\n",
    "        for match in re.findall(\"2/29\", TextwithDates):\n",
    "            TextwithDates = re.sub(match, \"February29\", TextwithDates)\n",
    "\n",
    "        # First convert YYYY to YY\n",
    "        for match in re.findall(r'/\\d{4}', TextwithDates):\n",
    "            match = re.sub('/','' , match)\n",
    "            #convert match to new format\n",
    "            datetime_object = datetime.strptime(match, \"%Y\")\n",
    "            dateNewFormat = datetime_object.strftime(\"%y\")\n",
    "            #substitute the old date with the new\n",
    "            TextwithDates = re.sub(match, dateNewFormat, TextwithDates)\n",
    "\n",
    "        # convert %m/%d/%y formatted texts to %m/%d\n",
    "        for match in re.findall(r'\\d+/\\d+/\\d+', TextwithDates):\n",
    "            #convert match to new format\n",
    "            datetime_object = datetime.strptime(match, \"%m/%d/%y\")\n",
    "            dateNewFormat = datetime_object.strftime(\"%#m/%#d\")\n",
    "            #substitute the old date with the new\n",
    "            TextwithDates = re.sub(match, dateNewFormat, TextwithDates)\n",
    "\n",
    "        # convert %m/%d %H:%M:%S formatted texts to %B%d_%H:%M:%S\n",
    "        for match in re.findall(r'\\d+/\\d+ \\d+:\\d+:\\d+', TextwithDates):\n",
    "            datetime_object = datetime.strptime(match, \"%m/%d %H:%M:%S\")\n",
    "            dateNewFormat = datetime_object.strftime(\"%B%#d_%H:%M:%S\")\n",
    "            #substitute the old date with the new\n",
    "            TextwithDates = re.sub(match, dateNewFormat, TextwithDates)\n",
    "\n",
    "        # convert %m/%d %H:%M formatted texts to %B%d_%H:%M\n",
    "        for match in re.findall(r'\\d+/\\d+ \\d+:\\d+', TextwithDates):\n",
    "            datetime_object = datetime.strptime(match, \"%m/%d %H:%M\")\n",
    "            dateNewFormat = datetime_object.strftime(\"%B%#d_%H:%M\")\n",
    "            #substitute the old date with the new\n",
    "            TextwithDates = re.sub(match, dateNewFormat, TextwithDates)\n",
    "\n",
    "        # convert %m/%d formatted texts to %B%d\n",
    "        for match in re.findall(r'\\d+/\\d+', TextwithDates):\n",
    "            datetime_object = datetime.strptime(match, \"%m/%d\")\n",
    "            dateNewFormat = datetime_object.strftime(\"%B%#d\")\n",
    "            #substitute the old date with the new\n",
    "            TextwithDates = re.sub(match, dateNewFormat, TextwithDates)\n",
    "            \n",
    "        return(TextwithDates)\n",
    "    except Exception:\n",
    "        pass\n",
    "    \n",
    "# MonthDD = r\"January\\d+|February\\d+|March\\d+|April\\d+|May\\d+|June\\d+|July\\d+|August\\d+|September\\d+|October\\d+|November\\d+|December\\d+\"    "
   ]
  },
  {
   "cell_type": "code",
   "execution_count": null,
   "metadata": {},
   "outputs": [],
   "source": [
    "# Check for errors \n",
    "ClinicalNotes_error = ClinicalNotes.copy()\n",
    "ClinicalNotes_error['Text_error'] = ClinicalNotes_error.apply(lambda x: ErrorINChangeDateTimeFormat(x.Text), axis=1)\n",
    "\n",
    "# Extract cases where there are no errors\n",
    "ClinicalNotes_NoDateErrors = ClinicalNotes_error[pd.notnull(ClinicalNotes_error.Text_error)]\n",
    "ClinicalNotes_NoDateErrors = ClinicalNotes_NoDateErrors.drop(['Text_error'],axis=1)"
   ]
  },
  {
   "cell_type": "code",
   "execution_count": null,
   "metadata": {},
   "outputs": [],
   "source": [
    "ClinicalNotes_NoDateErrors.head()"
   ]
  },
  {
   "cell_type": "code",
   "execution_count": null,
   "metadata": {},
   "outputs": [],
   "source": [
    "# Returns exception i.e error\n",
    "def ErrorsINChangeDateTimeFormat(TextwithDates):\n",
    "    try:\n",
    "        # Replace sept with sep            \n",
    "        for match in re.findall(\"sept \\d+\", TextwithDates):\n",
    "            match_rep = re.sub('sept','sep' ,match)\n",
    "            TextwithDates = re.sub(match, match_rep, TextwithDates)\n",
    "            \n",
    "        # Convert jan & january independently     \n",
    "        suffix = r\"st|nd|rd|th\"\n",
    "    \n",
    "        # Extract Month_Year\n",
    "        Month_Year = \"january \\d{4}|february \\d{4}|march \\d{4}|april \\d{4}|may \\d{4}|june \\d{4}|july \\d{4}|august \\d{4}|september \\d{4}|october \\d{4}|november \\d{4}|december \\d{4}\"\n",
    "        for match in re.findall(Month_Year, TextwithDates):\n",
    "            datetime_object = datetime.strptime(match,\"%B %Y\")\n",
    "            dateNewFormat = datetime_object.strftime(\"%Y%B\")\n",
    "            TextwithDates = re.sub(match, dateNewFormat, TextwithDates)\n",
    "            \n",
    "        # Mon_Year\n",
    "        Mon_Year = \"jan \\d{4}|feb \\d{4}|mar \\d{4}|apr \\d{4}|may \\d{4}|jun \\d{4}|jul \\d{4}|aug \\d{4}|sep \\d{4}|oct \\d{4}|nov \\d{4}|dec \\d{4}\"\n",
    "        for match in re.findall(Mon_Year, TextwithDates):\n",
    "            datetime_object = datetime.strptime(match,\"%b %Y\")\n",
    "            dateNewFormat = datetime_object.strftime(\"%Y%B\")\n",
    "            TextwithDates = re.sub(match, dateNewFormat, TextwithDates)\n",
    "        \n",
    "        # No Space between month and date\n",
    "        MonDD_HMS = r\"jan\\d+st \\d+:\\d+:\\d+|feb\\d+st \\d+:\\d+:\\d+|mar\\d+st \\d+:\\d+:\\d+|apr\\d+st \\d+:\\d+:\\d+|may\\d+st \\d+:\\d+:\\d+|jun\\d+st \\d+:\\d+:\\d+|jul\\d+st \\d+:\\d+:\\d+|aug\\d+st \\d+:\\d+:\\d+|sep\\d+st \\d+:\\d+:\\d+|oct\\d+st \\d+:\\d+:\\d+|nov\\d+st \\d+:\\d+:\\d+|dec\\d+st \\d+:\\d+:\\d+ \\\n",
    "           jan\\d+nd \\d+:\\d+:\\d+|feb\\d+nd \\d+:\\d+:\\d+|mar\\d+nd \\d+:\\d+:\\d+|apr\\d+nd \\d+:\\d+:\\d+|may\\d+nd \\d+:\\d+:\\d+|jun\\d+nd \\d+:\\d+:\\d+|jul\\d+nd \\d+:\\d+:\\d+|aug\\d+nd \\d+:\\d+:\\d+|sep\\d+nd \\d+:\\d+:\\d+|oct\\d+nd \\d+:\\d+:\\d+|nov\\d+nd \\d+:\\d+:\\d+|dec\\d+nd \\d+:\\d+:\\d+ \\\n",
    "           jan\\d+rd \\d+:\\d+:\\d+|feb\\d+rd \\d+:\\d+:\\d+|mar\\d+rd \\d+:\\d+:\\d+|apr\\d+rd \\d+:\\d+:\\d+|may\\d+rd \\d+:\\d+:\\d+|jun\\d+rd \\d+:\\d+:\\d+|jul\\d+rd \\d+:\\d+:\\d+|aug\\d+rd \\d+:\\d+:\\d+|sep\\d+rd \\d+:\\d+:\\d+|oct\\d+rd \\d+:\\d+:\\d+|nov\\d+rd \\d+:\\d+:\\d+|dec\\d+rd \\d+:\\d+:\\d+ \\\n",
    "           jan\\d+th \\d+:\\d+:\\d+|feb\\d+th \\d+:\\d+:\\d+|mar\\d+th \\d+:\\d+:\\d+|apr\\d+th \\d+:\\d+:\\d+|may\\d+th \\d+:\\d+:\\d+|jun\\d+th \\d+:\\d+:\\d+|jul\\d+th \\d+:\\d+:\\d+|aug\\d+th \\d+:\\d+:\\d+|sep\\d+th \\d+:\\d+:\\d+|oct\\d+th \\d+:\\d+:\\d+|nov\\d+th \\d+:\\d+:\\d+|dec\\d+th \\d+:\\d+:\\d+ \\\n",
    "           jan\\d+ \\d+:\\d+:\\d+|feb\\d+ \\d+:\\d+:\\d+|mar\\d+ \\d+:\\d+:\\d+|apr\\d+ \\d+:\\d+:\\d+|may\\d+ \\d+:\\d+:\\d+|jun\\d+ \\d+:\\d+:\\d+|jul\\d+ \\d+:\\d+:\\d+|aug\\d+ \\d+:\\d+:\\d+|sep\\d+ \\d+:\\d+:\\d+|oct\\d+ \\d+:\\d+:\\d+|nov\\d+ \\d+:\\d+:\\d+|dec\\d+ \\d+:\\d+:\\d+\"\n",
    "        for match in re.findall(MonDD_HMS, TextwithDates):\n",
    "            match_rep = re.sub(suffix,'', match)\n",
    "            datetime_object = datetime.strptime(match_rep,\"%b%d %H:%M:%S\")\n",
    "            dateNewFormat = datetime_object.strftime(\"%B%#d_%H:%M:%S\")\n",
    "            TextwithDates = re.sub(match, dateNewFormat, TextwithDates)\n",
    "            \n",
    "        MonDD_HM = r\"jan\\d+st \\d+:\\d+|feb\\d+st \\d+:\\d+|mar\\d+st \\d+:\\d+|apr\\d+st \\d+:\\d+|may\\d+st \\d+:\\d+|jun\\d+st \\d+:\\d+|jul\\d+st \\d+:\\d+|aug\\d+st \\d+:\\d+|sep\\d+st \\d+:\\d+|oct\\d+st \\d+:\\d+|nov\\d+st \\d+:\\d+|dec\\d+st \\d+:\\d+ \\\n",
    "           jan\\d+nd \\d+:\\d+|feb\\d+nd \\d+:\\d+|mar\\d+nd \\d+:\\d+|apr\\d+nd \\d+:\\d+|may\\d+nd \\d+:\\d+|jun\\d+nd \\d+:\\d+|jul\\d+nd \\d+:\\d+|aug\\d+nd \\d+:\\d+|sep\\d+nd \\d+:\\d+|oct\\d+nd \\d+:\\d+|nov\\d+nd \\d+:\\d+|dec\\d+nd \\d+:\\d+ \\\n",
    "           jan\\d+rd \\d+:\\d+|feb\\d+rd \\d+:\\d+|mar\\d+rd \\d+:\\d+|apr\\d+rd \\d+:\\d+|may\\d+rd \\d+:\\d+|jun\\d+rd \\d+:\\d+|jul\\d+rd \\d+:\\d+|aug\\d+rd \\d+:\\d+|sep\\d+rd \\d+:\\d+|oct\\d+rd \\d+:\\d+|nov\\d+rd \\d+:\\d+|dec\\d+rd \\d+:\\d+ \\\n",
    "           jan\\d+th \\d+:\\d+|feb\\d+th \\d+:\\d+|mar\\d+th \\d+:\\d+|apr\\d+th \\d+:\\d+|may\\d+th \\d+:\\d+|jun\\d+th \\d+:\\d+|jul\\d+th \\d+:\\d+|aug\\d+th \\d+:\\d+|sep\\d+th \\d+:\\d+|oct\\d+th \\d+:\\d+|nov\\d+th \\d+:\\d+|dec\\d+th \\d+:\\d+ \\\n",
    "           jan\\d+ \\d+:\\d+|feb\\d+ \\d+:\\d+|mar\\d+ \\d+:\\d+|apr\\d+ \\d+:\\d+|may\\d+ \\d+:\\d+|jun\\d+ \\d+:\\d+|jul\\d+ \\d+:\\d+|aug\\d+ \\d+:\\d+|sep\\d+ \\d+:\\d+|oct\\d+ \\d+:\\d+|nov\\d+ \\d+:\\d+|dec\\d+ \\d+:\\d+\"\n",
    "           \n",
    "        for match in re.findall(MonDD_HM, TextwithDates):\n",
    "            match_rep = re.sub(suffix,'', match)\n",
    "            datetime_object = datetime.strptime(match_rep,\"%b%d %H:%M\")\n",
    "            dateNewFormat = datetime_object.strftime(\"%B%#d_%H:%M\")\n",
    "            TextwithDates = re.sub(match, dateNewFormat, TextwithDates)\n",
    "            \n",
    "        MonDD = r\"jan\\d+st|feb\\d+st|mar\\d+st|apr\\d+st|may\\d+st|jun\\d+st|jul\\d+st|aug\\d+st|sep\\d+st|oct\\d+st|nov\\d+st|dec\\d+st \\\n",
    "           jan\\d+nd|feb\\d+nd|mar\\d+nd|apr\\d+nd|may\\d+nd|jun\\d+nd|jul\\d+nd|aug\\d+nd|sep\\d+nd|oct\\d+nd|nov\\d+nd|dec\\d+nd \\\n",
    "           jan\\d+rd|feb\\d+rd|mar\\d+rd|apr\\d+rd|may\\d+rd|jun\\d+rd|jul\\d+rd|aug\\d+rd|sep\\d+rd|oct\\d+rd|nov\\d+rd|dec\\d+rd \\\n",
    "           jan\\d+th|feb\\d+th|mar\\d+th|apr\\d+th|may\\d+th|jun\\d+th|jul\\d+th|aug\\d+th|sep\\d+th|oct\\d+th|nov\\d+th|dec\\d+th \\\n",
    "           jan\\d+|feb\\d+|mar\\d+|apr\\d+|may\\d+|jun\\d+|jul\\d+|aug\\d+|sep\\d+|oct\\d+|nov\\d+|dec\\d+\"\n",
    "        for match in re.findall(MonDD, TextwithDates):\n",
    "            match_rep = re.sub(suffix,'', match)\n",
    "            datetime_object = datetime.strptime(match_rep,\"%b%d\")\n",
    "            dateNewFormat = datetime_object.strftime(\"%B%#d\")\n",
    "            TextwithDates = re.sub(match, dateNewFormat, TextwithDates)\n",
    "        \n",
    "        # Space between month and date\n",
    "        Mon_DD_HMS = r\"jan \\d+st \\d+:\\d+:\\d+|feb \\d+st \\d+:\\d+:\\d+|mar \\d+st \\d+:\\d+:\\d+|apr \\d+st \\d+:\\d+:\\d+|may \\d+st \\d+:\\d+:\\d+|jun \\d+st \\d+:\\d+:\\d+|jul \\d+st \\d+:\\d+:\\d+|aug \\d+st \\d+:\\d+:\\d+|sep \\d+st \\d+:\\d+:\\d+|oct \\d+st \\d+:\\d+:\\d+|nov \\d+st \\d+:\\d+:\\d+|dec \\d+st \\d+:\\d+:\\d+ \\\n",
    "           jan \\d+nd \\d+:\\d+:\\d+|feb \\d+nd \\d+:\\d+:\\d+|mar \\d+nd \\d+:\\d+:\\d+|apr \\d+nd \\d+:\\d+:\\d+|may \\d+nd \\d+:\\d+:\\d+|jun \\d+nd \\d+:\\d+:\\d+|jul \\d+nd \\d+:\\d+:\\d+|aug \\d+nd \\d+:\\d+:\\d+|sep \\d+nd \\d+:\\d+:\\d+|oct \\d+nd \\d+:\\d+:\\d+|nov \\d+nd \\d+:\\d+:\\d+|dec \\d+nd \\d+:\\d+:\\d+ \\\n",
    "           jan \\d+rd \\d+:\\d+:\\d+|feb \\d+rd \\d+:\\d+:\\d+|mar \\d+rd \\d+:\\d+:\\d+|apr \\d+rd \\d+:\\d+:\\d+|may \\d+rd \\d+:\\d+:\\d+|jun \\d+rd \\d+:\\d+:\\d+|jul \\d+rd \\d+:\\d+:\\d+|aug \\d+rd \\d+:\\d+:\\d+|sep \\d+rd \\d+:\\d+:\\d+|oct \\d+rd \\d+:\\d+:\\d+|nov \\d+rd \\d+:\\d+:\\d+|dec \\d+rd \\d+:\\d+:\\d+ \\\n",
    "           jan \\d+th \\d+:\\d+:\\d+|feb \\d+th \\d+:\\d+:\\d+|mar \\d+th \\d+:\\d+:\\d+|apr \\d+th \\d+:\\d+:\\d+|may \\d+th \\d+:\\d+:\\d+|jun \\d+th \\d+:\\d+:\\d+|jul \\d+th \\d+:\\d+:\\d+|aug \\d+th \\d+:\\d+:\\d+|sep \\d+th \\d+:\\d+:\\d+|oct \\d+th \\d+:\\d+:\\d+|nov \\d+th \\d+:\\d+:\\d+|dec \\d+th \\d+:\\d+:\\d+ \\\n",
    "           jan \\d+ \\d+:\\d+:\\d+|feb \\d+ \\d+:\\d+:\\d+|mar \\d+ \\d+:\\d+:\\d+|apr \\d+ \\d+:\\d+:\\d+|may \\d+ \\d+:\\d+:\\d+|jun \\d+ \\d+:\\d+:\\d+|jul \\d+ \\d+:\\d+:\\d+|aug \\d+ \\d+:\\d+:\\d+|sep \\d+ \\d+:\\d+:\\d+|oct \\d+ \\d+:\\d+:\\d+|nov \\d+ \\d+:\\d+:\\d+|dec \\d+ \\d+:\\d+:\\d+\"\n",
    "        for match in re.findall(Mon_DD_HMS, TextwithDates):\n",
    "            match_rep = re.sub(suffix,'', match)\n",
    "            datetime_object = datetime.strptime(match_rep,\"%b %d %H:%M:%S\")\n",
    "            dateNewFormat = datetime_object.strftime(\"%B%#d_%H:%M:%S\")\n",
    "            TextwithDates = re.sub(match, dateNewFormat, TextwithDates)\n",
    "            \n",
    "        Mon_DD_HM = r\"jan \\d+st \\d+:\\d+|feb \\d+st \\d+:\\d+|mar \\d+st \\d+:\\d+|apr \\d+st \\d+:\\d+|may \\d+st \\d+:\\d+|jun \\d+st \\d+:\\d+|jul \\d+st \\d+:\\d+|aug \\d+st \\d+:\\d+|sep \\d+st \\d+:\\d+|oct \\d+st \\d+:\\d+|nov \\d+st \\d+:\\d+|dec \\d+st \\d+:\\d+ \\\n",
    "           jan \\d+nd \\d+:\\d+|feb \\d+nd \\d+:\\d+|mar \\d+nd \\d+:\\d+|apr \\d+nd \\d+:\\d+|may \\d+nd \\d+:\\d+|jun \\d+nd \\d+:\\d+|jul \\d+nd \\d+:\\d+|aug \\d+nd \\d+:\\d+|sep \\d+nd \\d+:\\d+|oct \\d+nd \\d+:\\d+|nov \\d+nd \\d+:\\d+|dec \\d+nd \\d+:\\d+ \\\n",
    "           jan \\d+rd \\d+:\\d+|feb \\d+rd \\d+:\\d+|mar \\d+rd \\d+:\\d+|apr \\d+rd \\d+:\\d+|may \\d+rd \\d+:\\d+|jun \\d+rd \\d+:\\d+|jul \\d+rd \\d+:\\d+|aug \\d+rd \\d+:\\d+|sep \\d+rd \\d+:\\d+|oct \\d+rd \\d+:\\d+|nov \\d+rd \\d+:\\d+|dec \\d+rd \\d+:\\d+ \\\n",
    "           jan \\d+th \\d+:\\d+|feb \\d+th \\d+:\\d+|mar \\d+th \\d+:\\d+|apr \\d+th \\d+:\\d+|may \\d+th \\d+:\\d+|jun \\d+th \\d+:\\d+|jul \\d+th \\d+:\\d+|aug \\d+th \\d+:\\d+|sep \\d+th \\d+:\\d+|oct \\d+th \\d+:\\d+|nov \\d+th \\d+:\\d+|dec \\d+th \\d+:\\d+ \\\n",
    "           jan \\d+ \\d+:\\d+|feb \\d+ \\d+:\\d+|mar \\d+ \\d+:\\d+|apr \\d+ \\d+:\\d+|may \\d+ \\d+:\\d+|jun \\d+ \\d+:\\d+|jul \\d+ \\d+:\\d+|aug \\d+ \\d+:\\d+|sep \\d+ \\d+:\\d+|oct \\d+ \\d+:\\d+|nov \\d+ \\d+:\\d+|dec \\d+ \\d+:\\d+\"\n",
    "        for match in re.findall(Mon_DD_HM, TextwithDates):\n",
    "            match_rep = re.sub(suffix,'', match)\n",
    "            datetime_object = datetime.strptime(match_rep,\"%b %d %H:%M\")\n",
    "            dateNewFormat = datetime_object.strftime(\"%B%#d_%H:%M\")\n",
    "            TextwithDates = re.sub(match, dateNewFormat, TextwithDates)\n",
    "        \n",
    "        Mon_DD = r\"jan \\d+st|feb \\d+st|mar \\d+st|apr \\d+st|may \\d+st|jun \\d+st|jul \\d+st|aug \\d+st|sep \\d+st|oct \\d+st|nov \\d+st|dec \\d+st \\\n",
    "           jan \\d+nd|feb \\d+nd|mar \\d+nd|apr \\d+nd|may \\d+nd|jun \\d+nd|jul \\d+nd|aug \\d+nd|sep \\d+nd|oct \\d+nd|nov \\d+nd|dec \\d+nd \\\n",
    "           jan \\d+rd|feb \\d+rd|mar \\d+rd|apr \\d+rd|may \\d+rd|jun \\d+rd|jul \\d+rd|aug \\d+rd|sep \\d+rd|oct \\d+rd|nov \\d+rd|dec \\d+rd \\\n",
    "           jan \\d+th|feb \\d+th|mar \\d+th|apr \\d+th|may \\d+th|jun \\d+th|jul \\d+th|aug \\d+th|sep \\d+th|oct \\d+th|nov \\d+th|dec \\d+th \\\n",
    "           jan \\d+|feb \\d+|mar \\d+|apr \\d+|may \\d+|jun \\d+|jul \\d+|aug \\d+|sep \\d+|oct \\d+|nov \\d+|dec \\d+\"\n",
    "        for match in re.findall(Mon_DD, TextwithDates):\n",
    "            match_rep = re.sub(suffix,'', match)\n",
    "            datetime_object = datetime.strptime(match_rep,\"%b %d\")\n",
    "            dateNewFormat = datetime_object.strftime(\"%B%#d\")\n",
    "            TextwithDates = re.sub(match, dateNewFormat, TextwithDates)\n",
    "\n",
    "        # Space between month and date\n",
    "        Month_DD_HMS = r\"january \\d+st \\d+:\\d+:\\d+|february \\d+st \\d+:\\d+:\\d+|march \\d+st \\d+:\\d+:\\d+|april \\d+st \\d+:\\d+:\\d+|may \\d+st \\d+:\\d+:\\d+|june \\d+st \\d+:\\d+:\\d+|july \\d+st \\d+:\\d+:\\d+|august \\d+st \\d+:\\d+:\\d+|september \\d+st \\d+:\\d+:\\d+|october \\d+st \\d+:\\d+:\\d+|november \\d+st \\d+:\\d+:\\d+|december \\d+st \\d+:\\d+:\\d+ \\\n",
    "           january \\d+nd \\d+:\\d+:\\d+|february \\d+nd \\d+:\\d+:\\d+|march \\d+nd \\d+:\\d+:\\d+|april \\d+nd \\d+:\\d+:\\d+|may \\d+nd \\d+:\\d+:\\d+|june \\d+nd \\d+:\\d+:\\d+|july \\d+nd \\d+:\\d+:\\d+|august \\d+nd \\d+:\\d+:\\d+|september \\d+nd \\d+:\\d+:\\d+|october \\d+nd \\d+:\\d+:\\d+|november \\d+nd \\d+:\\d+:\\d+|december \\d+nd \\d+:\\d+:\\d+ \\\n",
    "           january \\d+rd \\d+:\\d+:\\d+|february \\d+rd \\d+:\\d+:\\d+|march \\d+rd \\d+:\\d+:\\d+|april \\d+rd \\d+:\\d+:\\d+|may \\d+rd \\d+:\\d+:\\d+|june \\d+rd \\d+:\\d+:\\d+|july \\d+rd \\d+:\\d+:\\d+|august \\d+rd \\d+:\\d+:\\d+|september \\d+rd \\d+:\\d+:\\d+|october \\d+rd \\d+:\\d+:\\d+|november \\d+rd \\d+:\\d+:\\d+|december \\d+rd \\d+:\\d+:\\d+ \\\n",
    "           january \\d+th \\d+:\\d+:\\d+|february \\d+th \\d+:\\d+:\\d+|march \\d+th \\d+:\\d+:\\d+|april \\d+th \\d+:\\d+:\\d+|may \\d+th \\d+:\\d+:\\d+|june \\d+th \\d+:\\d+:\\d+|july \\d+th \\d+:\\d+:\\d+|august \\d+th \\d+:\\d+:\\d+|september \\d+th \\d+:\\d+:\\d+|october \\d+th \\d+:\\d+:\\d+|november \\d+th \\d+:\\d+:\\d+|december \\d+th \\d+:\\d+:\\d+ \\\n",
    "           january \\d+ \\d+:\\d+:\\d+|february \\d+ \\d+:\\d+:\\d+|march \\d+ \\d+:\\d+:\\d+|april \\d+ \\d+:\\d+:\\d+|may \\d+ \\d+:\\d+:\\d+|june \\d+ \\d+:\\d+:\\d+|july \\d+ \\d+:\\d+:\\d+|august \\d+ \\d+:\\d+:\\d+|september \\d+ \\d+:\\d+:\\d+|october \\d+ \\d+:\\d+:\\d+|november \\d+ \\d+:\\d+:\\d+|december \\d+ \\d+:\\d+:\\d+ \"\n",
    "        for match in re.findall(Month_DD_HMS, TextwithDates):\n",
    "            match_rep = re.sub(suffix,'', match)\n",
    "            match_rep = re.sub(\"augu\",\"august\",match_rep)\n",
    "            datetime_object = datetime.strptime(match_rep,\"%B %d %H:%M:%S\")\n",
    "            dateNewFormat = datetime_object.strftime(\"%B%#d_%H:%M:%S\")\n",
    "            TextwithDates = re.sub(match, dateNewFormat, TextwithDates)\n",
    "        \n",
    "        Month_DD_HM = r\"january \\d+st \\d+:\\d+|february \\d+st \\d+:\\d+|march \\d+st \\d+:\\d+|april \\d+st \\d+:\\d+|may \\d+st \\d+:\\d+|june \\d+st \\d+:\\d+|july \\d+st \\d+:\\d+|august \\d+st \\d+:\\d+|september \\d+st \\d+:\\d+|october \\d+st \\d+:\\d+|november \\d+st \\d+:\\d+|december \\d+st \\d+:\\d+ \\\n",
    "           january \\d+nd \\d+:\\d+|february \\d+nd \\d+:\\d+|march \\d+nd \\d+:\\d+|april \\d+nd \\d+:\\d+|may \\d+nd \\d+:\\d+|june \\d+nd \\d+:\\d+|july \\d+nd \\d+:\\d+|august \\d+nd \\d+:\\d+|september \\d+nd \\d+:\\d+|october \\d+nd \\d+:\\d+|november \\d+nd \\d+:\\d+|december \\d+nd \\d+:\\d+ \\\n",
    "           january \\d+rd \\d+:\\d+|february \\d+rd \\d+:\\d+|march \\d+rd \\d+:\\d+|april \\d+rd \\d+:\\d+|may \\d+rd \\d+:\\d+|june \\d+rd \\d+:\\d+|july \\d+rd \\d+:\\d+|august \\d+rd \\d+:\\d+|september \\d+rd \\d+:\\d+|october \\d+rd \\d+:\\d+|november \\d+rd \\d+:\\d+|december \\d+rd \\d+:\\d+ \\\n",
    "           january \\d+th \\d+:\\d+|february \\d+th \\d+:\\d+|march \\d+th \\d+:\\d+|april \\d+th \\d+:\\d+|may \\d+th \\d+:\\d+|june \\d+th \\d+:\\d+|july \\d+th \\d+:\\d+|august \\d+th \\d+:\\d+|september \\d+th \\d+:\\d+|october \\d+th \\d+:\\d+|november \\d+th \\d+:\\d+|december \\d+th \\d+:\\d+ \\\n",
    "           january \\d+ \\d+:\\d+|february \\d+ \\d+:\\d+|march \\d+ \\d+:\\d+|april \\d+ \\d+:\\d+|may \\d+ \\d+:\\d+|june \\d+ \\d+:\\d+|july \\d+ \\d+:\\d+|august \\d+ \\d+:\\d+|september \\d+ \\d+:\\d+|october \\d+ \\d+:\\d+|november \\d+ \\d+:\\d+|december \\d+ \\d+:\\d+ \"\n",
    "        for match in re.findall(Month_DD_HM, TextwithDates):\n",
    "            match_rep = re.sub(suffix,'', match)\n",
    "            match_rep = re.sub(\"augu\",\"august\",match_rep)\n",
    "            datetime_object = datetime.strptime(match_rep,\"%B %d %H:%M\")\n",
    "            dateNewFormat = datetime_object.strftime(\"%B%#d_%H:%M\")\n",
    "            TextwithDates = re.sub(match, dateNewFormat, TextwithDates)\n",
    "            \n",
    "        Month_DD = r\"january \\d+st|february \\d+st|march \\d+st|april \\d+st|may \\d+st|june \\d+st|july \\d+st|august \\d+st|september \\d+st|october \\d+st|november \\d+st|december \\d+st \\\n",
    "           january \\d+nd|february \\d+nd|march \\d+nd|april \\d+nd|may \\d+nd|june \\d+nd|july \\d+nd|august \\d+nd|september \\d+nd|october \\d+nd|november \\d+nd|december \\d+nd \\\n",
    "           january \\d+rd|february \\d+rd|march \\d+rd|april \\d+rd|may \\d+rd|june \\d+rd|july \\d+rd|august \\d+rd|september \\d+rd|october \\d+rd|november \\d+rd|december \\d+rd \\\n",
    "           january \\d+th|february \\d+th|march \\d+th|april \\d+th|may \\d+th|june \\d+th|july \\d+th|august \\d+th|september \\d+th|october \\d+th|november \\d+th|december \\d+th \\\n",
    "           january \\d+|february \\d+|march \\d+|april \\d+|may \\d+|june \\d+|july \\d+|august \\d+|september \\d+|october \\d+|november \\d+|december \\d+\"\n",
    "        for match in re.findall(Month_DD, TextwithDates):\n",
    "            match_rep = re.sub(suffix,'', match)\n",
    "            match_rep = re.sub(\"augu\",\"august\",match_rep)\n",
    "            datetime_object = datetime.strptime(match_rep,\"%B %d\")\n",
    "            dateNewFormat = datetime_object.strftime(\"%B%#d\")\n",
    "            TextwithDates = re.sub(match, dateNewFormat, TextwithDates)\n",
    "        \n",
    "        # No Space between month and date\n",
    "        MonthDD_HMS = r\"january\\d+st \\d+:\\d+:\\d+|february\\d+st \\d+:\\d+:\\d+|march\\d+st \\d+:\\d+:\\d+|april\\d+st \\d+:\\d+:\\d+|may\\d+st \\d+:\\d+:\\d+|june\\d+st \\d+:\\d+:\\d+|july\\d+st \\d+:\\d+:\\d+|august\\d+st \\d+:\\d+:\\d+|september\\d+st \\d+:\\d+:\\d+|october\\d+st \\d+:\\d+:\\d+|november\\d+st \\d+:\\d+:\\d+|december\\d+st \\d+:\\d+:\\d+ \\\n",
    "           january\\d+nd \\d+:\\d+:\\d+|february\\d+nd \\d+:\\d+:\\d+|march\\d+nd \\d+:\\d+:\\d+|april\\d+nd \\d+:\\d+:\\d+|may\\d+nd \\d+:\\d+:\\d+|june\\d+nd \\d+:\\d+:\\d+|july\\d+nd \\d+:\\d+:\\d+|august\\d+nd \\d+:\\d+:\\d+|september\\d+nd \\d+:\\d+:\\d+|october\\d+nd \\d+:\\d+:\\d+|november\\d+nd \\d+:\\d+:\\d+|december\\d+nd \\d+:\\d+:\\d+ \\\n",
    "           january\\d+rd \\d+:\\d+:\\d+|february\\d+rd \\d+:\\d+:\\d+|march\\d+rd \\d+:\\d+:\\d+|april\\d+rd \\d+:\\d+:\\d+|may\\d+rd \\d+:\\d+:\\d+|june\\d+rd \\d+:\\d+:\\d+|july\\d+rd \\d+:\\d+:\\d+|august\\d+rd \\d+:\\d+:\\d+|september\\d+rd \\d+:\\d+:\\d+|october\\d+rd \\d+:\\d+:\\d+|november\\d+rd \\d+:\\d+:\\d+|december\\d+rd \\d+:\\d+:\\d+ \\\n",
    "           january\\d+th \\d+:\\d+:\\d+|february\\d+th \\d+:\\d+:\\d+|march\\d+th \\d+:\\d+:\\d+|april\\d+th \\d+:\\d+:\\d+|may\\d+th \\d+:\\d+:\\d+|june\\d+th \\d+:\\d+:\\d+|july\\d+th \\d+:\\d+:\\d+|august\\d+th \\d+:\\d+:\\d+|september\\d+th \\d+:\\d+:\\d+|october\\d+th \\d+:\\d+:\\d+|november\\d+th \\d+:\\d+:\\d+|december\\d+th \\d+:\\d+:\\d+ \\\n",
    "           january\\d+ \\d+:\\d+:\\d+|february\\d+ \\d+:\\d+:\\d+|march\\d+ \\d+:\\d+:\\d+|april\\d+ \\d+:\\d+:\\d+|may\\d+ \\d+:\\d+:\\d+|june\\d+ \\d+:\\d+:\\d+|july\\d+ \\d+:\\d+:\\d+|august\\d+ \\d+:\\d+:\\d+|september\\d+ \\d+:\\d+:\\d+|october\\d+ \\d+:\\d+:\\d+|november\\d+ \\d+:\\d+:\\d+|december\\d+ \\d+:\\d+:\\d+ \"\n",
    "        for match in re.findall(MonthDD_HMS, TextwithDates):\n",
    "            match_rep = re.sub(suffix,'', match)\n",
    "            match_rep = re.sub(\"augu\",\"august\",match_rep)\n",
    "            datetime_object = datetime.strptime(match_rep,\"%B%d %H:%M:%S\")\n",
    "            dateNewFormat = datetime_object.strftime(\"%B%#d_%H:%M:%S\")\n",
    "            TextwithDates = re.sub(match, dateNewFormat, TextwithDates)\n",
    "        \n",
    "        MonthDD_HM = r\"january\\d+st \\d+:\\d+|february\\d+st \\d+:\\d+|march\\d+st \\d+:\\d+|april\\d+st \\d+:\\d+|may\\d+st \\d+:\\d+|june\\d+st \\d+:\\d+|july\\d+st \\d+:\\d+|august\\d+st \\d+:\\d+|september\\d+st \\d+:\\d+|october\\d+st \\d+:\\d+|november\\d+st \\d+:\\d+|december\\d+st \\d+:\\d+ \\\n",
    "           january\\d+nd \\d+:\\d+|february\\d+nd \\d+:\\d+|march\\d+nd \\d+:\\d+|april\\d+nd \\d+:\\d+|may\\d+nd \\d+:\\d+|june\\d+nd \\d+:\\d+|july\\d+nd \\d+:\\d+|august\\d+nd \\d+:\\d+|september\\d+nd \\d+:\\d+|october\\d+nd \\d+:\\d+|november\\d+nd \\d+:\\d+|december\\d+nd \\d+:\\d+ \\\n",
    "           january\\d+rd \\d+:\\d+|february\\d+rd \\d+:\\d+|march\\d+rd \\d+:\\d+|april\\d+rd \\d+:\\d+|may\\d+rd \\d+:\\d+|june\\d+rd \\d+:\\d+|july\\d+rd \\d+:\\d+|august\\d+rd \\d+:\\d+|september\\d+rd \\d+:\\d+|october\\d+rd \\d+:\\d+|november\\d+rd \\d+:\\d+|december\\d+rd \\d+:\\d+ \\\n",
    "           january\\d+th \\d+:\\d+|february\\d+th \\d+:\\d+|march\\d+th \\d+:\\d+|april\\d+th \\d+:\\d+|may\\d+th \\d+:\\d+|june\\d+th \\d+:\\d+|july\\d+th \\d+:\\d+|august\\d+th \\d+:\\d+|september\\d+th \\d+:\\d+|october\\d+th \\d+:\\d+|november\\d+th \\d+:\\d+|december\\d+th \\d+:\\d+ \\\n",
    "           january\\d+ \\d+:\\d+|februaryruary\\d+ \\d+:\\d+|march\\d+ \\d+:\\d+|april\\d+ \\d+:\\d+|may\\d+ \\d+:\\d+|june\\d+ \\d+:\\d+|july\\d+ \\d+:\\d+|august\\d+ \\d+:\\d+|september\\d+ \\d+:\\d+|october\\d+ \\d+:\\d+|november\\d+ \\d+:\\d+|december\\d+ \\d+:\\d+ \"\n",
    "        for match in re.findall(MonthDD_HM, TextwithDates):\n",
    "            match_rep = re.sub(suffix,'', match)\n",
    "            match_rep = re.sub(\"augu\",\"august\",match_rep)\n",
    "            datetime_object = datetime.strptime(match_rep,\"%B%d %H:%M\")\n",
    "            dateNewFormat = datetime_object.strftime(\"%B%#d_%H:%M\")\n",
    "            TextwithDates = re.sub(match, dateNewFormat, TextwithDates)\n",
    "        \n",
    "        MonthDD = r\"january\\d+st|february\\d+st|march\\d+st|april\\d+st|may\\d+st|june\\d+st|july\\d+st|august\\d+st|september\\d+st|october\\d+st|november\\d+st|december\\d+st \\\n",
    "           january\\d+nd|february\\d+nd|march\\d+nd|april\\d+nd|may\\d+nd|june\\d+nd|july\\d+nd|august\\d+nd|september\\d+nd|october\\d+nd|november\\d+nd|december\\d+nd \\\n",
    "           january\\d+rd|february\\d+rd|march\\d+rd|april\\d+rd|may\\d+rd|june\\d+rd|july\\d+rd|august\\d+rd|september\\d+rd|october\\d+rd|november\\d+rd|december\\d+rd \\\n",
    "           january\\d+th|february\\d+th|march\\d+th|april\\d+th|may\\d+th|june\\d+th|july\\d+th|august\\d+th|september\\d+th|october\\d+th|november\\d+th|december\\d+th \\\n",
    "           january\\d+|february\\d+|march\\d+|april\\d+|may\\d+|june\\d+|july\\d+|august\\d+|september\\d+|october\\d+|november\\d+|december\\d+ \"\n",
    "        for match in re.findall(MonthDD, TextwithDates):\n",
    "            match_rep = re.sub(suffix,'', match)\n",
    "            match_rep = re.sub(\"augu\",\"august\",match_rep)\n",
    "            datetime_object = datetime.strptime(match_rep,\"%B%d\")\n",
    "            dateNewFormat = datetime_object.strftime(\"%B%#d\")\n",
    "            TextwithDates = re.sub(match, dateNewFormat, TextwithDates)\n",
    "        \n",
    "        # Replace 2/29 to february29\n",
    "        for match in re.findall(\"2/29\", TextwithDates):\n",
    "            TextwithDates = re.sub(match, \"February29\", TextwithDates)\n",
    "\n",
    "        # First convert YYYY to YY\n",
    "        for match in re.findall(r'/\\d{4}', TextwithDates):\n",
    "            match = re.sub('/','' , match)\n",
    "            #convert match to new format\n",
    "            datetime_object = datetime.strptime(match, \"%Y\")\n",
    "            dateNewFormat = datetime_object.strftime(\"%y\")\n",
    "            #substitute the old date with the new\n",
    "            TextwithDates = re.sub(match, dateNewFormat, TextwithDates)\n",
    "\n",
    "        # convert %m/%d/%y formatted texts to %m/%d\n",
    "        for match in re.findall(r'\\d+/\\d+/\\d+', TextwithDates):\n",
    "            #convert match to new format\n",
    "            datetime_object = datetime.strptime(match, \"%m/%d/%y\")\n",
    "            dateNewFormat = datetime_object.strftime(\"%#m/%#d\")\n",
    "            #substitute the old date with the new\n",
    "            TextwithDates = re.sub(match, dateNewFormat, TextwithDates)\n",
    "\n",
    "        # convert %m/%d %H:%M:%S formatted texts to %B%d_%H:%M:%S\n",
    "        for match in re.findall(r'\\d+/\\d+ \\d+:\\d+:\\d+', TextwithDates):\n",
    "            datetime_object = datetime.strptime(match, \"%m/%d %H:%M:%S\")\n",
    "            dateNewFormat = datetime_object.strftime(\"%B%#d_%H:%M:%S\")\n",
    "            #substitute the old date with the new\n",
    "            TextwithDates = re.sub(match, dateNewFormat, TextwithDates)\n",
    "\n",
    "        # convert %m/%d %H:%M formatted texts to %B%d_%H:%M\n",
    "        for match in re.findall(r'\\d+/\\d+ \\d+:\\d+', TextwithDates):\n",
    "            datetime_object = datetime.strptime(match, \"%m/%d %H:%M\")\n",
    "            dateNewFormat = datetime_object.strftime(\"%B%#d_%H:%M\")\n",
    "            #substitute the old date with the new\n",
    "            TextwithDates = re.sub(match, dateNewFormat, TextwithDates)\n",
    "\n",
    "        # convert %m/%d formatted texts to %B%d\n",
    "        for match in re.findall(r'\\d+/\\d+', TextwithDates):\n",
    "            datetime_object = datetime.strptime(match, \"%m/%d\")\n",
    "            dateNewFormat = datetime_object.strftime(\"%B%#d\")\n",
    "            #substitute the old date with the new\n",
    "            TextwithDates = re.sub(match, dateNewFormat, TextwithDates)\n",
    "            \n",
    "        return(TextwithDates)\n",
    "    except Exception as e:\n",
    "        return(e)\n",
    "    \n",
    "# MonthDD = r\"January\\d+|February\\d+|March\\d+|April\\d+|May\\d+|June\\d+|July\\d+|August\\d+|September\\d+|October\\d+|November\\d+|December\\d+\"    "
   ]
  },
  {
   "cell_type": "code",
   "execution_count": null,
   "metadata": {},
   "outputs": [],
   "source": [
    "# Text_error is missing if an error is present while processing functions\n",
    "ClinicalNotes_error = ClinicalNotes_error[pd.isnull(ClinicalNotes_error.Text_error)]\n",
    "\n",
    "# Text_error here produces the error for the above data set\n",
    "ClinicalNotes_error['Text_error'] = ClinicalNotes_error.apply(lambda x: ErrorsINChangeDateTimeFormat(x.Text), axis=1)\n",
    "ClinicalNotes_error.to_excel('Py DataFrames/ClinicalNotes_errors.xlsx',index=False)"
   ]
  },
  {
   "cell_type": "code",
   "execution_count": null,
   "metadata": {},
   "outputs": [],
   "source": [
    "# textToSearch = \"date of service from 8/6 to 9/8/19 \"\n",
    "# textToSearch = \"date of service from 8/6 to 9/8/19 and 12/8/2019\"\n",
    "# textToSearch = \"date of service from 8/6 to 9/8/19 and 12/8/2019 and september 6th 2019\"\n",
    "# textToSearch = \"date of service from 8/6 to 9/8/19 and 12/8/2019 and september 6th 2019 in 101.4 as 1400\" # year \n",
    "# textToSearch = \"date of service from 8/6 to 9/8/19 and 12/8/2019 and september 6th 2019 in 101.4 as @1400\"\n",
    "# textToSearch = \"date of service from 8/6 to 9/8/19 and 12/8/2019 and september 6th 2019 in 101.4 as 6000\"\n",
    "# textToSearch = \"date of service from sep08 to 8/6/19 to 9/8/19 to 08/05/19 17:26:00 CDT and not 6/7\"\n",
    "# textToSearch = \"08/05/19 17:26:00 CDT 08/05 4:05 9/8/19 and 12/8/2019 temp 101 and september 6 2019 march 8th xxx jan10th xyz jan 8th  na 140 (aug 07) 143 (aug 06) 141 (aug 05) \" # \n",
    "# textToSearch = \"08/05/19 17:26:00 CDT 08/05 4:05 9/8/19 and 12/8/2019 temp 101 and september 6 2019 march 8th xxx jan10th xyz jan 8th  na 140 (aug 07) 143 (aug 06) 141 (aug 05) \" # \n",
    "# textToSearch = \"scr remains stable 1.6-1.9. ply holding at 180s, ast/alt 76/51\" # \n",
    "# textToSearch = \"16/6 per prog note: her work up for infectious colitis thus far has been negative\" #If date is in dd/mm format the code ignores or doesn't convert \n",
    "# textToSearch = \"9/26-\\nmica 9/27-\\nceftriaxone 9/24-9/26\\nmero 9/229/24\\n\\n9/27 id on board\" #In this case, 9/229/24 it is supposed to be 9/22 and 9/24 but since there is no gap etc between the two it is considered as an error\n",
    "# textToSearch = \"percocet 5/325\\n\\npmh: cad, chf, gerd, htn\" \n",
    "# # In row 4722 - looks like only of its date is written in dd/mm format\n",
    "# # In row 22572 - check again\n",
    "# # In row 33745 - 169382/1283521\n",
    "\n",
    "# textToSearch = ClinicalNotes[ClinicalNotes.Row==3099].Text\n",
    "# textToSearch\n",
    "\n",
    "# ClinicalNotes_WBC['wbcRows'] = ClinicalNotes_WBC['Text_DateTimeFormatted'].str.findall(r'wbc')\n",
    "# re.findall(r'\\d+/\\d+/\\d+', textToSearch)\n",
    "\n",
    "# ChangeDateFormat(textToSearch)\n",
    "# ErrorsINChangeDateTimeFormat(textToSearch)\n",
    "\n",
    "# MonthDD = r\"January\\d+|February\\d+|March\\d+|April\\d+|May\\d+|June\\d+|July\\d+|August\\d+|September\\d+|October\\d+|November\\d+|December\\d+\"\n",
    "# for match in re.findall(MonthDD, textToSearch):\n",
    "#     print(match)"
   ]
  },
  {
   "cell_type": "code",
   "execution_count": null,
   "metadata": {},
   "outputs": [],
   "source": [
    "# If error then return the original text itself\n",
    "def ChangeDateTimeFormat(TextwithDates):\n",
    "    try:\n",
    "        # Replace sept with sep            \n",
    "        for match in re.findall(\"sept \\d+\", TextwithDates):\n",
    "            match_rep = re.sub('sept','sep' ,match)\n",
    "            TextwithDates = re.sub(match, match_rep, TextwithDates)\n",
    "            \n",
    "        # Convert jan & january independently     \n",
    "        suffix = r\"st|nd|rd|th\"   \n",
    "        \n",
    "        # Extract Month_Year\n",
    "        Month_Year = \"january \\d{4}|february \\d{4}|march \\d{4}|april \\d{4}|may \\d{4}|june \\d{4}|july \\d{4}|august \\d{4}|september \\d{4}|october \\d{4}|november \\d{4}|december \\d{4}\"\n",
    "        for match in re.findall(Month_Year, TextwithDates):\n",
    "            datetime_object = datetime.strptime(match,\"%B %Y\")\n",
    "            dateNewFormat = datetime_object.strftime(\"%Y%B\")\n",
    "            TextwithDates = re.sub(match, dateNewFormat, TextwithDates)\n",
    "            \n",
    "        # Mon_Year\n",
    "        Mon_Year = \"jan \\d{4}|feb \\d{4}|mar \\d{4}|apr \\d{4}|may \\d{4}|jun \\d{4}|jul \\d{4}|aug \\d{4}|sep \\d{4}|oct \\d{4}|nov \\d{4}|dec \\d{4}\"\n",
    "        for match in re.findall(Mon_Year, TextwithDates):\n",
    "            datetime_object = datetime.strptime(match,\"%b %Y\")\n",
    "            dateNewFormat = datetime_object.strftime(\"%Y%B\")\n",
    "            TextwithDates = re.sub(match, dateNewFormat, TextwithDates)\n",
    "        \n",
    "        # Mon_Year\n",
    "        Mon_Year = \"jan \\d+|feb \\d+|mar \\d+|apr \\d+|may \\d+|jun \\d+|jul \\d+|aug \\d+|sep \\d+|oct \\d+|nov \\d+|dec \\d+\"\n",
    "        for match in re.findall(Mon_Year, TextwithDates):\n",
    "            match_rep = re.sub(suffix,'', match)\n",
    "            datetime_object = datetime.strptime(match_rep,\"%b %Y\")\n",
    "            dateNewFormat = datetime_object.strftime(\"%Y%B\")\n",
    "            TextwithDates = re.sub(match, dateNewFormat, TextwithDates)\n",
    "        \n",
    "        # No Space between month and date\n",
    "        MonDD_HMS = r\"jan\\d+st \\d+:\\d+:\\d+|feb\\d+st \\d+:\\d+:\\d+|mar\\d+st \\d+:\\d+:\\d+|apr\\d+st \\d+:\\d+:\\d+|may\\d+st \\d+:\\d+:\\d+|jun\\d+st \\d+:\\d+:\\d+|jul\\d+st \\d+:\\d+:\\d+|aug\\d+st \\d+:\\d+:\\d+|sep\\d+st \\d+:\\d+:\\d+|oct\\d+st \\d+:\\d+:\\d+|nov\\d+st \\d+:\\d+:\\d+|dec\\d+st \\d+:\\d+:\\d+ \\\n",
    "           jan\\d+nd \\d+:\\d+:\\d+|feb\\d+nd \\d+:\\d+:\\d+|mar\\d+nd \\d+:\\d+:\\d+|apr\\d+nd \\d+:\\d+:\\d+|may\\d+nd \\d+:\\d+:\\d+|jun\\d+nd \\d+:\\d+:\\d+|jul\\d+nd \\d+:\\d+:\\d+|aug\\d+nd \\d+:\\d+:\\d+|sep\\d+nd \\d+:\\d+:\\d+|oct\\d+nd \\d+:\\d+:\\d+|nov\\d+nd \\d+:\\d+:\\d+|dec\\d+nd \\d+:\\d+:\\d+ \\\n",
    "           jan\\d+rd \\d+:\\d+:\\d+|feb\\d+rd \\d+:\\d+:\\d+|mar\\d+rd \\d+:\\d+:\\d+|apr\\d+rd \\d+:\\d+:\\d+|may\\d+rd \\d+:\\d+:\\d+|jun\\d+rd \\d+:\\d+:\\d+|jul\\d+rd \\d+:\\d+:\\d+|aug\\d+rd \\d+:\\d+:\\d+|sep\\d+rd \\d+:\\d+:\\d+|oct\\d+rd \\d+:\\d+:\\d+|nov\\d+rd \\d+:\\d+:\\d+|dec\\d+rd \\d+:\\d+:\\d+ \\\n",
    "           jan\\d+th \\d+:\\d+:\\d+|feb\\d+th \\d+:\\d+:\\d+|mar\\d+th \\d+:\\d+:\\d+|apr\\d+th \\d+:\\d+:\\d+|may\\d+th \\d+:\\d+:\\d+|jun\\d+th \\d+:\\d+:\\d+|jul\\d+th \\d+:\\d+:\\d+|aug\\d+th \\d+:\\d+:\\d+|sep\\d+th \\d+:\\d+:\\d+|oct\\d+th \\d+:\\d+:\\d+|nov\\d+th \\d+:\\d+:\\d+|dec\\d+th \\d+:\\d+:\\d+ \\\n",
    "           jan\\d+ \\d+:\\d+:\\d+|feb\\d+ \\d+:\\d+:\\d+|mar\\d+ \\d+:\\d+:\\d+|apr\\d+ \\d+:\\d+:\\d+|may\\d+ \\d+:\\d+:\\d+|jun\\d+ \\d+:\\d+:\\d+|jul\\d+ \\d+:\\d+:\\d+|aug\\d+ \\d+:\\d+:\\d+|sep\\d+ \\d+:\\d+:\\d+|oct\\d+ \\d+:\\d+:\\d+|nov\\d+ \\d+:\\d+:\\d+|dec\\d+ \\d+:\\d+:\\d+\"\n",
    "        for match in re.findall(MonDD_HMS, TextwithDates):\n",
    "            match_rep = re.sub(suffix,'', match)\n",
    "            datetime_object = datetime.strptime(match_rep,\"%b%d %H:%M:%S\")\n",
    "            dateNewFormat = datetime_object.strftime(\"%B%#d_%H:%M:%S\")\n",
    "            TextwithDates = re.sub(match, dateNewFormat, TextwithDates)\n",
    "            \n",
    "        MonDD_HM = r\"jan\\d+st \\d+:\\d+|feb\\d+st \\d+:\\d+|mar\\d+st \\d+:\\d+|apr\\d+st \\d+:\\d+|may\\d+st \\d+:\\d+|jun\\d+st \\d+:\\d+|jul\\d+st \\d+:\\d+|aug\\d+st \\d+:\\d+|sep\\d+st \\d+:\\d+|oct\\d+st \\d+:\\d+|nov\\d+st \\d+:\\d+|dec\\d+st \\d+:\\d+ \\\n",
    "           jan\\d+nd \\d+:\\d+|feb\\d+nd \\d+:\\d+|mar\\d+nd \\d+:\\d+|apr\\d+nd \\d+:\\d+|may\\d+nd \\d+:\\d+|jun\\d+nd \\d+:\\d+|jul\\d+nd \\d+:\\d+|aug\\d+nd \\d+:\\d+|sep\\d+nd \\d+:\\d+|oct\\d+nd \\d+:\\d+|nov\\d+nd \\d+:\\d+|dec\\d+nd \\d+:\\d+ \\\n",
    "           jan\\d+rd \\d+:\\d+|feb\\d+rd \\d+:\\d+|mar\\d+rd \\d+:\\d+|apr\\d+rd \\d+:\\d+|may\\d+rd \\d+:\\d+|jun\\d+rd \\d+:\\d+|jul\\d+rd \\d+:\\d+|aug\\d+rd \\d+:\\d+|sep\\d+rd \\d+:\\d+|oct\\d+rd \\d+:\\d+|nov\\d+rd \\d+:\\d+|dec\\d+rd \\d+:\\d+ \\\n",
    "           jan\\d+th \\d+:\\d+|feb\\d+th \\d+:\\d+|mar\\d+th \\d+:\\d+|apr\\d+th \\d+:\\d+|may\\d+th \\d+:\\d+|jun\\d+th \\d+:\\d+|jul\\d+th \\d+:\\d+|aug\\d+th \\d+:\\d+|sep\\d+th \\d+:\\d+|oct\\d+th \\d+:\\d+|nov\\d+th \\d+:\\d+|dec\\d+th \\d+:\\d+ \\\n",
    "           jan\\d+ \\d+:\\d+|feb\\d+ \\d+:\\d+|mar\\d+ \\d+:\\d+|apr\\d+ \\d+:\\d+|may\\d+ \\d+:\\d+|jun\\d+ \\d+:\\d+|jul\\d+ \\d+:\\d+|aug\\d+ \\d+:\\d+|sep\\d+ \\d+:\\d+|oct\\d+ \\d+:\\d+|nov\\d+ \\d+:\\d+|dec\\d+ \\d+:\\d+\"           \n",
    "        for match in re.findall(MonDD_HM, TextwithDates):\n",
    "            match_rep = re.sub(suffix,'', match)\n",
    "            datetime_object = datetime.strptime(match_rep,\"%b%d %H:%M\")\n",
    "            dateNewFormat = datetime_object.strftime(\"%B%#d_%H:%M\")\n",
    "            TextwithDates = re.sub(match, dateNewFormat, TextwithDates)\n",
    "            \n",
    "        MonDD = r\"jan\\d+st|feb\\d+st|mar\\d+st|apr\\d+st|may\\d+st|jun\\d+st|jul\\d+st|aug\\d+st|sep\\d+st|oct\\d+st|nov\\d+st|dec\\d+st \\\n",
    "           jan\\d+nd|feb\\d+nd|mar\\d+nd|apr\\d+nd|may\\d+nd|jun\\d+nd|jul\\d+nd|aug\\d+nd|sep\\d+nd|oct\\d+nd|nov\\d+nd|dec\\d+nd \\\n",
    "           jan\\d+rd|feb\\d+rd|mar\\d+rd|apr\\d+rd|may\\d+rd|jun\\d+rd|jul\\d+rd|aug\\d+rd|sep\\d+rd|oct\\d+rd|nov\\d+rd|dec\\d+rd \\\n",
    "           jan\\d+th|feb\\d+th|mar\\d+th|apr\\d+th|may\\d+th|jun\\d+th|jul\\d+th|aug\\d+th|sep\\d+th|oct\\d+th|nov\\d+th|dec\\d+th \\\n",
    "           jan\\d+|feb\\d+|mar\\d+|apr\\d+|may\\d+|jun\\d+|jul\\d+|aug\\d+|sep\\d+|oct\\d+|nov\\d+|dec\\d+\"\n",
    "        for match in re.findall(MonDD, TextwithDates):\n",
    "            match_rep = re.sub(suffix,'', match)\n",
    "            datetime_object = datetime.strptime(match_rep,\"%b%d\")\n",
    "            dateNewFormat = datetime_object.strftime(\"%B%#d\")\n",
    "            TextwithDates = re.sub(match, dateNewFormat, TextwithDates)\n",
    "        \n",
    "        # Space between month and date\n",
    "        Mon_DD_HMS = r\"jan \\d+st \\d+:\\d+:\\d+|feb \\d+st \\d+:\\d+:\\d+|mar \\d+st \\d+:\\d+:\\d+|apr \\d+st \\d+:\\d+:\\d+|may \\d+st \\d+:\\d+:\\d+|jun \\d+st \\d+:\\d+:\\d+|jul \\d+st \\d+:\\d+:\\d+|aug \\d+st \\d+:\\d+:\\d+|sep \\d+st \\d+:\\d+:\\d+|oct \\d+st \\d+:\\d+:\\d+|nov \\d+st \\d+:\\d+:\\d+|dec \\d+st \\d+:\\d+:\\d+ \\\n",
    "           jan \\d+nd \\d+:\\d+:\\d+|feb \\d+nd \\d+:\\d+:\\d+|mar \\d+nd \\d+:\\d+:\\d+|apr \\d+nd \\d+:\\d+:\\d+|may \\d+nd \\d+:\\d+:\\d+|jun \\d+nd \\d+:\\d+:\\d+|jul \\d+nd \\d+:\\d+:\\d+|aug \\d+nd \\d+:\\d+:\\d+|sep \\d+nd \\d+:\\d+:\\d+|oct \\d+nd \\d+:\\d+:\\d+|nov \\d+nd \\d+:\\d+:\\d+|dec \\d+nd \\d+:\\d+:\\d+ \\\n",
    "           jan \\d+rd \\d+:\\d+:\\d+|feb \\d+rd \\d+:\\d+:\\d+|mar \\d+rd \\d+:\\d+:\\d+|apr \\d+rd \\d+:\\d+:\\d+|may \\d+rd \\d+:\\d+:\\d+|jun \\d+rd \\d+:\\d+:\\d+|jul \\d+rd \\d+:\\d+:\\d+|aug \\d+rd \\d+:\\d+:\\d+|sep \\d+rd \\d+:\\d+:\\d+|oct \\d+rd \\d+:\\d+:\\d+|nov \\d+rd \\d+:\\d+:\\d+|dec \\d+rd \\d+:\\d+:\\d+ \\\n",
    "           jan \\d+th \\d+:\\d+:\\d+|feb \\d+th \\d+:\\d+:\\d+|mar \\d+th \\d+:\\d+:\\d+|apr \\d+th \\d+:\\d+:\\d+|may \\d+th \\d+:\\d+:\\d+|jun \\d+th \\d+:\\d+:\\d+|jul \\d+th \\d+:\\d+:\\d+|aug \\d+th \\d+:\\d+:\\d+|sep \\d+th \\d+:\\d+:\\d+|oct \\d+th \\d+:\\d+:\\d+|nov \\d+th \\d+:\\d+:\\d+|dec \\d+th \\d+:\\d+:\\d+ \\\n",
    "           jan \\d+ \\d+:\\d+:\\d+|feb \\d+ \\d+:\\d+:\\d+|mar \\d+ \\d+:\\d+:\\d+|apr \\d+ \\d+:\\d+:\\d+|may \\d+ \\d+:\\d+:\\d+|jun \\d+ \\d+:\\d+:\\d+|jul \\d+ \\d+:\\d+:\\d+|aug \\d+ \\d+:\\d+:\\d+|sep \\d+ \\d+:\\d+:\\d+|oct \\d+ \\d+:\\d+:\\d+|nov \\d+ \\d+:\\d+:\\d+|dec \\d+ \\d+:\\d+:\\d+\"\n",
    "        for match in re.findall(Mon_DD_HMS, TextwithDates):\n",
    "            match_rep = re.sub(suffix,'', match)\n",
    "            datetime_object = datetime.strptime(match_rep,\"%b %d %H:%M:%S\")\n",
    "            dateNewFormat = datetime_object.strftime(\"%B%#d_%H:%M:%S\")\n",
    "            TextwithDates = re.sub(match, dateNewFormat, TextwithDates)\n",
    "            \n",
    "        Mon_DD_HM = r\"jan \\d+st \\d+:\\d+|feb \\d+st \\d+:\\d+|mar \\d+st \\d+:\\d+|apr \\d+st \\d+:\\d+|may \\d+st \\d+:\\d+|jun \\d+st \\d+:\\d+|jul \\d+st \\d+:\\d+|aug \\d+st \\d+:\\d+|sep \\d+st \\d+:\\d+|oct \\d+st \\d+:\\d+|nov \\d+st \\d+:\\d+|dec \\d+st \\d+:\\d+ \\\n",
    "           jan \\d+nd \\d+:\\d+|feb \\d+nd \\d+:\\d+|mar \\d+nd \\d+:\\d+|apr \\d+nd \\d+:\\d+|may \\d+nd \\d+:\\d+|jun \\d+nd \\d+:\\d+|jul \\d+nd \\d+:\\d+|aug \\d+nd \\d+:\\d+|sep \\d+nd \\d+:\\d+|oct \\d+nd \\d+:\\d+|nov \\d+nd \\d+:\\d+|dec \\d+nd \\d+:\\d+ \\\n",
    "           jan \\d+rd \\d+:\\d+|feb \\d+rd \\d+:\\d+|mar \\d+rd \\d+:\\d+|apr \\d+rd \\d+:\\d+|may \\d+rd \\d+:\\d+|jun \\d+rd \\d+:\\d+|jul \\d+rd \\d+:\\d+|aug \\d+rd \\d+:\\d+|sep \\d+rd \\d+:\\d+|oct \\d+rd \\d+:\\d+|nov \\d+rd \\d+:\\d+|dec \\d+rd \\d+:\\d+ \\\n",
    "           jan \\d+th \\d+:\\d+|feb \\d+th \\d+:\\d+|mar \\d+th \\d+:\\d+|apr \\d+th \\d+:\\d+|may \\d+th \\d+:\\d+|jun \\d+th \\d+:\\d+|jul \\d+th \\d+:\\d+|aug \\d+th \\d+:\\d+|sep \\d+th \\d+:\\d+|oct \\d+th \\d+:\\d+|nov \\d+th \\d+:\\d+|dec \\d+th \\d+:\\d+ \\\n",
    "           jan \\d+ \\d+:\\d+|feb \\d+ \\d+:\\d+|mar \\d+ \\d+:\\d+|apr \\d+ \\d+:\\d+|may \\d+ \\d+:\\d+|jun \\d+ \\d+:\\d+|jul \\d+ \\d+:\\d+|aug \\d+ \\d+:\\d+|sep \\d+ \\d+:\\d+|oct \\d+ \\d+:\\d+|nov \\d+ \\d+:\\d+|dec \\d+ \\d+:\\d+\"\n",
    "        for match in re.findall(Mon_DD_HM, TextwithDates):\n",
    "            match_rep = re.sub(suffix,'', match)\n",
    "            datetime_object = datetime.strptime(match_rep,\"%b %d %H:%M\")\n",
    "            dateNewFormat = datetime_object.strftime(\"%B%#d_%H:%M\")\n",
    "            TextwithDates = re.sub(match, dateNewFormat, TextwithDates)\n",
    "        \n",
    "        Mon_DD = r\"jan \\d+st|feb \\d+st|mar \\d+st|apr \\d+st|may \\d+st|jun \\d+st|jul \\d+st|aug \\d+st|sep \\d+st|oct \\d+st|nov \\d+st|dec \\d+st \\\n",
    "           jan \\d+nd|feb \\d+nd|mar \\d+nd|apr \\d+nd|may \\d+nd|jun \\d+nd|jul \\d+nd|aug \\d+nd|sep \\d+nd|oct \\d+nd|nov \\d+nd|dec \\d+nd \\\n",
    "           jan \\d+rd|feb \\d+rd|mar \\d+rd|apr \\d+rd|may \\d+rd|jun \\d+rd|jul \\d+rd|aug \\d+rd|sep \\d+rd|oct \\d+rd|nov \\d+rd|dec \\d+rd \\\n",
    "           jan \\d+th|feb \\d+th|mar \\d+th|apr \\d+th|may \\d+th|jun \\d+th|jul \\d+th|aug \\d+th|sep \\d+th|oct \\d+th|nov \\d+th|dec \\d+th \\\n",
    "           jan \\d+|feb \\d+|mar \\d+|apr \\d+|may \\d+|jun \\d+|jul \\d+|aug \\d+|sep \\d+|oct \\d+|nov \\d+|dec \\d+\"\n",
    "        for match in re.findall(Mon_DD, TextwithDates):\n",
    "            match_rep = re.sub(suffix,'', match)\n",
    "            datetime_object = datetime.strptime(match_rep,\"%b %d\")\n",
    "            dateNewFormat = datetime_object.strftime(\"%B%#d\")\n",
    "            TextwithDates = re.sub(match, dateNewFormat, TextwithDates)\n",
    "\n",
    "        # Space between month and date\n",
    "        Month_DD_HMS = r\"january \\d+st \\d+:\\d+:\\d+|february \\d+st \\d+:\\d+:\\d+|march \\d+st \\d+:\\d+:\\d+|april \\d+st \\d+:\\d+:\\d+|may \\d+st \\d+:\\d+:\\d+|june \\d+st \\d+:\\d+:\\d+|july \\d+st \\d+:\\d+:\\d+|august \\d+st \\d+:\\d+:\\d+|september \\d+st \\d+:\\d+:\\d+|october \\d+st \\d+:\\d+:\\d+|november \\d+st \\d+:\\d+:\\d+|december \\d+st \\d+:\\d+:\\d+ \\\n",
    "           january \\d+nd \\d+:\\d+:\\d+|february \\d+nd \\d+:\\d+:\\d+|march \\d+nd \\d+:\\d+:\\d+|april \\d+nd \\d+:\\d+:\\d+|may \\d+nd \\d+:\\d+:\\d+|june \\d+nd \\d+:\\d+:\\d+|july \\d+nd \\d+:\\d+:\\d+|august \\d+nd \\d+:\\d+:\\d+|september \\d+nd \\d+:\\d+:\\d+|october \\d+nd \\d+:\\d+:\\d+|november \\d+nd \\d+:\\d+:\\d+|december \\d+nd \\d+:\\d+:\\d+ \\\n",
    "           january \\d+rd \\d+:\\d+:\\d+|february \\d+rd \\d+:\\d+:\\d+|march \\d+rd \\d+:\\d+:\\d+|april \\d+rd \\d+:\\d+:\\d+|may \\d+rd \\d+:\\d+:\\d+|june \\d+rd \\d+:\\d+:\\d+|july \\d+rd \\d+:\\d+:\\d+|august \\d+rd \\d+:\\d+:\\d+|september \\d+rd \\d+:\\d+:\\d+|october \\d+rd \\d+:\\d+:\\d+|november \\d+rd \\d+:\\d+:\\d+|december \\d+rd \\d+:\\d+:\\d+ \\\n",
    "           january \\d+th \\d+:\\d+:\\d+|february \\d+th \\d+:\\d+:\\d+|march \\d+th \\d+:\\d+:\\d+|april \\d+th \\d+:\\d+:\\d+|may \\d+th \\d+:\\d+:\\d+|june \\d+th \\d+:\\d+:\\d+|july \\d+th \\d+:\\d+:\\d+|august \\d+th \\d+:\\d+:\\d+|september \\d+th \\d+:\\d+:\\d+|october \\d+th \\d+:\\d+:\\d+|november \\d+th \\d+:\\d+:\\d+|december \\d+th \\d+:\\d+:\\d+ \\\n",
    "           january \\d+ \\d+:\\d+:\\d+|february \\d+ \\d+:\\d+:\\d+|march \\d+ \\d+:\\d+:\\d+|april \\d+ \\d+:\\d+:\\d+|may \\d+ \\d+:\\d+:\\d+|june \\d+ \\d+:\\d+:\\d+|july \\d+ \\d+:\\d+:\\d+|august \\d+ \\d+:\\d+:\\d+|september \\d+ \\d+:\\d+:\\d+|october \\d+ \\d+:\\d+:\\d+|november \\d+ \\d+:\\d+:\\d+|december \\d+ \\d+:\\d+:\\d+ \"\n",
    "        for match in re.findall(Month_DD_HMS, TextwithDates):\n",
    "            match_rep = re.sub(suffix,'', match)\n",
    "            match_rep = re.sub(\"augu\",\"august\",match_rep)\n",
    "            datetime_object = datetime.strptime(match_rep,\"%B %d %H:%M:%S\")\n",
    "            dateNewFormat = datetime_object.strftime(\"%B%#d_%H:%M:%S\")\n",
    "            TextwithDates = re.sub(match, dateNewFormat, TextwithDates)\n",
    "        \n",
    "        Month_DD_HM = r\"january \\d+st \\d+:\\d+|february \\d+st \\d+:\\d+|march \\d+st \\d+:\\d+|april \\d+st \\d+:\\d+|may \\d+st \\d+:\\d+|june \\d+st \\d+:\\d+|july \\d+st \\d+:\\d+|august \\d+st \\d+:\\d+|september \\d+st \\d+:\\d+|october \\d+st \\d+:\\d+|november \\d+st \\d+:\\d+|december \\d+st \\d+:\\d+ \\\n",
    "           january \\d+nd \\d+:\\d+|february \\d+nd \\d+:\\d+|march \\d+nd \\d+:\\d+|april \\d+nd \\d+:\\d+|may \\d+nd \\d+:\\d+|june \\d+nd \\d+:\\d+|july \\d+nd \\d+:\\d+|august \\d+nd \\d+:\\d+|september \\d+nd \\d+:\\d+|october \\d+nd \\d+:\\d+|november \\d+nd \\d+:\\d+|december \\d+nd \\d+:\\d+ \\\n",
    "           january \\d+rd \\d+:\\d+|february \\d+rd \\d+:\\d+|march \\d+rd \\d+:\\d+|april \\d+rd \\d+:\\d+|may \\d+rd \\d+:\\d+|june \\d+rd \\d+:\\d+|july \\d+rd \\d+:\\d+|august \\d+rd \\d+:\\d+|september \\d+rd \\d+:\\d+|october \\d+rd \\d+:\\d+|november \\d+rd \\d+:\\d+|december \\d+rd \\d+:\\d+ \\\n",
    "           january \\d+th \\d+:\\d+|february \\d+th \\d+:\\d+|march \\d+th \\d+:\\d+|april \\d+th \\d+:\\d+|may \\d+th \\d+:\\d+|june \\d+th \\d+:\\d+|july \\d+th \\d+:\\d+|august \\d+th \\d+:\\d+|september \\d+th \\d+:\\d+|october \\d+th \\d+:\\d+|november \\d+th \\d+:\\d+|december \\d+th \\d+:\\d+ \\\n",
    "           january \\d+ \\d+:\\d+|february \\d+ \\d+:\\d+|march \\d+ \\d+:\\d+|april \\d+ \\d+:\\d+|may \\d+ \\d+:\\d+|june \\d+ \\d+:\\d+|july \\d+ \\d+:\\d+|august \\d+ \\d+:\\d+|september \\d+ \\d+:\\d+|october \\d+ \\d+:\\d+|november \\d+ \\d+:\\d+|december \\d+ \\d+:\\d+ \"\n",
    "        for match in re.findall(Month_DD_HM, TextwithDates):\n",
    "            match_rep = re.sub(suffix,'', match)\n",
    "            match_rep = re.sub(\"augu\",\"august\",match_rep)\n",
    "            datetime_object = datetime.strptime(match_rep,\"%B %d %H:%M\")\n",
    "            dateNewFormat = datetime_object.strftime(\"%B%#d_%H:%M\")\n",
    "            TextwithDates = re.sub(match, dateNewFormat, TextwithDates)\n",
    "            \n",
    "        Month_DD = r\"january \\d+st|february \\d+st|march \\d+st|april \\d+st|may \\d+st|june \\d+st|july \\d+st|august \\d+st|september \\d+st|october \\d+st|november \\d+st|december \\d+st \\\n",
    "           january \\d+nd|february \\d+nd|march \\d+nd|april \\d+nd|may \\d+nd|june \\d+nd|july \\d+nd|august \\d+nd|september \\d+nd|october \\d+nd|november \\d+nd|december \\d+nd \\\n",
    "           january \\d+rd|february \\d+rd|march \\d+rd|april \\d+rd|may \\d+rd|june \\d+rd|july \\d+rd|august \\d+rd|september \\d+rd|october \\d+rd|november \\d+rd|december \\d+rd \\\n",
    "           january \\d+th|february \\d+th|march \\d+th|april \\d+th|may \\d+th|june \\d+th|july \\d+th|august \\d+th|september \\d+th|october \\d+th|november \\d+th|december \\d+th \\\n",
    "           january \\d+|february \\d+|march \\d+|april \\d+|may \\d+|june \\d+|july \\d+|august \\d+|september \\d+|october \\d+|november \\d+|december \\d+\"\n",
    "        for match in re.findall(Month_DD, TextwithDates):\n",
    "            match_rep = re.sub(suffix,'', match)\n",
    "            match_rep = re.sub(\"augu\",\"august\",match_rep)\n",
    "            datetime_object = datetime.strptime(match_rep,\"%B %d\")\n",
    "            dateNewFormat = datetime_object.strftime(\"%B%#d\")\n",
    "            TextwithDates = re.sub(match, dateNewFormat, TextwithDates)\n",
    "        \n",
    "        # No Space between month and date\n",
    "        MonthDD_HMS = r\"january\\d+st \\d+:\\d+:\\d+|february\\d+st \\d+:\\d+:\\d+|march\\d+st \\d+:\\d+:\\d+|april\\d+st \\d+:\\d+:\\d+|may\\d+st \\d+:\\d+:\\d+|june\\d+st \\d+:\\d+:\\d+|july\\d+st \\d+:\\d+:\\d+|august\\d+st \\d+:\\d+:\\d+|september\\d+st \\d+:\\d+:\\d+|october\\d+st \\d+:\\d+:\\d+|november\\d+st \\d+:\\d+:\\d+|december\\d+st \\d+:\\d+:\\d+ \\\n",
    "           january\\d+nd \\d+:\\d+:\\d+|february\\d+nd \\d+:\\d+:\\d+|march\\d+nd \\d+:\\d+:\\d+|april\\d+nd \\d+:\\d+:\\d+|may\\d+nd \\d+:\\d+:\\d+|june\\d+nd \\d+:\\d+:\\d+|july\\d+nd \\d+:\\d+:\\d+|august\\d+nd \\d+:\\d+:\\d+|september\\d+nd \\d+:\\d+:\\d+|october\\d+nd \\d+:\\d+:\\d+|november\\d+nd \\d+:\\d+:\\d+|december\\d+nd \\d+:\\d+:\\d+ \\\n",
    "           january\\d+rd \\d+:\\d+:\\d+|february\\d+rd \\d+:\\d+:\\d+|march\\d+rd \\d+:\\d+:\\d+|april\\d+rd \\d+:\\d+:\\d+|may\\d+rd \\d+:\\d+:\\d+|june\\d+rd \\d+:\\d+:\\d+|july\\d+rd \\d+:\\d+:\\d+|august\\d+rd \\d+:\\d+:\\d+|september\\d+rd \\d+:\\d+:\\d+|october\\d+rd \\d+:\\d+:\\d+|november\\d+rd \\d+:\\d+:\\d+|december\\d+rd \\d+:\\d+:\\d+ \\\n",
    "           january\\d+th \\d+:\\d+:\\d+|february\\d+th \\d+:\\d+:\\d+|march\\d+th \\d+:\\d+:\\d+|april\\d+th \\d+:\\d+:\\d+|may\\d+th \\d+:\\d+:\\d+|june\\d+th \\d+:\\d+:\\d+|july\\d+th \\d+:\\d+:\\d+|august\\d+th \\d+:\\d+:\\d+|september\\d+th \\d+:\\d+:\\d+|october\\d+th \\d+:\\d+:\\d+|november\\d+th \\d+:\\d+:\\d+|december\\d+th \\d+:\\d+:\\d+ \\\n",
    "           january\\d+ \\d+:\\d+:\\d+|february\\d+ \\d+:\\d+:\\d+|march\\d+ \\d+:\\d+:\\d+|april\\d+ \\d+:\\d+:\\d+|may\\d+ \\d+:\\d+:\\d+|june\\d+ \\d+:\\d+:\\d+|july\\d+ \\d+:\\d+:\\d+|august\\d+ \\d+:\\d+:\\d+|september\\d+ \\d+:\\d+:\\d+|october\\d+ \\d+:\\d+:\\d+|november\\d+ \\d+:\\d+:\\d+|december\\d+ \\d+:\\d+:\\d+ \"\n",
    "        for match in re.findall(MonthDD_HMS, TextwithDates):\n",
    "            match_rep = re.sub(suffix,'', match)\n",
    "            match_rep = re.sub(\"augu\",\"august\",match_rep)\n",
    "            datetime_object = datetime.strptime(match_rep,\"%B%d %H:%M:%S\")\n",
    "            dateNewFormat = datetime_object.strftime(\"%B%#d_%H:%M:%S\")\n",
    "            TextwithDates = re.sub(match, dateNewFormat, TextwithDates)\n",
    "        \n",
    "        MonthDD_HM = r\"january\\d+st \\d+:\\d+|february\\d+st \\d+:\\d+|march\\d+st \\d+:\\d+|april\\d+st \\d+:\\d+|may\\d+st \\d+:\\d+|june\\d+st \\d+:\\d+|july\\d+st \\d+:\\d+|august\\d+st \\d+:\\d+|september\\d+st \\d+:\\d+|october\\d+st \\d+:\\d+|november\\d+st \\d+:\\d+|december\\d+st \\d+:\\d+ \\\n",
    "           january\\d+nd \\d+:\\d+|february\\d+nd \\d+:\\d+|march\\d+nd \\d+:\\d+|april\\d+nd \\d+:\\d+|may\\d+nd \\d+:\\d+|june\\d+nd \\d+:\\d+|july\\d+nd \\d+:\\d+|august\\d+nd \\d+:\\d+|september\\d+nd \\d+:\\d+|october\\d+nd \\d+:\\d+|november\\d+nd \\d+:\\d+|december\\d+nd \\d+:\\d+ \\\n",
    "           january\\d+rd \\d+:\\d+|february\\d+rd \\d+:\\d+|march\\d+rd \\d+:\\d+|april\\d+rd \\d+:\\d+|may\\d+rd \\d+:\\d+|june\\d+rd \\d+:\\d+|july\\d+rd \\d+:\\d+|august\\d+rd \\d+:\\d+|september\\d+rd \\d+:\\d+|october\\d+rd \\d+:\\d+|november\\d+rd \\d+:\\d+|december\\d+rd \\d+:\\d+ \\\n",
    "           january\\d+th \\d+:\\d+|february\\d+th \\d+:\\d+|march\\d+th \\d+:\\d+|april\\d+th \\d+:\\d+|may\\d+th \\d+:\\d+|june\\d+th \\d+:\\d+|july\\d+th \\d+:\\d+|august\\d+th \\d+:\\d+|september\\d+th \\d+:\\d+|october\\d+th \\d+:\\d+|november\\d+th \\d+:\\d+|december\\d+th \\d+:\\d+ \\\n",
    "           january\\d+ \\d+:\\d+|februaryruary\\d+ \\d+:\\d+|march\\d+ \\d+:\\d+|april\\d+ \\d+:\\d+|may\\d+ \\d+:\\d+|june\\d+ \\d+:\\d+|july\\d+ \\d+:\\d+|august\\d+ \\d+:\\d+|september\\d+ \\d+:\\d+|october\\d+ \\d+:\\d+|november\\d+ \\d+:\\d+|december\\d+ \\d+:\\d+ \"\n",
    "        for match in re.findall(MonthDD_HM, TextwithDates):\n",
    "            match_rep = re.sub(suffix,'', match)\n",
    "            match_rep = re.sub(\"augu\",\"august\",match_rep)\n",
    "            datetime_object = datetime.strptime(match_rep,\"%B%d %H:%M\")\n",
    "            dateNewFormat = datetime_object.strftime(\"%B%#d_%H:%M\")\n",
    "            TextwithDates = re.sub(match, dateNewFormat, TextwithDates)\n",
    "        \n",
    "        MonthDD = r\"january\\d+st|february\\d+st|march\\d+st|april\\d+st|may\\d+st|june\\d+st|july\\d+st|august\\d+st|september\\d+st|october\\d+st|november\\d+st|december\\d+st \\\n",
    "           january\\d+nd|february\\d+nd|march\\d+nd|april\\d+nd|may\\d+nd|june\\d+nd|july\\d+nd|august\\d+nd|september\\d+nd|october\\d+nd|november\\d+nd|december\\d+nd \\\n",
    "           january\\d+rd|february\\d+rd|march\\d+rd|april\\d+rd|may\\d+rd|june\\d+rd|july\\d+rd|august\\d+rd|september\\d+rd|october\\d+rd|november\\d+rd|december\\d+rd \\\n",
    "           january\\d+th|february\\d+th|march\\d+th|april\\d+th|may\\d+th|june\\d+th|july\\d+th|august\\d+th|september\\d+th|october\\d+th|november\\d+th|december\\d+th \\\n",
    "           january\\d+|february\\d+|march\\d+|april\\d+|may\\d+|june\\d+|july\\d+|august\\d+|september\\d+|october\\d+|november\\d+|december\\d+ \"\n",
    "        for match in re.findall(MonthDD, TextwithDates):\n",
    "            match_rep = re.sub(suffix,'', match)\n",
    "            match_rep = re.sub(\"augu\",\"august\",match_rep)\n",
    "            datetime_object = datetime.strptime(match_rep,\"%B%d\")\n",
    "            dateNewFormat = datetime_object.strftime(\"%B%#d\")\n",
    "            TextwithDates = re.sub(match, dateNewFormat, TextwithDates)\n",
    "        \n",
    "        # Replace 2/29 to february29\n",
    "        for match in re.findall(\"2/29\", TextwithDates):\n",
    "            TextwithDates = re.sub(match, \"February29\", TextwithDates)\n",
    "\n",
    "        # First convert YYYY to YY\n",
    "        for match in re.findall(r'/\\d{4}', TextwithDates):\n",
    "            match = re.sub('/','' , match)\n",
    "            #convert match to new format\n",
    "            datetime_object = datetime.strptime(match, \"%Y\")\n",
    "            dateNewFormat = datetime_object.strftime(\"%y\")\n",
    "            #substitute the old date with the new\n",
    "            TextwithDates = re.sub(match, dateNewFormat, TextwithDates)\n",
    "\n",
    "        # convert %m/%d/%y formatted texts to %m/%d\n",
    "        for match in re.findall(r'\\d+/\\d+/\\d+', TextwithDates):\n",
    "            #convert match to new format\n",
    "            datetime_object = datetime.strptime(match, \"%m/%d/%y\")\n",
    "            dateNewFormat = datetime_object.strftime(\"%#m/%#d\")\n",
    "            #substitute the old date with the new\n",
    "            TextwithDates = re.sub(match, dateNewFormat, TextwithDates)\n",
    "\n",
    "        # convert %m/%d %H:%M:%S formatted texts to %B%d_%H:%M:%S\n",
    "        for match in re.findall(r'\\d+/\\d+ \\d+:\\d+:\\d+', TextwithDates):\n",
    "            datetime_object = datetime.strptime(match, \"%m/%d %H:%M:%S\")\n",
    "            dateNewFormat = datetime_object.strftime(\"%B%#d_%H:%M:%S\")\n",
    "            #substitute the old date with the new\n",
    "            TextwithDates = re.sub(match, dateNewFormat, TextwithDates)\n",
    "\n",
    "        # convert %m/%d %H:%M formatted texts to %B%d_%H:%M\n",
    "        for match in re.findall(r'\\d+/\\d+ \\d+:\\d+', TextwithDates):\n",
    "            datetime_object = datetime.strptime(match, \"%m/%d %H:%M\")\n",
    "            dateNewFormat = datetime_object.strftime(\"%B%#d_%H:%M\")\n",
    "            #substitute the old date with the new\n",
    "            TextwithDates = re.sub(match, dateNewFormat, TextwithDates)\n",
    "\n",
    "        # convert %m/%d formatted texts to %B%d\n",
    "        for match in re.findall(r'\\d+/\\d+', TextwithDates):\n",
    "            datetime_object = datetime.strptime(match, \"%m/%d\")\n",
    "            dateNewFormat = datetime_object.strftime(\"%B%#d\")\n",
    "            #substitute the old date with the new\n",
    "            TextwithDates = re.sub(match, dateNewFormat, TextwithDates)\n",
    "            \n",
    "        return(TextwithDates)\n",
    "    except Exception:\n",
    "        return(TextwithDates)"
   ]
  },
  {
   "cell_type": "code",
   "execution_count": null,
   "metadata": {},
   "outputs": [],
   "source": [
    "# #### Trace back the error ####\n",
    "# import linecache\n",
    "# import sys\n",
    "\n",
    "# def PrintException():\n",
    "#     exc_type, exc_obj, tb = sys.exc_info()\n",
    "#     f = tb.tb_frame\n",
    "#     lineno = tb.tb_lineno\n",
    "#     filename = f.f_code.co_filename\n",
    "#     linecache.checkcache(filename)\n",
    "#     line = linecache.getline(filename, lineno, f.f_globals)\n",
    "#     print('EXCEPTION IN ({}, LINE {} \"{}\"): {}'.format(filename, lineno, line.strip(), exc_obj)\n",
    "\n",
    "# import traceback\n",
    "# textToSearch = \"august 2017 3/125 oneal, imogene - 86yom - escherichia coli uti with bacteremia\\n\\nallegy: no abx\\n\\npmh: chf, cad, and ckd, pad with renal stent, parkinson's disease, hx ecoli bacteremia and uti august 2017, bladder suspension, cholecystectomy\\n\\nsh: currently residning at morning pointe alf\\n\\ncxc:\\n4/27 blood e coli pans\\n4/27 urine e coli\\n\\n\\nabx:\\nceftriaxone 4/27-\\nazithro 4/27-5/1\\nvanco 4/27x1\\n\\n5/1 approp, continue\"\n",
    "# try:\n",
    "#     print(XChangeDateTimeFormat(textToSearch))\n",
    "# except:\n",
    "# #     PrintException()\n",
    "#     print(traceback.print_last())"
   ]
  },
  {
   "cell_type": "code",
   "execution_count": null,
   "metadata": {},
   "outputs": [],
   "source": [
    "# Apply ChangeDateTimeFormat on Text Column\n",
    "ClinicalNotes_NoDateErrors['Text_DateTimeFormatted'] = ClinicalNotes_NoDateErrors.apply(lambda x: ChangeDateTimeFormat(x.Text), axis=1)"
   ]
  },
  {
   "cell_type": "code",
   "execution_count": null,
   "metadata": {},
   "outputs": [],
   "source": [
    "# Export data\n",
    "# ClinicalNotes_NoDateErrors.to_excel('Py DataFrames/ClinicalNotes_NoDateErrors.xlsx',index=False)\n",
    "ClinicalNotes_NoDateErrors.to_pickle(\"Py DataFrames/ClinicalNotes_NoDateErrors.pkl\")"
   ]
  },
  {
   "cell_type": "code",
   "execution_count": null,
   "metadata": {
    "scrolled": true
   },
   "outputs": [],
   "source": [
    "ClinicalNotes_NoDateErrors.head()"
   ]
  },
  {
   "cell_type": "code",
   "execution_count": null,
   "metadata": {},
   "outputs": [],
   "source": [
    "# Extract only \"User Entered\"\n",
    "ClinicalNotes_UserEntered = ClinicalNotes_NoDateErrors[ClinicalNotes_NoDateErrors.SourceType==\"User Entered\"]\n",
    "\n",
    "# Removes special characters from the beginning of a string\n",
    "import re\n",
    "ClinicalNotes_UserEntered['Text'] = ClinicalNotes_UserEntered['Text'].str.replace(r\"^\\W+\", \"\")\n",
    "\n",
    "ClinicalNotes_UserEntered.to_pickle(\"Py DataFrames/ClinicalNotes_UserEntered.pkl\")"
   ]
  },
  {
   "cell_type": "code",
   "execution_count": 15,
   "metadata": {},
   "outputs": [],
   "source": [
    "# Sort data by Text, Date\n",
    "ClinicalNotes_UserEntered = ClinicalNotes_UserEntered.sort_values(by=['Text','Date'], ascending=[True, True])"
   ]
  },
  {
   "cell_type": "code",
   "execution_count": 16,
   "metadata": {},
   "outputs": [],
   "source": [
    "ClinicalNotes_UserEntered.to_excel('Py DataFrames/ClinicalNotes_UserEntered.xlsx',index=False)"
   ]
  },
  {
   "cell_type": "code",
   "execution_count": 19,
   "metadata": {},
   "outputs": [],
   "source": [
    "# Extract only \"Documentation\"\n",
    "ClinicalNotes_Documentation = ClinicalNotes_NoDateErrors[ClinicalNotes_NoDateErrors.SourceType==\"Documentation\"]\n",
    "\n",
    "# Removes special characters from the beginning of a string\n",
    "import re\n",
    "ClinicalNotes_Documentation['Text'] = ClinicalNotes_Documentation['Text'].str.replace(r\"^\\W+\", \"\")\n",
    "\n",
    "# ClinicalNotes_Documentation.to_pickle(\"Py DataFrames/ClinicalNotes_Documentation.pkl\")\n",
    "\n",
    "# Sort data by Text, Date\n",
    "ClinicalNotes_Documentation = ClinicalNotes_Documentation.sort_values(by=['Text','Date'], ascending=[True, True])\n",
    "\n",
    "ClinicalNotes_Documentation.to_excel('Py DataFrames/ClinicalNotes_Documentation.xlsx',index=False)"
   ]
  },
  {
   "cell_type": "code",
   "execution_count": 20,
   "metadata": {},
   "outputs": [
    {
     "data": {
      "text/plain": [
       "(8810, 9)"
      ]
     },
     "execution_count": 20,
     "metadata": {},
     "output_type": "execute_result"
    }
   ],
   "source": [
    "ClinicalNotes_UserEntered.shape"
   ]
  },
  {
   "cell_type": "code",
   "execution_count": null,
   "metadata": {},
   "outputs": [],
   "source": []
  },
  {
   "cell_type": "code",
   "execution_count": null,
   "metadata": {},
   "outputs": [],
   "source": [
    "# Extract sentences within observations that contains a specific mentioned word\n",
    "xyz =\"re-send sputum cultures.wbc count increased to 14, left infiltrate appears new. wbc maps remain marginal. will start vanc, cefepime, levaquin for hospital acquired pneumonia.\"\n",
    "searched_words = [r'wbc',r'wbcs',r'\\.']\n",
    "for sent in sent_tokenize(xyz):\n",
    "    for w in word_tokenize(sent):\n",
    "        if w.lower() in searched_words:\n",
    "            print(sent)"
   ]
  },
  {
   "cell_type": "code",
   "execution_count": 5,
   "metadata": {},
   "outputs": [],
   "source": [
    "# Split observations  \n",
    "# One efficient way might be to search for the string and extract only those that matches that string  \n",
    "\n",
    "### Explode the Text column into multiple rows\n",
    "# We start with creating a new dataframe from the series with Row as the index\n",
    "\n",
    "#'\\r\\n\\r\\n'\n",
    "ClinicalNotes_UserEntered_Explode = pd.DataFrame(ClinicalNotes_UserEntered.Text_DateTimeFormatted.str.split('\\r\\n\\r\\n').tolist(), index=ClinicalNotes_UserEntered.Row).stack()\n",
    "# We now want to get rid of the secondary index\n",
    "ClinicalNotes_UserEntered_Explode = ClinicalNotes_UserEntered_Explode.reset_index([0, 'Row'])\n",
    "# The final step is to set the column names as we want them\n",
    "ClinicalNotes_UserEntered_Explode.columns = ['Row', 'Text_DateTimeFormatted']\n",
    "\n",
    "#'\\r\\n'\n",
    "ClinicalNotes_UserEntered_Explode = pd.DataFrame(ClinicalNotes_UserEntered_Explode.Text_DateTimeFormatted.str.split('\\r\\n').tolist(), index=ClinicalNotes_UserEntered_Explode.Row).stack()\n",
    "# We now want to get rid of the secondary index\n",
    "ClinicalNotes_UserEntered_Explode = ClinicalNotes_UserEntered_Explode.reset_index([0, 'Row'])\n",
    "# The final step is to set the column names as we want them\n",
    "ClinicalNotes_UserEntered_Explode.columns = ['Row', 'Text_DateTimeFormatted']\n",
    "\n",
    "#'\\n'\n",
    "ClinicalNotes_UserEntered_Explode = pd.DataFrame(ClinicalNotes_UserEntered_Explode.Text_DateTimeFormatted.str.split('\\n').tolist(), index=ClinicalNotes_UserEntered_Explode.Row).stack()\n",
    "# We now want to get rid of the secondary index\n",
    "ClinicalNotes_UserEntered_Explode = ClinicalNotes_UserEntered_Explode.reset_index([0, 'Row'])\n",
    "# The final step is to set the column names as we want them\n",
    "ClinicalNotes_UserEntered_Explode.columns = ['Row', 'Text_DateTimeFormatted']\n",
    "\n",
    "#'\\r'\n",
    "ClinicalNotes_UserEntered_Explode = pd.DataFrame(ClinicalNotes_UserEntered_Explode.Text_DateTimeFormatted.str.split('\\r').tolist(), index=ClinicalNotes_UserEntered_Explode.Row).stack()\n",
    "# We now want to get rid of the secondary index\n",
    "ClinicalNotes_UserEntered_Explode = ClinicalNotes_UserEntered_Explode.reset_index([0, 'Row'])\n",
    "# The final step is to set the column names as we want them\n",
    "ClinicalNotes_UserEntered_Explode.columns = ['Row', 'Text_DateTimeFormatted']"
   ]
  },
  {
   "cell_type": "code",
   "execution_count": 6,
   "metadata": {},
   "outputs": [],
   "source": [
    "ClinicalNotes_UserEntered_Explode.to_pickle(\"Py DataFrames/ClinicalNotes_UserEntered_Explode.pkl\")"
   ]
  },
  {
   "cell_type": "code",
   "execution_count": 14,
   "metadata": {},
   "outputs": [],
   "source": [
    "# Check rows for Numeric values\n",
    "ClinicalNotes_UserEntered_Explode_Num = ClinicalNotes_UserEntered_Explode[ClinicalNotes_UserEntered_Explode['Text_DateTimeFormatted'].str.contains((\" \\d\"), regex=True)]\n",
    "ClinicalNotes_UserEntered_Explode_Num.to_excel('Py DataFrames/ClinicalNotes_UserEntered_Explode_Num.xlsx',index=False)"
   ]
  },
  {
   "cell_type": "code",
   "execution_count": 7,
   "metadata": {},
   "outputs": [],
   "source": [
    "MonthDD = r\"January\\d+|February\\d+|March\\d+|April\\d+|May\\d+|June\\d+|July\\d+|August\\d+|September\\d+|October\\d+|November\\d+|December\\d+\"\n",
    "ClinicalNotes_UserEntered_Explode_Dates = ClinicalNotes_UserEntered_Explode[ClinicalNotes_UserEntered_Explode['Text_DateTimeFormatted'].str.contains(MonthDD)]\n",
    "\n",
    "# Removes special characters from the beginning of a string\n",
    "import re\n",
    "ClinicalNotes_UserEntered_Explode_Dates['Text_DateTimeFormatted'] = ClinicalNotes_UserEntered_Explode_Dates['Text_DateTimeFormatted'].str.replace(r\"^\\W+\", \"\")"
   ]
  },
  {
   "cell_type": "code",
   "execution_count": 8,
   "metadata": {},
   "outputs": [],
   "source": [
    "ClinicalNotes_UserEntered_Explode_Dates.to_excel('Py DataFrames/ClinicalNotes_UserEntered_Explode_Dates.xlsx',index=False)"
   ]
  },
  {
   "cell_type": "code",
   "execution_count": 12,
   "metadata": {},
   "outputs": [],
   "source": [
    "# Check rows for Numeric values\n",
    "ClinicalNotes_UserEntered_Explode_Dates_Num = ClinicalNotes_UserEntered_Explode_Dates[ClinicalNotes_UserEntered_Explode_Dates['Text_DateTimeFormatted'].str.contains((\" \\d\"), regex=True)]\n",
    "ClinicalNotes_UserEntered_Explode_Dates_Num.to_excel('Py DataFrames/ClinicalNotes_UserEntered_Explode_Dates_Num.xlsx',index=False)"
   ]
  },
  {
   "cell_type": "code",
   "execution_count": null,
   "metadata": {},
   "outputs": [],
   "source": [
    "ClinicalNotes_UserEntered_Explode_Dates.shape"
   ]
  },
  {
   "cell_type": "code",
   "execution_count": null,
   "metadata": {},
   "outputs": [],
   "source": []
  },
  {
   "cell_type": "code",
   "execution_count": null,
   "metadata": {},
   "outputs": [],
   "source": []
  },
  {
   "cell_type": "code",
   "execution_count": null,
   "metadata": {},
   "outputs": [],
   "source": []
  },
  {
   "cell_type": "code",
   "execution_count": null,
   "metadata": {},
   "outputs": [],
   "source": []
  },
  {
   "cell_type": "code",
   "execution_count": null,
   "metadata": {},
   "outputs": [],
   "source": []
  },
  {
   "cell_type": "code",
   "execution_count": null,
   "metadata": {},
   "outputs": [],
   "source": []
  },
  {
   "cell_type": "code",
   "execution_count": null,
   "metadata": {},
   "outputs": [],
   "source": []
  },
  {
   "cell_type": "code",
   "execution_count": null,
   "metadata": {},
   "outputs": [],
   "source": [
    "# Extract rows that contain wbc\n",
    "ClinicalNotes_UserEntered_Explode_WBC = ClinicalNotes_UserEntered_Explode[ClinicalNotes_UserEntered_Explode['Text_DateTimeFormatted'].str.contains(r'wbc')]"
   ]
  },
  {
   "cell_type": "code",
   "execution_count": null,
   "metadata": {},
   "outputs": [],
   "source": [
    "# \n",
    "ClinicalNotes_UserEntered_Explode_WBC = ClinicalNotes_UserEntered_Explode[ClinicalNotes_UserEntered_Explode['Text_DateTimeFormatted'].str.contains(r'wbc')]"
   ]
  },
  {
   "cell_type": "code",
   "execution_count": null,
   "metadata": {},
   "outputs": [],
   "source": [
    "ClinicalNotes_UserEntered_Explode_WBC.head()"
   ]
  },
  {
   "cell_type": "code",
   "execution_count": null,
   "metadata": {},
   "outputs": [],
   "source": [
    "# Check rows for Numeric values\n",
    "ClinicalNotes_UserEntered_Explode_WBC['NumericInText'] = ClinicalNotes_UserEntered_Explode_WBC['Text_DateTimeFormatted'].str.contains((\" \\d\"), regex=True)"
   ]
  },
  {
   "cell_type": "code",
   "execution_count": null,
   "metadata": {},
   "outputs": [],
   "source": [
    "ClinicalNotes_UserEntered_Explode_WBCNum"
   ]
  },
  {
   "cell_type": "code",
   "execution_count": null,
   "metadata": {},
   "outputs": [],
   "source": [
    "# Extract rows that contain wbc\n",
    "ClinicalNotes_WBC = ClinicalNotes_UserEntered_Explode.copy()\n",
    "ClinicalNotes_WBC['wbcRows'] = ClinicalNotes_WBC['Text_DateTimeFormatted'].str.findall(r'wbc')\n",
    "# ClinicalNotes_WBC = ClinicalNotes_NoDateErrors[(ClinicalNotes_NoDateErrors['wbc'].str.len())!=0]\n",
    "ClinicalNotes_WBC = ClinicalNotes_WBC[(ClinicalNotes_WBC['wbcRows'].str.len())!=0]"
   ]
  },
  {
   "cell_type": "code",
   "execution_count": null,
   "metadata": {},
   "outputs": [],
   "source": [
    "ClinicalNotes_WBC.shape"
   ]
  },
  {
   "cell_type": "code",
   "execution_count": null,
   "metadata": {},
   "outputs": [],
   "source": [
    "ClinicalNotes_UserEntered_Explode_WBC"
   ]
  },
  {
   "cell_type": "code",
   "execution_count": null,
   "metadata": {},
   "outputs": [],
   "source": [
    "ClinicalNotes_UserEntered_Explode_WBC"
   ]
  },
  {
   "cell_type": "code",
   "execution_count": null,
   "metadata": {},
   "outputs": [],
   "source": []
  },
  {
   "cell_type": "code",
   "execution_count": null,
   "metadata": {},
   "outputs": [],
   "source": [
    "# Extract sentences within observations that contains a specific mentioned word\n",
    "import nltk\n",
    "nltk.download('punkt')\n",
    "\n",
    "from nltk import sent_tokenize,word_tokenize\n",
    "searched_words = ['wbc','wbcs']\n",
    "ClinicalNotes_WBC = ClinicalNotes_UserEntered.copy()\n",
    "\n",
    "\n",
    "ClinicalNotes_WBC['wbc'] = ClinicalNotes_WBC['Text_DateTimeFormatted'].apply(lambda text: [sent for sent in sent_tokenize(text)\n",
    "                                       if any(True for w in word_tokenize(sent) \n",
    "                                               if w.lower() in searched_words)])\n",
    "# Extract rows that contain wbc\n",
    "ClinicalNotes_WBC['wbcRows'] = ClinicalNotes_WBC['Text_DateTimeFormatted'].str.findall(r'wbc')\n",
    "\n",
    "# ClinicalNotes_WBC = ClinicalNotes_NoDateErrors[(ClinicalNotes_NoDateErrors['wbc'].str.len())!=0]\n",
    "ClinicalNotes_WBC = ClinicalNotes_WBC[(ClinicalNotes_WBC['wbcRows'].str.len())!=0]\n",
    "\n",
    "# Extract specific columns\n",
    "ClinicalNotes_WBC = ClinicalNotes_WBC[['Row','Text','Text_DateTimeFormatted','wbc','wbcRows']]\n",
    "# Shuffle rows\n",
    "ClinicalNotes_WBC = ClinicalNotes_WBC.sample(frac=1)\n",
    "#ClinicalNotes_WBC.to_excel('Py DataFrames/ClinicalNotes_WBC.xlsx',index=False)"
   ]
  },
  {
   "cell_type": "code",
   "execution_count": null,
   "metadata": {},
   "outputs": [],
   "source": [
    "ClinicalNotes_WBC.to_excel('Py DataFrames/ClinicalNotes_WBC.xlsx',index=False)"
   ]
  },
  {
   "cell_type": "code",
   "execution_count": null,
   "metadata": {},
   "outputs": [],
   "source": [
    "ClinicalNotes_WBC.shape"
   ]
  },
  {
   "cell_type": "code",
   "execution_count": null,
   "metadata": {},
   "outputs": [],
   "source": [
    "ClinicalNotes_WBC.describe(include='all')"
   ]
  },
  {
   "cell_type": "code",
   "execution_count": null,
   "metadata": {},
   "outputs": [],
   "source": []
  },
  {
   "cell_type": "code",
   "execution_count": null,
   "metadata": {},
   "outputs": [],
   "source": []
  },
  {
   "cell_type": "code",
   "execution_count": null,
   "metadata": {},
   "outputs": [],
   "source": [
    "ClinicalNotes_WBCRows.shape"
   ]
  },
  {
   "cell_type": "code",
   "execution_count": null,
   "metadata": {},
   "outputs": [],
   "source": []
  },
  {
   "cell_type": "code",
   "execution_count": null,
   "metadata": {},
   "outputs": [],
   "source": [
    "sent_tokenize(\"3/24 and 3/125 oneal, imogene - 86yom - escherichia coli uti with bacteremia\\n\\nallegy: no abx\\n\\npmh: chf, cad, and ckd, pad with renal stent, parkinson's disease, hx ecoli bacteremia and uti august 2017, bladder suspension, cholecystectomy\\n\\nsh. currently residning at morning pointe alf\\n\\ncxc:\\n4/27 blood e coli pans\\n4/27 urine e coli\\n\\n\\nabx:\\nceftriaxone 4/27-\\nazithro 4/27-5/1\\nvanco 4/27x1\\n\\n5/1 approp, continue\")"
   ]
  },
  {
   "cell_type": "code",
   "execution_count": null,
   "metadata": {},
   "outputs": [],
   "source": [
    "ClinicalNotes_error = ClinicalNotes[ClinicalNotes.august!=\"[]\"]\n",
    "ClinicalNotes[ClinicalNotes['chkText']!='[]']"
   ]
  },
  {
   "cell_type": "code",
   "execution_count": null,
   "metadata": {},
   "outputs": [],
   "source": [
    "ClinicalNotes[pd.isnull(ClinicalNotes['chkText'])]"
   ]
  },
  {
   "cell_type": "code",
   "execution_count": null,
   "metadata": {},
   "outputs": [],
   "source": [
    "ClinicalNotes.head(1)"
   ]
  },
  {
   "cell_type": "code",
   "execution_count": null,
   "metadata": {},
   "outputs": [],
   "source": [
    "# After dates modification years if present needs to be replaced with empty space\n",
    "# Remove duplicate rows of Text"
   ]
  },
  {
   "cell_type": "code",
   "execution_count": null,
   "metadata": {},
   "outputs": [],
   "source": [
    "# Split datasets and once corrected attach back - \n",
    "# One efficient way might be to search for the string and extract only those that matches that string  \n",
    "\n",
    "### Explode the Text column into multiple rows\n",
    "# We start with creating a new dataframe from the series with EmployeeId as the index\n",
    "ClinicalNotes_Explode = pd.DataFrame(ClinicalNotes.Text.str.split('\\r\\n\\r\\n').tolist(), index=ClinicalNotes.Row).stack()\n",
    "# We now want to get rid of the secondary index\n",
    "ClinicalNotes_Explode = ClinicalNotes_Explode.reset_index([0, 'Row'])\n",
    "# The final step is to set the column names as we want them\n",
    "ClinicalNotes_Explode.columns = ['Row', 'Text']\n",
    "\n",
    "### Explode the Text column into multiple rows\n",
    "# We start with creating a new dataframe from the series with EmployeeId as the index\n",
    "ClinicalNotes_Explode = pd.DataFrame(ClinicalNotes_Explode.Text.str.split('\\r\\n').tolist(), index=ClinicalNotes_Explode.Row).stack()\n",
    "# We now want to get rid of the secondary index\n",
    "ClinicalNotes_Explode = ClinicalNotes_Explode.reset_index([0, 'Row'])\n",
    "# The final step is to set the column names as we want them\n",
    "ClinicalNotes_Explode.columns = ['Row', 'Text']\n",
    "\n",
    "### Explode the Text column into multiple rows\n",
    "# We start with creating a new dataframe from the series with EmployeeId as the index\n",
    "ClinicalNotes_Explode = pd.DataFrame(ClinicalNotes_Explode.Text.str.split('\\n').tolist(), index=ClinicalNotes_Explode.Row).stack()\n",
    "# We now want to get rid of the secondary index\n",
    "ClinicalNotes_Explode = ClinicalNotes_Explode.reset_index([0, 'Row'])\n",
    "# The final step is to set the column names as we want them\n",
    "ClinicalNotes_Explode.columns = ['Row', 'Text']\n",
    "\n",
    "### Explode the Text column into multiple rows\n",
    "# We start with creating a new dataframe from the series with EmployeeId as the index\n",
    "ClinicalNotes_Explode = pd.DataFrame(ClinicalNotes_Explode.Text.str.split('\\r').tolist(), index=ClinicalNotes_Explode.Row).stack()\n",
    "# We now want to get rid of the secondary index\n",
    "ClinicalNotes_Explode = ClinicalNotes_Explode.reset_index([0, 'Row'])\n",
    "# The final step is to set the column names as we want them\n",
    "ClinicalNotes_Explode.columns = ['Row', 'Text']\n",
    "\n",
    "### Explode the Text column into multiple rows\n",
    "# We start with creating a new dataframe from the series with EmployeeId as the index\n",
    "ClinicalNotes_Explode = pd.DataFrame(ClinicalNotes.Text.str.split('[#!?.]\\s').tolist(), index=ClinicalNotes.Row).stack()\n",
    "# We now want to get rid of the secondary index\n",
    "ClinicalNotes_Explode = ClinicalNotes_Explode.reset_index([0, 'Row'])\n",
    "# The final step is to set the column names as we want them\n",
    "ClinicalNotes_Explode.columns = ['Row', 'Text']\n",
    "\n",
    "\n",
    "# donot split that data based on full stops as ClinicalNote_extract_candidates_numeric function will take care of it and \n",
    "# if start or end of line is date we will miss it\n",
    "# ### Explode the Text column into multiple rows - Temp = 101.2 will be split at decimals so space to be added after the \n",
    "# # We start with creating a new dataframe from the series with EmployeeId as the index\n",
    "# ClinicalNotes_Explode = pd.DataFrame(ClinicalNotes_Explode.Text.str.split('\\. ').tolist(), index=ClinicalNotes_Explode.Row).stack()\n",
    "# # We now want to get rid of the secondary index\n",
    "# ClinicalNotes_Explode = ClinicalNotes_Explode.reset_index([0, 'Row'])\n",
    "# # The final step is to set the column names as we want them\n",
    "# ClinicalNotes_Explode.columns = ['Row', 'Text']"
   ]
  },
  {
   "cell_type": "code",
   "execution_count": null,
   "metadata": {},
   "outputs": [],
   "source": [
    "ClinicalNotes_Explode.to_pickle(\"Py DataFrames/ClinicalNotes_Explode.pkl\")"
   ]
  },
  {
   "cell_type": "code",
   "execution_count": null,
   "metadata": {},
   "outputs": [],
   "source": [
    "ClinicalNotes_Explode"
   ]
  },
  {
   "cell_type": "code",
   "execution_count": 11,
   "metadata": {},
   "outputs": [
    {
     "data": {
      "text/plain": [
       "4927    cunningham, james  - 72yom - pna, influenza, uti\\n\\nallergy: no abx\\n\\npmh: last hosp admitted from 12/07-12/12 for septic shock 2/2 pna, htn, hld, pad, dm2, copd on 3-4lnc at home, osa on cpap (4cmh2o), recurrent, metastatic bladder cancer currently on chemoradiation (last wednesday was lat chemo), h/o small cell lung cancer in 2009 s/p lobectomy + chemoradiation, h/o prostate cancer s/p prostatectomy, h/o melanoma s/p removal\\n\\nsh:\\n\\ncxc:\\n12/27 sp gpc, gnr\\n12/26 flu pos\\n12/26 urine gnr\\n12/26 blood ngx1\\n\\n12/26 qtc 416\\n\\nabx:\\nazithro 12/26-12/31\\nmero 12/26-\\noselta 12/26-\\nvanco 12/26-\\n\\n12/27 mero is likely an overkill, but considering recent iv abx, hospitalization, chemo and that urine growing gnr will wait for sensitivities and deescalate asap\n",
       "Name: Text, dtype: object"
      ]
     },
     "execution_count": 11,
     "metadata": {},
     "output_type": "execute_result"
    }
   ],
   "source": [
    "# 4388, 38839\n",
    "# ClinicalNotes['Text'].iloc[38839]\n",
    "ClinicalNotes[ClinicalNotes['Row']==4927].Text"
   ]
  },
  {
   "cell_type": "code",
   "execution_count": null,
   "metadata": {},
   "outputs": [],
   "source": [
    "# Extract only those strings with wbc\n",
    "wbc_Explode = ClinicalNotes_Explode[ClinicalNotes_Explode[\"Text\"].str.contains(\"wbc\")]"
   ]
  },
  {
   "cell_type": "code",
   "execution_count": null,
   "metadata": {},
   "outputs": [],
   "source": [
    "# Shuffle rows\n",
    "wbc_Explode = wbc_Explode.sample(frac=1)"
   ]
  },
  {
   "cell_type": "code",
   "execution_count": null,
   "metadata": {},
   "outputs": [],
   "source": [
    "# Remove rows that have "
   ]
  },
  {
   "cell_type": "code",
   "execution_count": null,
   "metadata": {},
   "outputs": [],
   "source": [
    "wbc_Explode.to_csv('wbc_Explode.csv', index=False)\n",
    "wbc_Explode.to_pickle(\"wbc_Explode.pkl\")"
   ]
  },
  {
   "cell_type": "code",
   "execution_count": null,
   "metadata": {},
   "outputs": [],
   "source": [
    "wbc_Explode"
   ]
  },
  {
   "cell_type": "code",
   "execution_count": null,
   "metadata": {},
   "outputs": [],
   "source": [
    "Result = wbc_Explode[~(wbc_Explode[\"Text\"].str.contains((\"wbc \\d\"), regex=True))]\n",
    "Result = Result[~(Result[\"Text\"].str.contains((\"wbc: \\d\"), regex=True))]"
   ]
  },
  {
   "cell_type": "code",
   "execution_count": null,
   "metadata": {},
   "outputs": [],
   "source": [
    "Result"
   ]
  },
  {
   "cell_type": "code",
   "execution_count": null,
   "metadata": {},
   "outputs": [],
   "source": [
    "Result.shape"
   ]
  },
  {
   "cell_type": "code",
   "execution_count": null,
   "metadata": {
    "scrolled": false
   },
   "outputs": [],
   "source": []
  },
  {
   "cell_type": "code",
   "execution_count": null,
   "metadata": {},
   "outputs": [],
   "source": []
  },
  {
   "cell_type": "code",
   "execution_count": null,
   "metadata": {},
   "outputs": [],
   "source": []
  },
  {
   "cell_type": "code",
   "execution_count": null,
   "metadata": {},
   "outputs": [],
   "source": []
  },
  {
   "cell_type": "code",
   "execution_count": null,
   "metadata": {},
   "outputs": [],
   "source": []
  },
  {
   "cell_type": "code",
   "execution_count": null,
   "metadata": {},
   "outputs": [],
   "source": []
  },
  {
   "cell_type": "code",
   "execution_count": null,
   "metadata": {
    "scrolled": true
   },
   "outputs": [],
   "source": [
    "# 7268,24917,776,7956,6236,7476,36225,38732,38832,3097,4411,4723,7674,9654,4722,7743,9688,9675,9681,22572,33745,23004,7746,5431,9022,9030,8602,24427,9071,9072,5604,23914,7406,9070,22172,2534,3897,7441,32772,1943,8684,7452,1635,36088,5635\n",
    "# 5741, 7268, 24917, 776,28281\n",
    "# 9615,33876, 3099"
   ]
  }
 ],
 "metadata": {
  "kernelspec": {
   "display_name": "Python 3",
   "language": "python",
   "name": "python3"
  },
  "language_info": {
   "codemirror_mode": {
    "name": "ipython",
    "version": 3
   },
   "file_extension": ".py",
   "mimetype": "text/x-python",
   "name": "python",
   "nbconvert_exporter": "python",
   "pygments_lexer": "ipython3",
   "version": "3.7.2"
  }
 },
 "nbformat": 4,
 "nbformat_minor": 2
}
