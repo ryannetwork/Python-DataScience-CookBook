{
 "cells": [
  {
   "cell_type": "code",
   "execution_count": 1,
   "metadata": {},
   "outputs": [
    {
     "name": "stderr",
     "output_type": "stream",
     "text": [
      "[nltk_data] Downloading package stopwords to\n",
      "[nltk_data]     C:\\Users\\SPashikanti\\AppData\\Roaming\\nltk_data...\n",
      "[nltk_data]   Package stopwords is already up-to-date!\n"
     ]
    }
   ],
   "source": [
    "### After making changes to the codes - To import all the functions \n",
    "from W_utility.log import * \n",
    "from W_utility.file import * \n",
    "\n",
    "from NLP.porter2 import *\n",
    "from NLP.word import *\n",
    "from NLP.sentence import *\n",
    "from NLP.sentence_keywords import * "
   ]
  },
  {
   "cell_type": "code",
   "execution_count": 2,
   "metadata": {},
   "outputs": [],
   "source": [
    "import Valx_core\n",
    "from Valx_core import *"
   ]
  },
  {
   "cell_type": "code",
   "execution_count": 3,
   "metadata": {},
   "outputs": [],
   "source": [
    "Valx_core.init_features ()\n",
    "fea_dict_dk = ufile.read_csv_as_dict ('data/variable_features_dk.csv', 0, 1, True)\n",
    "fea_dict_umls = ufile.read_csv_as_dict ('data/variable_features_umls.csv', 0, 1, True)"
   ]
  },
  {
   "cell_type": "code",
   "execution_count": null,
   "metadata": {},
   "outputs": [],
   "source": [
    "name_list=\"heart rate | temperature | blood pressure\"\n",
    "add_stopwords =[\"finding\",\"of\"]"
   ]
  },
  {
   "cell_type": "code",
   "execution_count": null,
   "metadata": {},
   "outputs": [],
   "source": [
    "x = \"WBC have trended down from 15.7 to 10.2 and patient is now afebrile. Vanc was DC’ed on 2/9 due to culture results leading to streptococcal infection. Will follow culture results to hopefully narrow therapy (possible ceftriaxone), but will consider aminoglycoside if enterococcal. Will continue pip/tazo for now until further culture results. Dr. Goldsmith on board.\"\n",
    "y = \"WBC have trended down to 9.0 and pt is currently afebrile. Pt’s pulse ox has been ranging from 89-98 (variable). Pt’s blood culture resulted strep agalactaie, but subculture growing another microorganism has not yet resulted. Continue current therapy until further culture results.\"\n",
    "z = \"Dr. Goldsmith de-escalated to ceftriaxone this morning based on culture results (alpha hemolytic strep). Pt’s WBC increased to 11.2 today, and pt was febrile last night and this morning (last night 101.8, 100.2 this morning). Pt’s pulse ox is mid 90’s on mechanical ventilator. Solu-cortef DC’ed on 2/13.\"\n",
    "p = \"WBC increased to 12 today, pt has been febrile at 102.8 today. Pulse ox is 95 on mechanical ventilator. Removed multilumen and replaced with PICC on 2/14 and recultured due to persistent fever.  Cultures resulted with sensitivities, both mo susceptible to ceftriaxone. \"\n",
    "q = \"WBC have increased to 13.6 and patient has been febrile this morning at 103.2. Pulse ox is 98-100 on mechanical ventilator. Repeat blood cultures are no growth x 1. Dr G will see him today\"\n",
    "z = \"Pt admitted on 2/8 for endocarditis (h/o injection drug use and hepC). Meropenem started 2/26 because of recent temperature spikes and new Klebsiella growth in the sputum from 2/21. Pt treated for endocarditis Strep agalactiae/Strep pneumoniae and sputum Klebsiella. Pt had a tracheostomy on 2/24/17. Pt’s WBC trending down to 5.8 (2/27), febrile 99.9 (2/27), and on mechanical ventilator (pulse ox 96). Will follow Dr G on board\"\n"
   ]
  },
  {
   "cell_type": "code",
   "execution_count": null,
   "metadata": {},
   "outputs": [],
   "source": [
    "ClinicalNote = \"WBC have trended down from 15.7 to 10.2 and patient is now afebrile. Vanc was DC’ed on 2/9 due to culture results leading to streptococcal infection. Will follow culture results to hopefully narrow therapy (possible ceftriaxone), but will consider aminoglycoside if enterococcal. Will continue pip/tazo for now until further culture results. Dr. Goldsmith on board# WBC have trended down to 9.0 and pt is currently afebrile. Pt’s pulse ox has been ranging from 89-98 (variable). Pt’s blood culture resulted strep agalactaie, but subculture growing another microorganism has not yet resulted. Continue current therapy until further culture results# Dr. Goldsmith de-escalated to ceftriaxone this morning based on culture results (alpha hemolytic strep). Pt’s WBC increased to 11.2 today, and pt was febrile last night and this morning (last night 101.8 degree, 100.2 degree this morning). Pt’s pulse ox is mid 90’s on mechanical ventilator. Solu-cortef DC’ed on 2/13# WBC increased to 12 today, pt has been febrile at 102.8 today. Pulse ox is 95 on mechanical ventilator. Removed multilumen and replaced with PICC on 2/14 and recultured due to persistent fever.  Cultures resulted with sensitivities, both mo susceptible to ceftriaxone# WBC have increased to 13.6 and patient has been febrile this morning at 103.2. Pulse ox is 98-100 on mechanical ventilator. Repeat blood cultures are no growth x 1. Dr G will see him today# Pt admitted on 2/8 for endocarditis (h/o injection drug use and hepC). Meropenem started 2/26 because of recent temperature spikes and new Klebsiella growth in the sputum from 2/21. Pt treated for endocarditis Strep agalactiae/Strep pneumoniae and sputum Klebsiella. Pt had a tracheostomy on 2/24/17. Pt’s WBC trending down to 5.8 (2/27), febrile 99.9 (2/27), and on mechanical ventilator (pulse ox 96). Will follow Dr G on board \"\n",
    "ClinicalNote = \" Candidates must be between the ages of 18 and 65# - Candidates must have had IDDM for at least 5 years and been under physician care for at least 6 months prior to enrollment in trial.# - Eligible candidates will have poorly controlled insulin-dependent diabetes mellitus (IDDM) and manifest signs and symptoms severe enough to be incapacitating. These symptoms can include episodes of hypoglycemic unawareness (failure to recognize blood glucose levels < 54 mg/dl) or episodes requiring the assistance of others.# - Candidates may have poor diabetes control despite intensive insulin therapy (HbA1c > 8.0%).# - Creatinine clearance should be > 60 ml/min)# - Body Mass Index should be less than 26# - Women of child-bearing age must have a negative pregnancy test and agree to follow effective contraceptive measures for the duration of the trial.# Exclusion Criteria:# - Previous or concurrent organ transplant# - Previous or concurrent malignancy# - Untreated proliferative diabetic retinopathy# - Unstable cardiovascular status, including positive stress echocardiography (if > age 35)# - Active infections, including x-ray evidence of pulmonary infection# - Peptic ulcer disease, gall stones, or portal hypertension# - Abnormal liver function tests# - Presence of panel reactive antibodies > 20%# - Creatinine clearance < 60 ml/min# - HbA1c 12%# - Serological evidence of HIV, HbsAg, or HCV# - Anemia (hemoglobin < 12.0)# - Any condition or circumstance, including psychogenic factors, that preclude therapeutic compliance or otherwise make it unsafe to undergo an islet cell transplant.# - PSA > 4 in males\"\n",
    "ClinicalNote = \"August05_17:26:00 CDT temperature is 101 on August05_17:26:00 November14 wbc 0.79\"\n",
    "ClinicalNote = \"August5_10:11\\twbc\\t6.3 k/mcl\"\n",
    "ClinicalNote = \" wbc is 22, lymph 87%, neutroph 0%, gluc 157, prot 62\"\n",
    "ClinicalNote = \"wt=37.8 kg (verified) scr=1.8 mg/dl crcl~19 wbc=17.1\"\n",
    "ClinicalNote = \"temperature=101\"\n",
    "ClinicalNote_preprocessing = Valx_core.preprocessing(ClinicalNote)\n",
    "ClinicalNote_split_text_inclusion_exclusion = Valx_core.split_text_inclusion_exclusion(ClinicalNote_preprocessing)\n",
    "ClinicalNote_extract_candidates_numeric = Valx_core.extract_candidates_numeric(ClinicalNote_preprocessing)\n",
    "ClinicalNote_formalize_expressions = Valx_core.formalize_expressions(ClinicalNote_extract_candidates_numeric[1][0])\n",
    "ClinicalNote_identify_variable = Valx_core.identify_variable(ClinicalNote_formalize_expressions, fea_dict_dk, fea_dict_umls)\n",
    "ClinicalNote_associate_variable_values = Valx_core.associate_variable_values(ClinicalNote_identify_variable[0])\n",
    "ClinicalNote_associate_variable_values"
   ]
  },
  {
   "cell_type": "code",
   "execution_count": null,
   "metadata": {},
   "outputs": [],
   "source": [
    "# Create a function for NumericAttributeExtraction\n",
    "from W_utility.log import * \n",
    "from W_utility.file import * \n",
    "\n",
    "from NLP.porter2 import *\n",
    "from NLP.word import *\n",
    "from NLP.sentence import *\n",
    "from NLP.sentence_keywords import * \n",
    "import Valx_core\n",
    "from Valx_core import *\n",
    "Valx_core.init_features () #Function needs to be executed to actually declare the global variables \n",
    "\n",
    "fea_dict_dk = ufile.read_csv_as_dict ('data/variable_features_dk.csv', 0, 1, True)\n",
    "fea_dict_umls = ufile.read_csv_as_dict ('data/variable_features_umls.csv', 0, 1, True)\n",
    "\n",
    "    \n",
    "def NumericAttributeExtraction(ClinicalNote):\n",
    "    try:\n",
    "        ClinicalNote_preprocessing = Valx_core.preprocessing(ClinicalNote)\n",
    "        ClinicalNote_split_text_inclusion_exclusion = Valx_core.split_text_inclusion_exclusion(ClinicalNote_preprocessing)\n",
    "        ClinicalNote_extract_candidates_numeric = Valx_core.extract_candidates_numeric(ClinicalNote_preprocessing)\n",
    "        ClinicalNote_formalize_expressions = Valx_core.formalize_expressions(ClinicalNote_extract_candidates_numeric[1][0])\n",
    "        ClinicalNote_identify_variable = Valx_core.identify_variable(ClinicalNote_formalize_expressions, fea_dict_dk, fea_dict_umls)\n",
    "        ClinicalNote_associate_variable_values = Valx_core.associate_variable_values(ClinicalNote_identify_variable[0])\n",
    "        return(ClinicalNote_associate_variable_values)\n",
    "    except Exception:\n",
    "        pass"
   ]
  },
  {
   "cell_type": "code",
   "execution_count": null,
   "metadata": {},
   "outputs": [],
   "source": [
    "# Function by adding name_list\n",
    "def NumericAttributeExtraction(ClinicalNote):\n",
    "    ClinicalNote_preprocessing = Valx_core.preprocessing(ClinicalNote)\n",
    "    ClinicalNote_split_text_inclusion_exclusion = Valx_core.split_text_inclusion_exclusion(ClinicalNote_preprocessing)\n",
    "    \n",
    "    name_list=\"heart rate | temperature | blood pressure | wbc\"\n",
    "    sections_num = Valx_core.extract_candidates_numeric(ClinicalNote_preprocessing)[0]\n",
    "    candidates_num = Valx_core.extract_candidates_numeric(ClinicalNote_preprocessing)[1]\n",
    "    ClinicalNote_extract_candidates_name = Valx_core.extract_candidates_name(sections_num, candidates_num, name_list)\n",
    "    \n",
    "    ClinicalNote_formalize_expressions = Valx_core.formalize_expressions(ClinicalNote_extract_candidates_name[1][0])\n",
    "    ClinicalNote_identify_variable = Valx_core.identify_variable(ClinicalNote_formalize_expressions, fea_dict_dk, fea_dict_umls)\n",
    "    ClinicalNote_associate_variable_values = Valx_core.associate_variable_values(ClinicalNote_identify_variable[0])\n",
    "    return(ClinicalNote_associate_variable_values)"
   ]
  },
  {
   "cell_type": "code",
   "execution_count": null,
   "metadata": {},
   "outputs": [],
   "source": [
    "def NumericAttributeExtraction(ClinicalNote):\n",
    "    ClinicalNote_preprocessing = Valx_core.preprocessing(ClinicalNote)\n",
    "    ClinicalNote_split_text_inclusion_exclusion = Valx_core.split_text_inclusion_exclusion(ClinicalNote_preprocessing)\n",
    "    ClinicalNote_extract_candidates_numeric = Valx_core.extract_candidates_numeric(ClinicalNote_preprocessing)\n",
    "\n",
    "    ClinicalNote_Numerical_Attributes = []\n",
    "    for i in range(len(ClinicalNote_extract_candidates_numeric[1])):\n",
    "        ClinicalNote_formalize_expressions = Valx_core.formalize_expressions(ClinicalNote_extract_candidates_numeric[1][i])\n",
    "        ClinicalNote_identify_variable = Valx_core.identify_variable(ClinicalNote_formalize_expressions, fea_dict_dk, fea_dict_umls)\n",
    "        ClinicalNote_associate_variable_values = Valx_core.associate_variable_values(ClinicalNote_identify_variable[0])\n",
    "        ClinicalNote_Numerical_Attributes = ClinicalNote_Numerical_Attributes + list(ClinicalNote_associate_variable_values)[1]\n",
    "    return(ClinicalNote_Numerical_Attributes)"
   ]
  },
  {
   "cell_type": "code",
   "execution_count": 40,
   "metadata": {},
   "outputs": [],
   "source": [
    "def NumericAttributeExtraction(ClinicalNote):\n",
    "    try:\n",
    "        ClinicalNote_preprocessing = Valx_core.preprocessing(ClinicalNote)\n",
    "        ClinicalNote_split_text_inclusion_exclusion = Valx_core.split_text_inclusion_exclusion(ClinicalNote_preprocessing)\n",
    "        ClinicalNote_extract_candidates_numeric = Valx_core.extract_candidates_numeric(ClinicalNote_preprocessing)\n",
    "\n",
    "        ClinicalNote_Numerical_Attributes = []\n",
    "        for i in range(len(ClinicalNote_extract_candidates_numeric[1])):\n",
    "            ClinicalNote_formalize_expressions = Valx_core.formalize_expressions(ClinicalNote_extract_candidates_numeric[1][i])\n",
    "            ClinicalNote_identify_variable = Valx_core.identify_variable(ClinicalNote_formalize_expressions, fea_dict_dk, fea_dict_umls)\n",
    "            ClinicalNote_associate_variable_values = Valx_core.associate_variable_values(ClinicalNote_identify_variable[0])\n",
    "            ClinicalNote_Numerical_Attributes = ClinicalNote_Numerical_Attributes + list(ClinicalNote_associate_variable_values)[1]\n",
    "        return(ClinicalNote_Numerical_Attributes)\n",
    "    except Exception:\n",
    "        pass"
   ]
  },
  {
   "cell_type": "code",
   "execution_count": null,
   "metadata": {},
   "outputs": [],
   "source": [
    "# Issues\n",
    "ClinicalNote = 'March9 ua- turbid, blood (3+), nitrite (neg), leukocyte esterase (moderate 2+), rbc (20-30), wbc (50-60), epithelial cells (3-5) bacteria (1+), yeast (moderate)'\n",
    "# In this case wbc and plt will be recognized but since bands is not in Variable list, wbc=7.4 & 6: ' wbc 7.4, bands 6, plt 67.0'\n",
    "# If Number is written before Numerical attributes Eg:'65 wbc, 9 rbc, 30 seg neutrophils' #Rbc is not identified correctly\n",
    "# If there are 2 numbers 1 before and 1 after the Numerical attribute, 2 numbers gets extracted for that Numerical attribute: 'Room is 2312 and then reading of  wbc 18.8'\n",
    "# Same as above'364- johnston, terry 58yom – admitted April8 with elevated wbc and cxr showing early pna vs atelectasis'\n",
    "# SemiColon is used to split sentences\n",
    "# o2; epi cells; leuk ; nitrites ; bacteria ; casts ; blood ; azithro/cefepime/ vanco ; gpc , gnr, gpr ; urine cultures;klebsiella; neutrophils;   \n",
    "# (6.3) doesn't get extracted but similar ones get extracted (4.0->1.2); (4+); (40l); (6.5->14.1->17.6->27.4)and; (6d); (90s/50s) ; 90# ; \n",
    "# (722-5466) only 722 will be extracted; (722 - 5466) 2 numbers are extracted\n"
   ]
  },
  {
   "cell_type": "code",
   "execution_count": 106,
   "metadata": {},
   "outputs": [
    {
     "data": {
      "text/plain": [
       "[[['white blood cell count laboratory result', '=', '90', '']]]"
      ]
     },
     "execution_count": 106,
     "metadata": {},
     "output_type": "execute_result"
    }
   ],
   "source": [
    "ClinicalNote = ' '\n",
    "ClinicalNote = 'April17 pt with h/o wbc 12.7noted severe oa of hands. presented to marshall medical center on April13 w/approx. 6 day h/o edema, pain, and swelling of right 4th finger. cx obtained confirmed mrsa and was treated w/bactrim (initiated April11). d/2 no improvement, pt reported back to marshall on April13 to be admitted and initiated on vanc. transferred to mrmc for surgical eval. pe on admit notes extensive edema/erythema/bullous changes to 4th finger esp on dorsal aspect. since admission, pt afebrile on ra, labs on April16 show wbc 9.6, scr 0.7. vanc trough on April17 of 3.9 (dosing changes made). pt now s/p surgical i&d on April16. will continue to monitor for post-op notes and condition for possible changes in abx regimen.'\n",
    "ClinicalNote = 'April2 per note cxr showed improvement, without copious secretions, and able to wean vent further, new pneumonia less likely pct 0.32h still on vent, wbc 11.1. consider broadening to piptazo, as pna was ddx on day 4 of cefepime= could be resistant to it.'\n",
    "ClinicalNote = ' March9: wbc have trended down from 9.7 to 7.9, pt remains afebrile, and pulse ox is low 90s on high flow nc (50l rate). pt initiated on broad spec abx due to multiple mdr rfs (recent abx use, recent hospitalization here, alcoholism, copd on home o2, recent diagnosed cancer). abx were initiated yesterday on March8 to cover pna and uti. blood culture reveals gpc in clusters preliminary. continue with broad spec abx and continue to follow cultures.'\n",
    "ClinicalNote = 'October26  wbc 13.9 (as of October25). will possibly be discharged today (discharged orders scanned)'\n",
    "ClinicalNote = \"wbc 90#; \"\n",
    "\n",
    "NumericAttributeExtraction(ClinicalNote)"
   ]
  },
  {
   "cell_type": "code",
   "execution_count": 17,
   "metadata": {},
   "outputs": [
    {
     "data": {
      "text/plain": [
       "1"
      ]
     },
     "execution_count": 17,
     "metadata": {},
     "output_type": "execute_result"
    }
   ],
   "source": [
    "len(ClinicalNote_extract_candidates_numeric[1])"
   ]
  },
  {
   "cell_type": "code",
   "execution_count": 13,
   "metadata": {},
   "outputs": [],
   "source": [
    "ClinicalNote_preprocessing = Valx_core.preprocessing(ClinicalNote)\n",
    "ClinicalNote_split_text_inclusion_exclusion = Valx_core.split_text_inclusion_exclusion(ClinicalNote_preprocessing)\n",
    "ClinicalNote_extract_candidates_numeric = Valx_core.extract_candidates_numeric(ClinicalNote_preprocessing)"
   ]
  },
  {
   "cell_type": "code",
   "execution_count": 16,
   "metadata": {},
   "outputs": [
    {
     "name": "stdout",
     "output_type": "stream",
     "text": [
      "[[['white blood cell count laboratory result', '=', '17.0', '']]]\n"
     ]
    }
   ],
   "source": [
    "ClinicalNote_Numerical_Attributes = []\n",
    "for i in range(len(ClinicalNote_extract_candidates_numeric[1])):\n",
    "    ClinicalNote_formalize_expressions = Valx_core.formalize_expressions(ClinicalNote_extract_candidates_numeric[1][i])\n",
    "    ClinicalNote_identify_variable = Valx_core.identify_variable(ClinicalNote_formalize_expressions, fea_dict_dk, fea_dict_umls)\n",
    "    ClinicalNote_associate_variable_values = Valx_core.associate_variable_values(ClinicalNote_identify_variable[0])\n",
    "    ClinicalNote_Numerical_Attributes = ClinicalNote_Numerical_Attributes + list(ClinicalNote_associate_variable_values)[1]\n",
    "print(ClinicalNote_Numerical_Attributes)"
   ]
  },
  {
   "cell_type": "code",
   "execution_count": 14,
   "metadata": {},
   "outputs": [
    {
     "data": {
      "text/plain": [
       "(['Inclusion'], ['march28 wbc 17.0'])"
      ]
     },
     "execution_count": 14,
     "metadata": {},
     "output_type": "execute_result"
    }
   ],
   "source": [
    "ClinicalNote_extract_candidates_numeric"
   ]
  },
  {
   "cell_type": "code",
   "execution_count": 23,
   "metadata": {},
   "outputs": [],
   "source": [
    "import pandas as pd\n",
    "UserEntered_Num_WBC = pd.read_pickle(\"UserEntered_Num_WBC.pkl\") # Obtained after initial pre-processing"
   ]
  },
  {
   "cell_type": "code",
   "execution_count": 24,
   "metadata": {},
   "outputs": [
    {
     "data": {
      "text/html": [
       "<div>\n",
       "<style scoped>\n",
       "    .dataframe tbody tr th:only-of-type {\n",
       "        vertical-align: middle;\n",
       "    }\n",
       "\n",
       "    .dataframe tbody tr th {\n",
       "        vertical-align: top;\n",
       "    }\n",
       "\n",
       "    .dataframe thead th {\n",
       "        text-align: right;\n",
       "    }\n",
       "</style>\n",
       "<table border=\"1\" class=\"dataframe\">\n",
       "  <thead>\n",
       "    <tr style=\"text-align: right;\">\n",
       "      <th></th>\n",
       "      <th>Text_DateTimeFormatted</th>\n",
       "    </tr>\n",
       "  </thead>\n",
       "  <tbody>\n",
       "    <tr>\n",
       "      <th>1022</th>\n",
       "      <td>July15  wbc decreasing, defervessed , continue.</td>\n",
       "    </tr>\n",
       "    <tr>\n",
       "      <th>1273</th>\n",
       "      <td>December14 wbc normalized, pt defervessed, sti...</td>\n",
       "    </tr>\n",
       "    <tr>\n",
       "      <th>2831</th>\n",
       "      <td>January2 wbc normalized, afebrile, improving, ...</td>\n",
       "    </tr>\n",
       "    <tr>\n",
       "      <th>3932</th>\n",
       "      <td>history of esbl e. coli (May15). no bacteria s...</td>\n",
       "    </tr>\n",
       "    <tr>\n",
       "      <th>4464</th>\n",
       "      <td>notes: no h&amp;p or progress notes. wbc 12.3, afe...</td>\n",
       "    </tr>\n",
       "  </tbody>\n",
       "</table>\n",
       "</div>"
      ],
      "text/plain": [
       "                                 Text_DateTimeFormatted\n",
       "1022    July15  wbc decreasing, defervessed , continue.\n",
       "1273  December14 wbc normalized, pt defervessed, sti...\n",
       "2831  January2 wbc normalized, afebrile, improving, ...\n",
       "3932  history of esbl e. coli (May15). no bacteria s...\n",
       "4464  notes: no h&p or progress notes. wbc 12.3, afe..."
      ]
     },
     "execution_count": 24,
     "metadata": {},
     "output_type": "execute_result"
    }
   ],
   "source": [
    "UserEntered_Num_WBC.head()"
   ]
  },
  {
   "cell_type": "code",
   "execution_count": 25,
   "metadata": {},
   "outputs": [],
   "source": [
    "UserEntered_Num_WBC['Extract'] = UserEntered_Num_WBC.apply(lambda x: NumericAttributeExtraction(x.Text_DateTimeFormatted), axis=1)"
   ]
  },
  {
   "cell_type": "code",
   "execution_count": 8,
   "metadata": {
    "scrolled": true
   },
   "outputs": [
    {
     "data": {
      "text/html": [
       "<div>\n",
       "<style scoped>\n",
       "    .dataframe tbody tr th:only-of-type {\n",
       "        vertical-align: middle;\n",
       "    }\n",
       "\n",
       "    .dataframe tbody tr th {\n",
       "        vertical-align: top;\n",
       "    }\n",
       "\n",
       "    .dataframe thead th {\n",
       "        text-align: right;\n",
       "    }\n",
       "</style>\n",
       "<table border=\"1\" class=\"dataframe\">\n",
       "  <thead>\n",
       "    <tr style=\"text-align: right;\">\n",
       "      <th></th>\n",
       "      <th>Text_DateTimeFormatted</th>\n",
       "      <th>Extract</th>\n",
       "    </tr>\n",
       "  </thead>\n",
       "  <tbody>\n",
       "    <tr>\n",
       "      <th>1022</th>\n",
       "      <td>July15  wbc decreasing, defervessed , continue.</td>\n",
       "      <td>[]</td>\n",
       "    </tr>\n",
       "    <tr>\n",
       "      <th>1273</th>\n",
       "      <td>December14 wbc normalized, pt defervessed, sti...</td>\n",
       "      <td>[]</td>\n",
       "    </tr>\n",
       "    <tr>\n",
       "      <th>2831</th>\n",
       "      <td>January2 wbc normalized, afebrile, improving, ...</td>\n",
       "      <td>[]</td>\n",
       "    </tr>\n",
       "    <tr>\n",
       "      <th>3932</th>\n",
       "      <td>history of esbl e. coli (May15). no bacteria s...</td>\n",
       "      <td>[]</td>\n",
       "    </tr>\n",
       "    <tr>\n",
       "      <th>4464</th>\n",
       "      <td>notes: no h&amp;p or progress notes. wbc 12.3, afe...</td>\n",
       "      <td>[]</td>\n",
       "    </tr>\n",
       "    <tr>\n",
       "      <th>5949</th>\n",
       "      <td>May2: wbc normal, afebrile, 92-95 pulse ox on ...</td>\n",
       "      <td>[]</td>\n",
       "    </tr>\n",
       "    <tr>\n",
       "      <th>6787</th>\n",
       "      <td>currently on day 4 of uti treatment. wbc 9.8; ...</td>\n",
       "      <td>[[[currently, =, 4, day]]]</td>\n",
       "    </tr>\n",
       "    <tr>\n",
       "      <th>6874</th>\n",
       "      <td>January25 ua neg, but urine culture growing en...</td>\n",
       "      <td>[]</td>\n",
       "    </tr>\n",
       "    <tr>\n",
       "      <th>7660</th>\n",
       "      <td>March22 notes: no h&amp;p or progress notes. wbc 1...</td>\n",
       "      <td>[]</td>\n",
       "    </tr>\n",
       "    <tr>\n",
       "      <th>7728</th>\n",
       "      <td>April18 wbc on adm 21.4, sepsis -  vanco + met...</td>\n",
       "      <td>[]</td>\n",
       "    </tr>\n",
       "    <tr>\n",
       "      <th>8405</th>\n",
       "      <td>July5 although levo has resistance issues, pat...</td>\n",
       "      <td>[]</td>\n",
       "    </tr>\n",
       "    <tr>\n",
       "      <th>9683</th>\n",
       "      <td>October23 wbc 8.8 (down from 22.9 on October21...</td>\n",
       "      <td>[]</td>\n",
       "    </tr>\n",
       "    <tr>\n",
       "      <th>9715</th>\n",
       "      <td>October23 wbc 4.2, continue current treatment</td>\n",
       "      <td>[]</td>\n",
       "    </tr>\n",
       "    <tr>\n",
       "      <th>10208</th>\n",
       "      <td>February2 csf gr st no organisms seen (clear c...</td>\n",
       "      <td>[]</td>\n",
       "    </tr>\n",
       "    <tr>\n",
       "      <th>10311</th>\n",
       "      <td>September25 increased cough.  wbc trending up....</td>\n",
       "      <td>[]</td>\n",
       "    </tr>\n",
       "    <tr>\n",
       "      <th>10425</th>\n",
       "      <td>April27 csf gluc 62, prot 208, wbc 69, hazy rb...</td>\n",
       "      <td>[]</td>\n",
       "    </tr>\n",
       "    <tr>\n",
       "      <th>10543</th>\n",
       "      <td>November29 pt afebrile, wbc 18.3. piptazo ok, ...</td>\n",
       "      <td>[]</td>\n",
       "    </tr>\n",
       "    <tr>\n",
       "      <th>11511</th>\n",
       "      <td>October17 wbc 19.8, daptomycin ordered, continue</td>\n",
       "      <td>[]</td>\n",
       "    </tr>\n",
       "    <tr>\n",
       "      <th>12463</th>\n",
       "      <td>September25 treating urine is a soft call, tho...</td>\n",
       "      <td>[]</td>\n",
       "    </tr>\n",
       "    <tr>\n",
       "      <th>12746</th>\n",
       "      <td>November24 approp. for 3-7 days. wbc 11.1, pt ...</td>\n",
       "      <td>[]</td>\n",
       "    </tr>\n",
       "    <tr>\n",
       "      <th>13265</th>\n",
       "      <td>wbc 1.7</td>\n",
       "      <td>[]</td>\n",
       "    </tr>\n",
       "    <tr>\n",
       "      <th>14684</th>\n",
       "      <td>February19 csf no organisms seen, biofire neg ...</td>\n",
       "      <td>[]</td>\n",
       "    </tr>\n",
       "    <tr>\n",
       "      <th>14724</th>\n",
       "      <td>January25: pt's pct 0.06, wbcs wnl, ua negativ...</td>\n",
       "      <td>[]</td>\n",
       "    </tr>\n",
       "    <tr>\n",
       "      <th>14994</th>\n",
       "      <td>March6 csf pen, (clear colorless, wbc 25, 67% ...</td>\n",
       "      <td>[]</td>\n",
       "    </tr>\n",
       "    <tr>\n",
       "      <th>15356</th>\n",
       "      <td>May25 inspite of concern for levaquin resistan...</td>\n",
       "      <td>[]</td>\n",
       "    </tr>\n",
       "    <tr>\n",
       "      <th>15749</th>\n",
       "      <td>October17 wbc 19.8, daptomycin ordered d/t per...</td>\n",
       "      <td>[]</td>\n",
       "    </tr>\n",
       "    <tr>\n",
       "      <th>15988</th>\n",
       "      <td>May8 csf ngx3 clear colorless, wbc 2, gluc 90,...</td>\n",
       "      <td>[]</td>\n",
       "    </tr>\n",
       "    <tr>\n",
       "      <th>16194</th>\n",
       "      <td>December31 csf olorless, wbc 5, protein 247, g...</td>\n",
       "      <td>[]</td>\n",
       "    </tr>\n",
       "    <tr>\n",
       "      <th>16271</th>\n",
       "      <td>October31 pt afebrile, wbc 14. noted to be asy...</td>\n",
       "      <td>[]</td>\n",
       "    </tr>\n",
       "    <tr>\n",
       "      <th>17695</th>\n",
       "      <td>November16 approp. wbc 32.7 -&gt; 22.9, pt afebri...</td>\n",
       "      <td>[[[white blood cell count laboratory result, =...</td>\n",
       "    </tr>\n",
       "    <tr>\n",
       "      <th>...</th>\n",
       "      <td>...</td>\n",
       "      <td>...</td>\n",
       "    </tr>\n",
       "    <tr>\n",
       "      <th>186616</th>\n",
       "      <td>February16: wbc have increased to 13.6 and pat...</td>\n",
       "      <td>[[[white blood cell count laboratory result, =...</td>\n",
       "    </tr>\n",
       "    <tr>\n",
       "      <th>186617</th>\n",
       "      <td>February27: pt admitted on February8 for endoc...</td>\n",
       "      <td>[]</td>\n",
       "    </tr>\n",
       "    <tr>\n",
       "      <th>186663</th>\n",
       "      <td>March14: wbc have increased further to 19.9 to...</td>\n",
       "      <td>[[[white blood cell count laboratory result, =...</td>\n",
       "    </tr>\n",
       "    <tr>\n",
       "      <th>186748</th>\n",
       "      <td>April3: patient admitted on March28 with cellu...</td>\n",
       "      <td>[[[vancomycin, =, 1400, mg]], [[daptomycin x, ...</td>\n",
       "    </tr>\n",
       "    <tr>\n",
       "      <th>186788</th>\n",
       "      <td>February27: pt admitted on February8 for endoc...</td>\n",
       "      <td>[]</td>\n",
       "    </tr>\n",
       "    <tr>\n",
       "      <th>186940</th>\n",
       "      <td>September14: meropenem stopped and pen g start...</td>\n",
       "      <td>[]</td>\n",
       "    </tr>\n",
       "    <tr>\n",
       "      <th>187058</th>\n",
       "      <td>uti:  due to dementia patient is unable to say...</td>\n",
       "      <td>[[[white blood cell count laboratory result, =...</td>\n",
       "    </tr>\n",
       "    <tr>\n",
       "      <th>187136</th>\n",
       "      <td>April17: now s/p bronch w/ r thorascopy and de...</td>\n",
       "      <td>[[[white blood cell count laboratory result, =...</td>\n",
       "    </tr>\n",
       "    <tr>\n",
       "      <th>187142</th>\n",
       "      <td>April3: patient admitted on March28 with cellu...</td>\n",
       "      <td>[[[vancomycin, =, 1400, mg]], [[daptomycin x, ...</td>\n",
       "    </tr>\n",
       "    <tr>\n",
       "      <th>187237</th>\n",
       "      <td>March15: pt’s wbc have decreased to 9.5 today....</td>\n",
       "      <td>[[[white blood cell count laboratory result, =...</td>\n",
       "    </tr>\n",
       "    <tr>\n",
       "      <th>187238</th>\n",
       "      <td>March16: wbc have decreased to 8.8, pt is afeb...</td>\n",
       "      <td>[[[white blood cell count laboratory result, =...</td>\n",
       "    </tr>\n",
       "    <tr>\n",
       "      <th>187276</th>\n",
       "      <td>March16: wbc have decreased to 8.8, pt is afeb...</td>\n",
       "      <td>[[[white blood cell count laboratory result, =...</td>\n",
       "    </tr>\n",
       "    <tr>\n",
       "      <th>187323</th>\n",
       "      <td>March15: wbc have decreased to 17.7 today. pt ...</td>\n",
       "      <td>[[[white blood cell count laboratory result, =...</td>\n",
       "    </tr>\n",
       "    <tr>\n",
       "      <th>187382</th>\n",
       "      <td>September5: day 9 of mero therapy for complica...</td>\n",
       "      <td>[[[september5, =, 9, day]], [[white blood cell...</td>\n",
       "    </tr>\n",
       "    <tr>\n",
       "      <th>187568</th>\n",
       "      <td>February23: wbc were at 16.2 on February21, bu...</td>\n",
       "      <td>[[[white blood cell count laboratory result, =...</td>\n",
       "    </tr>\n",
       "    <tr>\n",
       "      <th>187574</th>\n",
       "      <td>February24: dr. britt discontinued fluconazole...</td>\n",
       "      <td>[[[treatment duration is typicalls, =, 2, #NAM...</td>\n",
       "    </tr>\n",
       "    <tr>\n",
       "      <th>187715</th>\n",
       "      <td>September5: day 9 of mero therapy for complica...</td>\n",
       "      <td>[[[september5, =, 9, day]], [[white blood cell...</td>\n",
       "    </tr>\n",
       "    <tr>\n",
       "      <th>187739</th>\n",
       "      <td>March9 ua- turbid, blood (3+), nitrite (neg), ...</td>\n",
       "      <td>[]</td>\n",
       "    </tr>\n",
       "    <tr>\n",
       "      <th>187756</th>\n",
       "      <td>March13: wbc 6.5 (March12), tmax 100.7 on Marc...</td>\n",
       "      <td>[[[white blood cell count laboratory result, =...</td>\n",
       "    </tr>\n",
       "    <tr>\n",
       "      <th>188028</th>\n",
       "      <td>June19:  patient still on pressors, sedated an...</td>\n",
       "      <td>[]</td>\n",
       "    </tr>\n",
       "    <tr>\n",
       "      <th>188090</th>\n",
       "      <td>September6: contacted david about adding vanco...</td>\n",
       "      <td>[]</td>\n",
       "    </tr>\n",
       "    <tr>\n",
       "      <th>188100</th>\n",
       "      <td>December28 csf ngx5 (analysis hazy, pink, wbc ...</td>\n",
       "      <td>[]</td>\n",
       "    </tr>\n",
       "    <tr>\n",
       "      <th>188290</th>\n",
       "      <td>March1: wbc have trended down to 6.4 pt was fe...</td>\n",
       "      <td>[[[white blood cell count laboratory result, =...</td>\n",
       "    </tr>\n",
       "    <tr>\n",
       "      <th>188354</th>\n",
       "      <td>September8: amp started for the enterococcus b...</td>\n",
       "      <td>[]</td>\n",
       "    </tr>\n",
       "    <tr>\n",
       "      <th>189301</th>\n",
       "      <td>March14: wbc 10.4 on March11 (last level) and ...</td>\n",
       "      <td>[[[white blood cell count laboratory result, =...</td>\n",
       "    </tr>\n",
       "    <tr>\n",
       "      <th>189519</th>\n",
       "      <td>March17: wbc trending up to 14.1 today; febril...</td>\n",
       "      <td>[[[white blood cell count laboratory result, &lt;...</td>\n",
       "    </tr>\n",
       "    <tr>\n",
       "      <th>189659</th>\n",
       "      <td>March17: wbc trending up to 14.1 today; febril...</td>\n",
       "      <td>[[[white blood cell count laboratory result, &lt;...</td>\n",
       "    </tr>\n",
       "    <tr>\n",
       "      <th>189707</th>\n",
       "      <td>1708 (comp time)-wbc 7.4, bands 6, plt 67.0</td>\n",
       "      <td>[]</td>\n",
       "    </tr>\n",
       "    <tr>\n",
       "      <th>190082</th>\n",
       "      <td>September15: wound vac dressing removed, explo...</td>\n",
       "      <td>[[[white blood cell count laboratory result, =...</td>\n",
       "    </tr>\n",
       "    <tr>\n",
       "      <th>190229</th>\n",
       "      <td>September18/: patient stable to receive hip su...</td>\n",
       "      <td>[]</td>\n",
       "    </tr>\n",
       "  </tbody>\n",
       "</table>\n",
       "<p>2054 rows × 2 columns</p>\n",
       "</div>"
      ],
      "text/plain": [
       "                                   Text_DateTimeFormatted  \\\n",
       "1022      July15  wbc decreasing, defervessed , continue.   \n",
       "1273    December14 wbc normalized, pt defervessed, sti...   \n",
       "2831    January2 wbc normalized, afebrile, improving, ...   \n",
       "3932    history of esbl e. coli (May15). no bacteria s...   \n",
       "4464    notes: no h&p or progress notes. wbc 12.3, afe...   \n",
       "5949    May2: wbc normal, afebrile, 92-95 pulse ox on ...   \n",
       "6787    currently on day 4 of uti treatment. wbc 9.8; ...   \n",
       "6874    January25 ua neg, but urine culture growing en...   \n",
       "7660    March22 notes: no h&p or progress notes. wbc 1...   \n",
       "7728    April18 wbc on adm 21.4, sepsis -  vanco + met...   \n",
       "8405    July5 although levo has resistance issues, pat...   \n",
       "9683    October23 wbc 8.8 (down from 22.9 on October21...   \n",
       "9715        October23 wbc 4.2, continue current treatment   \n",
       "10208   February2 csf gr st no organisms seen (clear c...   \n",
       "10311   September25 increased cough.  wbc trending up....   \n",
       "10425   April27 csf gluc 62, prot 208, wbc 69, hazy rb...   \n",
       "10543   November29 pt afebrile, wbc 18.3. piptazo ok, ...   \n",
       "11511    October17 wbc 19.8, daptomycin ordered, continue   \n",
       "12463   September25 treating urine is a soft call, tho...   \n",
       "12746   November24 approp. for 3-7 days. wbc 11.1, pt ...   \n",
       "13265                                             wbc 1.7   \n",
       "14684   February19 csf no organisms seen, biofire neg ...   \n",
       "14724   January25: pt's pct 0.06, wbcs wnl, ua negativ...   \n",
       "14994   March6 csf pen, (clear colorless, wbc 25, 67% ...   \n",
       "15356   May25 inspite of concern for levaquin resistan...   \n",
       "15749   October17 wbc 19.8, daptomycin ordered d/t per...   \n",
       "15988   May8 csf ngx3 clear colorless, wbc 2, gluc 90,...   \n",
       "16194   December31 csf olorless, wbc 5, protein 247, g...   \n",
       "16271   October31 pt afebrile, wbc 14. noted to be asy...   \n",
       "17695   November16 approp. wbc 32.7 -> 22.9, pt afebri...   \n",
       "...                                                   ...   \n",
       "186616  February16: wbc have increased to 13.6 and pat...   \n",
       "186617  February27: pt admitted on February8 for endoc...   \n",
       "186663  March14: wbc have increased further to 19.9 to...   \n",
       "186748  April3: patient admitted on March28 with cellu...   \n",
       "186788  February27: pt admitted on February8 for endoc...   \n",
       "186940  September14: meropenem stopped and pen g start...   \n",
       "187058  uti:  due to dementia patient is unable to say...   \n",
       "187136  April17: now s/p bronch w/ r thorascopy and de...   \n",
       "187142  April3: patient admitted on March28 with cellu...   \n",
       "187237  March15: pt’s wbc have decreased to 9.5 today....   \n",
       "187238  March16: wbc have decreased to 8.8, pt is afeb...   \n",
       "187276  March16: wbc have decreased to 8.8, pt is afeb...   \n",
       "187323  March15: wbc have decreased to 17.7 today. pt ...   \n",
       "187382  September5: day 9 of mero therapy for complica...   \n",
       "187568  February23: wbc were at 16.2 on February21, bu...   \n",
       "187574  February24: dr. britt discontinued fluconazole...   \n",
       "187715  September5: day 9 of mero therapy for complica...   \n",
       "187739  March9 ua- turbid, blood (3+), nitrite (neg), ...   \n",
       "187756  March13: wbc 6.5 (March12), tmax 100.7 on Marc...   \n",
       "188028  June19:  patient still on pressors, sedated an...   \n",
       "188090  September6: contacted david about adding vanco...   \n",
       "188100  December28 csf ngx5 (analysis hazy, pink, wbc ...   \n",
       "188290  March1: wbc have trended down to 6.4 pt was fe...   \n",
       "188354  September8: amp started for the enterococcus b...   \n",
       "189301  March14: wbc 10.4 on March11 (last level) and ...   \n",
       "189519  March17: wbc trending up to 14.1 today; febril...   \n",
       "189659  March17: wbc trending up to 14.1 today; febril...   \n",
       "189707        1708 (comp time)-wbc 7.4, bands 6, plt 67.0   \n",
       "190082  September15: wound vac dressing removed, explo...   \n",
       "190229  September18/: patient stable to receive hip su...   \n",
       "\n",
       "                                                  Extract  \n",
       "1022                                                   []  \n",
       "1273                                                   []  \n",
       "2831                                                   []  \n",
       "3932                                                   []  \n",
       "4464                                                   []  \n",
       "5949                                                   []  \n",
       "6787                           [[[currently, =, 4, day]]]  \n",
       "6874                                                   []  \n",
       "7660                                                   []  \n",
       "7728                                                   []  \n",
       "8405                                                   []  \n",
       "9683                                                   []  \n",
       "9715                                                   []  \n",
       "10208                                                  []  \n",
       "10311                                                  []  \n",
       "10425                                                  []  \n",
       "10543                                                  []  \n",
       "11511                                                  []  \n",
       "12463                                                  []  \n",
       "12746                                                  []  \n",
       "13265                                                  []  \n",
       "14684                                                  []  \n",
       "14724                                                  []  \n",
       "14994                                                  []  \n",
       "15356                                                  []  \n",
       "15749                                                  []  \n",
       "15988                                                  []  \n",
       "16194                                                  []  \n",
       "16271                                                  []  \n",
       "17695   [[[white blood cell count laboratory result, =...  \n",
       "...                                                   ...  \n",
       "186616  [[[white blood cell count laboratory result, =...  \n",
       "186617                                                 []  \n",
       "186663  [[[white blood cell count laboratory result, =...  \n",
       "186748  [[[vancomycin, =, 1400, mg]], [[daptomycin x, ...  \n",
       "186788                                                 []  \n",
       "186940                                                 []  \n",
       "187058  [[[white blood cell count laboratory result, =...  \n",
       "187136  [[[white blood cell count laboratory result, =...  \n",
       "187142  [[[vancomycin, =, 1400, mg]], [[daptomycin x, ...  \n",
       "187237  [[[white blood cell count laboratory result, =...  \n",
       "187238  [[[white blood cell count laboratory result, =...  \n",
       "187276  [[[white blood cell count laboratory result, =...  \n",
       "187323  [[[white blood cell count laboratory result, =...  \n",
       "187382  [[[september5, =, 9, day]], [[white blood cell...  \n",
       "187568  [[[white blood cell count laboratory result, =...  \n",
       "187574  [[[treatment duration is typicalls, =, 2, #NAM...  \n",
       "187715  [[[september5, =, 9, day]], [[white blood cell...  \n",
       "187739                                                 []  \n",
       "187756  [[[white blood cell count laboratory result, =...  \n",
       "188028                                                 []  \n",
       "188090                                                 []  \n",
       "188100                                                 []  \n",
       "188290  [[[white blood cell count laboratory result, =...  \n",
       "188354                                                 []  \n",
       "189301  [[[white blood cell count laboratory result, =...  \n",
       "189519  [[[white blood cell count laboratory result, <...  \n",
       "189659  [[[white blood cell count laboratory result, <...  \n",
       "189707                                                 []  \n",
       "190082  [[[white blood cell count laboratory result, =...  \n",
       "190229                                                 []  \n",
       "\n",
       "[2054 rows x 2 columns]"
      ]
     },
     "execution_count": 8,
     "metadata": {},
     "output_type": "execute_result"
    }
   ],
   "source": [
    "UserEntered_Num_WBC"
   ]
  },
  {
   "cell_type": "code",
   "execution_count": 26,
   "metadata": {},
   "outputs": [],
   "source": [
    "UserEntered_Num_WBC.to_excel('Py DataFrames/UserEntered_Num_WBC_extract.xlsx',index=False)"
   ]
  },
  {
   "cell_type": "code",
   "execution_count": null,
   "metadata": {},
   "outputs": [],
   "source": [
    "ClinicalNote_preprocessing = Valx_core.preprocessing(ClinicalNote)\n",
    "ClinicalNote_split_text_inclusion_exclusion = Valx_core.split_text_inclusion_exclusion(ClinicalNote_preprocessing)\n",
    "ClinicalNote_extract_candidates_numeric = Valx_core.extract_candidates_numeric(ClinicalNote_preprocessing)\n",
    "ClinicalNote_formalize_expressions = Valx_core.formalize_expressions(ClinicalNote_extract_candidates_numeric[1][0])\n",
    "ClinicalNote_identify_variable = Valx_core.identify_variable(ClinicalNote_formalize_expressions, fea_dict_dk, fea_dict_umls)\n",
    "ClinicalNote_associate_variable_values = Valx_core.associate_variable_values(ClinicalNote_identify_variable[0])\n",
    "ClinicalNote_associate_variable_values"
   ]
  },
  {
   "cell_type": "code",
   "execution_count": 39,
   "metadata": {},
   "outputs": [
    {
     "name": "stderr",
     "output_type": "stream",
     "text": [
      "[nltk_data] Downloading package stopwords to\n",
      "[nltk_data]     C:\\Users\\SPashikanti\\AppData\\Roaming\\nltk_data...\n",
      "[nltk_data]   Package stopwords is already up-to-date!\n"
     ]
    }
   ],
   "source": [
    "from W_utility.log import * \n",
    "from W_utility.file import * \n",
    "\n",
    "from NLP.porter2 import *\n",
    "from NLP.word import *\n",
    "from NLP.sentence import *\n",
    "from NLP.sentence_keywords import * \n",
    "import Valx_core\n",
    "from Valx_core import *\n",
    "Valx_core.init_features ()\n",
    "\n",
    "fea_dict_dk = ufile.read_csv_as_dict ('data/variable_features_dk.csv', 0, 1, True)\n",
    "fea_dict_umls = ufile.read_csv_as_dict ('data/variable_features_umls.csv', 0, 1, True)"
   ]
  },
  {
   "cell_type": "code",
   "execution_count": 12,
   "metadata": {
    "scrolled": true
   },
   "outputs": [
    {
     "data": {
      "text/plain": [
       "(['white blood cell count laboratory result'],\n",
       " [[['white blood cell count laboratory result', '=', '17.0', '']]])"
      ]
     },
     "execution_count": 12,
     "metadata": {},
     "output_type": "execute_result"
    }
   ],
   "source": [
    "#NumericAttributeExtraction(ClinicalNote)\n",
    "ClinicalNote = 'notes: no h&p or progress notes AND wbc 12.3 AND afebrile.'\n",
    "# ClinicalNote = 'March22 notes: no h&p or progress notes. wbc is  19.3, afebrile. if treating prostatitis, apprast appropriate. cannot evaluate.'\n",
    "# ClinicalNote = 'April18 wbc is  on adm 21.4, sepsis -  vanco + metro approp'\n",
    "# ClinicalNote = 'October23 wbc is  8.8 (down from 22.9 on October21). per discharge summary, pt will be going home on cephalexin'\n",
    "# ClinicalNote = 'February2 csf gr st no organisms seen (clear colorless, wbc 3 AND gluc 274 AND prot 37'\n",
    "# ClinicalNote = 'April27 csf gluc 62, prot 208, wbc 69, hazy rbc 5000'\n",
    "# ClinicalNote = 'November24 approp. for 3-7 days. wbc 11.1, pt afebrile.'\n",
    "ClinicalNote = 'March16: wbc have decreased to 8.8, pt is afebrile today, and pulse ox remains in high 90s on mechanical ventilator. md note states pt vomited up her tube feeding yesterday. doxy was stopped on March15. pt on day 7 of metronidazole for trichomonas infection. consider duration of therapy.'\n",
    "ClinicalNote = 'February23: wbc were at 16.2 on February21, but have not been monitored since. pt has been consistently afebrile since February19. pt developed fungal infection in peritoneal cavity due to pd. patient has transitioned to hd. peritoneal fluid cultures grew candida albicans, and yeast (non-c.albicans). pt was on broad spectrum abx coverage for 4 days. fluconazole was initiated on February21.'\n",
    "ClinicalNote = 'March9 ua- turbid, blood (3+), nitrite (neg), leukocyte esterase (moderate 2+), rbc (20-30), wbc (50-60), epithelial cells (3-5) bacteria (1+), yeast (moderate)'\n",
    "ClinicalNote = 'March17: wbc trending up to 14.1 today AND febrile since March15, tmax 102 AND pulse ox 93 on trach collar. on March15 thick yellow-green secretions around tracheostomy site. sputum grew klebsiella. dr g replaced picc, and switched to ceftriaxone through March24 to cover kleb.'\n",
    "ClinicalNote = ' wbc 7.4, bands 6, plt 67.0'\n",
    "ClinicalNote = '¾ paracentesis- yellow, 65 wbc AND 9 rbc AND 30 seg neutrophils'\n",
    "ClinicalNote = 'Room is 2312 and then reading of  wbc 18.8'\n",
    "ClinicalNote = '260 - hickman, donald - 73 y/o m - septic shock secondary to cholangitis (w/ stones) & bacteremia, intra-abdominal abscess s/p lap chole on January8; today would be considered post-source control day 13 of pip/tazo coverage for klebsiella bacteremia.  wbcs have normalized and pt has been afebrile.  please consider d/c abx, as this has met the 10-14 day criteria for gnr bacteremia coverage and the 4-7 day post-source control coverage of  his intra-abdominal infection. thank you! favela'\n",
    "ClinicalNote = '364- johnston, terry 58yom – admitted April8 with elevated wbc and cxr showing early pna vs atelectasis'\n",
    "ClinicalNote = 'wbc April3: 10, April4: 7.8, April5: 7.4' # How to extract date associated with it?\n",
    "ClinicalNote = 'admission wbc 23.9, most recent wbc downtrending at 11.4 on March21.'\n",
    "ClinicalNote = 'aki resolved, wbc 16.7 December30 ->10.4 (January1), tmax 100.1 on admission, afebrile since.'\n",
    "ClinicalNote = 'April10 patient s/p emergent left ureteral stent placement on April6 AND admit as septic (wbc 14, tachycardic/hypotensive, temp 101.3) and treated with broad abx vanc&meropenem AND cx obtained upon admission show ng, yet osh reports urine cx of e AND coli r amp and bactrim AND pt then de-escalated to levofloxacin AND pt currently afebrile, wbc 5.3, scr 0.5, and on ra with sepsis appearing to be resolved AND anticipating 7-10 day course of levofloxacin d/2 sepsis diagnosis.'\n",
    "ClinicalNote = 'October8 wbc 4.1 continue with amoxicillin/clavulanate. '\n",
    "ClinicalNote = 'wbc 4.6'\n",
    "ClinicalNote = 'October24 - wbc increased to 27.4 (from 19.7 yesterday)'\n",
    "ClinicalNote = 'April6 - pt has been maintained on nasal cannula 2-3l'\n",
    "ClinicalNote = ' wbc 6, tmax 99.8, sat 96 on trach collar.'\n",
    "ClinicalNote = 'wbc 23.6, tmax of 100.6 f today with negative urinalysis and cxr suspicious for pna'\n",
    "ClinicalNote = 'April27 - wbc 2 elevated today but on admin 96.7 fever.'\n",
    "ClinicalNote = \"pt afebrile (last temp 100.4 on April20), wbc increase on April20 11.2 which has since dec to 5.1 on April23, scr 1.4->1.7->1.2.\"\n",
    "ClinicalNote = 'pt afebrile, wbc continue to decrease 9.5->7.5->6.9 (April18), temp 3.4->2.5 and approaching ckd stage iii baseline of ~2, procalcitonin 0.11'\n",
    "ClinicalNote = 'pt afebrile (last temp 100.4 on April20), wbc increase on April20 11.2 which has since dec to 5.1 on April23, scr 1.4->1.7->1.2'\n",
    "ClinicalNote = 'patient 24_h tmax 101.5 (April10 @ 15:45), wbc 6.2->5.5 (s/p prbc transfusion), scr 1.8->1.6, calc crcl 34'\n",
    "ClinicalNote = 'March28 wbc 17.0'\n",
    "\n",
    "\n",
    "\n",
    "ClinicalNote_preprocessing = Valx_core.preprocessing(ClinicalNote)\n",
    "ClinicalNote_split_text_inclusion_exclusion = Valx_core.split_text_inclusion_exclusion(ClinicalNote_preprocessing)\n",
    "ClinicalNote_extract_candidates_numeric = Valx_core.extract_candidates_numeric(ClinicalNote_preprocessing)\n",
    "ClinicalNote_formalize_expressions = Valx_core.formalize_expressions(ClinicalNote_extract_candidates_numeric[1][0])\n",
    "ClinicalNote_identify_variable = Valx_core.identify_variable(ClinicalNote_formalize_expressions, fea_dict_dk, fea_dict_umls)\n",
    "ClinicalNote_associate_variable_values = Valx_core.associate_variable_values(ClinicalNote_identify_variable[0])\n",
    "ClinicalNote_associate_variable_values"
   ]
  },
  {
   "cell_type": "code",
   "execution_count": null,
   "metadata": {
    "scrolled": false
   },
   "outputs": [],
   "source": [
    "ClinicalNote_extract_candidates_numeric"
   ]
  },
  {
   "cell_type": "code",
   "execution_count": null,
   "metadata": {},
   "outputs": [],
   "source": [
    "ClinicalNote_formalize_expressions"
   ]
  },
  {
   "cell_type": "code",
   "execution_count": null,
   "metadata": {},
   "outputs": [],
   "source": [
    "ClinicalNote_identify_variable"
   ]
  },
  {
   "cell_type": "code",
   "execution_count": null,
   "metadata": {},
   "outputs": [],
   "source": [
    "ClinicalNote_associate_variable_values"
   ]
  },
  {
   "cell_type": "code",
   "execution_count": null,
   "metadata": {},
   "outputs": [],
   "source": [
    "ClinicalNote_identify_variable = Valx_core.identify_variable(ClinicalNote_identify_variable[0], fea_dict_dk, fea_dict_umls)"
   ]
  },
  {
   "cell_type": "code",
   "execution_count": null,
   "metadata": {
    "scrolled": true
   },
   "outputs": [],
   "source": [
    "ClinicalNote_identify_variable"
   ]
  },
  {
   "cell_type": "code",
   "execution_count": null,
   "metadata": {},
   "outputs": [],
   "source": []
  },
  {
   "cell_type": "code",
   "execution_count": null,
   "metadata": {},
   "outputs": [],
   "source": []
  },
  {
   "cell_type": "code",
   "execution_count": null,
   "metadata": {},
   "outputs": [],
   "source": [
    "check = \"sepsis, acute pancreatitis\\n\\nallergy: sulfa\\n\\npmh: htn, asthma\\npresented with severe acute pancreatitis, thought to be medication-induced\\n\\nsh: lives at home, transfer from wayne (no abx given)\\n\\nprocedures:\\nintubation 11/11\\n\\nimaging:\\n11/16 abdominal xr gaseous distention of small intestine is also present without significant change the patient's previous abdominal series\\n11/12 tte no abnormal findings\\n11/11 abdominal ct prominent gaseous distention and diffuse mild to moderate small bowel distention. changes could be related to a inflammatory ileus.\\n\\ncxc:\\n11/12 s pneumo antigen neg\\nblood 11/11 1/2 strep bovis 1/2 ng x2\\nsputum 11/11 normal flora\\n\\nabx:\\npcn 11/15-\\nvanc 11/12-11/14\\npiptazo 11/11-11/15\\n\\n11/13 piptazo for empiric coverage, blood cx growing gpc in chains. vanc added. no gi source identified, please consider d/c of piptazo. tmax 100.9, wbc 9.8. follow c/s.\\n\\n11/14 alpha-hemolytic strep in blood 1/2. pt on vanc/piptazo. tmax 100.4, wbc 12.7, still paralyzed on vent with fio2 40. still on pressors. day 3 of empiric piptazo\\n\\n11/15 tmax 99.7, wbc 13.1. still on vent, fio2 40. c/s resulted, strep bovis. please consider d/c vanc and use ampicillin in pt. with strep bovis recommend gi workup/colonoscopy in pt. spoke with jason. he is going to discuss with dr. mallipeddi who is consulted on the patient.\\n\\n11/16 wbc increased to 17, tmax 99.7.\""
   ]
  },
  {
   "cell_type": "code",
   "execution_count": null,
   "metadata": {},
   "outputs": [],
   "source": [
    "sentence.sentence_splitting_symbols(check, \"[#!?.;,]\\s\", 1)"
   ]
  },
  {
   "cell_type": "code",
   "execution_count": null,
   "metadata": {},
   "outputs": [],
   "source": [
    "ClinicalNote = ClinicalNotes['Text'].iloc[13]\n",
    "ClinicalNote"
   ]
  },
  {
   "cell_type": "code",
   "execution_count": 31,
   "metadata": {},
   "outputs": [
    {
     "data": {
      "text/plain": [
       "'text is 30000000.56 but 20000.2 later and 400000'"
      ]
     },
     "execution_count": 31,
     "metadata": {},
     "output_type": "execute_result"
    }
   ],
   "source": [
    "### preprocessing function ###\n",
    "\n",
    "import re\n",
    "text = \"text is 3,00,00,000.56 but 20,000.2 later and 400,000\"\n",
    "text = re.sub(r\"(\\d+),(\\d+)\", r'\\1\\2', text)\n",
    "text = re.sub(r\"(\\d+),(\\d+)\", r'\\1\\2', text)\n",
    "text\n",
    "\n",
    "import re\n",
    "text = \"text is 3,00,00,000.56 but 20,000.2 later and 400,000 between 20,3 and 60\"\n",
    "re.findall(r\"between (\\d+),( |)(\\d+) (and|or)\", text)\n",
    "\n",
    "text = \"text   is 3,00,00,000.56 but 20,000.2 later and 400,000 between 20,3 and 60\"\n",
    "while '  ' in text:\n",
    "    text = text.replace('  ',' ')\n",
    "    \n",
    "import re\n",
    "connect = \"but|and|or|\"\n",
    "text = \"text is 3,00,00,000.56 but 20,000.2 later and 400,000 , but below 10% \"\n",
    "text = re.sub(\", (\"+connect+\") \", r' \\1 ', text)\n",
    "text\n",
    "\n",
    "import pandas as pd\n",
    "ClinicalNotes_UserEntered = pd.read_pickle(\"Py DataFrames/ClinicalNotes_UserEntered.pkl\")\n",
    "\n",
    "# Extract rows that contain Commas in Numerics\n",
    "ClinicalNotes_UserEntered['NumericCommas'] = ClinicalNotes_UserEntered['Text'].str.findall(r\"between (\\d+), (\\d+) (and|or)\")\n",
    "NumericCommas = ClinicalNotes_UserEntered[(ClinicalNotes_UserEntered['NumericCommas'].str.len())!=0]\n",
    "\n",
    "NumericCommas.to_excel('Py DataFrames/NumericCommas.xlsx',index=False)"
   ]
  },
  {
   "cell_type": "code",
   "execution_count": 118,
   "metadata": {},
   "outputs": [
    {
     "name": "stderr",
     "output_type": "stream",
     "text": [
      "C:\\Users\\SPashikanti\\AppData\\Local\\Continuum\\anaconda3\\lib\\site-packages\\ipykernel_launcher.py:17: SettingWithCopyWarning: \n",
      "A value is trying to be set on a copy of a slice from a DataFrame.\n",
      "Try using .loc[row_indexer,col_indexer] = value instead\n",
      "\n",
      "See the caveats in the documentation: http://pandas.pydata.org/pandas-docs/stable/indexing.html#indexing-view-versus-copy\n"
     ]
    }
   ],
   "source": [
    "## Extract only Numeric values from freqs file and attach wbc before it\n",
    "\n",
    "UserEntered_Num = pd.read_pickle(\"UserEntered_Num.pkl\")\n",
    "\n",
    "# Most frequent words\n",
    "Freqs = pd.Series(' '.join(UserEntered_Num[\"Text_DateTimeFormatted\"]).split()).value_counts()[:40000]\n",
    "Freqs = pd.DataFrame(Freqs)\n",
    "Freqs['Word'] = Freqs.index\n",
    "Freqs['TextLength'] = Freqs['Word'].str.len() \n",
    "Freqs.sort_values(by=['TextLength'], ascending=[False])\n",
    "Freqs = Freqs[Freqs.TextLength<=70]\n",
    "\n",
    "# Extract only ones with Numerics\n",
    "Freqs_Num = Freqs[Freqs['Word'].str.contains((\"\\d\"), regex=True)]\n",
    "\n",
    "# Add 'wbc ' before them\n",
    "Freqs_Num['wbc_Word'] = \"wbc \" + Freqs_Num['Word']\n",
    "\n",
    "# export\n",
    "Freqs_Num.to_excel('Py DataFrames/Freqs_Num.xlsx',index=False)"
   ]
  },
  {
   "cell_type": "code",
   "execution_count": null,
   "metadata": {},
   "outputs": [],
   "source": [
    "\n"
   ]
  },
  {
   "cell_type": "code",
   "execution_count": 117,
   "metadata": {},
   "outputs": [
    {
     "data": {
      "text/html": [
       "<div>\n",
       "<style scoped>\n",
       "    .dataframe tbody tr th:only-of-type {\n",
       "        vertical-align: middle;\n",
       "    }\n",
       "\n",
       "    .dataframe tbody tr th {\n",
       "        vertical-align: top;\n",
       "    }\n",
       "\n",
       "    .dataframe thead th {\n",
       "        text-align: right;\n",
       "    }\n",
       "</style>\n",
       "<table border=\"1\" class=\"dataframe\">\n",
       "  <thead>\n",
       "    <tr style=\"text-align: right;\">\n",
       "      <th></th>\n",
       "      <th>0</th>\n",
       "      <th>Word</th>\n",
       "      <th>TextLength</th>\n",
       "      <th>wbc_Word</th>\n",
       "    </tr>\n",
       "  </thead>\n",
       "  <tbody>\n",
       "    <tr>\n",
       "      <th>2</th>\n",
       "      <td>998</td>\n",
       "      <td>2</td>\n",
       "      <td>1</td>\n",
       "      <td>wbc 2</td>\n",
       "    </tr>\n",
       "    <tr>\n",
       "      <th>January2</th>\n",
       "      <td>837</td>\n",
       "      <td>January2</td>\n",
       "      <td>8</td>\n",
       "      <td>wbc January2</td>\n",
       "    </tr>\n",
       "    <tr>\n",
       "      <th>7</th>\n",
       "      <td>702</td>\n",
       "      <td>7</td>\n",
       "      <td>1</td>\n",
       "      <td>wbc 7</td>\n",
       "    </tr>\n",
       "    <tr>\n",
       "      <th>1</th>\n",
       "      <td>636</td>\n",
       "      <td>1</td>\n",
       "      <td>1</td>\n",
       "      <td>wbc 1</td>\n",
       "    </tr>\n",
       "    <tr>\n",
       "      <th>ngx2</th>\n",
       "      <td>560</td>\n",
       "      <td>ngx2</td>\n",
       "      <td>4</td>\n",
       "      <td>wbc ngx2</td>\n",
       "    </tr>\n",
       "  </tbody>\n",
       "</table>\n",
       "</div>"
      ],
      "text/plain": [
       "            0      Word  TextLength      wbc_Word\n",
       "2         998         2           1         wbc 2\n",
       "January2  837  January2           8  wbc January2\n",
       "7         702         7           1         wbc 7\n",
       "1         636         1           1         wbc 1\n",
       "ngx2      560      ngx2           4      wbc ngx2"
      ]
     },
     "execution_count": 117,
     "metadata": {},
     "output_type": "execute_result"
    }
   ],
   "source": [
    "Freqs_Num.head()"
   ]
  }
 ],
 "metadata": {
  "kernelspec": {
   "display_name": "Python 3",
   "language": "python",
   "name": "python3"
  },
  "language_info": {
   "codemirror_mode": {
    "name": "ipython",
    "version": 3
   },
   "file_extension": ".py",
   "mimetype": "text/x-python",
   "name": "python",
   "nbconvert_exporter": "python",
   "pygments_lexer": "ipython3",
   "version": "3.7.2"
  }
 },
 "nbformat": 4,
 "nbformat_minor": 2
}
