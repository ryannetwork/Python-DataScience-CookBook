{
 "cells": [
  {
   "cell_type": "code",
   "execution_count": null,
   "metadata": {},
   "outputs": [],
   "source": [
    "pd.set_option('display.max_colwidth',-1)"
   ]
  },
  {
   "cell_type": "code",
   "execution_count": null,
   "metadata": {},
   "outputs": [],
   "source": [
    "# Importing or Exporting from excel can take only a max of 32767 characters per cell. Though Excel sheet from Craig contains max of 32767 chars, when imported into excel spaces and line breaks are created as characters and hence entire data is not imported and it is truncated\n",
    "# Issue can be solved by directly importing from database etc"
   ]
  },
  {
   "cell_type": "code",
   "execution_count": null,
   "metadata": {},
   "outputs": [],
   "source": [
    "# https://github.com/akoumjian/datefinder\n",
    "import sys \n",
    "!{sys.executable} -m pip install datefinder "
   ]
  },
  {
   "cell_type": "code",
   "execution_count": null,
   "metadata": {},
   "outputs": [],
   "source": [
    "import pandas as pd\n",
    "import re\n",
    "import datetime\n",
    "from datetime import *"
   ]
  },
  {
   "cell_type": "code",
   "execution_count": null,
   "metadata": {},
   "outputs": [],
   "source": [
    "pd.set_option('display.max_rows', 500)\n",
    "pd.options.mode.chained_assignment = None "
   ]
  },
  {
   "cell_type": "code",
   "execution_count": null,
   "metadata": {},
   "outputs": [],
   "source": [
    "import pickle\n",
    "ClinicalNotes = pd.read_pickle(\"Py DataFrames/ClinicalNotes.pkl\")"
   ]
  },
  {
   "cell_type": "code",
   "execution_count": null,
   "metadata": {},
   "outputs": [],
   "source": [
    "ClinicalNotes = pd.read_excel('Craig_2019Aug7th.xlsx')\n",
    "\n",
    "# Strip white space\n",
    "# ClinicalNotes[\"Text\"] = ClinicalNotes[\"Text\"].str.strip()\n",
    "\n",
    "# convert text to lowercase\n",
    "ClinicalNotes[\"Text\"] = ClinicalNotes[\"Text\"].str.lower()\n",
    "\n",
    "# Convert index to column\n",
    "ClinicalNotes['Row'] = ClinicalNotes.index\n",
    "\n",
    "# Remove records with source type = ADT, Lab & Order\n",
    "ClinicalNotes = ClinicalNotes[ClinicalNotes.SourceType.isin([\"User Entered\",\"Documentation\"])]\n",
    "\n",
    "# Remove records based on number of words and if there is a number present or not and based on length of sentence\n",
    "# For eg: Bmi>40 is a single word has a number but length is less\n",
    "# This example has number of words=1 but length of sentence is long \"wprnbwygkmfydj3ijapkf7y15yopqc0lgey2a0iryfkxbvs1zeyjm5c\\r\\n0vt1iwgfwijef62vbd2j+9ofnokh+moppxxdv7tzunjjcr6/peo0fticiqsb4fli7wudgfonhzab\\r\\nixs3biz\"\n",
    "\n",
    "# Number of words in a sentence\n",
    "# df['totalwords'] = df['col'].str.split().str.len() #if /r or /n is present it is considered as space \n",
    "# df['totalwords'] = df['col'].str.count(' ') + 1 #if space is present or not\n",
    "# df['totalwords'] = [len(x.split()) for x in df['col'].tolist()] #\n",
    "ClinicalNotes['TotalWords'] = ClinicalNotes['Text'].str.count(' ') + 1\n",
    "\n",
    "# Find the length of the sentence\n",
    "ClinicalNotes['TextLength'] = ClinicalNotes['Text'].str.len() \n",
    "\n",
    "# Check if the Text has a Numeric in it or not\n",
    "ClinicalNotes['NumericInText'] = ClinicalNotes['Text'].str.contains((\"\\d\"), regex=True)\n",
    "\n",
    "# Sort data\n",
    "ClinicalNotes = ClinicalNotes.sort_values(by=['TotalWords','TextLength','NumericInText'], ascending=[True, True, True])\n",
    "\n",
    "# Remove rows based on the conditions\n",
    "Removed_ClinicalNotes = ClinicalNotes[(((ClinicalNotes.TotalWords<=5) & (ClinicalNotes.TextLength>500)) | (ClinicalNotes.NumericInText==False))]\n",
    "\n",
    "## Remove \n",
    "# TotalWords<=3 & TextLength>300\n",
    "# NumericInText is not present\n",
    "ClinicalNotes = ClinicalNotes[~(((ClinicalNotes.TotalWords<=3) & (ClinicalNotes.TextLength>500)) | (ClinicalNotes.NumericInText==False))]\n",
    "\n",
    "# Export data\n",
    "ClinicalNotes.to_excel('Py DataFrames/ClinicalNotes.xlsx',index=False)\n",
    "ClinicalNotes.to_pickle(\"Py DataFrames/ClinicalNotes.pkl\")"
   ]
  },
  {
   "cell_type": "code",
   "execution_count": null,
   "metadata": {},
   "outputs": [],
   "source": [
    "ClinicalNotes.describe()"
   ]
  },
  {
   "cell_type": "code",
   "execution_count": null,
   "metadata": {},
   "outputs": [],
   "source": [
    "# Identifies only single date present\n",
    "# Check_head['Date'] = Check_head['Text'].str.extract(r'(\\d+/\\d+)', expand=True)\n",
    "\n",
    "# Identifies only if 2 dates are present\n",
    "# Check_head['Date'] = Check_head.Text.str.extract(r'(\\d+/\\d+)(\\D+)(\\d+/\\d+)', expand=True)"
   ]
  },
  {
   "cell_type": "code",
   "execution_count": null,
   "metadata": {},
   "outputs": [],
   "source": [
    "# # Find dates in m/d/y format\n",
    "# Check_head['Month_Date_Year'] = Check_head[\"Text\"].str.findall(r'\\d+/\\d+/\\d+')\n",
    "\n",
    "# # Find dates in m/d format\n",
    "# Check_head['Month_date'] = Check_head[\"Text\"].str.findall(r'\\d+/\\d+')"
   ]
  },
  {
   "cell_type": "code",
   "execution_count": null,
   "metadata": {},
   "outputs": [],
   "source": [
    "# Row - 28025\n",
    "#  wbc \n",
    "# 13.6 k/mcl (high) \n",
    "# 08/06/2019 16:22 cdt \n",
    "    ---So data needs to be exploded only after dates conversion \n",
    "# if Text is in such a way that \"Any text \"\\n\" Value\" then replace \\n with space --- This needs to be done after removing dates"
   ]
  },
  {
   "cell_type": "code",
   "execution_count": null,
   "metadata": {},
   "outputs": [],
   "source": [
    "# \tsystolic blood pressure\t101 mm\n",
    "# systolic blood pressure\\t101 mmhg\\t\\n\\t\n",
    "\n",
    "# '\\t' needs to be replaced with \" \" space"
   ]
  },
  {
   "cell_type": "code",
   "execution_count": null,
   "metadata": {},
   "outputs": [],
   "source": [
    "# Split datasets and once corrected attach back - \n",
    "# One efficient way might be to search for the string and extract only those that matches that string  \n",
    "\n",
    "### Explode the Text column into multiple rows\n",
    "# We start with creating a new dataframe from the series with EmployeeId as the index\n",
    "ClinicalNotes_Explode = pd.DataFrame(ClinicalNotes.Text.str.split('\\r\\n\\r\\n').tolist(), index=ClinicalNotes.Row).stack()\n",
    "# We now want to get rid of the secondary index\n",
    "ClinicalNotes_Explode = ClinicalNotes_Explode.reset_index([0, 'Row'])\n",
    "# The final step is to set the column names as we want them\n",
    "ClinicalNotes_Explode.columns = ['Row', 'Text']\n",
    "\n",
    "### Explode the Text column into multiple rows\n",
    "# We start with creating a new dataframe from the series with EmployeeId as the index\n",
    "ClinicalNotes_Explode = pd.DataFrame(ClinicalNotes_Explode.Text.str.split('\\r\\n').tolist(), index=ClinicalNotes_Explode.Row).stack()\n",
    "# We now want to get rid of the secondary index\n",
    "ClinicalNotes_Explode = ClinicalNotes_Explode.reset_index([0, 'Row'])\n",
    "# The final step is to set the column names as we want them\n",
    "ClinicalNotes_Explode.columns = ['Row', 'Text']\n",
    "\n",
    "### Explode the Text column into multiple rows\n",
    "# We start with creating a new dataframe from the series with EmployeeId as the index\n",
    "ClinicalNotes_Explode = pd.DataFrame(ClinicalNotes_Explode.Text.str.split('\\n').tolist(), index=ClinicalNotes_Explode.Row).stack()\n",
    "# We now want to get rid of the secondary index\n",
    "ClinicalNotes_Explode = ClinicalNotes_Explode.reset_index([0, 'Row'])\n",
    "# The final step is to set the column names as we want them\n",
    "ClinicalNotes_Explode.columns = ['Row', 'Text']\n",
    "\n",
    "### Explode the Text column into multiple rows\n",
    "# We start with creating a new dataframe from the series with EmployeeId as the index\n",
    "ClinicalNotes_Explode = pd.DataFrame(ClinicalNotes_Explode.Text.str.split('\\r').tolist(), index=ClinicalNotes_Explode.Row).stack()\n",
    "# We now want to get rid of the secondary index\n",
    "ClinicalNotes_Explode = ClinicalNotes_Explode.reset_index([0, 'Row'])\n",
    "# The final step is to set the column names as we want them\n",
    "ClinicalNotes_Explode.columns = ['Row', 'Text']\n",
    "\n",
    "### Explode the Text column into multiple rows\n",
    "# We start with creating a new dataframe from the series with EmployeeId as the index\n",
    "ClinicalNotes_Explode = pd.DataFrame(ClinicalNotes.Text.str.split('[#!?.]\\s').tolist(), index=ClinicalNotes.Row).stack()\n",
    "# We now want to get rid of the secondary index\n",
    "ClinicalNotes_Explode = ClinicalNotes_Explode.reset_index([0, 'Row'])\n",
    "# The final step is to set the column names as we want them\n",
    "ClinicalNotes_Explode.columns = ['Row', 'Text']\n",
    "\n",
    "\n",
    "# donot split that data based on full stops as ClinicalNote_extract_candidates_numeric function will take care of it and \n",
    "# if start or end of line is date we will miss it\n",
    "# ### Explode the Text column into multiple rows - Temp = 101.2 will be split at decimals so space to be added after the \n",
    "# # We start with creating a new dataframe from the series with EmployeeId as the index\n",
    "# ClinicalNotes_Explode = pd.DataFrame(ClinicalNotes_Explode.Text.str.split('\\. ').tolist(), index=ClinicalNotes_Explode.Row).stack()\n",
    "# # We now want to get rid of the secondary index\n",
    "# ClinicalNotes_Explode = ClinicalNotes_Explode.reset_index([0, 'Row'])\n",
    "# # The final step is to set the column names as we want them\n",
    "# ClinicalNotes_Explode.columns = ['Row', 'Text']"
   ]
  },
  {
   "cell_type": "code",
   "execution_count": null,
   "metadata": {},
   "outputs": [],
   "source": [
    "ClinicalNotes_Explode.to_pickle(\"Py DataFrames/ClinicalNotes_Explode.pkl\")"
   ]
  },
  {
   "cell_type": "code",
   "execution_count": null,
   "metadata": {},
   "outputs": [],
   "source": [
    "ClinicalNotes_Explode"
   ]
  },
  {
   "cell_type": "code",
   "execution_count": null,
   "metadata": {},
   "outputs": [],
   "source": [
    "# 4388, 38839\n",
    "# ClinicalNotes['Text'].iloc[38839]\n",
    "ClinicalNotes[ClinicalNotes['Row']==38839].Text"
   ]
  },
  {
   "cell_type": "code",
   "execution_count": null,
   "metadata": {},
   "outputs": [],
   "source": [
    "# Extract only those strings with wbc\n",
    "wbc_Explode = ClinicalNotes_Explode[ClinicalNotes_Explode[\"Text\"].str.contains(\"wbc\")]"
   ]
  },
  {
   "cell_type": "code",
   "execution_count": null,
   "metadata": {},
   "outputs": [],
   "source": [
    "# Shuffle rows\n",
    "wbc_Explode = wbc_Explode.sample(frac=1)"
   ]
  },
  {
   "cell_type": "code",
   "execution_count": null,
   "metadata": {},
   "outputs": [],
   "source": [
    "# Remove rows that have "
   ]
  },
  {
   "cell_type": "code",
   "execution_count": null,
   "metadata": {},
   "outputs": [],
   "source": [
    "wbc_Explode.to_csv('wbc_Explode.csv', index=False)\n",
    "wbc_Explode.to_pickle(\"wbc_Explode.pkl\")"
   ]
  },
  {
   "cell_type": "code",
   "execution_count": null,
   "metadata": {},
   "outputs": [],
   "source": [
    "wbc_Explode"
   ]
  },
  {
   "cell_type": "code",
   "execution_count": null,
   "metadata": {},
   "outputs": [],
   "source": [
    "Result = wbc_Explode[~(wbc_Explode[\"Text\"].str.contains((\"wbc \\d\"), regex=True))]\n",
    "Result = Result[~(Result[\"Text\"].str.contains((\"wbc: \\d\"), regex=True))]"
   ]
  },
  {
   "cell_type": "code",
   "execution_count": null,
   "metadata": {},
   "outputs": [],
   "source": [
    "Result"
   ]
  },
  {
   "cell_type": "code",
   "execution_count": null,
   "metadata": {},
   "outputs": [],
   "source": [
    "Result.shape"
   ]
  },
  {
   "cell_type": "code",
   "execution_count": null,
   "metadata": {},
   "outputs": [],
   "source": [
    "textToSearch = \"date of service from sep08 to 8/6/19 to 9/8/19 to 08/05/19 17:26:00 CDT and not 6/7\""
   ]
  },
  {
   "cell_type": "code",
   "execution_count": null,
   "metadata": {},
   "outputs": [],
   "source": []
  },
  {
   "cell_type": "code",
   "execution_count": null,
   "metadata": {},
   "outputs": [],
   "source": [
    "import re\n"
   ]
  },
  {
   "cell_type": "code",
   "execution_count": null,
   "metadata": {},
   "outputs": [],
   "source": [
    "import datefinder\n",
    "matches = datefinder.find_dates(textToSearch)\n",
    "for match in matches:\n",
    "    print(match)"
   ]
  },
  {
   "cell_type": "code",
   "execution_count": null,
   "metadata": {},
   "outputs": [],
   "source": [
    "def ChangeDateTimeFormat(TextwithDates):\n",
    "    for match in re.findall(r'/\\d{4}', TextwithDates):\n",
    "        match = re.sub('/','' , match)\n",
    "        #convert match to new format\n",
    "        datetime_object = datetime.strptime(match, \"%Y\")\n",
    "        dateNewFormat = datetime_object.strftime(\"%y\")\n",
    "        #substitute the old date with the new\n",
    "        TextwithDates = re.sub(match, dateNewFormat, TextwithDates)\n",
    "\n",
    "    # convert %m/%d/%y formatted texts to %m/%d\n",
    "    for match in re.findall(r'\\d+/\\d+/\\d+', TextwithDates):\n",
    "        #convert match to new format\n",
    "        datetime_object = datetime.strptime(match, \"%m/%d/%y\")\n",
    "        dateNewFormat = datetime_object.strftime(\"%m/%d\")\n",
    "        #substitute the old date with the new\n",
    "        TextwithDates = re.sub(match, dateNewFormat, TextwithDates)\n",
    "    \n",
    "    # convert %m/%d formatted texts to %B%d\n",
    "    for match in re.findall(r'\\d+/\\d+ \\d+:\\d+:\\d+', TextwithDates):\n",
    "        datetime_object = datetime.strptime(match, \"%m/%d %H:%M:%S\")\n",
    "        dateNewFormat = datetime_object.strftime(\"%B%d_%H:%M:%S\")\n",
    "        #substitute the old date with the new\n",
    "        TextwithDates = re.sub(match, dateNewFormat, TextwithDates)\n",
    "    \n",
    "    for match in re.findall(r'\\d+/\\d+ \\d+:\\d+', TextwithDates):\n",
    "        datetime_object = datetime.strptime(match, \"%m/%d %H:%M\")\n",
    "        dateNewFormat = datetime_object.strftime(\"%B%d_%H:%M\")\n",
    "        #substitute the old date with the new\n",
    "        TextwithDates = re.sub(match, dateNewFormat, TextwithDates)\n",
    "    \n",
    "    for match in re.findall(r'\\d+/\\d+', TextwithDates):\n",
    "        datetime_object = datetime.strptime(match, \"%m/%d\")\n",
    "        dateNewFormat = datetime_object.strftime(\"%B%d\")\n",
    "        #substitute the old date with the new\n",
    "        TextwithDates = re.sub(match, dateNewFormat, TextwithDates)\n",
    "    \n",
    "    MonDD = r\"jan\\d+|feb\\d+|mar\\d+|apr\\d+|may\\d+|jun\\d+|jul\\d+|aug\\d+|sep\\d+|oct\\d+|nov\\d+|dec\\d+\"\n",
    "    # First convert jan to january etc\n",
    "    for match in re.findall(MonDD, TextwithDates):\n",
    "        datetime_object = datetime.strptime(match,\"%b%d\")\n",
    "        dateNewFormat = datetime_object.strftime(\"%B%d \")\n",
    "        #substitute the old date with the new\n",
    "        TextwithDates = re.sub(match, dateNewFormat, TextwithDates)\n",
    "    Mon_DD = r\"jan \\d+|feb \\d+|mar \\d+|apr \\d+|may \\d+|jun \\d+|jul \\d+|aug \\d+|sept \\d+|oct \\d+|nov \\d+|dec \\d+\"\n",
    "    for match in re.findall(Mon_DD, TextwithDates):\n",
    "        datetime_object = datetime.strptime(match,\"%b %d\")\n",
    "        dateNewFormat = datetime_object.strftime(\"%B%d \")\n",
    "        #substitute the old date with the new\n",
    "        TextwithDates = re.sub(match, dateNewFormat, TextwithDates)\n",
    "\n",
    "    MonthDD = r\"january\\d+|february\\d+|march\\d+|april\\d+|may\\d+|june\\d+|july\\d+|august\\d+|september\\d+|october\\d+|november\\d+|december\\d+\"\n",
    "    for match in re.findall(MonthDD, TextwithDates):\n",
    "        datetime_object = datetime.strptime(match,\"%B%d\")\n",
    "        dateNewFormat = datetime_object.strftime(\"%B%d \")\n",
    "        #substitute the old date with the new\n",
    "        TextwithDates = re.sub(match, dateNewFormat, TextwithDates)\n",
    "        \n",
    "    Month_DD = r\"january \\d+|february \\d+|march \\d+|april \\d+|may \\d+|june \\d+|july \\d+|august \\d+|september \\d+|october \\d+|november \\d+|december \\d+\"\n",
    "    for match in re.findall(Month_DD, TextwithDates):\n",
    "        datetime_object = datetime.strptime(match,\"%B %d\")\n",
    "        dateNewFormat = datetime_object.strftime(\"%B%d \")\n",
    "        #substitute the old date with the new\n",
    "        TextwithDates = re.sub(match, dateNewFormat, TextwithDates)\n",
    "    return(TextwithDates)"
   ]
  },
  {
   "cell_type": "code",
   "execution_count": null,
   "metadata": {},
   "outputs": [],
   "source": [
    "# function to pass if there is an error - When there is an error the whole row is passed, 728 errors are present\n",
    "def ErrorINChangeDateTimeFormat(TextwithDates):\n",
    "    try:\n",
    "        for match in re.findall(r'/\\d{4}', TextwithDates):\n",
    "            match = re.sub('/','' , match)\n",
    "            #convert match to new format\n",
    "            datetime_object = datetime.strptime(match, \"%Y\")\n",
    "            dateNewFormat = datetime_object.strftime(\"%y\")\n",
    "            #substitute the old date with the new\n",
    "            TextwithDates = re.sub(match, dateNewFormat, TextwithDates)\n",
    "\n",
    "        # convert %m/%d/%y formatted texts to %m/%d\n",
    "        for match in re.findall(r'\\d+/\\d+/\\d+', TextwithDates):\n",
    "            #convert match to new format\n",
    "            datetime_object = datetime.strptime(match, \"%m/%d/%y\")\n",
    "            dateNewFormat = datetime_object.strftime(\"%m/%d\")\n",
    "            #substitute the old date with the new\n",
    "            TextwithDates = re.sub(match, dateNewFormat, TextwithDates)\n",
    "\n",
    "        # convert %m/%d formatted texts to %B%d\n",
    "        for match in re.findall(r'\\d+/\\d+ \\d+:\\d+:\\d+', TextwithDates):\n",
    "            datetime_object = datetime.strptime(match, \"%m/%d %H:%M:%S\")\n",
    "            dateNewFormat = datetime_object.strftime(\"%B%d_%H:%M:%S\")\n",
    "            #substitute the old date with the new\n",
    "            TextwithDates = re.sub(match, dateNewFormat, TextwithDates)\n",
    "\n",
    "        for match in re.findall(r'\\d+/\\d+ \\d+:\\d+', TextwithDates):\n",
    "            datetime_object = datetime.strptime(match, \"%m/%d %H:%M\")\n",
    "            dateNewFormat = datetime_object.strftime(\"%B%d_%H:%M\")\n",
    "            #substitute the old date with the new\n",
    "            TextwithDates = re.sub(match, dateNewFormat, TextwithDates)\n",
    "\n",
    "        for match in re.findall(r'\\d+/\\d+', TextwithDates):\n",
    "            datetime_object = datetime.strptime(match, \"%m/%d\")\n",
    "            dateNewFormat = datetime_object.strftime(\"%B%d\")\n",
    "            #substitute the old date with the new\n",
    "            TextwithDates = re.sub(match, dateNewFormat, TextwithDates)\n",
    "\n",
    "        MonDD = r\"jan\\d+|feb\\d+|mar\\d+|apr\\d+|may\\d+|jun\\d+|jul\\d+|aug\\d+|sep\\d+|oct\\d+|nov\\d+|dec\\d+\"\n",
    "        # First convert jan to january etc\n",
    "        for match in re.findall(MonDD, TextwithDates):\n",
    "            datetime_object = datetime.strptime(match,\"%b%d\")\n",
    "            dateNewFormat = datetime_object.strftime(\"%B%d \")\n",
    "            #substitute the old date with the new\n",
    "            TextwithDates = re.sub(match, dateNewFormat, TextwithDates)\n",
    "        Mon_DD = r\"jan \\d+|feb \\d+|mar \\d+|apr \\d+|may \\d+|jun \\d+|jul \\d+|aug \\d+|sept \\d+|oct \\d+|nov \\d+|dec \\d+\"\n",
    "        for match in re.findall(Mon_DD, TextwithDates):\n",
    "            datetime_object = datetime.strptime(match,\"%b %d\")\n",
    "            dateNewFormat = datetime_object.strftime(\"%B%d \")\n",
    "            #substitute the old date with the new\n",
    "            TextwithDates = re.sub(match, dateNewFormat, TextwithDates)\n",
    "\n",
    "        MonthDD = r\"january\\d+|february\\d+|march\\d+|april\\d+|may\\d+|june\\d+|july\\d+|august\\d+|september\\d+|october\\d+|november\\d+|december\\d+\"\n",
    "        for match in re.findall(MonthDD, TextwithDates):\n",
    "            datetime_object = datetime.strptime(match,\"%B%d\")\n",
    "            dateNewFormat = datetime_object.strftime(\"%B%d \")\n",
    "            #substitute the old date with the new\n",
    "            TextwithDates = re.sub(match, dateNewFormat, TextwithDates)\n",
    "\n",
    "        Month_DD = r\"january \\d+|february \\d+|march \\d+|april \\d+|may \\d+|june \\d+|july \\d+|august \\d+|september \\d+|october \\d+|november \\d+|december \\d+\"\n",
    "        for match in re.findall(Month_DD, TextwithDates):\n",
    "            datetime_object = datetime.strptime(match,\"%B %d\")\n",
    "            dateNewFormat = datetime_object.strftime(\"%B%d \")\n",
    "            #substitute the old date with the new\n",
    "            TextwithDates = re.sub(match, dateNewFormat, TextwithDates)\n",
    "        return(TextwithDates)\n",
    "    except Exception:\n",
    "        pass"
   ]
  },
  {
   "cell_type": "code",
   "execution_count": null,
   "metadata": {},
   "outputs": [],
   "source": [
    "# If error then return the original text itself\n",
    "def ChangeDateTimeFormat(TextwithDates):\n",
    "    try:\n",
    "        for match in re.findall(r'/\\d{4}', TextwithDates):\n",
    "            match = re.sub('/','' , match)\n",
    "            #convert match to new format\n",
    "            datetime_object = datetime.strptime(match, \"%Y\")\n",
    "            dateNewFormat = datetime_object.strftime(\"%y\")\n",
    "            #substitute the old date with the new\n",
    "            TextwithDates = re.sub(match, dateNewFormat, TextwithDates)\n",
    "\n",
    "        # convert %m/%d/%y formatted texts to %m/%d\n",
    "        for match in re.findall(r'\\d+/\\d+/\\d+', TextwithDates):\n",
    "            #convert match to new format\n",
    "            datetime_object = datetime.strptime(match, \"%m/%d/%y\")\n",
    "            dateNewFormat = datetime_object.strftime(\"%m/%d\")\n",
    "            #substitute the old date with the new\n",
    "            TextwithDates = re.sub(match, dateNewFormat, TextwithDates)\n",
    "\n",
    "        # convert %m/%d formatted texts to %B%d\n",
    "        for match in re.findall(r'\\d+/\\d+ \\d+:\\d+:\\d+', TextwithDates):\n",
    "            datetime_object = datetime.strptime(match, \"%m/%d %H:%M:%S\")\n",
    "            dateNewFormat = datetime_object.strftime(\"%B%d_%H:%M:%S\")\n",
    "            #substitute the old date with the new\n",
    "            TextwithDates = re.sub(match, dateNewFormat, TextwithDates)\n",
    "\n",
    "        for match in re.findall(r'\\d+/\\d+ \\d+:\\d+', TextwithDates):\n",
    "            datetime_object = datetime.strptime(match, \"%m/%d %H:%M\")\n",
    "            dateNewFormat = datetime_object.strftime(\"%B%d_%H:%M\")\n",
    "            #substitute the old date with the new\n",
    "            TextwithDates = re.sub(match, dateNewFormat, TextwithDates)\n",
    "\n",
    "        for match in re.findall(r'\\d+/\\d+', TextwithDates):\n",
    "            datetime_object = datetime.strptime(match, \"%m/%d\")\n",
    "            dateNewFormat = datetime_object.strftime(\"%B%d\")\n",
    "            #substitute the old date with the new\n",
    "            TextwithDates = re.sub(match, dateNewFormat, TextwithDates)\n",
    "\n",
    "        MonDD = r\"jan\\d+|feb\\d+|mar\\d+|apr\\d+|may\\d+|jun\\d+|jul\\d+|aug\\d+|sep\\d+|oct\\d+|nov\\d+|dec\\d+\"\n",
    "        # First convert jan to january etc\n",
    "        for match in re.findall(MonDD, TextwithDates):\n",
    "            datetime_object = datetime.strptime(match,\"%b%d\")\n",
    "            dateNewFormat = datetime_object.strftime(\"%B%d \")\n",
    "            #substitute the old date with the new\n",
    "            TextwithDates = re.sub(match, dateNewFormat, TextwithDates)\n",
    "        Mon_DD = r\"jan \\d+|feb \\d+|mar \\d+|apr \\d+|may \\d+|jun \\d+|jul \\d+|aug \\d+|sept \\d+|oct \\d+|nov \\d+|dec \\d+\"\n",
    "        for match in re.findall(Mon_DD, TextwithDates):\n",
    "            datetime_object = datetime.strptime(match,\"%b %d\")\n",
    "            dateNewFormat = datetime_object.strftime(\"%B%d \")\n",
    "            #substitute the old date with the new\n",
    "            TextwithDates = re.sub(match, dateNewFormat, TextwithDates)\n",
    "\n",
    "        MonthDD = r\"january\\d+|february\\d+|march\\d+|april\\d+|may\\d+|june\\d+|july\\d+|august\\d+|september\\d+|october\\d+|november\\d+|december\\d+\"\n",
    "        for match in re.findall(MonthDD, TextwithDates):\n",
    "            datetime_object = datetime.strptime(match,\"%B%d\")\n",
    "            dateNewFormat = datetime_object.strftime(\"%B%d \")\n",
    "            #substitute the old date with the new\n",
    "            TextwithDates = re.sub(match, dateNewFormat, TextwithDates)\n",
    "\n",
    "        Month_DD = r\"january \\d+|february \\d+|march \\d+|april \\d+|may \\d+|june \\d+|july \\d+|august \\d+|september \\d+|october \\d+|november \\d+|december \\d+\"\n",
    "        for match in re.findall(Month_DD, TextwithDates):\n",
    "            datetime_object = datetime.strptime(match,\"%B %d\")\n",
    "            dateNewFormat = datetime_object.strftime(\"%B%d \")\n",
    "            #substitute the old date with the new\n",
    "            TextwithDates = re.sub(match, dateNewFormat, TextwithDates)\n",
    "        return(TextwithDates)\n",
    "    except Exception:\n",
    "        return(TextwithDates)"
   ]
  },
  {
   "cell_type": "code",
   "execution_count": null,
   "metadata": {},
   "outputs": [],
   "source": [
    "textToSearch = \"08/05/19 17:26:00 CDT 08/05 4:05 9/8/19 and 12/8/2019 temp 101 january8th and september 6 2019 march 8th xxx jan10th xyz jan 8th  na 140 (aug 07) 143 (aug 06) 141 (aug 05) \" # \n",
    "\n",
    "# MONTHS_PATTERN = r\"january\\d+|february\\d+|march\\d+|april\\d+|may\\d+|june\\d+|july\\d+|august\\d+|september\\d+|october\\d+|november\\d+|december\\d+|january \\d+|february \\d+|march \\d+|april \\d+|may \\d+|june \\d+|july \\d+|august \\d+|september \\d+|october \\d+|november \\d+|december \\d+|jan\\d+|jan \\d+|feb\\d+|feb \\d+|mar\\d+|mar \\d+|apr\\d+|apr \\d+|may\\d+|may \\d+|jun\\d+|jun \\d+|jul\\d+|jul \\d+|aug\\d+|aug \\d+|sep\\d+|sept \\d+|oct\\d+|oct \\d+|nov\\d+|nov \\d+|dec\\d+|dec \\d+\"\n",
    "# # MONTHS_PATTERN = r\"january\\d+|february\\d+|march\\d+|april\\d+|may\\d+|june\\d+|july\\d+|august\\d+|september\\d+|october\\d+|november\\d+|december\\d+\"\n",
    "# # MONTHS_PATTERN = r\"january \\d+|february \\d+|march \\d+|april \\d+|may \\d+|june \\d+|july \\d+|august \\d+|september \\d+|october \\d+|november \\d+|december \\d+\"\n",
    "\n",
    "# MONTHS = r\"jan|feb|mar|apr|may|jun|jul|aug|sep|oct|nov|dec\"\n",
    "# MONTHS = r\"jan\\d+|jan \\d+|feb\\d+|feb \\d+|mar\\d+|mar \\d+|apr\\d+|apr \\d+|may\\d+|may \\d+|jun\\d+|jun \\d+|jul\\d+|jul \\d+|aug\\d+|aug \\d+|sep\\d+|sept \\d+|oct\\d+|oct \\d+|nov\\d+|nov \\d+|dec\\d+|dec \\d+\"\n",
    "MonDD = r\"jan\\d+|feb\\d+|mar\\d+|apr\\d+|may\\d+|jun\\d+|jul\\d+|aug\\d+|sep\\d+|oct\\d+|nov\\d+|dec\\d+\"\n",
    "# First convert jan to january etc\n",
    "for match in re.findall(MonDD, textToSearch):\n",
    "    datetime_object = datetime.strptime(match,\"%b%d\")\n",
    "    dateNewFormat = datetime_object.strftime(\"%B%d \")\n",
    "    #substitute the old date with the new\n",
    "    textToSearch = re.sub(match, dateNewFormat, textToSearch)\n",
    "\n",
    "Mon_DD = r\"jan \\d+|feb \\d+|mar \\d+|apr \\d+|may \\d+|jun \\d+|jul \\d+|aug \\d+|sept \\d+|oct \\d+|nov \\d+|dec \\d+\"\n",
    "for match in re.findall(Mon_DD, textToSearch):\n",
    "    datetime_object = datetime.strptime(match,\"%b %d\")\n",
    "    dateNewFormat = datetime_object.strftime(\"%B%d \")\n",
    "    #substitute the old date with the new\n",
    "    textToSearch = re.sub(match, dateNewFormat, textToSearch)\n",
    "\n",
    "MonthDD = r\"january\\d+|february\\d+|march\\d+|april\\d+|may\\d+|june\\d+|july\\d+|august\\d+|september\\d+|october\\d+|november\\d+|december\\d+\"\n",
    "for match in re.findall(MonthDD, textToSearch):\n",
    "    datetime_object = datetime.strptime(match,\"%B%d\")\n",
    "    dateNewFormat = datetime_object.strftime(\"%B%d \")\n",
    "    #substitute the old date with the new\n",
    "    textToSearch = re.sub(match, dateNewFormat, textToSearch)\n",
    "\n",
    "Month_DD = r\"january \\d+|february \\d+|march \\d+|april \\d+|may \\d+|june \\d+|july \\d+|august \\d+|september \\d+|october \\d+|november \\d+|december \\d+\"\n",
    "for match in re.findall(Month_DD, textToSearch):\n",
    "    datetime_object = datetime.strptime(match,\"%B %d\")\n",
    "    dateNewFormat = datetime_object.strftime(\"%B%d \")\n",
    "    #substitute the old date with the new\n",
    "    textToSearch = re.sub(match, dateNewFormat, textToSearch)\n",
    "print(textToSearch)"
   ]
  },
  {
   "cell_type": "code",
   "execution_count": null,
   "metadata": {},
   "outputs": [],
   "source": []
  },
  {
   "cell_type": "code",
   "execution_count": null,
   "metadata": {},
   "outputs": [],
   "source": [
    "for match in re.findall(MONTHS_PATTERN, textToSearch):\n",
    "    datetime_object = datetime.strptime(match, \"%B%d\")\n",
    "    dateNewFormat = datetime_object.strftime(\"%B%d \")\n",
    "    #substitute the old date with the new\n",
    "    textToSearch = re.sub(match, dateNewFormat, textToSearch)\n",
    "print(textToSearch)"
   ]
  },
  {
   "cell_type": "code",
   "execution_count": null,
   "metadata": {},
   "outputs": [],
   "source": [
    "ClinicalNotes.apply(lambda x: ChangeTime(x.Text), axis=1)"
   ]
  },
  {
   "cell_type": "code",
   "execution_count": null,
   "metadata": {},
   "outputs": [],
   "source": [
    "# 24889 - [july 15, august 2004, july 2009, november 2007, june 2012, january 2018] \n",
    "# 21572    [july 18, august 3, august 6, august 4, august 3, august 3]\n",
    "# 30687    [july 21, february 2019]  \n",
    "MONTHS_PATTERN = r\"january\\d+|february\\d+|march\\d+|april\\d+|may\\d+|june\\d+|july\\d+|august\\d+|september\\d+|october\\d+|november\\d+|december\\d+|january \\d+|february \\d+|march \\d+|april \\d+|may \\d+|june \\d+|july \\d+|august \\d+|september \\d+|october \\d+|november \\d+|december \\d+|jan\\d+|jan \\d+|feb\\d+|feb \\d+|mar\\d+|mar \\d+|apr\\d+|apr \\d+|may\\d+|may \\d+|jun\\d+|jun \\d+|jul\\d+|jul \\d+|aug\\d+|aug \\d+|sep\\d+|sept \\d+|oct\\d+|oct \\d+|nov\\d+|nov \\d+|dec\\d+|dec \\d+\"\n",
    "\n",
    "ClinicalNotes[\"Text\"].str.findall(MONTHS_PATTERN)"
   ]
  },
  {
   "cell_type": "code",
   "execution_count": null,
   "metadata": {},
   "outputs": [],
   "source": [
    "# remove rows from ClinicalNotes\n",
    "ClinicalNotes_chk = ClinicalNotes[~(ClinicalNotes.Row.isin([7268,24917,776,7956,6236,7476,36225,38732,38832,3097,4411,4723,7674,9654,4722,7743,9688,9675,9681,22572,33745,23004,7746,5431,9022,9030,8602,24427,9071,9072,5604,23914,7406,9070,22172,2534,3897,7441,32772,1943,8684,7452,1635,36088,5635]))]"
   ]
  },
  {
   "cell_type": "code",
   "execution_count": null,
   "metadata": {},
   "outputs": [],
   "source": [
    "ClinicalNotes.head(5)"
   ]
  },
  {
   "cell_type": "code",
   "execution_count": null,
   "metadata": {},
   "outputs": [],
   "source": [
    "chk = ClinicalNotes[(ClinicalNotes.Row.isin([7268,24917,776,7956,6236,7476,36225,38732,38832,3097,4411,4723,7674,9654,4722,7743,9688,9675,9681,22572,33745,23004,7746,5431,9022,9030,8602,24427,9071,9072,5604,23914,7406,9070,22172,2534,3897,7441,32772,1943,8684,7452,1635,36088,5635]))]"
   ]
  },
  {
   "cell_type": "code",
   "execution_count": null,
   "metadata": {},
   "outputs": [],
   "source": [
    "# Check for errors where the \n",
    "ClinicalNotes_error = ClinicalNotes\n",
    "ClinicalNotes_error.Text = ClinicalNotes_error.apply(lambda x: ChangeDateFormat(x.Text), axis=1)\n",
    "ClinicalNotes_error = ClinicalNotes_error[pd.isnull(ClinicalNotes_error.Text)]\n",
    "Rows_error = ClinicalNotes_error.Row.tolist()"
   ]
  },
  {
   "cell_type": "code",
   "execution_count": null,
   "metadata": {},
   "outputs": [],
   "source": [
    "ClinicalNotes_error = ClinicalNotes[(ClinicalNotes.Row.isin(Rows_error))]"
   ]
  },
  {
   "cell_type": "code",
   "execution_count": null,
   "metadata": {},
   "outputs": [],
   "source": [
    "ClinicalNotes_error['TextFunction'] = ClinicalNotes_error.apply(lambda x: ChangeDateFormat(x.Text), axis=1)"
   ]
  },
  {
   "cell_type": "code",
   "execution_count": null,
   "metadata": {},
   "outputs": [],
   "source": [
    "ClinicalNotes_error.to_excel('Py DataFrames/ClinicalNotes_error.xlsx',index=False)"
   ]
  },
  {
   "cell_type": "code",
   "execution_count": null,
   "metadata": {
    "scrolled": false
   },
   "outputs": [],
   "source": [
    "textToSearch = \"date of service from 8/6 to 9/8/19 \"\n",
    "textToSearch = \"date of service from 8/6 to 9/8/19 and 12/8/2019\"\n",
    "textToSearch = \"date of service from 8/6 to 9/8/19 and 12/8/2019 and september 6th 2019\"\n",
    "textToSearch = \"date of service from 8/6 to 9/8/19 and 12/8/2019 and september 6th 2019 in 101.4 as 1400\" # year \n",
    "textToSearch = \"date of service from 8/6 to 9/8/19 and 12/8/2019 and september 6th 2019 in 101.4 as @1400\"\n",
    "textToSearch = \"date of service from 8/6 to 9/8/19 and 12/8/2019 and september 6th 2019 in 101.4 as 6000\"\n",
    "textToSearch = \"08/05/19 17:26:00 CDT 08/05 4:05 9/8/19 and 12/8/2019 temp 101 and september 6 2019 march 8th xxx jan10th xyz jan 8th  na 140 (aug 07) 143 (aug 06) 141 (aug 05) \" # \n",
    "textToSearch = \"scr remains stable 1.6-1.9. ply holding at 180s, ast/alt 76/51\" # \n",
    "textToSearch = \"16/6 per prog note: her work up for infectious colitis thus far has been negative\" #If date is in dd/mm format the code ignores or doesn't convert \n",
    "textToSearch = \"9/26-\\nmica 9/27-\\nceftriaxone 9/24-9/26\\nmero 9/229/24\\n\\n9/27 id on board\" #In this case, 9/229/24 it is supposed to be 9/22 and 9/24 but since there is no gap etc between the two it is considered as an error\n",
    "textToSearch = \"percocet 5/325\\n\\npmh: cad, chf, gerd, htn\" \n",
    "# In row 4722 - looks like only of its date is written in dd/mm format\n",
    "# In row 22572 - check again\n",
    "# In row 33745 - 169382/1283521"
   ]
  },
  {
   "cell_type": "code",
   "execution_count": null,
   "metadata": {
    "scrolled": true
   },
   "outputs": [],
   "source": [
    "# 5741, 7268, 24917, 776,28281\n",
    "# 9615,33876, 3099\n",
    "textToSearch = ClinicalNotes[ClinicalNotes.Row==3099].Text\n",
    "textToSearch"
   ]
  },
  {
   "cell_type": "code",
   "execution_count": null,
   "metadata": {
    "scrolled": true
   },
   "outputs": [],
   "source": [
    "textToSearch = ClinicalNotes[ClinicalNotes.Row==33876].Text"
   ]
  },
  {
   "cell_type": "code",
   "execution_count": null,
   "metadata": {},
   "outputs": [],
   "source": [
    "textToSearch = \"08/05/19 17:26:00 CDT 08/05 4:05 9/8/19 and 12/8/2019 temp 101 and september 6 2019 march 8th xxx jan10th xyz jan 8th  na 140 (aug 07) 143 (aug 06) 141 (aug 05) \" # "
   ]
  },
  {
   "cell_type": "code",
   "execution_count": null,
   "metadata": {},
   "outputs": [],
   "source": [
    "MONTHS_PATTERN = r\"january\\d+|february\\d+|march\\d+|april\\d+|may\\d+|june\\d+|july\\d+|august\\d+|september\\d+|october\\d+|november\\d+|december\\d+|january \\d+|february \\d+|march \\d+|april \\d+|may \\d+|june \\d+|july \\d+|august \\d+|september \\d+|october \\d+|november \\d+|december \\d+|jan\\d+|jan \\d+|feb\\d+|feb \\d+|mar\\d+|mar \\d+|apr\\d+|apr \\d+|may\\d+|may \\d+|jun\\d+|jun \\d+|jul\\d+|jul \\d+|aug\\d+|aug \\d+|sep\\d+|sept \\d+|oct\\d+|oct \\d+|nov\\d+|nov \\d+|dec\\d+|dec \\d+\"\n",
    "re.findall(MONTHS_PATTERN, textToSearch)"
   ]
  },
  {
   "cell_type": "code",
   "execution_count": null,
   "metadata": {},
   "outputs": [],
   "source": [
    "import datefinder\n",
    "matches = datefinder.find_dates(textToSearch)\n",
    "for match in matches:\n",
    "    print(match)"
   ]
  },
  {
   "cell_type": "code",
   "execution_count": null,
   "metadata": {},
   "outputs": [],
   "source": [
    "ChangeDateFormat(textToSearch)"
   ]
  },
  {
   "cell_type": "code",
   "execution_count": null,
   "metadata": {},
   "outputs": [],
   "source": [
    "ChangeDateFormat(textToSearch)"
   ]
  },
  {
   "cell_type": "code",
   "execution_count": null,
   "metadata": {},
   "outputs": [],
   "source": [
    "ChangeYYYYToYY(textToSearch)"
   ]
  },
  {
   "cell_type": "code",
   "execution_count": null,
   "metadata": {},
   "outputs": [],
   "source": [
    "ChangeMMDDYYtoMMDD(textToSearch)"
   ]
  },
  {
   "cell_type": "code",
   "execution_count": null,
   "metadata": {},
   "outputs": [],
   "source": [
    "ChangeMMDDtoMonthDD(textToSearch)"
   ]
  },
  {
   "cell_type": "code",
   "execution_count": null,
   "metadata": {},
   "outputs": [],
   "source": [
    "ChangeTime(textToSearch)"
   ]
  },
  {
   "cell_type": "code",
   "execution_count": null,
   "metadata": {},
   "outputs": [],
   "source": [
    "ClinicalNotes.apply(lambda x: ChangeDateTimeFormat(x.Text), axis=1)"
   ]
  },
  {
   "cell_type": "code",
   "execution_count": null,
   "metadata": {},
   "outputs": [],
   "source": [
    "ClinicalNotes_error.apply(lambda x: ChangeDateFormat(x.Text), axis=1)"
   ]
  },
  {
   "cell_type": "code",
   "execution_count": null,
   "metadata": {},
   "outputs": [],
   "source": [
    "# error at index 7268"
   ]
  }
 ],
 "metadata": {
  "kernelspec": {
   "display_name": "Python 3",
   "language": "python",
   "name": "python3"
  },
  "language_info": {
   "codemirror_mode": {
    "name": "ipython",
    "version": 3
   },
   "file_extension": ".py",
   "mimetype": "text/x-python",
   "name": "python",
   "nbconvert_exporter": "python",
   "pygments_lexer": "ipython3",
   "version": "3.7.2"
  }
 },
 "nbformat": 4,
 "nbformat_minor": 2
}
