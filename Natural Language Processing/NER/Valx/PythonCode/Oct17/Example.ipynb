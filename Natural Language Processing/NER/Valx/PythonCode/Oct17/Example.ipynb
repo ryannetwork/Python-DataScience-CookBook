{
 "cells": [
  {
   "cell_type": "code",
   "execution_count": null,
   "metadata": {},
   "outputs": [],
   "source": [
    "### After making changes to the codes - To import all the functions \n",
    "from W_utility.log import * \n",
    "from W_utility.file import * \n",
    "\n",
    "from NLP.porter2 import *\n",
    "from NLP.word import *\n",
    "from NLP.sentence import *\n",
    "from NLP.sentence_keywords import * "
   ]
  },
  {
   "cell_type": "code",
   "execution_count": null,
   "metadata": {},
   "outputs": [],
   "source": [
    "import Valx_core\n",
    "from Valx_core import *"
   ]
  },
  {
   "cell_type": "code",
   "execution_count": null,
   "metadata": {},
   "outputs": [],
   "source": [
    "Valx_core.init_features ()\n",
    "fea_dict_dk = ufile.read_csv_as_dict ('data/variable_features_dk.csv', 0, 1, True)\n",
    "fea_dict_umls = ufile.read_csv_as_dict ('data/variable_features_umls.csv', 0, 1, True)"
   ]
  },
  {
   "cell_type": "code",
   "execution_count": null,
   "metadata": {},
   "outputs": [],
   "source": [
    "name_list=\"heart rate | temperature | blood pressure\"\n",
    "add_stopwords =[\"finding\",\"of\"]"
   ]
  },
  {
   "cell_type": "code",
   "execution_count": null,
   "metadata": {},
   "outputs": [],
   "source": [
    "ClinicalNote_preprocessing = Valx_core.preprocessing(ClinicalNote)\n",
    "ClinicalNote_split_text_inclusion_exclusion = Valx_core.split_text_inclusion_exclusion(ClinicalNote_preprocessing)\n",
    "ClinicalNote_extract_candidates_numeric = Valx_core.extract_candidates_numeric(ClinicalNote_preprocessing)\n",
    "ClinicalNote_formalize_expressions = Valx_core.formalize_expressions(ClinicalNote_extract_candidates_numeric[1][0])\n",
    "ClinicalNote_identify_variable = Valx_core.identify_variable(ClinicalNote_formalize_expressions, fea_dict_dk, fea_dict_umls)\n",
    "ClinicalNote_associate_variable_values = Valx_core.associate_variable_values(ClinicalNote_identify_variable[0])\n",
    "ClinicalNote_associate_variable_values"
   ]
  },
  {
   "cell_type": "code",
   "execution_count": null,
   "metadata": {},
   "outputs": [],
   "source": [
    "# Create a function for NumericAttributeExtraction\n",
    "from W_utility.log import * \n",
    "from W_utility.file import * \n",
    "\n",
    "from NLP.porter2 import *\n",
    "from NLP.word import *\n",
    "from NLP.sentence import *\n",
    "from NLP.sentence_keywords import * \n",
    "import Valx_core\n",
    "from Valx_core import *\n",
    "Valx_core.init_features () #Function needs to be executed to actually declare the global variables \n",
    "\n",
    "fea_dict_dk = ufile.read_csv_as_dict ('data/variable_features_dk.csv', 0, 1, True)\n",
    "fea_dict_umls = ufile.read_csv_as_dict ('data/variable_features_umls.csv', 0, 1, True)\n",
    "\n",
    "    \n",
    "def NumericAttributeExtraction(ClinicalNote):\n",
    "    try:\n",
    "        ClinicalNote_preprocessing = Valx_core.preprocessing(ClinicalNote)\n",
    "        ClinicalNote_split_text_inclusion_exclusion = Valx_core.split_text_inclusion_exclusion(ClinicalNote_preprocessing)\n",
    "        ClinicalNote_extract_candidates_numeric = Valx_core.extract_candidates_numeric(ClinicalNote_preprocessing)\n",
    "        ClinicalNote_formalize_expressions = Valx_core.formalize_expressions(ClinicalNote_extract_candidates_numeric[1][0])\n",
    "        ClinicalNote_identify_variable = Valx_core.identify_variable(ClinicalNote_formalize_expressions, fea_dict_dk, fea_dict_umls)\n",
    "        ClinicalNote_associate_variable_values = Valx_core.associate_variable_values(ClinicalNote_identify_variable[0])\n",
    "        return(ClinicalNote_associate_variable_values)\n",
    "    except Exception:\n",
    "        pass"
   ]
  },
  {
   "cell_type": "code",
   "execution_count": null,
   "metadata": {},
   "outputs": [],
   "source": [
    "# Function by adding name_list\n",
    "def NumericAttributeExtraction(ClinicalNote):\n",
    "    ClinicalNote_preprocessing = Valx_core.preprocessing(ClinicalNote)\n",
    "    ClinicalNote_split_text_inclusion_exclusion = Valx_core.split_text_inclusion_exclusion(ClinicalNote_preprocessing)\n",
    "    \n",
    "    name_list=\"heart rate | temperature | blood pressure | wbc\"\n",
    "    sections_num = Valx_core.extract_candidates_numeric(ClinicalNote_preprocessing)[0]\n",
    "    candidates_num = Valx_core.extract_candidates_numeric(ClinicalNote_preprocessing)[1]\n",
    "    ClinicalNote_extract_candidates_name = Valx_core.extract_candidates_name(sections_num, candidates_num, name_list)\n",
    "    \n",
    "    ClinicalNote_formalize_expressions = Valx_core.formalize_expressions(ClinicalNote_extract_candidates_name[1][0])\n",
    "    ClinicalNote_identify_variable = Valx_core.identify_variable(ClinicalNote_formalize_expressions, fea_dict_dk, fea_dict_umls)\n",
    "    ClinicalNote_associate_variable_values = Valx_core.associate_variable_values(ClinicalNote_identify_variable[0])\n",
    "    return(ClinicalNote_associate_variable_values)"
   ]
  },
  {
   "cell_type": "code",
   "execution_count": null,
   "metadata": {},
   "outputs": [],
   "source": [
    "# Function for processing all sentences with a para/observation\n",
    "def NumericAttributeExtraction(ClinicalNote):\n",
    "    ClinicalNote_preprocessing = Valx_core.preprocessing(ClinicalNote)\n",
    "    ClinicalNote_split_text_inclusion_exclusion = Valx_core.split_text_inclusion_exclusion(ClinicalNote_preprocessing)\n",
    "    ClinicalNote_extract_candidates_numeric = Valx_core.extract_candidates_numeric(ClinicalNote_preprocessing)\n",
    "\n",
    "    ClinicalNote_Numerical_Attributes = []\n",
    "    for i in range(len(ClinicalNote_extract_candidates_numeric[1])):\n",
    "        ClinicalNote_formalize_expressions = Valx_core.formalize_expressions(ClinicalNote_extract_candidates_numeric[1][i])\n",
    "        ClinicalNote_identify_variable = Valx_core.identify_variable(ClinicalNote_formalize_expressions, fea_dict_dk, fea_dict_umls)\n",
    "        ClinicalNote_associate_variable_values = Valx_core.associate_variable_values(ClinicalNote_identify_variable[0])\n",
    "        ClinicalNote_Numerical_Attributes = ClinicalNote_Numerical_Attributes + list(ClinicalNote_associate_variable_values)[1]\n",
    "    return(ClinicalNote_Numerical_Attributes)"
   ]
  },
  {
   "cell_type": "code",
   "execution_count": null,
   "metadata": {},
   "outputs": [],
   "source": [
    "# Function for processing all sentences with a para/observation\n",
    "def NumericAttributeExtraction(ClinicalNote):\n",
    "    try:\n",
    "        ClinicalNote_preprocessing = Valx_core.preprocessing(ClinicalNote)\n",
    "        ClinicalNote_split_text_inclusion_exclusion = Valx_core.split_text_inclusion_exclusion(ClinicalNote_preprocessing)\n",
    "        ClinicalNote_extract_candidates_numeric = Valx_core.extract_candidates_numeric(ClinicalNote_preprocessing)\n",
    "\n",
    "        ClinicalNote_Numerical_Attributes = []\n",
    "        for i in range(len(ClinicalNote_extract_candidates_numeric[1])):\n",
    "            ClinicalNote_formalize_expressions = Valx_core.formalize_expressions(ClinicalNote_extract_candidates_numeric[1][i])\n",
    "            ClinicalNote_identify_variable = Valx_core.identify_variable(ClinicalNote_formalize_expressions, fea_dict_dk, fea_dict_umls)\n",
    "            ClinicalNote_associate_variable_values = Valx_core.associate_variable_values(ClinicalNote_identify_variable[0])\n",
    "            ClinicalNote_Numerical_Attributes = ClinicalNote_Numerical_Attributes + list(ClinicalNote_associate_variable_values)[1]\n",
    "        return(ClinicalNote_Numerical_Attributes)\n",
    "    except Exception:\n",
    "        pass"
   ]
  },
  {
   "cell_type": "code",
   "execution_count": null,
   "metadata": {},
   "outputs": [],
   "source": [
    "# To correct it\n",
    "# Based on NEW modified functions \n",
    "def NumericAttributeExtraction(ClinicalNote):\n",
    "    try:\n",
    "        ClinicalNote_preprocessing = Valx_core.preprocessing(ClinicalNote)\n",
    "        ClinicalNote_split_text_inclusion_exclusion = Valx_core.split_text_inclusion_exclusion(ClinicalNote_preprocessing)\n",
    "        ClinicalNote_extract_candidates_numeric = Valx_core.extract_candidates_numeric(ClinicalNote_preprocessing)\n",
    "\n",
    "        ClinicalNote_Numerical_Attributes = []\n",
    "        for i in range(len(ClinicalNote_extract_candidates_numeric)):\n",
    "            ClinicalNote_formalize_expressions = Valx_core.formalize_expressions(ClinicalNote_extract_candidates_numeric[i])\n",
    "            ClinicalNote_identify_variable = Valx_core.identify_variable(ClinicalNote_formalize_expressions, fea_dict_dk, fea_dict_umls)\n",
    "            ClinicalNote_associate_variable_values = Valx_core.associate_variable_values(ClinicalNote_identify_variable[0])\n",
    "            ClinicalNote_Numerical_Attributes = ClinicalNote_Numerical_Attributes + list(ClinicalNote_associate_variable_values)[1]\n",
    "        return(ClinicalNote_Numerical_Attributes)\n",
    "    except Exception:\n",
    "        pass"
   ]
  },
  {
   "cell_type": "code",
   "execution_count": null,
   "metadata": {},
   "outputs": [],
   "source": [
    "ClinicalNote = ' 30ml/min'\n",
    "ClinicalNote = \"Inclusion Criteria:# - Informed consent 8 obtained before any trial-related activities.# 2. Diagnosed type 1 diabetes before the age of 40 and on insulin treatment within one year of diagnosis.# 3. Insulin treatment of any regime for more than one year at time of inclusion.# 4. Total insulin demand >= 0,5 IU/kg/24 hrs# 5. HbA1c between 7% and 12 % (both values included).# 6. Age >= 18 years.# 7. BMI between 18 and 35 kg /m2 (including both values).# Exclusion Criteria:# 1. Known or suspected allergy to trial product(s) or related products.# 2. Recurrent major hypoglycaemic episodes.# 3. Heart: Unstable Angina Pectoris, AMI < 12 months or heart insufficiency classified according to NYHA III-IV# 4. Blood Pressure: Severe uncontrolled hypertension with BP > 180/110 mmHg, sitting# 5. Liver: Impaired hepatic function corresponding to serum-ALAT or –basic phosphatase > 2x upper reference limit of the local laboratory.# 6. Kidneys: Impaired renal function corresponding to serum-creatinin > 150 μmol/l according to the local laboratory.# 7. Any disease judged by the investigator to affect the trial.# 8. Pregnancy, breast feeding or the intention of becoming pregnant or fertile women not using adequate contraceptive measures – adequate contraceptive method is sterilisation, hysterectomy or current use of contraceptive pills or intra uterine device.# 9. The receipt of any investigational drug within a three month period prior to this trial.\"\n",
    "ClinicalNote = \"Child Inclusion Criteria:# - Age 9.0 to <14.5.# - Type 1 diabetes diagnosis (diagnosed by ADA criteria) for a minimum of 1 year for the main subgroup or 3 months for the recent onset subgroup.# - Insulin dose greater than or equal to 0.5 u/kg/day for the main subgroup or 0.2 u/kg/day for the recent onset subgroup; with 2 or more daily injections or use of insulin pump.# - Most recent A1c is >6.0% and <13.0%; <12.0% for those diagnosed for less than 1 year.# - Willing to provide informed assent.# Parent/Family Environment Inclusion Criteria# - Child lives in geographically stable home, no multiple foster homes, boarding school, or institutions expected in next 2 years.# - The same 1 or 2 adult caregivers have accompanied the child to every diabetes clinic visit in the past year, and at least 1 caregiver agrees to participate in all aspects of the protocol (single-parent families, blended families, and separated parents will be eligible).# - Home has telephone access.# - Child had at least 2 clinic visits within last 12 months.# - Parent and child willing to come to clinic every 3 months for duration (2 years) of study.# - If a family has more than one eligible child, all qualifying children who provide consent/assent will participate in assessment and intervention or control activities; however, only the oldest qualifying child will be included in statistical analyses.# Child Exclusion Criteria:# - Presence of a major chronic diseases (except well-controlled thyroid, asthma, celiac).# - Presence of a major visual/auditory impairments.# - Child is in a self-contained special education class throughout the school day.# - Record of inpatient hospitalization for mental disorder in past six months including substance abuse rehabilitation, eating disorder units or day treatment programs. Current diagnosis of eating disorder. History of anti-psychotic medications for the past 6 months.# - Diagnosis of mental retardation.# - Unable to read and write English at 2nd grade level.# - Children who are currently enrolled in any intervention study are not eligible for enrollment. Those who have been in an intervention arm of a trial of a behavioral, psychological or psychoeducational intervention and concluded their study follow-up within the past 12 months are also ineligible to participate. However, children who were in a standard care control group in an intervention study are eligible once they have completed all scheduled study follow-ups. Children cannot enroll in another intervention study during the course of this study. Enrollment of children who are currently participating in another observational study will be at the discretion of the site principal investigator.# Parent/Family Environment Exclusion Criteria# - Family has plans to re-locate out of area within the next 2 years of the study.# - Participating caretaker is currently undergoing treatment for substance abuse.# - Participating caretaker has been hospitalized in past 6 months for mental disorder.# - Participating caretaker has history of psychosis.# - Families who are currently enrolled in any intervention study are not eligible for enrollment. Those who have been in an intervention arm of a trial of a behavioral, psychological or psychoeducational intervention and concluded their study follow-up within the past 12 months are also ineligible to participate. However, families who were in a standard care control group in an intervention study are eligible once they have completed all scheduled study follow-ups. Families cannot enroll in another intervention study during the course of this study. Enrollment of families who are currently participating in another observational study will be at the discretion of the site principal investigator.# The family must reside within 90 miles (one-way) of the clinic (main or satellite), or agree to meet at a mutually agreed upon closer location for conduct of the home assessment.\"\n",
    "ClinicalNote = ' wbc 30 - 79   and temp -  is 69'\n",
    "NumericAttributeExtraction(ClinicalNote)"
   ]
  },
  {
   "cell_type": "code",
   "execution_count": null,
   "metadata": {
    "scrolled": true
   },
   "outputs": [],
   "source": [
    "pd.read_csv(\"data\\\\rules.csv\",header=None)"
   ]
  },
  {
   "cell_type": "code",
   "execution_count": null,
   "metadata": {},
   "outputs": [],
   "source": [
    "def formalize_expressions (candidate):\n",
    "    text = candidate\n",
    "    csvfile = open('data\\\\rules.csv', 'r')\n",
    "    reader = csv.reader(csvfile)\n",
    "    now_pattern = \"preprocessing\"\n",
    "\n",
    "    for i,pattern in enumerate(reader):\n",
    "        source_pattern = pattern[0]\n",
    "        target_pattern = pattern[1]\n",
    "        pattern_function = pattern[2]\n",
    "\n",
    "        if(pattern_function == \"process_numerical_values\" and pattern_function != now_pattern):\n",
    "            matchs = re.findall('<Unit>([^<>]+)</Unit>', text)\n",
    "            for match in matchs: text = text.replace(match, match.replace(' / ', '/').replace(' - ','-'))\n",
    "\n",
    "        if(pattern_function == \"process_special_logics\" and pattern_function != now_pattern):\n",
    "            # process 'select' expression, use the first one\n",
    "            selects = \"X \\( X \\)|X \\( equal to X \\)|X \\( = X\\)\"\n",
    "            aselect = selects.split('|')\n",
    "            for selec in aselect:\n",
    "                selec = selec.replace('X', '<VML Unit([^<>]+)>([^<>]+)</VML>')\n",
    "                text = re.sub(selec, r'<VML Unit\\1>\\2</VML>', text) #\n",
    "\n",
    "            #  process 'between' expressions\n",
    "            between = \"range of X to X|range X to X|range X - X|between X to X|between X and X|between Xand X|between X - X|between X & X|from X to X|within X to X|start X and X|X through X|of X and X|>= X and X|> X and X|of X to X|>= X to <= X|>= X to X|> X to X|X - <= X|X to X|X - X\"\n",
    "            betweens = between.split('|')\n",
    "            for betw in betweens:\n",
    "                betw = betw.replace('X', '<VML Unit([^<>]+)>([^<>]+)</VML>')\n",
    "                text = re.sub(betw, r'<VML Logic=greater_equal Unit\\1>\\2</VML> - <VML Logic=lower_equal Unit\\3>\\4</VML>', text) #\n",
    "        text = re.sub(source_pattern, target_pattern, text)\n",
    "        now_pattern = pattern_function\n",
    "\n",
    "    csvfile.close()\n",
    "    return text"
   ]
  },
  {
   "cell_type": "code",
   "execution_count": null,
   "metadata": {},
   "outputs": [],
   "source": [
    "import pandas as pd\n",
    "ClinicalNotes_UserEntered = pd.read_pickle(\"Py DataFrames/ClinicalNotes_UserEntered.pkl\")\n",
    "UserEntered_Num = pd.read_pickle(\"Py DataFrames/UserEntered_Num.pkl\")"
   ]
  },
  {
   "cell_type": "code",
   "execution_count": null,
   "metadata": {},
   "outputs": [],
   "source": [
    "# Extract rows that contain wbc\n",
    "ClinicalNotes_UserEntered['escape'] = ClinicalNotes_UserEntered['Text'].str.findall(r'\\\\')\n",
    "\n",
    "# ClinicalNotes_WBC = ClinicalNotes_NoDateErrors[(ClinicalNotes_NoDateErrors['wbc'].str.len())!=0]\n",
    "escapechar = ClinicalNotes_UserEntered[(ClinicalNotes_UserEntered['escape'].str.len())!=0]"
   ]
  },
  {
   "cell_type": "code",
   "execution_count": null,
   "metadata": {
    "scrolled": true
   },
   "outputs": [],
   "source": [
    "escapechar"
   ]
  },
  {
   "cell_type": "code",
   "execution_count": null,
   "metadata": {},
   "outputs": [],
   "source": [
    "import re\n",
    "escapechar['xyz'] = escapechar['Text'].str.replace(r\"\\\\\", \"/\")"
   ]
  },
  {
   "cell_type": "code",
   "execution_count": null,
   "metadata": {},
   "outputs": [],
   "source": [
    "text = \"text is -(300).56 but >=20,000.2 and bp is 1\\2 later and 400,000\"\n",
    "text = Valx_core.preprocessing(text)\n",
    "# text = Valx_core.split_text_inclusion_exclusion(text)\n",
    "# text = Valx_core.extract_candidates_numeric(text)\n",
    "text"
   ]
  },
  {
   "cell_type": "code",
   "execution_count": null,
   "metadata": {},
   "outputs": [],
   "source": [
    "text = \"text is -(300).56 but >=20,000.2 and bp is 20//70 later and 400,000\"\n",
    "text.replace('\\\\\\\\',\"20/30\")"
   ]
  },
  {
   "cell_type": "code",
   "execution_count": null,
   "metadata": {},
   "outputs": [],
   "source": [
    "# In rules file: (≥|>|≤|<|=|/|\\\\|\\(|\\)|\\[|\\]|\\{|\\}) \n",
    "# Details: '≥' or '>' or '≤' or '<' or '=' or '/' or '\\\\' (this is \\\\ and not just \\) or '(' or ')' or '[' or ']' or '{' or '}'\n",
    "# Additions or Modifications (>=|≥|>|<=|≤|<|=|/|\\\\|\\(|\\)|\\[|\\]|\\{|\\}) \n",
    "import re\n",
    "text = \"text is -300).56 but >=20,000/2 and bp is -(20),(30) later and 400,000-\"\n",
    "text = re.sub(r\"(>=|≥|>|<=|≤|<|=|/|\\\\|\\(|\\)|\\[|\\]|\\{|\\})\",r' \\1 ', text)\n",
    "text"
   ]
  },
  {
   "cell_type": "code",
   "execution_count": null,
   "metadata": {},
   "outputs": [],
   "source": [
    "# '-40' is converted to '- 40'\n",
    "text = re.sub(r\"-(\\d+)\", r'- \\1', text)\n",
    "text"
   ]
  },
  {
   "cell_type": "code",
   "execution_count": null,
   "metadata": {},
   "outputs": [],
   "source": [
    "# - or ~ are converted to -\n",
    "# How about - at the end of a sentence ??\n",
    "# |-| \n",
    "text = re.sub(r\"(--|- -| -|- |~~|~ ~|~)\", r' - ', text)\n",
    "text"
   ]
  },
  {
   "cell_type": "code",
   "execution_count": null,
   "metadata": {},
   "outputs": [],
   "source": [
    "# In rules file: (?<!(\\w|<|>|=|\\d+))(mmol l - 1|miu / ml minimum|9 / l|ml / min / 1\\.73 m2|ml / min1|ml / min  -  1|ml / min per 1\\.73 m2|ml / min / m2\\{1\\.73\\}|ml / min / 1\\.73m2|signs / symptoms)(?!(\\w|-|\\d+))\n",
    "# Details: ?<! is Negative lookbehind implies preceding the statement of interest.  \n",
    "# Units in \\2 should not be preceded by either a (letter, digit or underscore) or > or < or =\n",
    "text = \"temp = 52_ml / min / 1.73 m2\"\n",
    "text = re.sub(r\"(?<!(\\w|<|>|=))(mmol l - 1|miu / ml minimum|9 / l|ml / min / 1\\.73 m2|ml / min1|ml / min  -  1|ml / min per 1\\.73 m2|ml / min / m2\\{1\\.73\\}|ml / min / 1\\.73m2|signs / symptoms)(?!(\\w|-))\", r'<Unit>\\2</Unit>', text)\n",
    "text"
   ]
  },
  {
   "cell_type": "code",
   "execution_count": null,
   "metadata": {},
   "outputs": [],
   "source": [
    "Df = { 'TextData': [\"-80\",\"- 80\",\"-80-\",\"- 80-\",\"-80 -\",\"- 80 -\",\"xyz - 80\",\"xyac -80\",\"30-70\",\"30-70-90\",\"30-80-97-90\",\n",
    "                    \"30-80-97-90-87\",\"30-80-97-90-87-88\",\"30-80-97-90-87-88-78\",\"xyac 30-70\",\"xyac 30-70-90\",\"xyac 30-80-97-90\",\n",
    "                    \"xyac 30-80-97-90-87\",\"xyac 30-80-97-90-87-88\", \"xyac 30-80-97-90-87-88-78\"]}\n",
    "Df = pd.DataFrame(data=Df)\n",
    "Df"
   ]
  },
  {
   "cell_type": "code",
   "execution_count": null,
   "metadata": {},
   "outputs": [],
   "source": [
    "# Use cases for -\n",
    "# \"-80\" : 80 is extracted\n",
    "# \"- 80\" : 80 is extracted\n",
    "# \"xyz - 80\" : NOT extracted\n",
    "# \"xyac -80\" : NOT extracted\n",
    "# \"30-70\" : 30 & 70 are extracted\n",
    "# \"30-70-90\" : NOT are extracted\n",
    "# \"30-80-97-90\" : ONLY 90 is extracted\n",
    "# \"30-80-97-90-87\" : ONLY 90 & 87 are extracted\n",
    "# \"30-80-97-90-87-88\" : '30-80-97 - 90-87-88 '\n",
    "# \"30-80-97-90-87-88-78\" : 78 is extracted\n",
    "\n",
    "ClinicalNote = \"wbc 30-70-97-90 and temp is 69 and scr is 7-8-9\"\n",
    "ClinicalNote = \"wbc 30-80-97-90-87-88-78-99 and temp is - 69 \"\n",
    "ClinicalNote_preprocessing = Valx_core.preprocessing(ClinicalNote)\n",
    "ClinicalNote_split_text_inclusion_exclusion = Valx_core.split_text_inclusion_exclusion(ClinicalNote_preprocessing)\n",
    "ClinicalNote_extract_candidates_numeric = Valx_core.extract_candidates_numeric(ClinicalNote_preprocessing)\n",
    "Valx_core.formalize_expressions(ClinicalNote_extract_candidates_numeric[1][0])\n"
   ]
  },
  {
   "cell_type": "code",
   "execution_count": null,
   "metadata": {},
   "outputs": [],
   "source": [
    "def FormalizingExp(ClinicalNote):\n",
    "    ClinicalNote_preprocessing = Valx_core.preprocessing(ClinicalNote)\n",
    "    ClinicalNote_split_text_inclusion_exclusion = Valx_core.split_text_inclusion_exclusion(ClinicalNote_preprocessing)\n",
    "    ClinicalNote_extract_candidates_numeric = Valx_core.extract_candidates_numeric(ClinicalNote_preprocessing)\n",
    "    ClinicalNote_formalize_expressions = Valx_core.formalize_expressions(ClinicalNote_extract_candidates_numeric[1][0])\n",
    "#     ClinicalNote_identify_variable = Valx_core.identify_variable(ClinicalNote_formalize_expressions, fea_dict_dk, fea_dict_umls)\n",
    "#     ClinicalNote_associate_variable_values = Valx_core.associate_variable_values(ClinicalNote_identify_variable[0])\n",
    "    return(ClinicalNote_formalize_expressions)"
   ]
  },
  {
   "cell_type": "code",
   "execution_count": null,
   "metadata": {
    "scrolled": true
   },
   "outputs": [],
   "source": [
    "pd.set_option('display.max_colwidth',-1)\n",
    "Df['Extract'] = Df.apply(lambda x: FormalizingExp(x.TextData), axis=1)\n",
    "Df"
   ]
  },
  {
   "cell_type": "code",
   "execution_count": null,
   "metadata": {},
   "outputs": [],
   "source": []
  },
  {
   "cell_type": "code",
   "execution_count": null,
   "metadata": {},
   "outputs": [],
   "source": [
    "import pandas as pd\n",
    "UserEntered_Num_WBC = pd.read_pickle(\"UserEntered_Num_WBC.pkl\") # Obtained after initial pre-processing"
   ]
  },
  {
   "cell_type": "code",
   "execution_count": null,
   "metadata": {
    "scrolled": true
   },
   "outputs": [],
   "source": [
    "UserEntered_Num_WBC.head()"
   ]
  },
  {
   "cell_type": "code",
   "execution_count": null,
   "metadata": {},
   "outputs": [],
   "source": [
    "UserEntered_Num_WBC['Extract'] = UserEntered_Num_WBC.apply(lambda x: NumericAttributeExtraction(x.Text_DateTimeFormatted), axis=1)"
   ]
  },
  {
   "cell_type": "code",
   "execution_count": null,
   "metadata": {
    "scrolled": true
   },
   "outputs": [],
   "source": [
    "UserEntered_Num_WBC"
   ]
  },
  {
   "cell_type": "code",
   "execution_count": null,
   "metadata": {},
   "outputs": [],
   "source": [
    "UserEntered_Num_WBC.to_excel('Py DataFrames/UserEntered_Num_WBC_extract.xlsx',index=False)"
   ]
  },
  {
   "cell_type": "code",
   "execution_count": null,
   "metadata": {},
   "outputs": [],
   "source": [
    "from W_utility.log import * \n",
    "from W_utility.file import * \n",
    "\n",
    "from NLP.porter2 import *\n",
    "from NLP.word import *\n",
    "from NLP.sentence import *\n",
    "from NLP.sentence_keywords import * \n",
    "import Valx_core\n",
    "from Valx_core import *\n",
    "Valx_core.init_features ()\n",
    "\n",
    "fea_dict_dk = ufile.read_csv_as_dict ('data/variable_features_dk.csv', 0, 1, True)\n",
    "fea_dict_umls = ufile.read_csv_as_dict ('data/variable_features_umls.csv', 0, 1, True)"
   ]
  },
  {
   "cell_type": "code",
   "execution_count": null,
   "metadata": {
    "scrolled": true
   },
   "outputs": [],
   "source": [
    "#NumericAttributeExtraction(ClinicalNote)\n",
    "ClinicalNote = 'March28 wbc 17.0'\n",
    "\n",
    "ClinicalNote_preprocessing = Valx_core.preprocessing(ClinicalNote)\n",
    "ClinicalNote_split_text_inclusion_exclusion = Valx_core.split_text_inclusion_exclusion(ClinicalNote_preprocessing)\n",
    "ClinicalNote_extract_candidates_numeric = Valx_core.extract_candidates_numeric(ClinicalNote_preprocessing)\n",
    "ClinicalNote_formalize_expressions = Valx_core.formalize_expressions(ClinicalNote_extract_candidates_numeric[1][0])\n",
    "ClinicalNote_identify_variable = Valx_core.identify_variable(ClinicalNote_formalize_expressions, fea_dict_dk, fea_dict_umls)\n",
    "ClinicalNote_associate_variable_values = Valx_core.associate_variable_values(ClinicalNote_identify_variable[0])\n",
    "ClinicalNote_associate_variable_values"
   ]
  },
  {
   "cell_type": "code",
   "execution_count": null,
   "metadata": {
    "scrolled": false
   },
   "outputs": [],
   "source": [
    "ClinicalNote_extract_candidates_numeric"
   ]
  },
  {
   "cell_type": "code",
   "execution_count": null,
   "metadata": {},
   "outputs": [],
   "source": [
    "ClinicalNote_formalize_expressions"
   ]
  },
  {
   "cell_type": "code",
   "execution_count": null,
   "metadata": {},
   "outputs": [],
   "source": [
    "ClinicalNote_identify_variable"
   ]
  },
  {
   "cell_type": "code",
   "execution_count": null,
   "metadata": {},
   "outputs": [],
   "source": [
    "ClinicalNote_associate_variable_values"
   ]
  },
  {
   "cell_type": "code",
   "execution_count": null,
   "metadata": {},
   "outputs": [],
   "source": [
    "ClinicalNote_identify_variable = Valx_core.identify_variable(ClinicalNote_identify_variable[0], fea_dict_dk, fea_dict_umls)"
   ]
  },
  {
   "cell_type": "code",
   "execution_count": null,
   "metadata": {
    "scrolled": true
   },
   "outputs": [],
   "source": [
    "ClinicalNote_identify_variable"
   ]
  },
  {
   "cell_type": "code",
   "execution_count": null,
   "metadata": {},
   "outputs": [],
   "source": []
  },
  {
   "cell_type": "code",
   "execution_count": null,
   "metadata": {},
   "outputs": [],
   "source": []
  },
  {
   "cell_type": "code",
   "execution_count": null,
   "metadata": {},
   "outputs": [],
   "source": [
    "check = \"sepsis, acute pancreatitis\\n\\nallergy: sulfa\\n\\npmh: htn, asthma\\npresented with severe acute pancreatitis, thought to be medication-induced\\n\\nsh: lives at home, transfer from wayne (no abx given)\\n\\nprocedures:\\nintubation 11/11\\n\\nimaging:\\n11/16 abdominal xr gaseous distention of small intestine is also present without significant change the patient's previous abdominal series\\n11/12 tte no abnormal findings\\n11/11 abdominal ct prominent gaseous distention and diffuse mild to moderate small bowel distention. changes could be related to a inflammatory ileus.\\n\\ncxc:\\n11/12 s pneumo antigen neg\\nblood 11/11 1/2 strep bovis 1/2 ng x2\\nsputum 11/11 normal flora\\n\\nabx:\\npcn 11/15-\\nvanc 11/12-11/14\\npiptazo 11/11-11/15\\n\\n11/13 piptazo for empiric coverage, blood cx growing gpc in chains. vanc added. no gi source identified, please consider d/c of piptazo. tmax 100.9, wbc 9.8. follow c/s.\\n\\n11/14 alpha-hemolytic strep in blood 1/2. pt on vanc/piptazo. tmax 100.4, wbc 12.7, still paralyzed on vent with fio2 40. still on pressors. day 3 of empiric piptazo\\n\\n11/15 tmax 99.7, wbc 13.1. still on vent, fio2 40. c/s resulted, strep bovis. please consider d/c vanc and use ampicillin in pt. with strep bovis recommend gi workup/colonoscopy in pt. spoke with jason. he is going to discuss with dr. mallipeddi who is consulted on the patient.\\n\\n11/16 wbc increased to 17, tmax 99.7.\""
   ]
  },
  {
   "cell_type": "code",
   "execution_count": null,
   "metadata": {},
   "outputs": [],
   "source": [
    "sentence.sentence_splitting_symbols(check, \"[#!?.;,]\\s\", 1)"
   ]
  },
  {
   "cell_type": "code",
   "execution_count": null,
   "metadata": {},
   "outputs": [],
   "source": [
    "ClinicalNote = ClinicalNotes['Text'].iloc[13]\n",
    "ClinicalNote"
   ]
  },
  {
   "cell_type": "code",
   "execution_count": null,
   "metadata": {},
   "outputs": [],
   "source": [
    "### preprocessing function ###\n",
    "\n",
    "import re\n",
    "text = \"text is 3,00,00,000.56 but 20,000.2 later and 400,000\"\n",
    "text = re.sub(r\"(\\d+),(\\d+)\", r'\\1\\2', text)\n",
    "text = re.sub(r\"(\\d+),(\\d+)\", r'\\1\\2', text)\n",
    "text\n",
    "\n",
    "import re\n",
    "text = \"text is 3,00,00,000.56 but 20,000.2 later and 400,000 between 20,3 and 60\"\n",
    "re.findall(r\"between (\\d+),( |)(\\d+) (and|or)\", text)\n",
    "\n",
    "text = \"text   is 3,00,00,000.56 but 20,000.2 later and 400,000 between 20,3 and 60\"\n",
    "while '  ' in text:\n",
    "    text = text.replace('  ',' ')\n",
    "    \n",
    "import re\n",
    "connect = \"but|and|or|\"\n",
    "text = \"text is 3,00,00,000.56 but 20,000.2 later and 400,000 , but below 10% \"\n",
    "text = re.sub(\", (\"+connect+\") \", r' \\1 ', text)\n",
    "text\n",
    "\n",
    "import pandas as pd\n",
    "ClinicalNotes_UserEntered = pd.read_pickle(\"Py DataFrames/ClinicalNotes_UserEntered.pkl\")\n",
    "\n",
    "# Extract rows that contain Commas in Numerics\n",
    "ClinicalNotes_UserEntered['NumericCommas'] = ClinicalNotes_UserEntered['Text'].str.findall(r\"between (\\d+), (\\d+) (and|or)\")\n",
    "NumericCommas = ClinicalNotes_UserEntered[(ClinicalNotes_UserEntered['NumericCommas'].str.len())!=0]\n",
    "\n",
    "NumericCommas.to_excel('Py DataFrames/NumericCommas.xlsx',index=False)"
   ]
  },
  {
   "cell_type": "code",
   "execution_count": null,
   "metadata": {},
   "outputs": [],
   "source": []
  },
  {
   "cell_type": "code",
   "execution_count": null,
   "metadata": {},
   "outputs": [],
   "source": [
    "## Extract only Numeric values from freqs file and attach wbc before it\n",
    "\n",
    "UserEntered_Num = pd.read_pickle(\"UserEntered_Num.pkl\")\n",
    "\n",
    "# Most frequent words\n",
    "Freqs = pd.Series(' '.join(UserEntered_Num[\"Text_DateTimeFormatted\"]).split()).value_counts()[:40000]\n",
    "Freqs = pd.DataFrame(Freqs)\n",
    "Freqs['Word'] = Freqs.index\n",
    "Freqs['TextLength'] = Freqs['Word'].str.len() \n",
    "Freqs.sort_values(by=['TextLength'], ascending=[False])\n",
    "Freqs = Freqs[Freqs.TextLength<=70]\n",
    "\n",
    "# Extract only ones with Numerics\n",
    "Freqs_Num = Freqs[Freqs['Word'].str.contains((\"\\d\"), regex=True)]\n",
    "\n",
    "# Add 'wbc ' before them\n",
    "Freqs_Num['wbc_Word'] = \"wbc \" + Freqs_Num['Word']\n",
    "\n"
   ]
  },
  {
   "cell_type": "code",
   "execution_count": null,
   "metadata": {},
   "outputs": [],
   "source": [
    "Freqs_Num['Extract'] = Freqs_Num.apply(lambda x: NumericAttributeExtraction(x.wbc_Word), axis=1)"
   ]
  },
  {
   "cell_type": "code",
   "execution_count": null,
   "metadata": {},
   "outputs": [],
   "source": [
    "Freqs_Num.to_pickle(\"Py DataFrames/Freqs_Num.pkl\")\n",
    "\n",
    "# export\n",
    "Freqs_Num.to_excel('Py DataFrames/Freqs_Num.xlsx',index=False)"
   ]
  },
  {
   "cell_type": "code",
   "execution_count": null,
   "metadata": {},
   "outputs": [],
   "source": [
    "Freqs_Num.head()"
   ]
  },
  {
   "cell_type": "code",
   "execution_count": null,
   "metadata": {},
   "outputs": [],
   "source": [
    "x = \"WBC have trended down from 15.7 to 10.2 and patient is now afebrile. Vanc was DC’ed on 2/9 due to culture results leading to streptococcal infection. Will follow culture results to hopefully narrow therapy (possible ceftriaxone), but will consider aminoglycoside if enterococcal. Will continue pip/tazo for now until further culture results. Dr. Goldsmith on board.\"\n",
    "y = \"WBC have trended down to 9.0 and pt is currently afebrile. Pt’s pulse ox has been ranging from 89-98 (variable). Pt’s blood culture resulted strep agalactaie, but subculture growing another microorganism has not yet resulted. Continue current therapy until further culture results.\"\n",
    "z = \"Dr. Goldsmith de-escalated to ceftriaxone this morning based on culture results (alpha hemolytic strep). Pt’s WBC increased to 11.2 today, and pt was febrile last night and this morning (last night 101.8, 100.2 this morning). Pt’s pulse ox is mid 90’s on mechanical ventilator. Solu-cortef DC’ed on 2/13.\"\n",
    "p = \"WBC increased to 12 today, pt has been febrile at 102.8 today. Pulse ox is 95 on mechanical ventilator. Removed multilumen and replaced with PICC on 2/14 and recultured due to persistent fever.  Cultures resulted with sensitivities, both mo susceptible to ceftriaxone. \"\n",
    "q = \"WBC have increased to 13.6 and patient has been febrile this morning at 103.2. Pulse ox is 98-100 on mechanical ventilator. Repeat blood cultures are no growth x 1. Dr G will see him today\"\n",
    "z = \"Pt admitted on 2/8 for endocarditis (h/o injection drug use and hepC). Meropenem started 2/26 because of recent temperature spikes and new Klebsiella growth in the sputum from 2/21. Pt treated for endocarditis Strep agalactiae/Strep pneumoniae and sputum Klebsiella. Pt had a tracheostomy on 2/24/17. Pt’s WBC trending down to 5.8 (2/27), febrile 99.9 (2/27), and on mechanical ventilator (pulse ox 96). Will follow Dr G on board\"\n",
    "\n",
    "ClinicalNote = \"WBC have trended down from 15.7 to 10.2 and patient is now afebrile. Vanc was DC’ed on 2/9 due to culture results leading to streptococcal infection. Will follow culture results to hopefully narrow therapy (possible ceftriaxone), but will consider aminoglycoside if enterococcal. Will continue pip/tazo for now until further culture results. Dr. Goldsmith on board# WBC have trended down to 9.0 and pt is currently afebrile. Pt’s pulse ox has been ranging from 89-98 (variable). Pt’s blood culture resulted strep agalactaie, but subculture growing another microorganism has not yet resulted. Continue current therapy until further culture results# Dr. Goldsmith de-escalated to ceftriaxone this morning based on culture results (alpha hemolytic strep). Pt’s WBC increased to 11.2 today, and pt was febrile last night and this morning (last night 101.8 degree, 100.2 degree this morning). Pt’s pulse ox is mid 90’s on mechanical ventilator. Solu-cortef DC’ed on 2/13# WBC increased to 12 today, pt has been febrile at 102.8 today. Pulse ox is 95 on mechanical ventilator. Removed multilumen and replaced with PICC on 2/14 and recultured due to persistent fever.  Cultures resulted with sensitivities, both mo susceptible to ceftriaxone# WBC have increased to 13.6 and patient has been febrile this morning at 103.2. Pulse ox is 98-100 on mechanical ventilator. Repeat blood cultures are no growth x 1. Dr G will see him today# Pt admitted on 2/8 for endocarditis (h/o injection drug use and hepC). Meropenem started 2/26 because of recent temperature spikes and new Klebsiella growth in the sputum from 2/21. Pt treated for endocarditis Strep agalactiae/Strep pneumoniae and sputum Klebsiella. Pt had a tracheostomy on 2/24/17. Pt’s WBC trending down to 5.8 (2/27), febrile 99.9 (2/27), and on mechanical ventilator (pulse ox 96). Will follow Dr G on board \"\n",
    "ClinicalNote = \" Candidates must be between the ages of 18 and 65# - Candidates must have had IDDM for at least 5 years and been under physician care for at least 6 months prior to enrollment in trial.# - Eligible candidates will have poorly controlled insulin-dependent diabetes mellitus (IDDM) and manifest signs and symptoms severe enough to be incapacitating. These symptoms can include episodes of hypoglycemic unawareness (failure to recognize blood glucose levels < 54 mg/dl) or episodes requiring the assistance of others.# - Candidates may have poor diabetes control despite intensive insulin therapy (HbA1c > 8.0%).# - Creatinine clearance should be > 60 ml/min)# - Body Mass Index should be less than 26# - Women of child-bearing age must have a negative pregnancy test and agree to follow effective contraceptive measures for the duration of the trial.# Exclusion Criteria:# - Previous or concurrent organ transplant# - Previous or concurrent malignancy# - Untreated proliferative diabetic retinopathy# - Unstable cardiovascular status, including positive stress echocardiography (if > age 35)# - Active infections, including x-ray evidence of pulmonary infection# - Peptic ulcer disease, gall stones, or portal hypertension# - Abnormal liver function tests# - Presence of panel reactive antibodies > 20%# - Creatinine clearance < 60 ml/min# - HbA1c 12%# - Serological evidence of HIV, HbsAg, or HCV# - Anemia (hemoglobin < 12.0)# - Any condition or circumstance, including psychogenic factors, that preclude therapeutic compliance or otherwise make it unsafe to undergo an islet cell transplant.# - PSA > 4 in males\"\n",
    "ClinicalNote = \"August05_17:26:00 CDT temperature is 101 on August05_17:26:00 November14 wbc 0.79\"\n",
    "ClinicalNote = \"August5_10:11\\twbc\\t6.3 k/mcl\"\n",
    "ClinicalNote = \" wbc is 22, lymph 87%, neutroph 0%, gluc 157, prot 62\"\n",
    "ClinicalNote = \"wt=37.8 kg (verified) scr=1.8 mg/dl crcl~19 wbc=17.1\"\n",
    "ClinicalNote = \"temperature=101\"\n",
    "\n",
    "\n",
    "ClinicalNote = 'notes: no h&p or progress notes AND wbc 12.3 AND afebrile.'\n",
    "ClinicalNote = 'March22 notes: no h&p or progress notes. wbc is  19.3, afebrile. if treating prostatitis, apprast appropriate. cannot evaluate.'\n",
    "ClinicalNote = 'April18 wbc is  on adm 21.4, sepsis -  vanco + metro approp'\n",
    "ClinicalNote = 'October23 wbc is  8.8 (down from 22.9 on October21). per discharge summary, pt will be going home on cephalexin'\n",
    "ClinicalNote = 'February2 csf gr st no organisms seen (clear colorless, wbc 3 AND gluc 274 AND prot 37'\n",
    "ClinicalNote = 'April27 csf gluc 62, prot 208, wbc 69, hazy rbc 5000'\n",
    "ClinicalNote = 'November24 approp. for 3-7 days. wbc 11.1, pt afebrile.'\n",
    "ClinicalNote = 'March16: wbc have decreased to 8.8, pt is afebrile today, and pulse ox remains in high 90s on mechanical ventilator. md note states pt vomited up her tube feeding yesterday. doxy was stopped on March15. pt on day 7 of metronidazole for trichomonas infection. consider duration of therapy.'\n",
    "ClinicalNote = 'February23: wbc were at 16.2 on February21, but have not been monitored since. pt has been consistently afebrile since February19. pt developed fungal infection in peritoneal cavity due to pd. patient has transitioned to hd. peritoneal fluid cultures grew candida albicans, and yeast (non-c.albicans). pt was on broad spectrum abx coverage for 4 days. fluconazole was initiated on February21.'\n",
    "ClinicalNote = 'March9 ua- turbid, blood (3+), nitrite (neg), leukocyte esterase (moderate 2+), rbc (20-30), wbc (50-60), epithelial cells (3-5) bacteria (1+), yeast (moderate)'\n",
    "ClinicalNote = 'March17: wbc trending up to 14.1 today AND febrile since March15, tmax 102 AND pulse ox 93 on trach collar. on March15 thick yellow-green secretions around tracheostomy site. sputum grew klebsiella. dr g replaced picc, and switched to ceftriaxone through March24 to cover kleb.'\n",
    "ClinicalNote = ' wbc 7.4, bands 6, plt 67.0'\n",
    "ClinicalNote = '¾ paracentesis- yellow, 65 wbc AND 9 rbc AND 30 seg neutrophils'\n",
    "ClinicalNote = 'Room is 2312 and then reading of  wbc 18.8'\n",
    "ClinicalNote = '260 - hickman, donald - 73 y/o m - septic shock secondary to cholangitis (w/ stones) & bacteremia, intra-abdominal abscess s/p lap chole on January8; today would be considered post-source control day 13 of pip/tazo coverage for klebsiella bacteremia.  wbcs have normalized and pt has been afebrile.  please consider d/c abx, as this has met the 10-14 day criteria for gnr bacteremia coverage and the 4-7 day post-source control coverage of  his intra-abdominal infection. thank you! favela'\n",
    "ClinicalNote = '364- johnston, terry 58yom – admitted April8 with elevated wbc and cxr showing early pna vs atelectasis'\n",
    "ClinicalNote = 'wbc April3: 10, April4: 7.8, April5: 7.4' # How to extract date associated with it?\n",
    "ClinicalNote = 'admission wbc 23.9, most recent wbc downtrending at 11.4 on March21.'\n",
    "ClinicalNote = 'aki resolved, wbc 16.7 December30 ->10.4 (January1), tmax 100.1 on admission, afebrile since.'\n",
    "ClinicalNote = 'April10 patient s/p emergent left ureteral stent placement on April6 AND admit as septic (wbc 14, tachycardic/hypotensive, temp 101.3) and treated with broad abx vanc&meropenem AND cx obtained upon admission show ng, yet osh reports urine cx of e AND coli r amp and bactrim AND pt then de-escalated to levofloxacin AND pt currently afebrile, wbc 5.3, scr 0.5, and on ra with sepsis appearing to be resolved AND anticipating 7-10 day course of levofloxacin d/2 sepsis diagnosis.'\n",
    "ClinicalNote = 'October8 wbc 4.1 continue with amoxicillin/clavulanate. '\n",
    "ClinicalNote = 'wbc 4.6'\n",
    "ClinicalNote = 'October24 - wbc increased to 27.4 (from 19.7 yesterday)'\n",
    "ClinicalNote = 'April6 - pt has been maintained on nasal cannula 2-3l'\n",
    "ClinicalNote = ' wbc 6, tmax 99.8, sat 96 on trach collar.'\n",
    "ClinicalNote = 'wbc 23.6, tmax of 100.6 f today with negative urinalysis and cxr suspicious for pna'\n",
    "ClinicalNote = 'April27 - wbc 2 elevated today but on admin 96.7 fever.'\n",
    "ClinicalNote = \"pt afebrile (last temp 100.4 on April20), wbc increase on April20 11.2 which has since dec to 5.1 on April23, scr 1.4->1.7->1.2.\"\n",
    "ClinicalNote = 'pt afebrile, wbc continue to decrease 9.5->7.5->6.9 (April18), temp 3.4->2.5 and approaching ckd stage iii baseline of ~2, procalcitonin 0.11'\n",
    "ClinicalNote = 'pt afebrile (last temp 100.4 on April20), wbc increase on April20 11.2 which has since dec to 5.1 on April23, scr 1.4->1.7->1.2'\n",
    "ClinicalNote = 'patient 24_h tmax 101.5 (April10 @ 15:45), wbc 6.2->5.5 (s/p prbc transfusion), scr 1.8->1.6, calc crcl 34'\n",
    "\n",
    "ClinicalNote = 'April17 pt with h/o wbc 12.7noted severe oa of hands. presented to marshall medical center on April13 w/approx. 6 day h/o edema, pain, and swelling of right 4th finger. cx obtained confirmed mrsa and was treated w/bactrim (initiated April11). d/2 no improvement, pt reported back to marshall on April13 to be admitted and initiated on vanc. transferred to mrmc for surgical eval. pe on admit notes extensive edema/erythema/bullous changes to 4th finger esp on dorsal aspect. since admission, pt afebrile on ra, labs on April16 show wbc 9.6, scr 0.7. vanc trough on April17 of 3.9 (dosing changes made). pt now s/p surgical i&d on April16. will continue to monitor for post-op notes and condition for possible changes in abx regimen.'\n",
    "ClinicalNote = 'April2 per note cxr showed improvement, without copious secretions, and able to wean vent further, new pneumonia less likely pct 0.32h still on vent, wbc 11.1. consider broadening to piptazo, as pna was ddx on day 4 of cefepime= could be resistant to it.'\n",
    "ClinicalNote = ' March9: wbc have trended down from 9.7 to 7.9, pt remains afebrile, and pulse ox is low 90s on high flow nc (50l rate). pt initiated on broad spec abx due to multiple mdr rfs (recent abx use, recent hospitalization here, alcoholism, copd on home o2, recent diagnosed cancer). abx were initiated yesterday on March8 to cover pna and uti. blood culture reveals gpc in clusters preliminary. continue with broad spec abx and continue to follow cultures.'\n",
    "ClinicalNote = 'October26  wbc 13.9 (as of October25). will possibly be discharged today (discharged orders scanned). wbc 1284. . .'\n",
    "ClinicalNote = \"WBC have trended down from 15.7 to 10.2 and patient is now afebrile. Vanc was DC’ed on 2/9 due to culture results leading to streptococcal infection. Will follow culture results to hopefully narrow therapy (possible ceftriaxone), but will consider aminoglycoside if enterococcal. Will continue pip/tazo for now until further culture results. Dr. Goldsmith on board.\" \n"
   ]
  },
  {
   "cell_type": "code",
   "execution_count": null,
   "metadata": {},
   "outputs": [],
   "source": [
    "# Issues\n",
    "ClinicalNote = 'March9 ua- turbid, blood (3+), nitrite (neg), leukocyte esterase (moderate 2+), rbc (20-30), wbc (50-60), epithelial cells (3-5) bacteria (1+), yeast (moderate)'\n",
    "# In this case wbc and plt will be recognized but since bands is not in Variable list, wbc=7.4 & 6: ' wbc 7.4, bands 6, plt 67.0'\n",
    "# If Number is written before Numerical attributes Eg:'65 wbc, 9 rbc, 30 seg neutrophils' #Rbc is not identified correctly\n",
    "# If there are 2 numbers 1 before and 1 after the Numerical attribute, 2 numbers gets extracted for that Numerical attribute: 'Room is 2312 and then reading of  wbc 18.8'\n",
    "# Same as above'364- johnston, terry 58yom – admitted April8 with elevated wbc and cxr showing early pna vs atelectasis'\n",
    "# SemiColon is used to split sentences\n",
    "# o2; epi cells; leuk ; nitrites ; bacteria ; casts ; blood ; azithro/cefepime/ vanco ; gpc , gnr, gpr ; urine cultures;klebsiella; neutrophils;   \n",
    "# (6.3) doesn't get extracted but similar ones get extracted (4.0->1.2); (4+); (40l); (6.5->14.1->17.6->27.4)and; (6d); (90s/50s) ; 90# ; \n",
    "# (722-5466) only 722 will be extracted; (722 - 5466) 2 numbers are extracted\n"
   ]
  }
 ],
 "metadata": {
  "kernelspec": {
   "display_name": "Python 3",
   "language": "python",
   "name": "python3"
  },
  "language_info": {
   "codemirror_mode": {
    "name": "ipython",
    "version": 3
   },
   "file_extension": ".py",
   "mimetype": "text/x-python",
   "name": "python",
   "nbconvert_exporter": "python",
   "pygments_lexer": "ipython3",
   "version": "3.7.2"
  }
 },
 "nbformat": 4,
 "nbformat_minor": 2
}
